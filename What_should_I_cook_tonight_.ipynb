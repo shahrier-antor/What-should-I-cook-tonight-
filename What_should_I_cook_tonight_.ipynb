{
  "nbformat": 4,
  "nbformat_minor": 0,
  "metadata": {
    "colab": {
      "provenance": []
    },
    "kernelspec": {
      "name": "python3",
      "display_name": "Python 3"
    },
    "language_info": {
      "name": "python"
    }
  },
  "cells": [
    {
      "cell_type": "markdown",
      "source": [
        "# **Motivation for this project:**  \n",
        "Deciding what to cook every day is challenging, especially when trying to maintain a balanced diet. The abundance of online recipes makes it difficult to find meals that fit specific dietary needs, such as calorie intake and personal health points. This often leads to frustration and unhealthy eating habits.  \n",
        "\n",
        "Dietary choices significantly impact overall health, influencing conditions like heart disease, diabetes, and obesity. Personalized recipe recommendations can help individuals stick to their nutritional goals while making meal planning easier. By leveraging data analysis, web scraping, and visualization techniques, this project aims to simplify recipe selection and promote healthier eating habits.\n",
        "\n",
        "---\n",
        "\n",
        "# **Goal of the project:**  \n",
        "1. **Collect and analyze recipe data** from a well-known recipe website using web scraping.  \n",
        "2. **Provide recipe recommendations** based on calorie count and personal points.  \n",
        "3. **Visualize key insights** from the dataset, such as calorie distribution and recipe key categories.  \n",
        "4. **Develop an easy-to-use system** that allows users to find recipes aligning with their dietary goals.  \n",
        "\n",
        "This project focuses on **structured data extraction, analysis, and visualization** to help users make informed decisions about their meal choices.\n",
        "\n",
        "---\n",
        "\n",
        "# **Analysis plan to problem solving:**  \n",
        "\n",
        "## **Exploratory Data Analysis (EDA)**  \n",
        "- **Data Collection:** Web scraping of recipes from **Skinnytaste** (first 50 pages) using **BeautifulSoup**.  \n",
        "- **Data Overview:** Extracting categorical and numerical features like recipe name, image, summary, recipe key, calorie count, and personal points.  \n",
        "- **Basic Statistics:** Checking data types, missing values, and unique entries in categorical variables.  \n",
        "- **Data Visualization:**  \n",
        "  - **Histograms:** Calories distribution, personal points distribution.  \n",
        "  - **Bar plots:** Recipe key distribution.  \n",
        "  - **Correlation analysis** to identify relationships between variables.  \n",
        "\n",
        "## **Data Preprocessing:**  \n",
        "- **Handling missing values** (e.g., assigning ‘N/A’ tags where needed).  \n",
        "- **Data Transformation:** Converting calorie counts and personal points into numerical values.  \n",
        "- **Feature Extraction:** Splitting recipe keys stored as strings into individual categories.  \n",
        "\n",
        "## **Filtering Recipes Based on Calories and Personal Points:**  \n",
        "To make the recipe selection process more **user-friendly**, a function has been implemented that allows users to **filter recipes based on calorie and personal points ranges**. The function takes four user inputs:  \n",
        "- **Minimum and maximum calorie values**  \n",
        "- **Minimum and maximum personal points**  \n",
        "\n",
        "The filtered recipes are then **sorted by calorie count**, and the **top 10 results** are displayed with their name, image, calorie content, and summary. This feature helps users quickly find recipes that fit their dietary goals while providing a **more personalized meal selection experience**.\n",
        "\n",
        "---\n",
        "\n",
        "# **Conclusion:**  \n",
        "Several challenges were encountered during **data collection and analysis**, including inconsistent recipe structures, pagination issues, and handling missing values. However, through structured scraping techniques and data processing, these obstacles were addressed.  \n",
        "\n",
        "This project provided valuable insights into **web scraping, data transformation, and visualization techniques**, contributing to a better understanding of **data-driven solutions for personalized recommendations**. The experience was both technically enriching and enjoyable, reinforcing key concepts in **data science and analytics**.\n"
      ],
      "metadata": {
        "id": "WAsQJXMrTxaV"
      }
    },
    {
      "cell_type": "markdown",
      "source": [
        "#Installing Required Libraries"
      ],
      "metadata": {
        "id": "48sEeJRjOigM"
      }
    },
    {
      "cell_type": "code",
      "source": [
        "pip install requests beautifulsoup4 pandas\n"
      ],
      "metadata": {
        "colab": {
          "base_uri": "https://localhost:8080/"
        },
        "id": "VJMC8aX363ik",
        "outputId": "ded373c5-2574-4eee-fb4c-e65befa56d0f"
      },
      "execution_count": null,
      "outputs": [
        {
          "output_type": "stream",
          "name": "stdout",
          "text": [
            "Requirement already satisfied: requests in /usr/local/lib/python3.10/dist-packages (2.32.3)\n",
            "Requirement already satisfied: beautifulsoup4 in /usr/local/lib/python3.10/dist-packages (4.12.3)\n",
            "Requirement already satisfied: pandas in /usr/local/lib/python3.10/dist-packages (2.1.4)\n",
            "Requirement already satisfied: charset-normalizer<4,>=2 in /usr/local/lib/python3.10/dist-packages (from requests) (3.3.2)\n",
            "Requirement already satisfied: idna<4,>=2.5 in /usr/local/lib/python3.10/dist-packages (from requests) (3.10)\n",
            "Requirement already satisfied: urllib3<3,>=1.21.1 in /usr/local/lib/python3.10/dist-packages (from requests) (2.2.3)\n",
            "Requirement already satisfied: certifi>=2017.4.17 in /usr/local/lib/python3.10/dist-packages (from requests) (2024.8.30)\n",
            "Requirement already satisfied: soupsieve>1.2 in /usr/local/lib/python3.10/dist-packages (from beautifulsoup4) (2.6)\n",
            "Requirement already satisfied: numpy<2,>=1.22.4 in /usr/local/lib/python3.10/dist-packages (from pandas) (1.26.4)\n",
            "Requirement already satisfied: python-dateutil>=2.8.2 in /usr/local/lib/python3.10/dist-packages (from pandas) (2.8.2)\n",
            "Requirement already satisfied: pytz>=2020.1 in /usr/local/lib/python3.10/dist-packages (from pandas) (2024.2)\n",
            "Requirement already satisfied: tzdata>=2022.1 in /usr/local/lib/python3.10/dist-packages (from pandas) (2024.1)\n",
            "Requirement already satisfied: six>=1.5 in /usr/local/lib/python3.10/dist-packages (from python-dateutil>=2.8.2->pandas) (1.16.0)\n"
          ]
        }
      ]
    },
    {
      "cell_type": "markdown",
      "source": [
        "#Importing Necessary Modules\n"
      ],
      "metadata": {
        "id": "YLIBYxEMOmJe"
      }
    },
    {
      "cell_type": "code",
      "source": [
        "import requests\n",
        "from bs4 import BeautifulSoup\n",
        "import pandas as pd\n",
        "import time\n"
      ],
      "metadata": {
        "id": "DR5zSXl264UI"
      },
      "execution_count": null,
      "outputs": []
    },
    {
      "cell_type": "markdown",
      "source": [
        "#Defining Base URL and Initializing Lists for Recipe Links and Images"
      ],
      "metadata": {
        "id": "nuyAuGznOqHK"
      }
    },
    {
      "cell_type": "code",
      "source": [
        "base_url = \"https://www.skinnytaste.com/recipe-index/?_paged=\"\n",
        "recipe_links = []\n",
        "image_link = []\n",
        "\n",
        "\n",
        "for page in range(1, 51):\n",
        "    url = f\"{base_url}{page}/\"\n",
        "    response = requests.get(url)\n",
        "    soup = BeautifulSoup(response.content, 'html.parser')\n",
        "\n",
        "    recipes = soup.find_all('div', class_='post-thumb-img-content post-thumb')\n",
        "\n",
        "    for recipe in recipes:\n",
        "      link = recipe.find('a')['href']\n",
        "      recipe_links.append(link)\n",
        "      image_url = recipe.find('img', class_='attachment-teaser size-teaser wp-post-image')['src']\n",
        "      image_link.append(image_url)\n",
        "\n",
        "    time.sleep(1)\n",
        "\n",
        "print(f\"Total recipes found: {len(recipe_links)}\")\n",
        "print(f\"Total images found: {len(image_link)}\")"
      ],
      "metadata": {
        "colab": {
          "base_uri": "https://localhost:8080/"
        },
        "id": "QjoSum7Y677Y",
        "outputId": "2c5335f9-6fd4-4284-d24f-2afcb85a54bd"
      },
      "execution_count": null,
      "outputs": [
        {
          "output_type": "stream",
          "name": "stdout",
          "text": [
            "Total recipes found: 1000\n",
            "Total images found: 1000\n"
          ]
        }
      ]
    },
    {
      "cell_type": "markdown",
      "source": [
        "#Displaying First Few Recipe Links\n"
      ],
      "metadata": {
        "id": "AImMMIDIOuQV"
      }
    },
    {
      "cell_type": "code",
      "source": [
        "for i in range(min(10, len(recipe_links))):\n",
        "    print(f\"Recipe {i+1}: {recipe_links[i]}\")"
      ],
      "metadata": {
        "colab": {
          "base_uri": "https://localhost:8080/"
        },
        "id": "E89dBxb1hqkS",
        "outputId": "687e1337-552f-4203-eef4-fa78dd1bd5df"
      },
      "execution_count": null,
      "outputs": [
        {
          "output_type": "stream",
          "name": "stdout",
          "text": [
            "Recipe 1: https://www.skinnytaste.com/free-7-day-healthy-meal-plan-sept-30-oct-6/\n",
            "Recipe 2: https://www.skinnytaste.com/freezer-breakfast-burritos/\n",
            "Recipe 3: https://www.skinnytaste.com/crustless-pumpkin-pie/\n",
            "Recipe 4: https://www.skinnytaste.com/red-curry-salmon/\n",
            "Recipe 5: https://www.skinnytaste.com/apple-butter-recipe/\n",
            "Recipe 6: https://www.skinnytaste.com/roasted-delicata-squash/\n",
            "Recipe 7: https://www.skinnytaste.com/applesauce-nut-bread/\n",
            "Recipe 8: https://www.skinnytaste.com/autumn-salad-with-pears-and-gorgonzola/\n",
            "Recipe 9: https://www.skinnytaste.com/sesame-chicken/\n",
            "Recipe 10: https://www.skinnytaste.com/bacon-in-the-oven/\n"
          ]
        }
      ]
    },
    {
      "cell_type": "markdown",
      "source": [
        "#Re-importing Necessary Modules & extracting data"
      ],
      "metadata": {
        "id": "505H8KZbOxTh"
      }
    },
    {
      "cell_type": "code",
      "source": [
        "import requests\n",
        "from bs4 import BeautifulSoup\n",
        "import pandas as pd\n",
        "import time\n",
        "from urllib.parse import urlparse, parse_qs\n",
        "\n",
        "\n",
        "data = []\n",
        "\n",
        "for link, image in zip(recipe_links, image_link):\n",
        "    response = requests.get(link)\n",
        "    soup = BeautifulSoup(response.content, 'html.parser')\n",
        "\n",
        "    try:\n",
        "        name = soup.find('h1', class_='entry-title').text\n",
        "        summary = soup.find('p').text.strip()\n",
        "        calories_tag = soup.find('span', class_='recipe-meta-value value-calories')\n",
        "        calories = calories_tag.text.strip() if calories_tag else 'N/A'\n",
        "\n",
        "        personal_points_tag = soup.find('span', class_='recipe-meta-value recipe-ww-pp icon')\n",
        "        personal_points = personal_points_tag.text.strip() if personal_points_tag else 'N/A'\n",
        "\n",
        "        recipe_key_elements = soup.find('ul', class_='cat-icons post-icons')\n",
        "        if recipe_key_elements:\n",
        "            recipe_key = ' '.join([element.text.strip() for element in recipe_key_elements.find_all('a')])\n",
        "        else:\n",
        "            recipe_key = 'N/A'\n",
        "\n",
        "        data.append({\n",
        "            'Name': name,\n",
        "            'Image': image,\n",
        "            'Calories': calories,\n",
        "            'Personal Points': personal_points,\n",
        "            'Summary': summary,\n",
        "            'Recipe Key': recipe_key,\n",
        "        })\n",
        "\n",
        "    except Exception as e:\n",
        "        print(f\"Error occurred for {link}: {e}\")\n",
        "\n",
        "    time.sleep(1)\n",
        "\n",
        "\n",
        "df = pd.DataFrame(data)\n",
        "df.to_csv('skinnytaste_recipes.csv', index=False)\n",
        "print(\"Data saved to skinnytaste_recipes.csv\")\n",
        "\n"
      ],
      "metadata": {
        "colab": {
          "base_uri": "https://localhost:8080/"
        },
        "id": "-NAJ7tpbGhEh",
        "outputId": "c068438a-59af-4468-c421-065894a50ca8"
      },
      "execution_count": null,
      "outputs": [
        {
          "output_type": "stream",
          "name": "stdout",
          "text": [
            "Data saved to skinnytaste_recipes.csv\n"
          ]
        }
      ]
    },
    {
      "cell_type": "markdown",
      "source": [
        "#Displaying DataFrame"
      ],
      "metadata": {
        "id": "-eIf_GnEO5AC"
      }
    },
    {
      "cell_type": "code",
      "source": [
        "df"
      ],
      "metadata": {
        "colab": {
          "base_uri": "https://localhost:8080/",
          "height": 614
        },
        "id": "rS930dseI7bX",
        "outputId": "7250a997-5cb1-42b7-a1e4-fbfebb42ba7f"
      },
      "execution_count": null,
      "outputs": [
        {
          "output_type": "execute_result",
          "data": {
            "text/plain": [
              "                                             Name  \\\n",
              "0    Free 7 Day Healthy Meal Plan (Sept 30-Oct 6)   \n",
              "1                              Breakfast Burritos   \n",
              "2                           Crustless Pumpkin Pie   \n",
              "3                                Red Curry Salmon   \n",
              "4                                    Apple Butter   \n",
              "..                                            ...   \n",
              "995                        Cream of Broccoli Soup   \n",
              "996                      Cilantro-Lime Fish Tacos   \n",
              "997      Kale and Potato Soup with Turkey Sausage   \n",
              "998                          Banana Foster Crepes   \n",
              "999                Instant Pot Chicken Taco Chili   \n",
              "\n",
              "                                                 Image     Calories  \\\n",
              "0    https://www.skinnytaste.com/wp-content/uploads...          N/A   \n",
              "1    https://www.skinnytaste.com/wp-content/uploads...    Cals: 261   \n",
              "2    https://www.skinnytaste.com/wp-content/uploads...  Cals: 124.5   \n",
              "3    https://www.skinnytaste.com/wp-content/uploads...    Cals: 349   \n",
              "4    https://www.skinnytaste.com/wp-content/uploads...     Cals: 34   \n",
              "..                                                 ...          ...   \n",
              "995  https://www.skinnytaste.com/wp-content/uploads...    Cals: 150   \n",
              "996  https://www.skinnytaste.com/wp-content/uploads...    Cals: 310   \n",
              "997  https://www.skinnytaste.com/wp-content/uploads...    Cals: 232   \n",
              "998  https://www.skinnytaste.com/wp-content/uploads...    Cals: 185   \n",
              "999  https://www.skinnytaste.com/wp-content/uploads...    Cals: 211   \n",
              "\n",
              "    Personal Points                                            Summary  \\\n",
              "0               N/A  A free 7-day, flexible weight loss meal plan i...   \n",
              "1                 5  These freezer breakfast burritos are stuffed w...   \n",
              "2                 2  Skip the crust and make this easy gluten-free,...   \n",
              "3                 6  Thai-inspired Red Curry Salmon is simmered in ...   \n",
              "4                 1  This easy apple butter recipe simmers on the s...   \n",
              "..              ...                                                ...   \n",
              "995               4  Cream of Broccoli Soup is a favorite of comfor...   \n",
              "996               5  These easy Cilantro Lime Fish Tacos are made w...   \n",
              "997               5  Kale and Potato Soup with Turkey Sausage is an...   \n",
              "998               6  Banana Foster Crepes combine two of my favorit...   \n",
              "999               0  This Instant Pot Chicken Chili is made with ch...   \n",
              "\n",
              "              Recipe Key  \n",
              "0                    N/A  \n",
              "1       AF FM HF KF MP Q  \n",
              "2             DF GF HF V  \n",
              "3               DF GF HP  \n",
              "4             DF GF KF V  \n",
              "..                   ...  \n",
              "995         GF KF LC Q V  \n",
              "996           GF HF KF Q  \n",
              "997  DF FM GF HF KF MP W  \n",
              "998           DF GF KF V  \n",
              "999    DF FM GF HF KF PC  \n",
              "\n",
              "[1000 rows x 6 columns]"
            ],
            "text/html": [
              "\n",
              "  <div id=\"df-d042288c-d484-40ff-9fe7-3be728a66a77\" class=\"colab-df-container\">\n",
              "    <div>\n",
              "<style scoped>\n",
              "    .dataframe tbody tr th:only-of-type {\n",
              "        vertical-align: middle;\n",
              "    }\n",
              "\n",
              "    .dataframe tbody tr th {\n",
              "        vertical-align: top;\n",
              "    }\n",
              "\n",
              "    .dataframe thead th {\n",
              "        text-align: right;\n",
              "    }\n",
              "</style>\n",
              "<table border=\"1\" class=\"dataframe\">\n",
              "  <thead>\n",
              "    <tr style=\"text-align: right;\">\n",
              "      <th></th>\n",
              "      <th>Name</th>\n",
              "      <th>Image</th>\n",
              "      <th>Calories</th>\n",
              "      <th>Personal Points</th>\n",
              "      <th>Summary</th>\n",
              "      <th>Recipe Key</th>\n",
              "    </tr>\n",
              "  </thead>\n",
              "  <tbody>\n",
              "    <tr>\n",
              "      <th>0</th>\n",
              "      <td>Free 7 Day Healthy Meal Plan (Sept 30-Oct 6)</td>\n",
              "      <td>https://www.skinnytaste.com/wp-content/uploads...</td>\n",
              "      <td>N/A</td>\n",
              "      <td>N/A</td>\n",
              "      <td>A free 7-day, flexible weight loss meal plan i...</td>\n",
              "      <td>N/A</td>\n",
              "    </tr>\n",
              "    <tr>\n",
              "      <th>1</th>\n",
              "      <td>Breakfast Burritos</td>\n",
              "      <td>https://www.skinnytaste.com/wp-content/uploads...</td>\n",
              "      <td>Cals: 261</td>\n",
              "      <td>5</td>\n",
              "      <td>These freezer breakfast burritos are stuffed w...</td>\n",
              "      <td>AF FM HF KF MP Q</td>\n",
              "    </tr>\n",
              "    <tr>\n",
              "      <th>2</th>\n",
              "      <td>Crustless Pumpkin Pie</td>\n",
              "      <td>https://www.skinnytaste.com/wp-content/uploads...</td>\n",
              "      <td>Cals: 124.5</td>\n",
              "      <td>2</td>\n",
              "      <td>Skip the crust and make this easy gluten-free,...</td>\n",
              "      <td>DF GF HF V</td>\n",
              "    </tr>\n",
              "    <tr>\n",
              "      <th>3</th>\n",
              "      <td>Red Curry Salmon</td>\n",
              "      <td>https://www.skinnytaste.com/wp-content/uploads...</td>\n",
              "      <td>Cals: 349</td>\n",
              "      <td>6</td>\n",
              "      <td>Thai-inspired Red Curry Salmon is simmered in ...</td>\n",
              "      <td>DF GF HP</td>\n",
              "    </tr>\n",
              "    <tr>\n",
              "      <th>4</th>\n",
              "      <td>Apple Butter</td>\n",
              "      <td>https://www.skinnytaste.com/wp-content/uploads...</td>\n",
              "      <td>Cals: 34</td>\n",
              "      <td>1</td>\n",
              "      <td>This easy apple butter recipe simmers on the s...</td>\n",
              "      <td>DF GF KF V</td>\n",
              "    </tr>\n",
              "    <tr>\n",
              "      <th>...</th>\n",
              "      <td>...</td>\n",
              "      <td>...</td>\n",
              "      <td>...</td>\n",
              "      <td>...</td>\n",
              "      <td>...</td>\n",
              "      <td>...</td>\n",
              "    </tr>\n",
              "    <tr>\n",
              "      <th>995</th>\n",
              "      <td>Cream of Broccoli Soup</td>\n",
              "      <td>https://www.skinnytaste.com/wp-content/uploads...</td>\n",
              "      <td>Cals: 150</td>\n",
              "      <td>4</td>\n",
              "      <td>Cream of Broccoli Soup is a favorite of comfor...</td>\n",
              "      <td>GF KF LC Q V</td>\n",
              "    </tr>\n",
              "    <tr>\n",
              "      <th>996</th>\n",
              "      <td>Cilantro-Lime Fish Tacos</td>\n",
              "      <td>https://www.skinnytaste.com/wp-content/uploads...</td>\n",
              "      <td>Cals: 310</td>\n",
              "      <td>5</td>\n",
              "      <td>These easy Cilantro Lime Fish Tacos are made w...</td>\n",
              "      <td>GF HF KF Q</td>\n",
              "    </tr>\n",
              "    <tr>\n",
              "      <th>997</th>\n",
              "      <td>Kale and Potato Soup with Turkey Sausage</td>\n",
              "      <td>https://www.skinnytaste.com/wp-content/uploads...</td>\n",
              "      <td>Cals: 232</td>\n",
              "      <td>5</td>\n",
              "      <td>Kale and Potato Soup with Turkey Sausage is an...</td>\n",
              "      <td>DF FM GF HF KF MP W</td>\n",
              "    </tr>\n",
              "    <tr>\n",
              "      <th>998</th>\n",
              "      <td>Banana Foster Crepes</td>\n",
              "      <td>https://www.skinnytaste.com/wp-content/uploads...</td>\n",
              "      <td>Cals: 185</td>\n",
              "      <td>6</td>\n",
              "      <td>Banana Foster Crepes combine two of my favorit...</td>\n",
              "      <td>DF GF KF V</td>\n",
              "    </tr>\n",
              "    <tr>\n",
              "      <th>999</th>\n",
              "      <td>Instant Pot Chicken Taco Chili</td>\n",
              "      <td>https://www.skinnytaste.com/wp-content/uploads...</td>\n",
              "      <td>Cals: 211</td>\n",
              "      <td>0</td>\n",
              "      <td>This Instant Pot Chicken Chili is made with ch...</td>\n",
              "      <td>DF FM GF HF KF PC</td>\n",
              "    </tr>\n",
              "  </tbody>\n",
              "</table>\n",
              "<p>1000 rows × 6 columns</p>\n",
              "</div>\n",
              "    <div class=\"colab-df-buttons\">\n",
              "\n",
              "  <div class=\"colab-df-container\">\n",
              "    <button class=\"colab-df-convert\" onclick=\"convertToInteractive('df-d042288c-d484-40ff-9fe7-3be728a66a77')\"\n",
              "            title=\"Convert this dataframe to an interactive table.\"\n",
              "            style=\"display:none;\">\n",
              "\n",
              "  <svg xmlns=\"http://www.w3.org/2000/svg\" height=\"24px\" viewBox=\"0 -960 960 960\">\n",
              "    <path d=\"M120-120v-720h720v720H120Zm60-500h600v-160H180v160Zm220 220h160v-160H400v160Zm0 220h160v-160H400v160ZM180-400h160v-160H180v160Zm440 0h160v-160H620v160ZM180-180h160v-160H180v160Zm440 0h160v-160H620v160Z\"/>\n",
              "  </svg>\n",
              "    </button>\n",
              "\n",
              "  <style>\n",
              "    .colab-df-container {\n",
              "      display:flex;\n",
              "      gap: 12px;\n",
              "    }\n",
              "\n",
              "    .colab-df-convert {\n",
              "      background-color: #E8F0FE;\n",
              "      border: none;\n",
              "      border-radius: 50%;\n",
              "      cursor: pointer;\n",
              "      display: none;\n",
              "      fill: #1967D2;\n",
              "      height: 32px;\n",
              "      padding: 0 0 0 0;\n",
              "      width: 32px;\n",
              "    }\n",
              "\n",
              "    .colab-df-convert:hover {\n",
              "      background-color: #E2EBFA;\n",
              "      box-shadow: 0px 1px 2px rgba(60, 64, 67, 0.3), 0px 1px 3px 1px rgba(60, 64, 67, 0.15);\n",
              "      fill: #174EA6;\n",
              "    }\n",
              "\n",
              "    .colab-df-buttons div {\n",
              "      margin-bottom: 4px;\n",
              "    }\n",
              "\n",
              "    [theme=dark] .colab-df-convert {\n",
              "      background-color: #3B4455;\n",
              "      fill: #D2E3FC;\n",
              "    }\n",
              "\n",
              "    [theme=dark] .colab-df-convert:hover {\n",
              "      background-color: #434B5C;\n",
              "      box-shadow: 0px 1px 3px 1px rgba(0, 0, 0, 0.15);\n",
              "      filter: drop-shadow(0px 1px 2px rgba(0, 0, 0, 0.3));\n",
              "      fill: #FFFFFF;\n",
              "    }\n",
              "  </style>\n",
              "\n",
              "    <script>\n",
              "      const buttonEl =\n",
              "        document.querySelector('#df-d042288c-d484-40ff-9fe7-3be728a66a77 button.colab-df-convert');\n",
              "      buttonEl.style.display =\n",
              "        google.colab.kernel.accessAllowed ? 'block' : 'none';\n",
              "\n",
              "      async function convertToInteractive(key) {\n",
              "        const element = document.querySelector('#df-d042288c-d484-40ff-9fe7-3be728a66a77');\n",
              "        const dataTable =\n",
              "          await google.colab.kernel.invokeFunction('convertToInteractive',\n",
              "                                                    [key], {});\n",
              "        if (!dataTable) return;\n",
              "\n",
              "        const docLinkHtml = 'Like what you see? Visit the ' +\n",
              "          '<a target=\"_blank\" href=https://colab.research.google.com/notebooks/data_table.ipynb>data table notebook</a>'\n",
              "          + ' to learn more about interactive tables.';\n",
              "        element.innerHTML = '';\n",
              "        dataTable['output_type'] = 'display_data';\n",
              "        await google.colab.output.renderOutput(dataTable, element);\n",
              "        const docLink = document.createElement('div');\n",
              "        docLink.innerHTML = docLinkHtml;\n",
              "        element.appendChild(docLink);\n",
              "      }\n",
              "    </script>\n",
              "  </div>\n",
              "\n",
              "\n",
              "<div id=\"df-31f8254d-5435-4855-a558-d44bb6568d3e\">\n",
              "  <button class=\"colab-df-quickchart\" onclick=\"quickchart('df-31f8254d-5435-4855-a558-d44bb6568d3e')\"\n",
              "            title=\"Suggest charts\"\n",
              "            style=\"display:none;\">\n",
              "\n",
              "<svg xmlns=\"http://www.w3.org/2000/svg\" height=\"24px\"viewBox=\"0 0 24 24\"\n",
              "     width=\"24px\">\n",
              "    <g>\n",
              "        <path d=\"M19 3H5c-1.1 0-2 .9-2 2v14c0 1.1.9 2 2 2h14c1.1 0 2-.9 2-2V5c0-1.1-.9-2-2-2zM9 17H7v-7h2v7zm4 0h-2V7h2v10zm4 0h-2v-4h2v4z\"/>\n",
              "    </g>\n",
              "</svg>\n",
              "  </button>\n",
              "\n",
              "<style>\n",
              "  .colab-df-quickchart {\n",
              "      --bg-color: #E8F0FE;\n",
              "      --fill-color: #1967D2;\n",
              "      --hover-bg-color: #E2EBFA;\n",
              "      --hover-fill-color: #174EA6;\n",
              "      --disabled-fill-color: #AAA;\n",
              "      --disabled-bg-color: #DDD;\n",
              "  }\n",
              "\n",
              "  [theme=dark] .colab-df-quickchart {\n",
              "      --bg-color: #3B4455;\n",
              "      --fill-color: #D2E3FC;\n",
              "      --hover-bg-color: #434B5C;\n",
              "      --hover-fill-color: #FFFFFF;\n",
              "      --disabled-bg-color: #3B4455;\n",
              "      --disabled-fill-color: #666;\n",
              "  }\n",
              "\n",
              "  .colab-df-quickchart {\n",
              "    background-color: var(--bg-color);\n",
              "    border: none;\n",
              "    border-radius: 50%;\n",
              "    cursor: pointer;\n",
              "    display: none;\n",
              "    fill: var(--fill-color);\n",
              "    height: 32px;\n",
              "    padding: 0;\n",
              "    width: 32px;\n",
              "  }\n",
              "\n",
              "  .colab-df-quickchart:hover {\n",
              "    background-color: var(--hover-bg-color);\n",
              "    box-shadow: 0 1px 2px rgba(60, 64, 67, 0.3), 0 1px 3px 1px rgba(60, 64, 67, 0.15);\n",
              "    fill: var(--button-hover-fill-color);\n",
              "  }\n",
              "\n",
              "  .colab-df-quickchart-complete:disabled,\n",
              "  .colab-df-quickchart-complete:disabled:hover {\n",
              "    background-color: var(--disabled-bg-color);\n",
              "    fill: var(--disabled-fill-color);\n",
              "    box-shadow: none;\n",
              "  }\n",
              "\n",
              "  .colab-df-spinner {\n",
              "    border: 2px solid var(--fill-color);\n",
              "    border-color: transparent;\n",
              "    border-bottom-color: var(--fill-color);\n",
              "    animation:\n",
              "      spin 1s steps(1) infinite;\n",
              "  }\n",
              "\n",
              "  @keyframes spin {\n",
              "    0% {\n",
              "      border-color: transparent;\n",
              "      border-bottom-color: var(--fill-color);\n",
              "      border-left-color: var(--fill-color);\n",
              "    }\n",
              "    20% {\n",
              "      border-color: transparent;\n",
              "      border-left-color: var(--fill-color);\n",
              "      border-top-color: var(--fill-color);\n",
              "    }\n",
              "    30% {\n",
              "      border-color: transparent;\n",
              "      border-left-color: var(--fill-color);\n",
              "      border-top-color: var(--fill-color);\n",
              "      border-right-color: var(--fill-color);\n",
              "    }\n",
              "    40% {\n",
              "      border-color: transparent;\n",
              "      border-right-color: var(--fill-color);\n",
              "      border-top-color: var(--fill-color);\n",
              "    }\n",
              "    60% {\n",
              "      border-color: transparent;\n",
              "      border-right-color: var(--fill-color);\n",
              "    }\n",
              "    80% {\n",
              "      border-color: transparent;\n",
              "      border-right-color: var(--fill-color);\n",
              "      border-bottom-color: var(--fill-color);\n",
              "    }\n",
              "    90% {\n",
              "      border-color: transparent;\n",
              "      border-bottom-color: var(--fill-color);\n",
              "    }\n",
              "  }\n",
              "</style>\n",
              "\n",
              "  <script>\n",
              "    async function quickchart(key) {\n",
              "      const quickchartButtonEl =\n",
              "        document.querySelector('#' + key + ' button');\n",
              "      quickchartButtonEl.disabled = true;  // To prevent multiple clicks.\n",
              "      quickchartButtonEl.classList.add('colab-df-spinner');\n",
              "      try {\n",
              "        const charts = await google.colab.kernel.invokeFunction(\n",
              "            'suggestCharts', [key], {});\n",
              "      } catch (error) {\n",
              "        console.error('Error during call to suggestCharts:', error);\n",
              "      }\n",
              "      quickchartButtonEl.classList.remove('colab-df-spinner');\n",
              "      quickchartButtonEl.classList.add('colab-df-quickchart-complete');\n",
              "    }\n",
              "    (() => {\n",
              "      let quickchartButtonEl =\n",
              "        document.querySelector('#df-31f8254d-5435-4855-a558-d44bb6568d3e button');\n",
              "      quickchartButtonEl.style.display =\n",
              "        google.colab.kernel.accessAllowed ? 'block' : 'none';\n",
              "    })();\n",
              "  </script>\n",
              "</div>\n",
              "\n",
              "  <div id=\"id_ed52c207-65e5-4bec-9963-8f74ed4d602e\">\n",
              "    <style>\n",
              "      .colab-df-generate {\n",
              "        background-color: #E8F0FE;\n",
              "        border: none;\n",
              "        border-radius: 50%;\n",
              "        cursor: pointer;\n",
              "        display: none;\n",
              "        fill: #1967D2;\n",
              "        height: 32px;\n",
              "        padding: 0 0 0 0;\n",
              "        width: 32px;\n",
              "      }\n",
              "\n",
              "      .colab-df-generate:hover {\n",
              "        background-color: #E2EBFA;\n",
              "        box-shadow: 0px 1px 2px rgba(60, 64, 67, 0.3), 0px 1px 3px 1px rgba(60, 64, 67, 0.15);\n",
              "        fill: #174EA6;\n",
              "      }\n",
              "\n",
              "      [theme=dark] .colab-df-generate {\n",
              "        background-color: #3B4455;\n",
              "        fill: #D2E3FC;\n",
              "      }\n",
              "\n",
              "      [theme=dark] .colab-df-generate:hover {\n",
              "        background-color: #434B5C;\n",
              "        box-shadow: 0px 1px 3px 1px rgba(0, 0, 0, 0.15);\n",
              "        filter: drop-shadow(0px 1px 2px rgba(0, 0, 0, 0.3));\n",
              "        fill: #FFFFFF;\n",
              "      }\n",
              "    </style>\n",
              "    <button class=\"colab-df-generate\" onclick=\"generateWithVariable('df')\"\n",
              "            title=\"Generate code using this dataframe.\"\n",
              "            style=\"display:none;\">\n",
              "\n",
              "  <svg xmlns=\"http://www.w3.org/2000/svg\" height=\"24px\"viewBox=\"0 0 24 24\"\n",
              "       width=\"24px\">\n",
              "    <path d=\"M7,19H8.4L18.45,9,17,7.55,7,17.6ZM5,21V16.75L18.45,3.32a2,2,0,0,1,2.83,0l1.4,1.43a1.91,1.91,0,0,1,.58,1.4,1.91,1.91,0,0,1-.58,1.4L9.25,21ZM18.45,9,17,7.55Zm-12,3A5.31,5.31,0,0,0,4.9,8.1,5.31,5.31,0,0,0,1,6.5,5.31,5.31,0,0,0,4.9,4.9,5.31,5.31,0,0,0,6.5,1,5.31,5.31,0,0,0,8.1,4.9,5.31,5.31,0,0,0,12,6.5,5.46,5.46,0,0,0,6.5,12Z\"/>\n",
              "  </svg>\n",
              "    </button>\n",
              "    <script>\n",
              "      (() => {\n",
              "      const buttonEl =\n",
              "        document.querySelector('#id_ed52c207-65e5-4bec-9963-8f74ed4d602e button.colab-df-generate');\n",
              "      buttonEl.style.display =\n",
              "        google.colab.kernel.accessAllowed ? 'block' : 'none';\n",
              "\n",
              "      buttonEl.onclick = () => {\n",
              "        google.colab.notebook.generateWithVariable('df');\n",
              "      }\n",
              "      })();\n",
              "    </script>\n",
              "  </div>\n",
              "\n",
              "    </div>\n",
              "  </div>\n"
            ],
            "application/vnd.google.colaboratory.intrinsic+json": {
              "type": "dataframe",
              "variable_name": "df",
              "summary": "{\n  \"name\": \"df\",\n  \"rows\": 1000,\n  \"fields\": [\n    {\n      \"column\": \"Name\",\n      \"properties\": {\n        \"dtype\": \"string\",\n        \"num_unique_values\": 1000,\n        \"samples\": [\n          \"Grilled Vegetable Orzo Pasta Salad\",\n          \"Frenched Rack Of Lamb\",\n          \"Yogurt Sheet Pan Pancakes with Mixed Berries\"\n        ],\n        \"semantic_type\": \"\",\n        \"description\": \"\"\n      }\n    },\n    {\n      \"column\": \"Image\",\n      \"properties\": {\n        \"dtype\": \"string\",\n        \"num_unique_values\": 999,\n        \"samples\": [\n          \"https://www.skinnytaste.com/wp-content/uploads/2018/10/POTATO-LEEK-SOUP2.-5-2-260x390.jpg\",\n          \"https://www.skinnytaste.com/wp-content/uploads/2020/07/Gnocchi-with-Grilled-Chicken-and-Roasted-Red-Pepper-Sauce-15-260x390.jpg\",\n          \"https://www.skinnytaste.com/wp-content/uploads/2011/10/Pumpkin-Bread-Recipe-5-260x390.jpg\"\n        ],\n        \"semantic_type\": \"\",\n        \"description\": \"\"\n      }\n    },\n    {\n      \"column\": \"Calories\",\n      \"properties\": {\n        \"dtype\": \"category\",\n        \"num_unique_values\": 436,\n        \"samples\": [\n          \"Cals: 260\",\n          \"Cals: 96\",\n          \"Cals: 475\"\n        ],\n        \"semantic_type\": \"\",\n        \"description\": \"\"\n      }\n    },\n    {\n      \"column\": \"Personal Points\",\n      \"properties\": {\n        \"dtype\": \"category\",\n        \"num_unique_values\": 15,\n        \"samples\": [\n          \"8\",\n          \"10\",\n          \"N/A\"\n        ],\n        \"semantic_type\": \"\",\n        \"description\": \"\"\n      }\n    },\n    {\n      \"column\": \"Summary\",\n      \"properties\": {\n        \"dtype\": \"string\",\n        \"num_unique_values\": 1000,\n        \"samples\": [\n          \"Grilled vegetables from the farmers market shine in this vegetarian orzo pasta salad, perfect as a side dish or meatless main.\",\n          \"Tender oven-roasted rack of lamb, seasoned with rosemary, fresh lemon juice, and garlic, is perfect for entertaining and so easy to make!\",\n          \"Yogurt Sheet Pan Pancakes with Mixed Berries are an easy breakfast or brunch for the holiday season or any time of the year. Set out all the toppings and let your family serve themselves.\"\n        ],\n        \"semantic_type\": \"\",\n        \"description\": \"\"\n      }\n    },\n    {\n      \"column\": \"Recipe Key\",\n      \"properties\": {\n        \"dtype\": \"category\",\n        \"num_unique_values\": 430,\n        \"samples\": [\n          \"AF DF GF KF LC Q V W\",\n          \"KF V\",\n          \"FM GF HP LC\"\n        ],\n        \"semantic_type\": \"\",\n        \"description\": \"\"\n      }\n    }\n  ]\n}"
            }
          },
          "metadata": {},
          "execution_count": 6
        }
      ]
    },
    {
      "cell_type": "markdown",
      "source": [
        "# Getting Recipe Key Count"
      ],
      "metadata": {
        "id": "8yFHNQCdPMZT"
      }
    },
    {
      "cell_type": "code",
      "source": [
        "\n",
        "from collections import defaultdict\n",
        "\n",
        "recipe_key_count = defaultdict(int)\n",
        "\n",
        "\n",
        "for recipe in data:\n",
        "    recipe_keys = recipe['Recipe Key'].split()\n",
        "    for key in recipe_keys:\n",
        "        recipe_key_count[key] += 1\n",
        "\n",
        "\n",
        "for key, count in recipe_key_count.items():\n",
        "    print(f\"{key}: {count}\")\n"
      ],
      "metadata": {
        "colab": {
          "base_uri": "https://localhost:8080/"
        },
        "id": "ovClLUQCelUh",
        "outputId": "30a39ff1-f143-46d2-eb69-b4e1b93c189e"
      },
      "execution_count": null,
      "outputs": [
        {
          "output_type": "stream",
          "name": "stdout",
          "text": [
            "N/A: 52\n",
            "AF: 107\n",
            "FM: 143\n",
            "HF: 245\n",
            "KF: 515\n",
            "MP: 152\n",
            "Q: 460\n",
            "DF: 442\n",
            "GF: 700\n",
            "V: 406\n",
            "HP: 213\n",
            "LC: 274\n",
            "W: 121\n",
            "SC: 29\n",
            "PC: 34\n"
          ]
        }
      ]
    },
    {
      "cell_type": "markdown",
      "source": [
        "# Feature Engineering"
      ],
      "metadata": {
        "id": "fLDZZEEUPSCU"
      }
    },
    {
      "cell_type": "code",
      "source": [
        "import pandas as pd\n",
        "\n",
        "df = pd.DataFrame(data)\n",
        "\n",
        "\n",
        "df['Calories'] = df['Calories'].str.replace('Cals: ', '', regex=False)\n",
        "df['Calories'] = pd.to_numeric(df['Calories'], errors='coerce')\n",
        "\n",
        "df['Personal Points'] = pd.to_numeric(df['Personal Points'], errors='coerce')\n",
        "\n",
        "df = df.dropna(subset=['Calories', 'Personal Points'])\n",
        "\n",
        "df.head()\n"
      ],
      "metadata": {
        "id": "6-__xnOQw4ev",
        "colab": {
          "base_uri": "https://localhost:8080/",
          "height": 206
        },
        "outputId": "853f4818-b431-4b01-ed66-02ced01e5713"
      },
      "execution_count": null,
      "outputs": [
        {
          "output_type": "execute_result",
          "data": {
            "text/plain": [
              "                      Name                                              Image  \\\n",
              "1       Breakfast Burritos  https://www.skinnytaste.com/wp-content/uploads...   \n",
              "2    Crustless Pumpkin Pie  https://www.skinnytaste.com/wp-content/uploads...   \n",
              "3         Red Curry Salmon  https://www.skinnytaste.com/wp-content/uploads...   \n",
              "4             Apple Butter  https://www.skinnytaste.com/wp-content/uploads...   \n",
              "5  Roasted Delicata Squash  https://www.skinnytaste.com/wp-content/uploads...   \n",
              "\n",
              "   Calories  Personal Points  \\\n",
              "1     261.0              5.0   \n",
              "2     124.5              2.0   \n",
              "3     349.0              6.0   \n",
              "4      34.0              1.0   \n",
              "5     177.0              4.0   \n",
              "\n",
              "                                             Summary        Recipe Key  \n",
              "1  These freezer breakfast burritos are stuffed w...  AF FM HF KF MP Q  \n",
              "2  Skip the crust and make this easy gluten-free,...        DF GF HF V  \n",
              "3  Thai-inspired Red Curry Salmon is simmered in ...          DF GF HP  \n",
              "4  This easy apple butter recipe simmers on the s...        DF GF KF V  \n",
              "5  Roasted Delicata Squash with toasted almonds, ...           DF GF V  "
            ],
            "text/html": [
              "\n",
              "  <div id=\"df-284bca55-5efd-4a1b-8784-9196687e09ca\" class=\"colab-df-container\">\n",
              "    <div>\n",
              "<style scoped>\n",
              "    .dataframe tbody tr th:only-of-type {\n",
              "        vertical-align: middle;\n",
              "    }\n",
              "\n",
              "    .dataframe tbody tr th {\n",
              "        vertical-align: top;\n",
              "    }\n",
              "\n",
              "    .dataframe thead th {\n",
              "        text-align: right;\n",
              "    }\n",
              "</style>\n",
              "<table border=\"1\" class=\"dataframe\">\n",
              "  <thead>\n",
              "    <tr style=\"text-align: right;\">\n",
              "      <th></th>\n",
              "      <th>Name</th>\n",
              "      <th>Image</th>\n",
              "      <th>Calories</th>\n",
              "      <th>Personal Points</th>\n",
              "      <th>Summary</th>\n",
              "      <th>Recipe Key</th>\n",
              "    </tr>\n",
              "  </thead>\n",
              "  <tbody>\n",
              "    <tr>\n",
              "      <th>1</th>\n",
              "      <td>Breakfast Burritos</td>\n",
              "      <td>https://www.skinnytaste.com/wp-content/uploads...</td>\n",
              "      <td>261.0</td>\n",
              "      <td>5.0</td>\n",
              "      <td>These freezer breakfast burritos are stuffed w...</td>\n",
              "      <td>AF FM HF KF MP Q</td>\n",
              "    </tr>\n",
              "    <tr>\n",
              "      <th>2</th>\n",
              "      <td>Crustless Pumpkin Pie</td>\n",
              "      <td>https://www.skinnytaste.com/wp-content/uploads...</td>\n",
              "      <td>124.5</td>\n",
              "      <td>2.0</td>\n",
              "      <td>Skip the crust and make this easy gluten-free,...</td>\n",
              "      <td>DF GF HF V</td>\n",
              "    </tr>\n",
              "    <tr>\n",
              "      <th>3</th>\n",
              "      <td>Red Curry Salmon</td>\n",
              "      <td>https://www.skinnytaste.com/wp-content/uploads...</td>\n",
              "      <td>349.0</td>\n",
              "      <td>6.0</td>\n",
              "      <td>Thai-inspired Red Curry Salmon is simmered in ...</td>\n",
              "      <td>DF GF HP</td>\n",
              "    </tr>\n",
              "    <tr>\n",
              "      <th>4</th>\n",
              "      <td>Apple Butter</td>\n",
              "      <td>https://www.skinnytaste.com/wp-content/uploads...</td>\n",
              "      <td>34.0</td>\n",
              "      <td>1.0</td>\n",
              "      <td>This easy apple butter recipe simmers on the s...</td>\n",
              "      <td>DF GF KF V</td>\n",
              "    </tr>\n",
              "    <tr>\n",
              "      <th>5</th>\n",
              "      <td>Roasted Delicata Squash</td>\n",
              "      <td>https://www.skinnytaste.com/wp-content/uploads...</td>\n",
              "      <td>177.0</td>\n",
              "      <td>4.0</td>\n",
              "      <td>Roasted Delicata Squash with toasted almonds, ...</td>\n",
              "      <td>DF GF V</td>\n",
              "    </tr>\n",
              "  </tbody>\n",
              "</table>\n",
              "</div>\n",
              "    <div class=\"colab-df-buttons\">\n",
              "\n",
              "  <div class=\"colab-df-container\">\n",
              "    <button class=\"colab-df-convert\" onclick=\"convertToInteractive('df-284bca55-5efd-4a1b-8784-9196687e09ca')\"\n",
              "            title=\"Convert this dataframe to an interactive table.\"\n",
              "            style=\"display:none;\">\n",
              "\n",
              "  <svg xmlns=\"http://www.w3.org/2000/svg\" height=\"24px\" viewBox=\"0 -960 960 960\">\n",
              "    <path d=\"M120-120v-720h720v720H120Zm60-500h600v-160H180v160Zm220 220h160v-160H400v160Zm0 220h160v-160H400v160ZM180-400h160v-160H180v160Zm440 0h160v-160H620v160ZM180-180h160v-160H180v160Zm440 0h160v-160H620v160Z\"/>\n",
              "  </svg>\n",
              "    </button>\n",
              "\n",
              "  <style>\n",
              "    .colab-df-container {\n",
              "      display:flex;\n",
              "      gap: 12px;\n",
              "    }\n",
              "\n",
              "    .colab-df-convert {\n",
              "      background-color: #E8F0FE;\n",
              "      border: none;\n",
              "      border-radius: 50%;\n",
              "      cursor: pointer;\n",
              "      display: none;\n",
              "      fill: #1967D2;\n",
              "      height: 32px;\n",
              "      padding: 0 0 0 0;\n",
              "      width: 32px;\n",
              "    }\n",
              "\n",
              "    .colab-df-convert:hover {\n",
              "      background-color: #E2EBFA;\n",
              "      box-shadow: 0px 1px 2px rgba(60, 64, 67, 0.3), 0px 1px 3px 1px rgba(60, 64, 67, 0.15);\n",
              "      fill: #174EA6;\n",
              "    }\n",
              "\n",
              "    .colab-df-buttons div {\n",
              "      margin-bottom: 4px;\n",
              "    }\n",
              "\n",
              "    [theme=dark] .colab-df-convert {\n",
              "      background-color: #3B4455;\n",
              "      fill: #D2E3FC;\n",
              "    }\n",
              "\n",
              "    [theme=dark] .colab-df-convert:hover {\n",
              "      background-color: #434B5C;\n",
              "      box-shadow: 0px 1px 3px 1px rgba(0, 0, 0, 0.15);\n",
              "      filter: drop-shadow(0px 1px 2px rgba(0, 0, 0, 0.3));\n",
              "      fill: #FFFFFF;\n",
              "    }\n",
              "  </style>\n",
              "\n",
              "    <script>\n",
              "      const buttonEl =\n",
              "        document.querySelector('#df-284bca55-5efd-4a1b-8784-9196687e09ca button.colab-df-convert');\n",
              "      buttonEl.style.display =\n",
              "        google.colab.kernel.accessAllowed ? 'block' : 'none';\n",
              "\n",
              "      async function convertToInteractive(key) {\n",
              "        const element = document.querySelector('#df-284bca55-5efd-4a1b-8784-9196687e09ca');\n",
              "        const dataTable =\n",
              "          await google.colab.kernel.invokeFunction('convertToInteractive',\n",
              "                                                    [key], {});\n",
              "        if (!dataTable) return;\n",
              "\n",
              "        const docLinkHtml = 'Like what you see? Visit the ' +\n",
              "          '<a target=\"_blank\" href=https://colab.research.google.com/notebooks/data_table.ipynb>data table notebook</a>'\n",
              "          + ' to learn more about interactive tables.';\n",
              "        element.innerHTML = '';\n",
              "        dataTable['output_type'] = 'display_data';\n",
              "        await google.colab.output.renderOutput(dataTable, element);\n",
              "        const docLink = document.createElement('div');\n",
              "        docLink.innerHTML = docLinkHtml;\n",
              "        element.appendChild(docLink);\n",
              "      }\n",
              "    </script>\n",
              "  </div>\n",
              "\n",
              "\n",
              "<div id=\"df-80f218f7-8b71-4620-abf2-cbfbf674e274\">\n",
              "  <button class=\"colab-df-quickchart\" onclick=\"quickchart('df-80f218f7-8b71-4620-abf2-cbfbf674e274')\"\n",
              "            title=\"Suggest charts\"\n",
              "            style=\"display:none;\">\n",
              "\n",
              "<svg xmlns=\"http://www.w3.org/2000/svg\" height=\"24px\"viewBox=\"0 0 24 24\"\n",
              "     width=\"24px\">\n",
              "    <g>\n",
              "        <path d=\"M19 3H5c-1.1 0-2 .9-2 2v14c0 1.1.9 2 2 2h14c1.1 0 2-.9 2-2V5c0-1.1-.9-2-2-2zM9 17H7v-7h2v7zm4 0h-2V7h2v10zm4 0h-2v-4h2v4z\"/>\n",
              "    </g>\n",
              "</svg>\n",
              "  </button>\n",
              "\n",
              "<style>\n",
              "  .colab-df-quickchart {\n",
              "      --bg-color: #E8F0FE;\n",
              "      --fill-color: #1967D2;\n",
              "      --hover-bg-color: #E2EBFA;\n",
              "      --hover-fill-color: #174EA6;\n",
              "      --disabled-fill-color: #AAA;\n",
              "      --disabled-bg-color: #DDD;\n",
              "  }\n",
              "\n",
              "  [theme=dark] .colab-df-quickchart {\n",
              "      --bg-color: #3B4455;\n",
              "      --fill-color: #D2E3FC;\n",
              "      --hover-bg-color: #434B5C;\n",
              "      --hover-fill-color: #FFFFFF;\n",
              "      --disabled-bg-color: #3B4455;\n",
              "      --disabled-fill-color: #666;\n",
              "  }\n",
              "\n",
              "  .colab-df-quickchart {\n",
              "    background-color: var(--bg-color);\n",
              "    border: none;\n",
              "    border-radius: 50%;\n",
              "    cursor: pointer;\n",
              "    display: none;\n",
              "    fill: var(--fill-color);\n",
              "    height: 32px;\n",
              "    padding: 0;\n",
              "    width: 32px;\n",
              "  }\n",
              "\n",
              "  .colab-df-quickchart:hover {\n",
              "    background-color: var(--hover-bg-color);\n",
              "    box-shadow: 0 1px 2px rgba(60, 64, 67, 0.3), 0 1px 3px 1px rgba(60, 64, 67, 0.15);\n",
              "    fill: var(--button-hover-fill-color);\n",
              "  }\n",
              "\n",
              "  .colab-df-quickchart-complete:disabled,\n",
              "  .colab-df-quickchart-complete:disabled:hover {\n",
              "    background-color: var(--disabled-bg-color);\n",
              "    fill: var(--disabled-fill-color);\n",
              "    box-shadow: none;\n",
              "  }\n",
              "\n",
              "  .colab-df-spinner {\n",
              "    border: 2px solid var(--fill-color);\n",
              "    border-color: transparent;\n",
              "    border-bottom-color: var(--fill-color);\n",
              "    animation:\n",
              "      spin 1s steps(1) infinite;\n",
              "  }\n",
              "\n",
              "  @keyframes spin {\n",
              "    0% {\n",
              "      border-color: transparent;\n",
              "      border-bottom-color: var(--fill-color);\n",
              "      border-left-color: var(--fill-color);\n",
              "    }\n",
              "    20% {\n",
              "      border-color: transparent;\n",
              "      border-left-color: var(--fill-color);\n",
              "      border-top-color: var(--fill-color);\n",
              "    }\n",
              "    30% {\n",
              "      border-color: transparent;\n",
              "      border-left-color: var(--fill-color);\n",
              "      border-top-color: var(--fill-color);\n",
              "      border-right-color: var(--fill-color);\n",
              "    }\n",
              "    40% {\n",
              "      border-color: transparent;\n",
              "      border-right-color: var(--fill-color);\n",
              "      border-top-color: var(--fill-color);\n",
              "    }\n",
              "    60% {\n",
              "      border-color: transparent;\n",
              "      border-right-color: var(--fill-color);\n",
              "    }\n",
              "    80% {\n",
              "      border-color: transparent;\n",
              "      border-right-color: var(--fill-color);\n",
              "      border-bottom-color: var(--fill-color);\n",
              "    }\n",
              "    90% {\n",
              "      border-color: transparent;\n",
              "      border-bottom-color: var(--fill-color);\n",
              "    }\n",
              "  }\n",
              "</style>\n",
              "\n",
              "  <script>\n",
              "    async function quickchart(key) {\n",
              "      const quickchartButtonEl =\n",
              "        document.querySelector('#' + key + ' button');\n",
              "      quickchartButtonEl.disabled = true;  // To prevent multiple clicks.\n",
              "      quickchartButtonEl.classList.add('colab-df-spinner');\n",
              "      try {\n",
              "        const charts = await google.colab.kernel.invokeFunction(\n",
              "            'suggestCharts', [key], {});\n",
              "      } catch (error) {\n",
              "        console.error('Error during call to suggestCharts:', error);\n",
              "      }\n",
              "      quickchartButtonEl.classList.remove('colab-df-spinner');\n",
              "      quickchartButtonEl.classList.add('colab-df-quickchart-complete');\n",
              "    }\n",
              "    (() => {\n",
              "      let quickchartButtonEl =\n",
              "        document.querySelector('#df-80f218f7-8b71-4620-abf2-cbfbf674e274 button');\n",
              "      quickchartButtonEl.style.display =\n",
              "        google.colab.kernel.accessAllowed ? 'block' : 'none';\n",
              "    })();\n",
              "  </script>\n",
              "</div>\n",
              "\n",
              "    </div>\n",
              "  </div>\n"
            ],
            "application/vnd.google.colaboratory.intrinsic+json": {
              "type": "dataframe",
              "variable_name": "df",
              "summary": "{\n  \"name\": \"df\",\n  \"rows\": 938,\n  \"fields\": [\n    {\n      \"column\": \"Name\",\n      \"properties\": {\n        \"dtype\": \"string\",\n        \"num_unique_values\": 938,\n        \"samples\": [\n          \"Italian Shrimp Salad\",\n          \"Teriyaki Shrimp Quinoa Bowls with Mango-Cucumber Salsa\",\n          \"Eggplant and Tomato Sauce\"\n        ],\n        \"semantic_type\": \"\",\n        \"description\": \"\"\n      }\n    },\n    {\n      \"column\": \"Image\",\n      \"properties\": {\n        \"dtype\": \"string\",\n        \"num_unique_values\": 938,\n        \"samples\": [\n          \"https://www.skinnytaste.com/wp-content/uploads/2024/04/Italian-Shrimp-Salad-6-260x390.jpg\",\n          \"https://www.skinnytaste.com/wp-content/uploads/2023/01/Teriyaki-Shrimp-Quinoa-Bowls-with-Mango-Cucumber-Salsa-5-260x390.jpg\",\n          \"https://www.skinnytaste.com/wp-content/uploads/2009/10/Eggplant-and-Tomato-Sauce-8-260x390.jpg\"\n        ],\n        \"semantic_type\": \"\",\n        \"description\": \"\"\n      }\n    },\n    {\n      \"column\": \"Calories\",\n      \"properties\": {\n        \"dtype\": \"number\",\n        \"std\": 116.44571744985934,\n        \"min\": 8.0,\n        \"max\": 608.0,\n        \"num_unique_values\": 434,\n        \"samples\": [\n          232.0,\n          26.0,\n          159.0\n        ],\n        \"semantic_type\": \"\",\n        \"description\": \"\"\n      }\n    },\n    {\n      \"column\": \"Personal Points\",\n      \"properties\": {\n        \"dtype\": \"number\",\n        \"std\": 2.7977165966726525,\n        \"min\": 0.0,\n        \"max\": 13.0,\n        \"num_unique_values\": 14,\n        \"samples\": [\n          3.0,\n          0.0,\n          5.0\n        ],\n        \"semantic_type\": \"\",\n        \"description\": \"\"\n      }\n    },\n    {\n      \"column\": \"Summary\",\n      \"properties\": {\n        \"dtype\": \"string\",\n        \"num_unique_values\": 938,\n        \"samples\": [\n          \"This garlicky Italian Shrimp Salad recipe is loaded with shrimp, celery, and a mix of bold Italian olives, all brightened with a lemony dressing.\",\n          \"These fresh and delicious Teriyaki Shrimp Quinoa Bowls seasoned with honey, ginger, and soy sauce are topped with avocado and a Mango-Cucumber Salsa.\",\n          \"This simple Eggplant and Tomato Sauce is delicious, made with diced eggplant stewed in tomatoes and garlic. I love it served over pasta but it\\u2019s also great over zucchini noodles, polenta or as a side dish on it\\u2019s own.\"\n        ],\n        \"semantic_type\": \"\",\n        \"description\": \"\"\n      }\n    },\n    {\n      \"column\": \"Recipe Key\",\n      \"properties\": {\n        \"dtype\": \"category\",\n        \"num_unique_values\": 426,\n        \"samples\": [\n          \"AF DF GF KF LC Q V W\",\n          \"GF HF SC\",\n          \"DF GF HP LC MP W\"\n        ],\n        \"semantic_type\": \"\",\n        \"description\": \"\"\n      }\n    }\n  ]\n}"
            }
          },
          "metadata": {},
          "execution_count": 9
        }
      ]
    },
    {
      "cell_type": "markdown",
      "source": [
        "# Getting the unique Values"
      ],
      "metadata": {
        "id": "KnAqAJTbPkCH"
      }
    },
    {
      "cell_type": "code",
      "source": [
        "unique_values_count = df.nunique()\n",
        "print(unique_values_count)"
      ],
      "metadata": {
        "id": "7ASamTbQWY_6",
        "colab": {
          "base_uri": "https://localhost:8080/"
        },
        "outputId": "98a67949-c3b4-47e3-ee2d-2d499f532926"
      },
      "execution_count": null,
      "outputs": [
        {
          "output_type": "stream",
          "name": "stdout",
          "text": [
            "Name               938\n",
            "Image              938\n",
            "Calories           434\n",
            "Personal Points     14\n",
            "Summary            938\n",
            "Recipe Key         426\n",
            "dtype: int64\n"
          ]
        }
      ]
    },
    {
      "cell_type": "markdown",
      "source": [
        "#Saving the DataFrame to an Excel File"
      ],
      "metadata": {
        "id": "BGoP2mHCPtVE"
      }
    },
    {
      "cell_type": "code",
      "source": [
        "!pip install openpyxl\n",
        "df.to_excel('recipes.xlsx', index=False)"
      ],
      "metadata": {
        "id": "uH8AWDKnT8d7",
        "colab": {
          "base_uri": "https://localhost:8080/"
        },
        "outputId": "1d6f146a-c14f-4e76-b5bb-d02b54e084e4"
      },
      "execution_count": null,
      "outputs": [
        {
          "output_type": "stream",
          "name": "stdout",
          "text": [
            "Requirement already satisfied: openpyxl in /usr/local/lib/python3.10/dist-packages (3.1.5)\n",
            "Requirement already satisfied: et-xmlfile in /usr/local/lib/python3.10/dist-packages (from openpyxl) (1.1.0)\n"
          ]
        }
      ]
    },
    {
      "cell_type": "markdown",
      "source": [
        "#Displaying Recipe Images from DataFrame"
      ],
      "metadata": {
        "id": "LL2YRxpnPwEI"
      }
    },
    {
      "cell_type": "code",
      "source": [
        "from IPython.display import display, Image\n",
        "\n",
        "for index, row in df.iterrows():\n",
        "    print(row['Name'])\n",
        "    display(Image(url=row['Image']))\n"
      ],
      "metadata": {
        "id": "MuUVcYOHUpUs",
        "colab": {
          "base_uri": "https://localhost:8080/",
          "height": 1000
        },
        "outputId": "14ea707e-5067-43e9-a846-c442964608ec"
      },
      "execution_count": null,
      "outputs": [
        {
          "output_type": "stream",
          "name": "stdout",
          "text": [
            "Breakfast Burritos\n"
          ]
        },
        {
          "output_type": "display_data",
          "data": {
            "text/html": [
              "<img src=\"https://www.skinnytaste.com/wp-content/uploads/2019/03/Breakfast-Burritos-21-260x390.jpg\"/>"
            ],
            "text/plain": [
              "<IPython.core.display.Image object>"
            ]
          },
          "metadata": {}
        },
        {
          "output_type": "stream",
          "name": "stdout",
          "text": [
            "Crustless Pumpkin Pie\n"
          ]
        },
        {
          "output_type": "display_data",
          "data": {
            "text/html": [
              "<img src=\"https://www.skinnytaste.com/wp-content/uploads/2024/09/Crustless-Pumpkin-Pies-10-260x390.jpg\"/>"
            ],
            "text/plain": [
              "<IPython.core.display.Image object>"
            ]
          },
          "metadata": {}
        },
        {
          "output_type": "stream",
          "name": "stdout",
          "text": [
            "Red Curry Salmon\n"
          ]
        },
        {
          "output_type": "display_data",
          "data": {
            "text/html": [
              "<img src=\"https://www.skinnytaste.com/wp-content/uploads/2024/09/One-Pan-Red-Curry-Salmon-6-260x390.jpg\"/>"
            ],
            "text/plain": [
              "<IPython.core.display.Image object>"
            ]
          },
          "metadata": {}
        },
        {
          "output_type": "stream",
          "name": "stdout",
          "text": [
            "Apple Butter\n"
          ]
        },
        {
          "output_type": "display_data",
          "data": {
            "text/html": [
              "<img src=\"https://www.skinnytaste.com/wp-content/uploads/2024/09/Apple-Butter-7-260x390.jpg\"/>"
            ],
            "text/plain": [
              "<IPython.core.display.Image object>"
            ]
          },
          "metadata": {}
        },
        {
          "output_type": "stream",
          "name": "stdout",
          "text": [
            "Roasted Delicata Squash\n"
          ]
        },
        {
          "output_type": "display_data",
          "data": {
            "text/html": [
              "<img src=\"https://www.skinnytaste.com/wp-content/uploads/2024/09/Roasted-Delicata-Squash-with-Toasted-Almond-Crumbs-9-260x390.jpg\"/>"
            ],
            "text/plain": [
              "<IPython.core.display.Image object>"
            ]
          },
          "metadata": {}
        },
        {
          "output_type": "stream",
          "name": "stdout",
          "text": [
            "Apple Bread\n"
          ]
        },
        {
          "output_type": "display_data",
          "data": {
            "text/html": [
              "<img src=\"https://www.skinnytaste.com/wp-content/uploads/2014/09/Apple-Bread-3-260x390.jpg\"/>"
            ],
            "text/plain": [
              "<IPython.core.display.Image object>"
            ]
          },
          "metadata": {}
        },
        {
          "output_type": "stream",
          "name": "stdout",
          "text": [
            "Autumn Salad with Pears and Gorgonzola\n"
          ]
        },
        {
          "output_type": "display_data",
          "data": {
            "text/html": [
              "<img src=\"https://www.skinnytaste.com/wp-content/uploads/2008/10/Autumn-Salad-with-Pears-and-Gorgonzola-5-260x390.jpg\"/>"
            ],
            "text/plain": [
              "<IPython.core.display.Image object>"
            ]
          },
          "metadata": {}
        },
        {
          "output_type": "stream",
          "name": "stdout",
          "text": [
            "Sesame Chicken\n"
          ]
        },
        {
          "output_type": "display_data",
          "data": {
            "text/html": [
              "<img src=\"https://www.skinnytaste.com/wp-content/uploads/2024/09/Sesame-Chicken-13-260x390.jpg\"/>"
            ],
            "text/plain": [
              "<IPython.core.display.Image object>"
            ]
          },
          "metadata": {}
        },
        {
          "output_type": "stream",
          "name": "stdout",
          "text": [
            "Bacon in the Oven\n"
          ]
        },
        {
          "output_type": "display_data",
          "data": {
            "text/html": [
              "<img src=\"https://www.skinnytaste.com/wp-content/uploads/2024/09/Bacon3ways-260x390.png\"/>"
            ],
            "text/plain": [
              "<IPython.core.display.Image object>"
            ]
          },
          "metadata": {}
        },
        {
          "output_type": "stream",
          "name": "stdout",
          "text": [
            "Pumpkin Spice Latte\n"
          ]
        },
        {
          "output_type": "display_data",
          "data": {
            "text/html": [
              "<img src=\"https://www.skinnytaste.com/wp-content/uploads/2010/10/Pumpkin-Spice-Latte-6-260x390.jpg\"/>"
            ],
            "text/plain": [
              "<IPython.core.display.Image object>"
            ]
          },
          "metadata": {}
        },
        {
          "output_type": "stream",
          "name": "stdout",
          "text": [
            "Homemade Hamburger Helper\n"
          ]
        },
        {
          "output_type": "display_data",
          "data": {
            "text/html": [
              "<img src=\"https://www.skinnytaste.com/wp-content/uploads/2024/09/Homemade-Hamburger-Helper-7-260x390.jpg\"/>"
            ],
            "text/plain": [
              "<IPython.core.display.Image object>"
            ]
          },
          "metadata": {}
        },
        {
          "output_type": "stream",
          "name": "stdout",
          "text": [
            "Fried Brown Rice\n"
          ]
        },
        {
          "output_type": "display_data",
          "data": {
            "text/html": [
              "<img src=\"https://www.skinnytaste.com/wp-content/uploads/2024/08/Brown-Fried-Rice-9-260x390.jpg\"/>"
            ],
            "text/plain": [
              "<IPython.core.display.Image object>"
            ]
          },
          "metadata": {}
        },
        {
          "output_type": "stream",
          "name": "stdout",
          "text": [
            "Asian Grilled Chicken\n"
          ]
        },
        {
          "output_type": "display_data",
          "data": {
            "text/html": [
              "<img src=\"https://www.skinnytaste.com/wp-content/uploads/2008/05/Asian-Grilled-Chicken-7-260x390.jpg\"/>"
            ],
            "text/plain": [
              "<IPython.core.display.Image object>"
            ]
          },
          "metadata": {}
        },
        {
          "output_type": "stream",
          "name": "stdout",
          "text": [
            "Sweet Potato Salad\n"
          ]
        },
        {
          "output_type": "display_data",
          "data": {
            "text/html": [
              "<img src=\"https://www.skinnytaste.com/wp-content/uploads/2024/08/Sweet-Potato-Avocado-Salad-16-260x390.jpg\"/>"
            ],
            "text/plain": [
              "<IPython.core.display.Image object>"
            ]
          },
          "metadata": {}
        },
        {
          "output_type": "stream",
          "name": "stdout",
          "text": [
            "Ratatouille\n"
          ]
        },
        {
          "output_type": "display_data",
          "data": {
            "text/html": [
              "<img src=\"https://www.skinnytaste.com/wp-content/uploads/2024/08/Ratatouille-6-1-260x390.jpg\"/>"
            ],
            "text/plain": [
              "<IPython.core.display.Image object>"
            ]
          },
          "metadata": {}
        },
        {
          "output_type": "stream",
          "name": "stdout",
          "text": [
            "Pretzel Crusted Chicken Tenders\n"
          ]
        },
        {
          "output_type": "display_data",
          "data": {
            "text/html": [
              "<img src=\"https://www.skinnytaste.com/wp-content/uploads/2024/08/Pretzel-Chicken-Fingers-with-Honey-Mustard-13-260x390.jpg\"/>"
            ],
            "text/plain": [
              "<IPython.core.display.Image object>"
            ]
          },
          "metadata": {}
        },
        {
          "output_type": "stream",
          "name": "stdout",
          "text": [
            "Lemon Vinaigrette\n"
          ]
        },
        {
          "output_type": "display_data",
          "data": {
            "text/html": [
              "<img src=\"https://www.skinnytaste.com/wp-content/uploads/2024/07/Lemon-Viniagrette-5-260x390.jpg\"/>"
            ],
            "text/plain": [
              "<IPython.core.display.Image object>"
            ]
          },
          "metadata": {}
        },
        {
          "output_type": "stream",
          "name": "stdout",
          "text": [
            "Slow Cooker Beef Stew\n"
          ]
        },
        {
          "output_type": "display_data",
          "data": {
            "text/html": [
              "<img src=\"https://www.skinnytaste.com/wp-content/uploads/2024/07/Slow-Cooker-Beef-Stew-7-260x390.jpg\"/>"
            ],
            "text/plain": [
              "<IPython.core.display.Image object>"
            ]
          },
          "metadata": {}
        },
        {
          "output_type": "stream",
          "name": "stdout",
          "text": [
            "Deviled Egg Salad\n"
          ]
        },
        {
          "output_type": "display_data",
          "data": {
            "text/html": [
              "<img src=\"https://www.skinnytaste.com/wp-content/uploads/2024/08/Lazy-Deviled-Egg-Salad-13-260x390.jpg\"/>"
            ],
            "text/plain": [
              "<IPython.core.display.Image object>"
            ]
          },
          "metadata": {}
        },
        {
          "output_type": "stream",
          "name": "stdout",
          "text": [
            "Shrimp and Rice (Arroz Con Camarones)\n"
          ]
        },
        {
          "output_type": "display_data",
          "data": {
            "text/html": [
              "<img src=\"https://www.skinnytaste.com/wp-content/uploads/2024/08/Arroz-Con-Camarones-12-260x390.jpg\"/>"
            ],
            "text/plain": [
              "<IPython.core.display.Image object>"
            ]
          },
          "metadata": {}
        },
        {
          "output_type": "stream",
          "name": "stdout",
          "text": [
            "Bruschetta Pasta Salad\n"
          ]
        },
        {
          "output_type": "display_data",
          "data": {
            "text/html": [
              "<img src=\"https://www.skinnytaste.com/wp-content/uploads/2024/07/Bruschetta-Pasta-Salad-8-260x390.jpg\"/>"
            ],
            "text/plain": [
              "<IPython.core.display.Image object>"
            ]
          },
          "metadata": {}
        },
        {
          "output_type": "stream",
          "name": "stdout",
          "text": [
            "Watermelon Feta Salad\n"
          ]
        },
        {
          "output_type": "display_data",
          "data": {
            "text/html": [
              "<img src=\"https://www.skinnytaste.com/wp-content/uploads/2020/07/Watermelon-Feta-Salad-7-260x390.jpg\"/>"
            ],
            "text/plain": [
              "<IPython.core.display.Image object>"
            ]
          },
          "metadata": {}
        },
        {
          "output_type": "stream",
          "name": "stdout",
          "text": [
            "Coconut Popsicles\n"
          ]
        },
        {
          "output_type": "display_data",
          "data": {
            "text/html": [
              "<img src=\"https://www.skinnytaste.com/wp-content/uploads/2009/06/Coconut-Pops_19-260x390.jpg\"/>"
            ],
            "text/plain": [
              "<IPython.core.display.Image object>"
            ]
          },
          "metadata": {}
        },
        {
          "output_type": "stream",
          "name": "stdout",
          "text": [
            "Sheet Pan Shrimp with Corn and Tomatoes\n"
          ]
        },
        {
          "output_type": "display_data",
          "data": {
            "text/html": [
              "<img src=\"https://www.skinnytaste.com/wp-content/uploads/2024/07/Old-Bay-Sheen-Pan-Shrimp-with-Corn-and-Tomatoes-5-260x390.jpg\"/>"
            ],
            "text/plain": [
              "<IPython.core.display.Image object>"
            ]
          },
          "metadata": {}
        },
        {
          "output_type": "stream",
          "name": "stdout",
          "text": [
            "Strawberry Yogurt Bark\n"
          ]
        },
        {
          "output_type": "display_data",
          "data": {
            "text/html": [
              "<img src=\"https://www.skinnytaste.com/wp-content/uploads/2024/07/Strawberry-Yogurt-Bark-10-260x390.jpg\"/>"
            ],
            "text/plain": [
              "<IPython.core.display.Image object>"
            ]
          },
          "metadata": {}
        },
        {
          "output_type": "stream",
          "name": "stdout",
          "text": [
            "Broccoli Cauliflower Salad\n"
          ]
        },
        {
          "output_type": "display_data",
          "data": {
            "text/html": [
              "<img src=\"https://www.skinnytaste.com/wp-content/uploads/2008/12/Broccoli-and-Cauliflower-Salad-with-Capers-and-Lemon-Vinaigrette-5-260x390.jpg\"/>"
            ],
            "text/plain": [
              "<IPython.core.display.Image object>"
            ]
          },
          "metadata": {}
        },
        {
          "output_type": "stream",
          "name": "stdout",
          "text": [
            "Juicy Grilled Pork Chops\n"
          ]
        },
        {
          "output_type": "display_data",
          "data": {
            "text/html": [
              "<img src=\"https://www.skinnytaste.com/wp-content/uploads/2024/07/Grilled-Pork-Chops-13-260x390.jpg\"/>"
            ],
            "text/plain": [
              "<IPython.core.display.Image object>"
            ]
          },
          "metadata": {}
        },
        {
          "output_type": "stream",
          "name": "stdout",
          "text": [
            "Grilled Eggplant with Feta\n"
          ]
        },
        {
          "output_type": "display_data",
          "data": {
            "text/html": [
              "<img src=\"https://www.skinnytaste.com/wp-content/uploads/2024/07/Grilled-Eggplant-with-Feta-7-260x390.jpg\"/>"
            ],
            "text/plain": [
              "<IPython.core.display.Image object>"
            ]
          },
          "metadata": {}
        },
        {
          "output_type": "stream",
          "name": "stdout",
          "text": [
            "Korean Chicken\n"
          ]
        },
        {
          "output_type": "display_data",
          "data": {
            "text/html": [
              "<img src=\"https://www.skinnytaste.com/wp-content/uploads/2024/06/Korean-Grilled-Chicken-Breast-10-260x390.jpg\"/>"
            ],
            "text/plain": [
              "<IPython.core.display.Image object>"
            ]
          },
          "metadata": {}
        },
        {
          "output_type": "stream",
          "name": "stdout",
          "text": [
            "Blueberry Zucchini Bread\n"
          ]
        },
        {
          "output_type": "display_data",
          "data": {
            "text/html": [
              "<img src=\"https://www.skinnytaste.com/wp-content/uploads/2024/07/Blueberry-Zucchini-Bread-10-260x390.jpg\"/>"
            ],
            "text/plain": [
              "<IPython.core.display.Image object>"
            ]
          },
          "metadata": {}
        },
        {
          "output_type": "stream",
          "name": "stdout",
          "text": [
            "Green Goddess Dressing\n"
          ]
        },
        {
          "output_type": "display_data",
          "data": {
            "text/html": [
              "<img src=\"https://www.skinnytaste.com/wp-content/uploads/2009/09/Green-Goddess-Dressing_08-260x390.jpg\"/>"
            ],
            "text/plain": [
              "<IPython.core.display.Image object>"
            ]
          },
          "metadata": {}
        },
        {
          "output_type": "stream",
          "name": "stdout",
          "text": [
            "Watermelon Cucumber Granita\n"
          ]
        },
        {
          "output_type": "display_data",
          "data": {
            "text/html": [
              "<img src=\"https://www.skinnytaste.com/wp-content/uploads/2024/07/Watermelon-Cucumber-Granita-5-260x390.jpg\"/>"
            ],
            "text/plain": [
              "<IPython.core.display.Image object>"
            ]
          },
          "metadata": {}
        },
        {
          "output_type": "stream",
          "name": "stdout",
          "text": [
            "High Protein Whipped Cottage Cheese Bowls\n"
          ]
        },
        {
          "output_type": "display_data",
          "data": {
            "text/html": [
              "<img src=\"https://www.skinnytaste.com/wp-content/uploads/2024/06/High-Protein-Cottage-Cheese-Pudding-7-260x390.jpg\"/>"
            ],
            "text/plain": [
              "<IPython.core.display.Image object>"
            ]
          },
          "metadata": {}
        },
        {
          "output_type": "stream",
          "name": "stdout",
          "text": [
            "Hot Crab Dip\n"
          ]
        },
        {
          "output_type": "display_data",
          "data": {
            "text/html": [
              "<img src=\"https://www.skinnytaste.com/wp-content/uploads/2024/06/Crab-and-Corn-Dip-7-260x390.jpg\"/>"
            ],
            "text/plain": [
              "<IPython.core.display.Image object>"
            ]
          },
          "metadata": {}
        },
        {
          "output_type": "stream",
          "name": "stdout",
          "text": [
            "Virgin Mojito (Nojito)\n"
          ]
        },
        {
          "output_type": "display_data",
          "data": {
            "text/html": [
              "<img src=\"https://www.skinnytaste.com/wp-content/uploads/2010/06/Nojito-6-260x390.jpg\"/>"
            ],
            "text/plain": [
              "<IPython.core.display.Image object>"
            ]
          },
          "metadata": {}
        },
        {
          "output_type": "stream",
          "name": "stdout",
          "text": [
            "Flounder Piccata\n"
          ]
        },
        {
          "output_type": "display_data",
          "data": {
            "text/html": [
              "<img src=\"https://www.skinnytaste.com/wp-content/uploads/2011/12/Flounder-Piccata-5-260x390.jpg\"/>"
            ],
            "text/plain": [
              "<IPython.core.display.Image object>"
            ]
          },
          "metadata": {}
        },
        {
          "output_type": "stream",
          "name": "stdout",
          "text": [
            "Cucumber Soup\n"
          ]
        },
        {
          "output_type": "display_data",
          "data": {
            "text/html": [
              "<img src=\"https://www.skinnytaste.com/wp-content/uploads/2024/06/Cucumber-Soup-8-260x390.jpg\"/>"
            ],
            "text/plain": [
              "<IPython.core.display.Image object>"
            ]
          },
          "metadata": {}
        },
        {
          "output_type": "stream",
          "name": "stdout",
          "text": [
            "Soy-Marinated Beef and Broccoli Skewers\n"
          ]
        },
        {
          "output_type": "display_data",
          "data": {
            "text/html": [
              "<img src=\"https://www.skinnytaste.com/wp-content/uploads/2024/06/Asian-Beef-and-Broccoli-Skewers-13-260x390.jpg\"/>"
            ],
            "text/plain": [
              "<IPython.core.display.Image object>"
            ]
          },
          "metadata": {}
        },
        {
          "output_type": "stream",
          "name": "stdout",
          "text": [
            "Lobster Rolls\n"
          ]
        },
        {
          "output_type": "display_data",
          "data": {
            "text/html": [
              "<img src=\"https://www.skinnytaste.com/wp-content/uploads/2022/07/Lobster-Rolls-9-260x390.jpg\"/>"
            ],
            "text/plain": [
              "<IPython.core.display.Image object>"
            ]
          },
          "metadata": {}
        },
        {
          "output_type": "stream",
          "name": "stdout",
          "text": [
            "Shrimp Fajitas\n"
          ]
        },
        {
          "output_type": "display_data",
          "data": {
            "text/html": [
              "<img src=\"https://www.skinnytaste.com/wp-content/uploads/2010/05/Shrimp-Fajitas-11-260x390.jpg\"/>"
            ],
            "text/plain": [
              "<IPython.core.display.Image object>"
            ]
          },
          "metadata": {}
        },
        {
          "output_type": "stream",
          "name": "stdout",
          "text": [
            "Berry Buckle\n"
          ]
        },
        {
          "output_type": "display_data",
          "data": {
            "text/html": [
              "<img src=\"https://www.skinnytaste.com/wp-content/uploads/2024/06/Berry-Buckle-8-260x390.jpg\"/>"
            ],
            "text/plain": [
              "<IPython.core.display.Image object>"
            ]
          },
          "metadata": {}
        },
        {
          "output_type": "stream",
          "name": "stdout",
          "text": [
            "Orzo with Bacon, Leeks, Peas, Spinach and Lemon\n"
          ]
        },
        {
          "output_type": "display_data",
          "data": {
            "text/html": [
              "<img src=\"https://www.skinnytaste.com/wp-content/uploads/2024/06/Orzo-with-Bacon-Peas-Spinach-and-Lemon-8-260x390.jpg\"/>"
            ],
            "text/plain": [
              "<IPython.core.display.Image object>"
            ]
          },
          "metadata": {}
        },
        {
          "output_type": "stream",
          "name": "stdout",
          "text": [
            "Grilled Shrimp Tacos with Peach Salsa\n"
          ]
        },
        {
          "output_type": "display_data",
          "data": {
            "text/html": [
              "<img src=\"https://www.skinnytaste.com/wp-content/uploads/2024/06/Grilled-Shrimp-Tacos-10-260x390.jpg\"/>"
            ],
            "text/plain": [
              "<IPython.core.display.Image object>"
            ]
          },
          "metadata": {}
        },
        {
          "output_type": "stream",
          "name": "stdout",
          "text": [
            "Air Fryer Boneless Chicken Thighs\n"
          ]
        },
        {
          "output_type": "display_data",
          "data": {
            "text/html": [
              "<img src=\"https://www.skinnytaste.com/wp-content/uploads/2024/06/Air-Fryer-Chicken-Thighs-7-260x390.jpg\"/>"
            ],
            "text/plain": [
              "<IPython.core.display.Image object>"
            ]
          },
          "metadata": {}
        },
        {
          "output_type": "stream",
          "name": "stdout",
          "text": [
            "Pan Bagnat\n"
          ]
        },
        {
          "output_type": "display_data",
          "data": {
            "text/html": [
              "<img src=\"https://www.skinnytaste.com/wp-content/uploads/2024/06/pan-bagnet-11-260x390.jpg\"/>"
            ],
            "text/plain": [
              "<IPython.core.display.Image object>"
            ]
          },
          "metadata": {}
        },
        {
          "output_type": "stream",
          "name": "stdout",
          "text": [
            "Grilled Skirt Steak and Elote Tacos\n"
          ]
        },
        {
          "output_type": "display_data",
          "data": {
            "text/html": [
              "<img src=\"https://www.skinnytaste.com/wp-content/uploads/2024/06/skirt-steak-tacos-9-260x390.jpg\"/>"
            ],
            "text/plain": [
              "<IPython.core.display.Image object>"
            ]
          },
          "metadata": {}
        },
        {
          "output_type": "stream",
          "name": "stdout",
          "text": [
            "Grilled Shrimp\n"
          ]
        },
        {
          "output_type": "display_data",
          "data": {
            "text/html": [
              "<img src=\"https://www.skinnytaste.com/wp-content/uploads/2024/06/Garlic-Butter-Grilled-Shrimp-11-260x390.jpg\"/>"
            ],
            "text/plain": [
              "<IPython.core.display.Image object>"
            ]
          },
          "metadata": {}
        },
        {
          "output_type": "stream",
          "name": "stdout",
          "text": [
            "Filipino BBQ Pork Skewers\n"
          ]
        },
        {
          "output_type": "display_data",
          "data": {
            "text/html": [
              "<img src=\"https://www.skinnytaste.com/wp-content/uploads/2008/08/Filipino-BBQ-Pork-Skewers-4-260x390.jpg\"/>"
            ],
            "text/plain": [
              "<IPython.core.display.Image object>"
            ]
          },
          "metadata": {}
        },
        {
          "output_type": "stream",
          "name": "stdout",
          "text": [
            "Grape Tomato Sauce\n"
          ]
        },
        {
          "output_type": "display_data",
          "data": {
            "text/html": [
              "<img src=\"https://www.skinnytaste.com/wp-content/uploads/2012/07/Easy-Garden-Tomato-Sauce-7-260x390.jpg\"/>"
            ],
            "text/plain": [
              "<IPython.core.display.Image object>"
            ]
          },
          "metadata": {}
        },
        {
          "output_type": "stream",
          "name": "stdout",
          "text": [
            "Korean Beef Recipe\n"
          ]
        },
        {
          "output_type": "display_data",
          "data": {
            "text/html": [
              "<img src=\"https://www.skinnytaste.com/wp-content/uploads/2016/03/Korean-Beef-Rice-Bowls-6-260x390.jpg\"/>"
            ],
            "text/plain": [
              "<IPython.core.display.Image object>"
            ]
          },
          "metadata": {}
        },
        {
          "output_type": "stream",
          "name": "stdout",
          "text": [
            "Gallo Pinto\n"
          ]
        },
        {
          "output_type": "display_data",
          "data": {
            "text/html": [
              "<img src=\"https://www.skinnytaste.com/wp-content/uploads/2024/05/Gallo-Pinto-14-260x390.jpg\"/>"
            ],
            "text/plain": [
              "<IPython.core.display.Image object>"
            ]
          },
          "metadata": {}
        },
        {
          "output_type": "stream",
          "name": "stdout",
          "text": [
            "Juicy Lucy (Stuffed Turkey Cheeseburger)\n"
          ]
        },
        {
          "output_type": "display_data",
          "data": {
            "text/html": [
              "<img src=\"https://www.skinnytaste.com/wp-content/uploads/2019/06/Inside-Out-Turkey-Cheeseburgers-7-260x390.jpg\"/>"
            ],
            "text/plain": [
              "<IPython.core.display.Image object>"
            ]
          },
          "metadata": {}
        },
        {
          "output_type": "stream",
          "name": "stdout",
          "text": [
            "Salad with Berries and Pecans\n"
          ]
        },
        {
          "output_type": "display_data",
          "data": {
            "text/html": [
              "<img src=\"https://www.skinnytaste.com/wp-content/uploads/2008/03/Baby-Greens-with-Blackberries-and-Pecans-12-260x390.jpg\"/>"
            ],
            "text/plain": [
              "<IPython.core.display.Image object>"
            ]
          },
          "metadata": {}
        },
        {
          "output_type": "stream",
          "name": "stdout",
          "text": [
            "Grilled Chicken Caprese\n"
          ]
        },
        {
          "output_type": "display_data",
          "data": {
            "text/html": [
              "<img src=\"https://www.skinnytaste.com/wp-content/uploads/2024/05/Grilled-Chicken-Caprese-9-260x390.jpg\"/>"
            ],
            "text/plain": [
              "<IPython.core.display.Image object>"
            ]
          },
          "metadata": {}
        },
        {
          "output_type": "stream",
          "name": "stdout",
          "text": [
            "Chicken Tikka Masala\n"
          ]
        },
        {
          "output_type": "display_data",
          "data": {
            "text/html": [
              "<img src=\"https://www.skinnytaste.com/wp-content/uploads/2011/06/Chicken-Tikka-Masala-15-260x390.jpg\"/>"
            ],
            "text/plain": [
              "<IPython.core.display.Image object>"
            ]
          },
          "metadata": {}
        },
        {
          "output_type": "stream",
          "name": "stdout",
          "text": [
            "Red, White and Blueberry Cheesecake Cupcakes\n"
          ]
        },
        {
          "output_type": "display_data",
          "data": {
            "text/html": [
              "<img src=\"https://www.skinnytaste.com/wp-content/uploads/2019/05/Red-White-and-Blue-Cheesecake-Cupcakes-5-260x390.jpg\"/>"
            ],
            "text/plain": [
              "<IPython.core.display.Image object>"
            ]
          },
          "metadata": {}
        },
        {
          "output_type": "stream",
          "name": "stdout",
          "text": [
            "Nicoise Salad\n"
          ]
        },
        {
          "output_type": "display_data",
          "data": {
            "text/html": [
              "<img src=\"https://www.skinnytaste.com/wp-content/uploads/2024/05/Salmon-Nicoise-Salad-5-260x390.jpg\"/>"
            ],
            "text/plain": [
              "<IPython.core.display.Image object>"
            ]
          },
          "metadata": {}
        },
        {
          "output_type": "stream",
          "name": "stdout",
          "text": [
            "Slow Cooker Pulled Pork\n"
          ]
        },
        {
          "output_type": "display_data",
          "data": {
            "text/html": [
              "<img src=\"https://www.skinnytaste.com/wp-content/uploads/2023/06/pulled-pork-06-260x390.jpg\"/>"
            ],
            "text/plain": [
              "<IPython.core.display.Image object>"
            ]
          },
          "metadata": {}
        },
        {
          "output_type": "stream",
          "name": "stdout",
          "text": [
            "Greek Orzo Salad\n"
          ]
        },
        {
          "output_type": "display_data",
          "data": {
            "text/html": [
              "<img src=\"https://www.skinnytaste.com/wp-content/uploads/2024/05/Greek-Orzo-Salad-8-260x390.jpg\"/>"
            ],
            "text/plain": [
              "<IPython.core.display.Image object>"
            ]
          },
          "metadata": {}
        },
        {
          "output_type": "stream",
          "name": "stdout",
          "text": [
            "Coconut Chicken Rice Bowl\n"
          ]
        },
        {
          "output_type": "display_data",
          "data": {
            "text/html": [
              "<img src=\"https://www.skinnytaste.com/wp-content/uploads/2024/05/Coconut-Chicken-Rice-Bowls-12-260x390.jpg\"/>"
            ],
            "text/plain": [
              "<IPython.core.display.Image object>"
            ]
          },
          "metadata": {}
        },
        {
          "output_type": "stream",
          "name": "stdout",
          "text": [
            "Fish en Papillote\n"
          ]
        },
        {
          "output_type": "display_data",
          "data": {
            "text/html": [
              "<img src=\"https://www.skinnytaste.com/wp-content/uploads/2024/05/Branzino-Parchment-Packets-7-260x390.jpg\"/>"
            ],
            "text/plain": [
              "<IPython.core.display.Image object>"
            ]
          },
          "metadata": {}
        },
        {
          "output_type": "stream",
          "name": "stdout",
          "text": [
            "Eton Mess\n"
          ]
        },
        {
          "output_type": "display_data",
          "data": {
            "text/html": [
              "<img src=\"https://www.skinnytaste.com/wp-content/uploads/2024/05/Eton-Mess-10-260x390.jpg\"/>"
            ],
            "text/plain": [
              "<IPython.core.display.Image object>"
            ]
          },
          "metadata": {}
        },
        {
          "output_type": "stream",
          "name": "stdout",
          "text": [
            "Thai Fried Rice\n"
          ]
        },
        {
          "output_type": "display_data",
          "data": {
            "text/html": [
              "<img src=\"https://www.skinnytaste.com/wp-content/uploads/2008/09/Thai-Fried-Rice-12-260x390.jpg\"/>"
            ],
            "text/plain": [
              "<IPython.core.display.Image object>"
            ]
          },
          "metadata": {}
        },
        {
          "output_type": "stream",
          "name": "stdout",
          "text": [
            "Air Fryer Turkey Meatloaf\n"
          ]
        },
        {
          "output_type": "display_data",
          "data": {
            "text/html": [
              "<img src=\"https://www.skinnytaste.com/wp-content/uploads/2024/05/Air-Fryer-Turkey-Meatloaf-7-260x390.jpg\"/>"
            ],
            "text/plain": [
              "<IPython.core.display.Image object>"
            ]
          },
          "metadata": {}
        },
        {
          "output_type": "stream",
          "name": "stdout",
          "text": [
            "Strawberry Rhubarb Crisp\n"
          ]
        },
        {
          "output_type": "display_data",
          "data": {
            "text/html": [
              "<img src=\"https://www.skinnytaste.com/wp-content/uploads/2012/05/Strawberry-Rhubarb-Crisp-20-1-260x390.jpg\"/>"
            ],
            "text/plain": [
              "<IPython.core.display.Image object>"
            ]
          },
          "metadata": {}
        },
        {
          "output_type": "stream",
          "name": "stdout",
          "text": [
            "Green Curry Noodles\n"
          ]
        },
        {
          "output_type": "display_data",
          "data": {
            "text/html": [
              "<img src=\"https://www.skinnytaste.com/wp-content/uploads/2024/04/Green-Curry-Noodles-9-260x390.jpg\"/>"
            ],
            "text/plain": [
              "<IPython.core.display.Image object>"
            ]
          },
          "metadata": {}
        },
        {
          "output_type": "stream",
          "name": "stdout",
          "text": [
            "Green Goddess Potato Salad\n"
          ]
        },
        {
          "output_type": "display_data",
          "data": {
            "text/html": [
              "<img src=\"https://www.skinnytaste.com/wp-content/uploads/2024/04/Green-Goddess-Potato-Salad-7-1-260x390.jpg\"/>"
            ],
            "text/plain": [
              "<IPython.core.display.Image object>"
            ]
          },
          "metadata": {}
        },
        {
          "output_type": "stream",
          "name": "stdout",
          "text": [
            "Baked Steelhead Trout\n"
          ]
        },
        {
          "output_type": "display_data",
          "data": {
            "text/html": [
              "<img src=\"https://www.skinnytaste.com/wp-content/uploads/2024/04/Baked-Steelhead-Trout-7-260x390.jpg\"/>"
            ],
            "text/plain": [
              "<IPython.core.display.Image object>"
            ]
          },
          "metadata": {}
        },
        {
          "output_type": "stream",
          "name": "stdout",
          "text": [
            "Almond Cake\n"
          ]
        },
        {
          "output_type": "display_data",
          "data": {
            "text/html": [
              "<img src=\"https://www.skinnytaste.com/wp-content/uploads/2015/05/Almond-Cake-19-260x390.jpg\"/>"
            ],
            "text/plain": [
              "<IPython.core.display.Image object>"
            ]
          },
          "metadata": {}
        },
        {
          "output_type": "stream",
          "name": "stdout",
          "text": [
            "Chicken Saltimbocca\n"
          ]
        },
        {
          "output_type": "display_data",
          "data": {
            "text/html": [
              "<img src=\"https://www.skinnytaste.com/wp-content/uploads/2010/05/Lighter-Chicken-Saltimbocca-6-2-260x390.jpg\"/>"
            ],
            "text/plain": [
              "<IPython.core.display.Image object>"
            ]
          },
          "metadata": {}
        },
        {
          "output_type": "stream",
          "name": "stdout",
          "text": [
            "Italian Shrimp Salad\n"
          ]
        },
        {
          "output_type": "display_data",
          "data": {
            "text/html": [
              "<img src=\"https://www.skinnytaste.com/wp-content/uploads/2024/04/Italian-Shrimp-Salad-6-260x390.jpg\"/>"
            ],
            "text/plain": [
              "<IPython.core.display.Image object>"
            ]
          },
          "metadata": {}
        },
        {
          "output_type": "stream",
          "name": "stdout",
          "text": [
            "Cream of Asparagus Soup\n"
          ]
        },
        {
          "output_type": "display_data",
          "data": {
            "text/html": [
              "<img src=\"https://www.skinnytaste.com/wp-content/uploads/2016/02/creamyasparagussoup-260x390.jpg\"/>"
            ],
            "text/plain": [
              "<IPython.core.display.Image object>"
            ]
          },
          "metadata": {}
        },
        {
          "output_type": "stream",
          "name": "stdout",
          "text": [
            "Ground Turkey Tacos\n"
          ]
        },
        {
          "output_type": "display_data",
          "data": {
            "text/html": [
              "<img src=\"https://www.skinnytaste.com/wp-content/uploads/2024/04/Ground-Turkey-Tacos-13-260x390.jpg\"/>"
            ],
            "text/plain": [
              "<IPython.core.display.Image object>"
            ]
          },
          "metadata": {}
        },
        {
          "output_type": "stream",
          "name": "stdout",
          "text": [
            "Braised Brisket with Potatoes and Carrots\n"
          ]
        },
        {
          "output_type": "display_data",
          "data": {
            "text/html": [
              "<img src=\"https://www.skinnytaste.com/wp-content/uploads/2012/04/Braised-Brisket-with-Potatoes-and-Carrots-260x390.jpg\"/>"
            ],
            "text/plain": [
              "<IPython.core.display.Image object>"
            ]
          },
          "metadata": {}
        },
        {
          "output_type": "stream",
          "name": "stdout",
          "text": [
            "Protein Waffles\n"
          ]
        },
        {
          "output_type": "display_data",
          "data": {
            "text/html": [
              "<img src=\"https://www.skinnytaste.com/wp-content/uploads/2021/03/Protein-Waffles-1-1-260x390.jpg\"/>"
            ],
            "text/plain": [
              "<IPython.core.display.Image object>"
            ]
          },
          "metadata": {}
        },
        {
          "output_type": "stream",
          "name": "stdout",
          "text": [
            "Pad Thai\n"
          ]
        },
        {
          "output_type": "display_data",
          "data": {
            "text/html": [
              "<img src=\"https://www.skinnytaste.com/wp-content/uploads/2012/06/Shrimp-Pad-Thai-on-the-Lighter-Side-10-260x390.jpg\"/>"
            ],
            "text/plain": [
              "<IPython.core.display.Image object>"
            ]
          },
          "metadata": {}
        },
        {
          "output_type": "stream",
          "name": "stdout",
          "text": [
            "Chicken Pasta Primavera\n"
          ]
        },
        {
          "output_type": "display_data",
          "data": {
            "text/html": [
              "<img src=\"https://www.skinnytaste.com/wp-content/uploads/2024/03/Chicken-Pasta-Primavera-14-260x390.jpg\"/>"
            ],
            "text/plain": [
              "<IPython.core.display.Image object>"
            ]
          },
          "metadata": {}
        },
        {
          "output_type": "stream",
          "name": "stdout",
          "text": [
            "Turmeric Garlic Shrimp with Cabbage-Mango Slaw\n"
          ]
        },
        {
          "output_type": "display_data",
          "data": {
            "text/html": [
              "<img src=\"https://www.skinnytaste.com/wp-content/uploads/2015/05/TurmericGarlicShrimpwithCabbageMangoSlaw-260x390.jpg\"/>"
            ],
            "text/plain": [
              "<IPython.core.display.Image object>"
            ]
          },
          "metadata": {}
        },
        {
          "output_type": "stream",
          "name": "stdout",
          "text": [
            "Grilled Salmon Bruschetta with Avocado\n"
          ]
        },
        {
          "output_type": "display_data",
          "data": {
            "text/html": [
              "<img src=\"https://www.skinnytaste.com/wp-content/uploads/2022/07/Grilled-Salmon-Bruschetta-6-260x390.jpg\"/>"
            ],
            "text/plain": [
              "<IPython.core.display.Image object>"
            ]
          },
          "metadata": {}
        },
        {
          "output_type": "stream",
          "name": "stdout",
          "text": [
            "Chicken Marbella\n"
          ]
        },
        {
          "output_type": "display_data",
          "data": {
            "text/html": [
              "<img src=\"https://www.skinnytaste.com/wp-content/uploads/2024/04/Chicken-Marbella-5-260x390.jpg\"/>"
            ],
            "text/plain": [
              "<IPython.core.display.Image object>"
            ]
          },
          "metadata": {}
        },
        {
          "output_type": "stream",
          "name": "stdout",
          "text": [
            "One Pot Chicken and Orzo\n"
          ]
        },
        {
          "output_type": "display_data",
          "data": {
            "text/html": [
              "<img src=\"https://www.skinnytaste.com/wp-content/uploads/2024/04/One-Pot-Chicken-and-Orzo-9-260x390.jpg\"/>"
            ],
            "text/plain": [
              "<IPython.core.display.Image object>"
            ]
          },
          "metadata": {}
        },
        {
          "output_type": "stream",
          "name": "stdout",
          "text": [
            "Arugula Salad\n"
          ]
        },
        {
          "output_type": "display_data",
          "data": {
            "text/html": [
              "<img src=\"https://www.skinnytaste.com/wp-content/uploads/2024/04/Arugula-Salad-3-260x390.jpg\"/>"
            ],
            "text/plain": [
              "<IPython.core.display.Image object>"
            ]
          },
          "metadata": {}
        },
        {
          "output_type": "stream",
          "name": "stdout",
          "text": [
            "Roasted Asparagus\n"
          ]
        },
        {
          "output_type": "display_data",
          "data": {
            "text/html": [
              "<img src=\"https://www.skinnytaste.com/wp-content/uploads/2018/04/Roasted-Asparagus-1-4-260x390.jpg\"/>"
            ],
            "text/plain": [
              "<IPython.core.display.Image object>"
            ]
          },
          "metadata": {}
        },
        {
          "output_type": "stream",
          "name": "stdout",
          "text": [
            "Italian Sub Salad\n"
          ]
        },
        {
          "output_type": "display_data",
          "data": {
            "text/html": [
              "<img src=\"https://www.skinnytaste.com/wp-content/uploads/2024/03/Italian-Sub-Salad-6-260x390.jpg\"/>"
            ],
            "text/plain": [
              "<IPython.core.display.Image object>"
            ]
          },
          "metadata": {}
        },
        {
          "output_type": "stream",
          "name": "stdout",
          "text": [
            "Lemon-Coconut Almond Cake\n"
          ]
        },
        {
          "output_type": "display_data",
          "data": {
            "text/html": [
              "<img src=\"https://www.skinnytaste.com/wp-content/uploads/2024/03/Coconut-Lemon-Almond-Cake-10-260x390.jpg\"/>"
            ],
            "text/plain": [
              "<IPython.core.display.Image object>"
            ]
          },
          "metadata": {}
        },
        {
          "output_type": "stream",
          "name": "stdout",
          "text": [
            "Baked Honey-Mustard Ham\n"
          ]
        },
        {
          "output_type": "display_data",
          "data": {
            "text/html": [
              "<img src=\"https://www.skinnytaste.com/wp-content/uploads/2024/03/Honey-Mustard-Ham-10-260x390.jpg\"/>"
            ],
            "text/plain": [
              "<IPython.core.display.Image object>"
            ]
          },
          "metadata": {}
        },
        {
          "output_type": "stream",
          "name": "stdout",
          "text": [
            "Lemon Poppy Seed Cupcakes\n"
          ]
        },
        {
          "output_type": "display_data",
          "data": {
            "text/html": [
              "<img src=\"https://www.skinnytaste.com/wp-content/uploads/2024/03/Lemon-Poppyseed-Cupcakes-22-260x390.jpg\"/>"
            ],
            "text/plain": [
              "<IPython.core.display.Image object>"
            ]
          },
          "metadata": {}
        },
        {
          "output_type": "stream",
          "name": "stdout",
          "text": [
            "Deviled Eggs\n"
          ]
        },
        {
          "output_type": "display_data",
          "data": {
            "text/html": [
              "<img src=\"https://www.skinnytaste.com/wp-content/uploads/2018/11/Instant-Pot-Hard-Boiled-Eggs-Finals-6-260x390.jpg\"/>"
            ],
            "text/plain": [
              "<IPython.core.display.Image object>"
            ]
          },
          "metadata": {}
        },
        {
          "output_type": "stream",
          "name": "stdout",
          "text": [
            "Risotto Primavera\n"
          ]
        },
        {
          "output_type": "display_data",
          "data": {
            "text/html": [
              "<img src=\"https://www.skinnytaste.com/wp-content/uploads/2024/03/Risotto-Primavera-8-260x390.jpg\"/>"
            ],
            "text/plain": [
              "<IPython.core.display.Image object>"
            ]
          },
          "metadata": {}
        },
        {
          "output_type": "stream",
          "name": "stdout",
          "text": [
            "Honey Baked Spiral Ham\n"
          ]
        },
        {
          "output_type": "display_data",
          "data": {
            "text/html": [
              "<img src=\"https://www.skinnytaste.com/wp-content/uploads/2010/03/Honey-Baked-Spiral-Ham-8-260x390.jpg\"/>"
            ],
            "text/plain": [
              "<IPython.core.display.Image object>"
            ]
          },
          "metadata": {}
        },
        {
          "output_type": "stream",
          "name": "stdout",
          "text": [
            "Crustless Quiche\n"
          ]
        },
        {
          "output_type": "display_data",
          "data": {
            "text/html": [
              "<img src=\"https://www.skinnytaste.com/wp-content/uploads/2019/04/crustless-quiche-5-260x390.jpg\"/>"
            ],
            "text/plain": [
              "<IPython.core.display.Image object>"
            ]
          },
          "metadata": {}
        },
        {
          "output_type": "stream",
          "name": "stdout",
          "text": [
            "Spanish Tortilla with Pimenton Aioli\n"
          ]
        },
        {
          "output_type": "display_data",
          "data": {
            "text/html": [
              "<img src=\"https://www.skinnytaste.com/wp-content/uploads/2021/04/Spanish-Tortilla_new-8-260x390.jpg\"/>"
            ],
            "text/plain": [
              "<IPython.core.display.Image object>"
            ]
          },
          "metadata": {}
        },
        {
          "output_type": "stream",
          "name": "stdout",
          "text": [
            "Pea Salad\n"
          ]
        },
        {
          "output_type": "display_data",
          "data": {
            "text/html": [
              "<img src=\"https://www.skinnytaste.com/wp-content/uploads/2024/03/Double-Pea-Salad-6-260x390.jpg\"/>"
            ],
            "text/plain": [
              "<IPython.core.display.Image object>"
            ]
          },
          "metadata": {}
        },
        {
          "output_type": "stream",
          "name": "stdout",
          "text": [
            "Corned Beef Hash\n"
          ]
        },
        {
          "output_type": "display_data",
          "data": {
            "text/html": [
              "<img src=\"https://www.skinnytaste.com/wp-content/uploads/2022/03/JX0A9494-260x390.jpg\"/>"
            ],
            "text/plain": [
              "<IPython.core.display.Image object>"
            ]
          },
          "metadata": {}
        },
        {
          "output_type": "stream",
          "name": "stdout",
          "text": [
            "Fish Cakes\n"
          ]
        },
        {
          "output_type": "display_data",
          "data": {
            "text/html": [
              "<img src=\"https://www.skinnytaste.com/wp-content/uploads/2024/03/Air-Fryer-Fish-Cakes-8-260x390.jpg\"/>"
            ],
            "text/plain": [
              "<IPython.core.display.Image object>"
            ]
          },
          "metadata": {}
        },
        {
          "output_type": "stream",
          "name": "stdout",
          "text": [
            "Crispy Butter Beans\n"
          ]
        },
        {
          "output_type": "display_data",
          "data": {
            "text/html": [
              "<img src=\"https://www.skinnytaste.com/wp-content/uploads/2024/03/Crispy-Butter-Beans-with-Green-Sauce-6-260x390.jpg\"/>"
            ],
            "text/plain": [
              "<IPython.core.display.Image object>"
            ]
          },
          "metadata": {}
        },
        {
          "output_type": "stream",
          "name": "stdout",
          "text": [
            "Green Shakshuka\n"
          ]
        },
        {
          "output_type": "display_data",
          "data": {
            "text/html": [
              "<img src=\"https://www.skinnytaste.com/wp-content/uploads/2024/02/spring-shakshuka-8-260x390.jpg\"/>"
            ],
            "text/plain": [
              "<IPython.core.display.Image object>"
            ]
          },
          "metadata": {}
        },
        {
          "output_type": "stream",
          "name": "stdout",
          "text": [
            "Whole Wheat Irish Soda Bread Muffins\n"
          ]
        },
        {
          "output_type": "display_data",
          "data": {
            "text/html": [
              "<img src=\"https://www.skinnytaste.com/wp-content/uploads/2014/03/Irish-Soda-Bread-Muffins-260x390.jpg\"/>"
            ],
            "text/plain": [
              "<IPython.core.display.Image object>"
            ]
          },
          "metadata": {}
        },
        {
          "output_type": "stream",
          "name": "stdout",
          "text": [
            "Avocado Egg Salad\n"
          ]
        },
        {
          "output_type": "display_data",
          "data": {
            "text/html": [
              "<img src=\"https://www.skinnytaste.com/wp-content/uploads/2012/04/Avocado-Egg-Salad-4-260x390.jpg\"/>"
            ],
            "text/plain": [
              "<IPython.core.display.Image object>"
            ]
          },
          "metadata": {}
        },
        {
          "output_type": "stream",
          "name": "stdout",
          "text": [
            "Slow Cooker Chicken and Lentil Soup\n"
          ]
        },
        {
          "output_type": "display_data",
          "data": {
            "text/html": [
              "<img src=\"https://www.skinnytaste.com/wp-content/uploads/2024/02/Slow-Cooker-Chicken-and-Lentil-Soup-4-260x390.jpg\"/>"
            ],
            "text/plain": [
              "<IPython.core.display.Image object>"
            ]
          },
          "metadata": {}
        },
        {
          "output_type": "stream",
          "name": "stdout",
          "text": [
            "Crock Pot Corned Beef and Cabbage\n"
          ]
        },
        {
          "output_type": "display_data",
          "data": {
            "text/html": [
              "<img src=\"https://www.skinnytaste.com/wp-content/uploads/2018/03/Crock-Pot-Corned-Beef-and-Cabbage-2-260x390.jpg\"/>"
            ],
            "text/plain": [
              "<IPython.core.display.Image object>"
            ]
          },
          "metadata": {}
        },
        {
          "output_type": "stream",
          "name": "stdout",
          "text": [
            "Bloody Mary Deviled Eggs\n"
          ]
        },
        {
          "output_type": "display_data",
          "data": {
            "text/html": [
              "<img src=\"https://www.skinnytaste.com/wp-content/uploads/2024/03/Bloody-Mary-Deviled-Eggs-4-260x390.jpg\"/>"
            ],
            "text/plain": [
              "<IPython.core.display.Image object>"
            ]
          },
          "metadata": {}
        },
        {
          "output_type": "stream",
          "name": "stdout",
          "text": [
            "Shrimp Stir Fry\n"
          ]
        },
        {
          "output_type": "display_data",
          "data": {
            "text/html": [
              "<img src=\"https://www.skinnytaste.com/wp-content/uploads/2024/02/Shrimp-StirFry-15-1-260x390.jpg\"/>"
            ],
            "text/plain": [
              "<IPython.core.display.Image object>"
            ]
          },
          "metadata": {}
        },
        {
          "output_type": "stream",
          "name": "stdout",
          "text": [
            "High-Protein Egg Bagel\n"
          ]
        },
        {
          "output_type": "display_data",
          "data": {
            "text/html": [
              "<img src=\"https://www.skinnytaste.com/wp-content/uploads/2024/02/High-Protein-Egg-Bagels-13-260x390.jpg\"/>"
            ],
            "text/plain": [
              "<IPython.core.display.Image object>"
            ]
          },
          "metadata": {}
        },
        {
          "output_type": "stream",
          "name": "stdout",
          "text": [
            "Cranberry Chicken Salad on Apple Slices \n"
          ]
        },
        {
          "output_type": "display_data",
          "data": {
            "text/html": [
              "<img src=\"https://www.skinnytaste.com/wp-content/uploads/2024/02/Cranberry-Chicken-Salad-with-Apple-Slices-3-260x390.jpg\"/>"
            ],
            "text/plain": [
              "<IPython.core.display.Image object>"
            ]
          },
          "metadata": {}
        },
        {
          "output_type": "stream",
          "name": "stdout",
          "text": [
            "Butternut Squash Soup\n"
          ]
        },
        {
          "output_type": "display_data",
          "data": {
            "text/html": [
              "<img src=\"https://www.skinnytaste.com/wp-content/uploads/2024/02/Butternut-Soup-7-260x390.jpg\"/>"
            ],
            "text/plain": [
              "<IPython.core.display.Image object>"
            ]
          },
          "metadata": {}
        },
        {
          "output_type": "stream",
          "name": "stdout",
          "text": [
            "Air Fryer Peanut Curry Tofu with Gingery Cauliflower Rice\n"
          ]
        },
        {
          "output_type": "display_data",
          "data": {
            "text/html": [
              "<img src=\"https://www.skinnytaste.com/wp-content/uploads/2024/02/Air-Fryer-Peanut-Curry-Tofu-with-Gingery-Cauliflower-Rice-11-260x390.jpg\"/>"
            ],
            "text/plain": [
              "<IPython.core.display.Image object>"
            ]
          },
          "metadata": {}
        },
        {
          "output_type": "stream",
          "name": "stdout",
          "text": [
            "Baked Fish Sticks\n"
          ]
        },
        {
          "output_type": "display_data",
          "data": {
            "text/html": [
              "<img src=\"https://www.skinnytaste.com/wp-content/uploads/2014/04/Healthy-Baked-Fish-Sticks-8-260x390.jpg\"/>"
            ],
            "text/plain": [
              "<IPython.core.display.Image object>"
            ]
          },
          "metadata": {}
        },
        {
          "output_type": "stream",
          "name": "stdout",
          "text": [
            "Chicken Pot Pie Soup\n"
          ]
        },
        {
          "output_type": "display_data",
          "data": {
            "text/html": [
              "<img src=\"https://www.skinnytaste.com/wp-content/uploads/2014/01/chicken-pot-pie-soup-15-260x390.jpg\"/>"
            ],
            "text/plain": [
              "<IPython.core.display.Image object>"
            ]
          },
          "metadata": {}
        },
        {
          "output_type": "stream",
          "name": "stdout",
          "text": [
            "Chicken Florentine\n"
          ]
        },
        {
          "output_type": "display_data",
          "data": {
            "text/html": [
              "<img src=\"https://www.skinnytaste.com/wp-content/uploads/2024/02/chicken-florentine-1-260x390.jpg\"/>"
            ],
            "text/plain": [
              "<IPython.core.display.Image object>"
            ]
          },
          "metadata": {}
        },
        {
          "output_type": "stream",
          "name": "stdout",
          "text": [
            "Carrot Banana Protein Smoothie\n"
          ]
        },
        {
          "output_type": "display_data",
          "data": {
            "text/html": [
              "<img src=\"https://www.skinnytaste.com/wp-content/uploads/2024/02/Carrot-Banana-Protein-Smoothie-5-1-260x390.jpg\"/>"
            ],
            "text/plain": [
              "<IPython.core.display.Image object>"
            ]
          },
          "metadata": {}
        },
        {
          "output_type": "stream",
          "name": "stdout",
          "text": [
            "White Chicken Chili\n"
          ]
        },
        {
          "output_type": "display_data",
          "data": {
            "text/html": [
              "<img src=\"https://www.skinnytaste.com/wp-content/uploads/2024/02/White-Chicken-Chili-11-260x390.jpg\"/>"
            ],
            "text/plain": [
              "<IPython.core.display.Image object>"
            ]
          },
          "metadata": {}
        },
        {
          "output_type": "stream",
          "name": "stdout",
          "text": [
            "Chicken Gnocchi Soup\n"
          ]
        },
        {
          "output_type": "display_data",
          "data": {
            "text/html": [
              "<img src=\"https://www.skinnytaste.com/wp-content/uploads/2024/02/Chicken-Gnocchi-Soup-18-260x390.jpg\"/>"
            ],
            "text/plain": [
              "<IPython.core.display.Image object>"
            ]
          },
          "metadata": {}
        },
        {
          "output_type": "stream",
          "name": "stdout",
          "text": [
            "Chocolate Oat Flour Banana Bread\n"
          ]
        },
        {
          "output_type": "display_data",
          "data": {
            "text/html": [
              "<img src=\"https://www.skinnytaste.com/wp-content/uploads/2024/01/Chocolate-Banana-Oat-Bread-6-260x390.jpg\"/>"
            ],
            "text/plain": [
              "<IPython.core.display.Image object>"
            ]
          },
          "metadata": {}
        },
        {
          "output_type": "stream",
          "name": "stdout",
          "text": [
            "Crock Pot Pasta Sauce with Sausage\n"
          ]
        },
        {
          "output_type": "display_data",
          "data": {
            "text/html": [
              "<img src=\"https://www.skinnytaste.com/wp-content/uploads/2011/06/Crock-Pot-Pasta-Sauce-with-Sausage-7-260x390.jpg\"/>"
            ],
            "text/plain": [
              "<IPython.core.display.Image object>"
            ]
          },
          "metadata": {}
        },
        {
          "output_type": "stream",
          "name": "stdout",
          "text": [
            "Roasted Red Pepper Soup\n"
          ]
        },
        {
          "output_type": "display_data",
          "data": {
            "text/html": [
              "<img src=\"https://www.skinnytaste.com/wp-content/uploads/2009/10/Roasted-Red-Pepper-Soup-11-260x390.jpg\"/>"
            ],
            "text/plain": [
              "<IPython.core.display.Image object>"
            ]
          },
          "metadata": {}
        },
        {
          "output_type": "stream",
          "name": "stdout",
          "text": [
            "Penne alla Vodka with Chicken\n"
          ]
        },
        {
          "output_type": "display_data",
          "data": {
            "text/html": [
              "<img src=\"https://www.skinnytaste.com/wp-content/uploads/2024/01/Vodka-Sauce-Penne-with-Chicken-9-260x390.jpg\"/>"
            ],
            "text/plain": [
              "<IPython.core.display.Image object>"
            ]
          },
          "metadata": {}
        },
        {
          "output_type": "stream",
          "name": "stdout",
          "text": [
            "Korean-Inspired Salmon Rice Bowl\n"
          ]
        },
        {
          "output_type": "display_data",
          "data": {
            "text/html": [
              "<img src=\"https://www.skinnytaste.com/wp-content/uploads/2024/01/Air-Fryer-Gochujang-Salmon-Rice-Bowls-9-260x390.jpg\"/>"
            ],
            "text/plain": [
              "<IPython.core.display.Image object>"
            ]
          },
          "metadata": {}
        },
        {
          "output_type": "stream",
          "name": "stdout",
          "text": [
            "Lentil Bolognese\n"
          ]
        },
        {
          "output_type": "display_data",
          "data": {
            "text/html": [
              "<img src=\"https://www.skinnytaste.com/wp-content/uploads/2024/01/Lentil-Bolognese-7-260x390.jpg\"/>"
            ],
            "text/plain": [
              "<IPython.core.display.Image object>"
            ]
          },
          "metadata": {}
        },
        {
          "output_type": "stream",
          "name": "stdout",
          "text": [
            "Ranch Popcorn\n"
          ]
        },
        {
          "output_type": "display_data",
          "data": {
            "text/html": [
              "<img src=\"https://www.skinnytaste.com/wp-content/uploads/2024/01/Ranch-Popcorn-7-260x390.jpg\"/>"
            ],
            "text/plain": [
              "<IPython.core.display.Image object>"
            ]
          },
          "metadata": {}
        },
        {
          "output_type": "stream",
          "name": "stdout",
          "text": [
            "Crock Pot Pork Roast\n"
          ]
        },
        {
          "output_type": "display_data",
          "data": {
            "text/html": [
              "<img src=\"https://www.skinnytaste.com/wp-content/uploads/2024/01/Easy-Slow-Cooker-Pork-Roast-with-Mushrooms-and-Polenta-7-260x390.jpg\"/>"
            ],
            "text/plain": [
              "<IPython.core.display.Image object>"
            ]
          },
          "metadata": {}
        },
        {
          "output_type": "stream",
          "name": "stdout",
          "text": [
            "Pesto Salmon\n"
          ]
        },
        {
          "output_type": "display_data",
          "data": {
            "text/html": [
              "<img src=\"https://www.skinnytaste.com/wp-content/uploads/2024/01/Pesto-Salmon-4-260x390.jpg\"/>"
            ],
            "text/plain": [
              "<IPython.core.display.Image object>"
            ]
          },
          "metadata": {}
        },
        {
          "output_type": "stream",
          "name": "stdout",
          "text": [
            "Marry Me Chicken\n"
          ]
        },
        {
          "output_type": "display_data",
          "data": {
            "text/html": [
              "<img src=\"https://www.skinnytaste.com/wp-content/uploads/2024/01/Marry-Me-Chicken-6-260x390.jpg\"/>"
            ],
            "text/plain": [
              "<IPython.core.display.Image object>"
            ]
          },
          "metadata": {}
        },
        {
          "output_type": "stream",
          "name": "stdout",
          "text": [
            "Mushroom Toast\n"
          ]
        },
        {
          "output_type": "display_data",
          "data": {
            "text/html": [
              "<img src=\"https://www.skinnytaste.com/wp-content/uploads/2024/01/Mushroom-Toast-4-260x390.jpg\"/>"
            ],
            "text/plain": [
              "<IPython.core.display.Image object>"
            ]
          },
          "metadata": {}
        },
        {
          "output_type": "stream",
          "name": "stdout",
          "text": [
            "Crispy Baked Chicken Thighs\n"
          ]
        },
        {
          "output_type": "display_data",
          "data": {
            "text/html": [
              "<img src=\"https://www.skinnytaste.com/wp-content/uploads/2024/01/Baked-Chicken-Thighs-1-260x390.jpg\"/>"
            ],
            "text/plain": [
              "<IPython.core.display.Image object>"
            ]
          },
          "metadata": {}
        },
        {
          "output_type": "stream",
          "name": "stdout",
          "text": [
            "BBQ Chicken Tenders in Air Fryer\n"
          ]
        },
        {
          "output_type": "display_data",
          "data": {
            "text/html": [
              "<img src=\"https://www.skinnytaste.com/wp-content/uploads/2024/01/Air-Fryer-BBQ-Chicken-Fingers-8-260x390.jpg\"/>"
            ],
            "text/plain": [
              "<IPython.core.display.Image object>"
            ]
          },
          "metadata": {}
        },
        {
          "output_type": "stream",
          "name": "stdout",
          "text": [
            "Cottage Cheese Cheesecake\n"
          ]
        },
        {
          "output_type": "display_data",
          "data": {
            "text/html": [
              "<img src=\"https://www.skinnytaste.com/wp-content/uploads/2024/01/Cottage-Cheese-Cheesecake-9-260x390.jpg\"/>"
            ],
            "text/plain": [
              "<IPython.core.display.Image object>"
            ]
          },
          "metadata": {}
        },
        {
          "output_type": "stream",
          "name": "stdout",
          "text": [
            "Smoked Turkey Sausage Breakfast Skillet\n"
          ]
        },
        {
          "output_type": "display_data",
          "data": {
            "text/html": [
              "<img src=\"https://www.skinnytaste.com/wp-content/uploads/2024/01/Smoked-Turkey-Breakfast-Skillet-11-260x390.jpg\"/>"
            ],
            "text/plain": [
              "<IPython.core.display.Image object>"
            ]
          },
          "metadata": {}
        },
        {
          "output_type": "stream",
          "name": "stdout",
          "text": [
            "Italian Wedding Soup\n"
          ]
        },
        {
          "output_type": "display_data",
          "data": {
            "text/html": [
              "<img src=\"https://www.skinnytaste.com/wp-content/uploads/2012/08/Italian-Wedding-Soup-22-260x390.jpg\"/>"
            ],
            "text/plain": [
              "<IPython.core.display.Image object>"
            ]
          },
          "metadata": {}
        },
        {
          "output_type": "stream",
          "name": "stdout",
          "text": [
            "Garlic Rosemary Beef Tenderloin\n"
          ]
        },
        {
          "output_type": "display_data",
          "data": {
            "text/html": [
              "<img src=\"https://www.skinnytaste.com/wp-content/uploads/2023/12/Beef-Tenderloin-6-260x390.jpg\"/>"
            ],
            "text/plain": [
              "<IPython.core.display.Image object>"
            ]
          },
          "metadata": {}
        },
        {
          "output_type": "stream",
          "name": "stdout",
          "text": [
            "Grapefruit-Ginger Kombucha Mocktail\n"
          ]
        },
        {
          "output_type": "display_data",
          "data": {
            "text/html": [
              "<img src=\"https://www.skinnytaste.com/wp-content/uploads/2023/12/Grapefuit-Kombucha-Mocktail-5-260x390.jpg\"/>"
            ],
            "text/plain": [
              "<IPython.core.display.Image object>"
            ]
          },
          "metadata": {}
        },
        {
          "output_type": "stream",
          "name": "stdout",
          "text": [
            "White Bean Crostini\n"
          ]
        },
        {
          "output_type": "display_data",
          "data": {
            "text/html": [
              "<img src=\"https://www.skinnytaste.com/wp-content/uploads/2010/01/White-Bean-Crostini-8-260x390.jpg\"/>"
            ],
            "text/plain": [
              "<IPython.core.display.Image object>"
            ]
          },
          "metadata": {}
        },
        {
          "output_type": "stream",
          "name": "stdout",
          "text": [
            "Slow Roasted Salmon\n"
          ]
        },
        {
          "output_type": "display_data",
          "data": {
            "text/html": [
              "<img src=\"https://www.skinnytaste.com/wp-content/uploads/2023/12/Slow-Roasted-Salmon-with-Creamy-Mustard-Sauce-10-260x390.jpg\"/>"
            ],
            "text/plain": [
              "<IPython.core.display.Image object>"
            ]
          },
          "metadata": {}
        },
        {
          "output_type": "stream",
          "name": "stdout",
          "text": [
            "Breakfast Casserole with Spinach and Sausage\n"
          ]
        },
        {
          "output_type": "display_data",
          "data": {
            "text/html": [
              "<img src=\"https://www.skinnytaste.com/wp-content/uploads/2023/12/breakfast-casserole-with-spinach-and-sausage-breakfast-casserole-with-spinach-and-sausage-breakfast-casserole-with-spinach-and-sausage-13-260x390.jpg\"/>"
            ],
            "text/plain": [
              "<IPython.core.display.Image object>"
            ]
          },
          "metadata": {}
        },
        {
          "output_type": "stream",
          "name": "stdout",
          "text": [
            "Roast Beef\n"
          ]
        },
        {
          "output_type": "display_data",
          "data": {
            "text/html": [
              "<img src=\"https://www.skinnytaste.com/wp-content/uploads/2023/12/Hands-Off-Medium-Rare-Roast-Beef-13-260x390.jpg\"/>"
            ],
            "text/plain": [
              "<IPython.core.display.Image object>"
            ]
          },
          "metadata": {}
        },
        {
          "output_type": "stream",
          "name": "stdout",
          "text": [
            "Coconut Cookies\n"
          ]
        },
        {
          "output_type": "display_data",
          "data": {
            "text/html": [
              "<img src=\"https://www.skinnytaste.com/wp-content/uploads/2023/12/1L8A5274-260x390.jpg\"/>"
            ],
            "text/plain": [
              "<IPython.core.display.Image object>"
            ]
          },
          "metadata": {}
        },
        {
          "output_type": "stream",
          "name": "stdout",
          "text": [
            "Cacio e Pepe Cheese Crisps\n"
          ]
        },
        {
          "output_type": "display_data",
          "data": {
            "text/html": [
              "<img src=\"https://www.skinnytaste.com/wp-content/uploads/2023/12/Cacio-e-Pepe-Cheese-Crisps-8-260x390.jpg\"/>"
            ],
            "text/plain": [
              "<IPython.core.display.Image object>"
            ]
          },
          "metadata": {}
        },
        {
          "output_type": "stream",
          "name": "stdout",
          "text": [
            "King Crab Legs\n"
          ]
        },
        {
          "output_type": "display_data",
          "data": {
            "text/html": [
              "<img src=\"https://www.skinnytaste.com/wp-content/uploads/2008/09/KingCrabLegs-2-260x390.jpg\"/>"
            ],
            "text/plain": [
              "<IPython.core.display.Image object>"
            ]
          },
          "metadata": {}
        },
        {
          "output_type": "stream",
          "name": "stdout",
          "text": [
            "Escarole Pasta with Sausage and Peppers\n"
          ]
        },
        {
          "output_type": "display_data",
          "data": {
            "text/html": [
              "<img src=\"https://www.skinnytaste.com/wp-content/uploads/2011/03/Pasta-with-Italian-Chicken-Sausage-5-2-260x390.jpg\"/>"
            ],
            "text/plain": [
              "<IPython.core.display.Image object>"
            ]
          },
          "metadata": {}
        },
        {
          "output_type": "stream",
          "name": "stdout",
          "text": [
            "Sugar Plum Baked Brie Bites\n"
          ]
        },
        {
          "output_type": "display_data",
          "data": {
            "text/html": [
              "<img src=\"https://www.skinnytaste.com/wp-content/uploads/2023/12/Baked-Brie-Sugar-Plum-Bites-8-260x390.jpg\"/>"
            ],
            "text/plain": [
              "<IPython.core.display.Image object>"
            ]
          },
          "metadata": {}
        },
        {
          "output_type": "stream",
          "name": "stdout",
          "text": [
            "Snowman Chocolate Bark\n"
          ]
        },
        {
          "output_type": "display_data",
          "data": {
            "text/html": [
              "<img src=\"https://www.skinnytaste.com/wp-content/uploads/2023/11/Snowman-Bark-1-260x390.jpg\"/>"
            ],
            "text/plain": [
              "<IPython.core.display.Image object>"
            ]
          },
          "metadata": {}
        },
        {
          "output_type": "stream",
          "name": "stdout",
          "text": [
            "Coconut Macaroons\n"
          ]
        },
        {
          "output_type": "display_data",
          "data": {
            "text/html": [
              "<img src=\"https://www.skinnytaste.com/wp-content/uploads/2012/04/Coconut-Macaroons-13-260x390.jpg\"/>"
            ],
            "text/plain": [
              "<IPython.core.display.Image object>"
            ]
          },
          "metadata": {}
        },
        {
          "output_type": "stream",
          "name": "stdout",
          "text": [
            "Slow Cooker Black Eyed Peas with Ham\n"
          ]
        },
        {
          "output_type": "display_data",
          "data": {
            "text/html": [
              "<img src=\"https://www.skinnytaste.com/wp-content/uploads/2010/09/Black-Eye-Peas-6-260x390.jpg\"/>"
            ],
            "text/plain": [
              "<IPython.core.display.Image object>"
            ]
          },
          "metadata": {}
        },
        {
          "output_type": "stream",
          "name": "stdout",
          "text": [
            "Spinach-Artichoke Crostini\n"
          ]
        },
        {
          "output_type": "display_data",
          "data": {
            "text/html": [
              "<img src=\"https://www.skinnytaste.com/wp-content/uploads/2023/11/Spinach-Artichoke-Crostini-10-260x390.jpg\"/>"
            ],
            "text/plain": [
              "<IPython.core.display.Image object>"
            ]
          },
          "metadata": {}
        },
        {
          "output_type": "stream",
          "name": "stdout",
          "text": [
            "Cheddar Biscuits\n"
          ]
        },
        {
          "output_type": "display_data",
          "data": {
            "text/html": [
              "<img src=\"https://www.skinnytaste.com/wp-content/uploads/2023/11/231023_garlic-cheddar-biscuits-32-260x390.jpg\"/>"
            ],
            "text/plain": [
              "<IPython.core.display.Image object>"
            ]
          },
          "metadata": {}
        },
        {
          "output_type": "stream",
          "name": "stdout",
          "text": [
            "Chewy Chocolate Chip Cookies (Low-Fat)\n"
          ]
        },
        {
          "output_type": "display_data",
          "data": {
            "text/html": [
              "<img src=\"https://www.skinnytaste.com/wp-content/uploads/2011/08/231128_chocolate-chip-cookies-25-260x390.jpg\"/>"
            ],
            "text/plain": [
              "<IPython.core.display.Image object>"
            ]
          },
          "metadata": {}
        },
        {
          "output_type": "stream",
          "name": "stdout",
          "text": [
            "Oatmeal Chocolate Chip Cookies\n"
          ]
        },
        {
          "output_type": "display_data",
          "data": {
            "text/html": [
              "<img src=\"https://www.skinnytaste.com/wp-content/uploads/2019/12/Low-FatChewyChocolateChipOatmealCookies-18-260x390.jpg\"/>"
            ],
            "text/plain": [
              "<IPython.core.display.Image object>"
            ]
          },
          "metadata": {}
        },
        {
          "output_type": "stream",
          "name": "stdout",
          "text": [
            "The Best Lasagna Recipe\n"
          ]
        },
        {
          "output_type": "display_data",
          "data": {
            "text/html": [
              "<img src=\"https://www.skinnytaste.com/wp-content/uploads/2023/09/Lasagna-12-260x390.jpg\"/>"
            ],
            "text/plain": [
              "<IPython.core.display.Image object>"
            ]
          },
          "metadata": {}
        },
        {
          "output_type": "stream",
          "name": "stdout",
          "text": [
            "Leftover Turkey Noodle Soup\n"
          ]
        },
        {
          "output_type": "display_data",
          "data": {
            "text/html": [
              "<img src=\"https://www.skinnytaste.com/wp-content/uploads/2011/11/Leftover-Turkey-Noodle-Soup-9-260x390.jpg\"/>"
            ],
            "text/plain": [
              "<IPython.core.display.Image object>"
            ]
          },
          "metadata": {}
        },
        {
          "output_type": "stream",
          "name": "stdout",
          "text": [
            "Leftover Turkey Enchiladas Skillet\n"
          ]
        },
        {
          "output_type": "display_data",
          "data": {
            "text/html": [
              "<img src=\"https://www.skinnytaste.com/wp-content/uploads/2023/11/Leftover-Turkey-Pumpkin-Enchilada-Skillet-9-260x390.jpg\"/>"
            ],
            "text/plain": [
              "<IPython.core.display.Image object>"
            ]
          },
          "metadata": {}
        },
        {
          "output_type": "stream",
          "name": "stdout",
          "text": [
            "Lemon Brussel Sprouts\n"
          ]
        },
        {
          "output_type": "display_data",
          "data": {
            "text/html": [
              "<img src=\"https://www.skinnytaste.com/wp-content/uploads/2023/11/Lemon-Brussels-Sprouts-8-260x390.jpg\"/>"
            ],
            "text/plain": [
              "<IPython.core.display.Image object>"
            ]
          },
          "metadata": {}
        },
        {
          "output_type": "stream",
          "name": "stdout",
          "text": [
            "Corn Casserole\n"
          ]
        },
        {
          "output_type": "display_data",
          "data": {
            "text/html": [
              "<img src=\"https://www.skinnytaste.com/wp-content/uploads/2011/11/231116_make-over-corn-casserole-14-260x390.jpg\"/>"
            ],
            "text/plain": [
              "<IPython.core.display.Image object>"
            ]
          },
          "metadata": {}
        },
        {
          "output_type": "stream",
          "name": "stdout",
          "text": [
            "Sweet Potato Gratin\n"
          ]
        },
        {
          "output_type": "display_data",
          "data": {
            "text/html": [
              "<img src=\"https://www.skinnytaste.com/wp-content/uploads/2023/11/Sweet-Potato-Gratin-7-260x390.jpg\"/>"
            ],
            "text/plain": [
              "<IPython.core.display.Image object>"
            ]
          },
          "metadata": {}
        },
        {
          "output_type": "stream",
          "name": "stdout",
          "text": [
            "Twice Baked Sweet Potatoes with Marshmallows\n"
          ]
        },
        {
          "output_type": "display_data",
          "data": {
            "text/html": [
              "<img src=\"https://www.skinnytaste.com/wp-content/uploads/2023/11/Twice-Baked-Sweet-Potatoes-with-Marshmallows-7-260x390.jpg\"/>"
            ],
            "text/plain": [
              "<IPython.core.display.Image object>"
            ]
          },
          "metadata": {}
        },
        {
          "output_type": "stream",
          "name": "stdout",
          "text": [
            "Turkey Gravy\n"
          ]
        },
        {
          "output_type": "display_data",
          "data": {
            "text/html": [
              "<img src=\"https://www.skinnytaste.com/wp-content/uploads/2023/11/Turkey-Gravy-6-260x390.jpg\"/>"
            ],
            "text/plain": [
              "<IPython.core.display.Image object>"
            ]
          },
          "metadata": {}
        },
        {
          "output_type": "stream",
          "name": "stdout",
          "text": [
            "Turkey Stock for Gravy\n"
          ]
        },
        {
          "output_type": "display_data",
          "data": {
            "text/html": [
              "<img src=\"https://www.skinnytaste.com/wp-content/uploads/2023/11/Turkey-Stock-6-260x390.jpg\"/>"
            ],
            "text/plain": [
              "<IPython.core.display.Image object>"
            ]
          },
          "metadata": {}
        },
        {
          "output_type": "stream",
          "name": "stdout",
          "text": [
            "Cornbread Muffins\n"
          ]
        },
        {
          "output_type": "display_data",
          "data": {
            "text/html": [
              "<img src=\"https://www.skinnytaste.com/wp-content/uploads/2023/11/cornbread-muffins-10-260x390.jpg\"/>"
            ],
            "text/plain": [
              "<IPython.core.display.Image object>"
            ]
          },
          "metadata": {}
        },
        {
          "output_type": "stream",
          "name": "stdout",
          "text": [
            "Make-Ahead Low-Carb Turkey Gravy (Flourless)\n"
          ]
        },
        {
          "output_type": "display_data",
          "data": {
            "text/html": [
              "<img src=\"https://www.skinnytaste.com/wp-content/uploads/2023/11/Flourless-Gravy-9-260x390.jpg\"/>"
            ],
            "text/plain": [
              "<IPython.core.display.Image object>"
            ]
          },
          "metadata": {}
        },
        {
          "output_type": "stream",
          "name": "stdout",
          "text": [
            "Turkey Roulade (Stuffed Turkey Breast)\n"
          ]
        },
        {
          "output_type": "display_data",
          "data": {
            "text/html": [
              "<img src=\"https://www.skinnytaste.com/wp-content/uploads/2020/10/Stuffed-Turkey-Breast-with-Cranberry-Stuffing-11-260x390.jpg\"/>"
            ],
            "text/plain": [
              "<IPython.core.display.Image object>"
            ]
          },
          "metadata": {}
        },
        {
          "output_type": "stream",
          "name": "stdout",
          "text": [
            "Sweet Potato Casserole with Marshmallows\n"
          ]
        },
        {
          "output_type": "display_data",
          "data": {
            "text/html": [
              "<img src=\"https://www.skinnytaste.com/wp-content/uploads/2011/10/sweet-potato-casserole-with-marshmallows-1-3-260x390.jpg\"/>"
            ],
            "text/plain": [
              "<IPython.core.display.Image object>"
            ]
          },
          "metadata": {}
        },
        {
          "output_type": "stream",
          "name": "stdout",
          "text": [
            "Mashed Sweet Potatoes\n"
          ]
        },
        {
          "output_type": "display_data",
          "data": {
            "text/html": [
              "<img src=\"https://www.skinnytaste.com/wp-content/uploads/2012/10/Mashed-Sweet-Potatoes-5-260x390.jpg\"/>"
            ],
            "text/plain": [
              "<IPython.core.display.Image object>"
            ]
          },
          "metadata": {}
        },
        {
          "output_type": "stream",
          "name": "stdout",
          "text": [
            "Roasted Delicata Squash and Brussels Sprouts\n"
          ]
        },
        {
          "output_type": "display_data",
          "data": {
            "text/html": [
              "<img src=\"https://www.skinnytaste.com/wp-content/uploads/2023/11/Delicata-Squash-and-Brussels-Sprouts-5-260x390.jpg\"/>"
            ],
            "text/plain": [
              "<IPython.core.display.Image object>"
            ]
          },
          "metadata": {}
        },
        {
          "output_type": "stream",
          "name": "stdout",
          "text": [
            "Meximelt\n"
          ]
        },
        {
          "output_type": "display_data",
          "data": {
            "text/html": [
              "<img src=\"https://www.skinnytaste.com/wp-content/uploads/2023/10/Meximelts-9-260x390.jpg\"/>"
            ],
            "text/plain": [
              "<IPython.core.display.Image object>"
            ]
          },
          "metadata": {}
        },
        {
          "output_type": "stream",
          "name": "stdout",
          "text": [
            "Butternut Squash Lasagna (No-Noodle)\n"
          ]
        },
        {
          "output_type": "display_data",
          "data": {
            "text/html": [
              "<img src=\"https://www.skinnytaste.com/wp-content/uploads/2016/09/Noodles-less-Butternut-Squash-Lasagna-7-1-260x390.jpg\"/>"
            ],
            "text/plain": [
              "<IPython.core.display.Image object>"
            ]
          },
          "metadata": {}
        },
        {
          "output_type": "stream",
          "name": "stdout",
          "text": [
            "Slow Cooker Chicken Enchiladas\n"
          ]
        },
        {
          "output_type": "display_data",
          "data": {
            "text/html": [
              "<img src=\"https://www.skinnytaste.com/wp-content/uploads/2023/10/Slow-Cooker-Chicken-Enchiladas-6-260x390.jpg\"/>"
            ],
            "text/plain": [
              "<IPython.core.display.Image object>"
            ]
          },
          "metadata": {}
        },
        {
          "output_type": "stream",
          "name": "stdout",
          "text": [
            "Cheesy Baked Pumpkin Pasta\n"
          ]
        },
        {
          "output_type": "display_data",
          "data": {
            "text/html": [
              "<img src=\"https://www.skinnytaste.com/wp-content/uploads/2013/11/baked-pumpkin-pasta-15-260x390.jpg\"/>"
            ],
            "text/plain": [
              "<IPython.core.display.Image object>"
            ]
          },
          "metadata": {}
        },
        {
          "output_type": "stream",
          "name": "stdout",
          "text": [
            "Green Beans with Mushrooms\n"
          ]
        },
        {
          "output_type": "display_data",
          "data": {
            "text/html": [
              "<img src=\"https://www.skinnytaste.com/wp-content/uploads/2023/10/green-beans-with-mushrooms-12-260x390.jpg\"/>"
            ],
            "text/plain": [
              "<IPython.core.display.Image object>"
            ]
          },
          "metadata": {}
        },
        {
          "output_type": "stream",
          "name": "stdout",
          "text": [
            "White Bean Pumpkin Turkey Chili (Slow Cooker or Instant Pot)\n"
          ]
        },
        {
          "output_type": "display_data",
          "data": {
            "text/html": [
              "<img src=\"https://www.skinnytaste.com/wp-content/uploads/2011/10/SLOW-COOKER-TURKEY-PUMPKIN-WHITE-BEAN-CHILI-3-260x390.jpg\"/>"
            ],
            "text/plain": [
              "<IPython.core.display.Image object>"
            ]
          },
          "metadata": {}
        },
        {
          "output_type": "stream",
          "name": "stdout",
          "text": [
            "Beef Stew\n"
          ]
        },
        {
          "output_type": "display_data",
          "data": {
            "text/html": [
              "<img src=\"https://www.skinnytaste.com/wp-content/uploads/2023/10/Beef-Stew-Recipe-10-260x390.jpg\"/>"
            ],
            "text/plain": [
              "<IPython.core.display.Image object>"
            ]
          },
          "metadata": {}
        },
        {
          "output_type": "stream",
          "name": "stdout",
          "text": [
            "Mummy Hot Dogs\n"
          ]
        },
        {
          "output_type": "display_data",
          "data": {
            "text/html": [
              "<img src=\"https://www.skinnytaste.com/wp-content/uploads/2023/10/Mummy-Dogs-8-260x390.jpg\"/>"
            ],
            "text/plain": [
              "<IPython.core.display.Image object>"
            ]
          },
          "metadata": {}
        },
        {
          "output_type": "stream",
          "name": "stdout",
          "text": [
            "Air Fryer Chicken Bites\n"
          ]
        },
        {
          "output_type": "display_data",
          "data": {
            "text/html": [
              "<img src=\"https://www.skinnytaste.com/wp-content/uploads/2023/10/air-fryer-chicken-bites-6-260x390.jpg\"/>"
            ],
            "text/plain": [
              "<IPython.core.display.Image object>"
            ]
          },
          "metadata": {}
        },
        {
          "output_type": "stream",
          "name": "stdout",
          "text": [
            "Shaved Brussels Sprout Salad with Pears and Pomegranate\n"
          ]
        },
        {
          "output_type": "display_data",
          "data": {
            "text/html": [
              "<img src=\"https://www.skinnytaste.com/wp-content/uploads/2023/10/Shaved-Brussels-Sprouts-Salad-with-Pears-Pomegranate-and-Pepitas-6-260x390.jpg\"/>"
            ],
            "text/plain": [
              "<IPython.core.display.Image object>"
            ]
          },
          "metadata": {}
        },
        {
          "output_type": "stream",
          "name": "stdout",
          "text": [
            "Pumpkin Mug Cake\n"
          ]
        },
        {
          "output_type": "display_data",
          "data": {
            "text/html": [
              "<img src=\"https://www.skinnytaste.com/wp-content/uploads/2023/10/231005_Recipe-Session-068-copy-260x390.jpg\"/>"
            ],
            "text/plain": [
              "<IPython.core.display.Image object>"
            ]
          },
          "metadata": {}
        },
        {
          "output_type": "stream",
          "name": "stdout",
          "text": [
            "Parmesan Brussel Sprouts\n"
          ]
        },
        {
          "output_type": "display_data",
          "data": {
            "text/html": [
              "<img src=\"https://www.skinnytaste.com/wp-content/uploads/2023/10/Sheet-Pan-Parmesan-Brussels-Sprouts-9-260x390.jpg\"/>"
            ],
            "text/plain": [
              "<IPython.core.display.Image object>"
            ]
          },
          "metadata": {}
        },
        {
          "output_type": "stream",
          "name": "stdout",
          "text": [
            "Mummy Jalapeno Poppers\n"
          ]
        },
        {
          "output_type": "display_data",
          "data": {
            "text/html": [
              "<img src=\"https://www.skinnytaste.com/wp-content/uploads/2023/10/Mummy-Jalapeno-Poppers-8-260x390.jpg\"/>"
            ],
            "text/plain": [
              "<IPython.core.display.Image object>"
            ]
          },
          "metadata": {}
        },
        {
          "output_type": "stream",
          "name": "stdout",
          "text": [
            "Roasted Pumpkin Seeds\n"
          ]
        },
        {
          "output_type": "display_data",
          "data": {
            "text/html": [
              "<img src=\"https://www.skinnytaste.com/wp-content/uploads/2011/09/Roasted-Pumpkin-Seeds-9-260x390.jpg\"/>"
            ],
            "text/plain": [
              "<IPython.core.display.Image object>"
            ]
          },
          "metadata": {}
        },
        {
          "output_type": "stream",
          "name": "stdout",
          "text": [
            "Instant Pot Brown Rice\n"
          ]
        },
        {
          "output_type": "display_data",
          "data": {
            "text/html": [
              "<img src=\"https://www.skinnytaste.com/wp-content/uploads/2023/09/230922_instant-pot-brown-rice-15-260x390.jpg\"/>"
            ],
            "text/plain": [
              "<IPython.core.display.Image object>"
            ]
          },
          "metadata": {}
        },
        {
          "output_type": "stream",
          "name": "stdout",
          "text": [
            "Autumn Kale Salad with Chicken\n"
          ]
        },
        {
          "output_type": "display_data",
          "data": {
            "text/html": [
              "<img src=\"https://www.skinnytaste.com/wp-content/uploads/2023/09/Fall-Chopped-Salad-with-Chicken-7-260x390.jpg\"/>"
            ],
            "text/plain": [
              "<IPython.core.display.Image object>"
            ]
          },
          "metadata": {}
        },
        {
          "output_type": "stream",
          "name": "stdout",
          "text": [
            "Roasted Sweet Potatoes\n"
          ]
        },
        {
          "output_type": "display_data",
          "data": {
            "text/html": [
              "<img src=\"https://www.skinnytaste.com/wp-content/uploads/2023/09/Roasted-Sweet-Potatoes-7-260x390.jpg\"/>"
            ],
            "text/plain": [
              "<IPython.core.display.Image object>"
            ]
          },
          "metadata": {}
        },
        {
          "output_type": "stream",
          "name": "stdout",
          "text": [
            "Minestrone Soup\n"
          ]
        },
        {
          "output_type": "display_data",
          "data": {
            "text/html": [
              "<img src=\"https://www.skinnytaste.com/wp-content/uploads/2023/09/Stovetop-Minestrone-Soup-7-260x390.jpg\"/>"
            ],
            "text/plain": [
              "<IPython.core.display.Image object>"
            ]
          },
          "metadata": {}
        },
        {
          "output_type": "stream",
          "name": "stdout",
          "text": [
            "Pumpkin Chocolate Chip Cookies\n"
          ]
        },
        {
          "output_type": "display_data",
          "data": {
            "text/html": [
              "<img src=\"https://www.skinnytaste.com/wp-content/uploads/2023/09/230915_soft-pumpkin-chocolate-chip-cookies-12-260x390.jpg\"/>"
            ],
            "text/plain": [
              "<IPython.core.display.Image object>"
            ]
          },
          "metadata": {}
        },
        {
          "output_type": "stream",
          "name": "stdout",
          "text": [
            "Coconut Curry Butternut Squash Soup\n"
          ]
        },
        {
          "output_type": "display_data",
          "data": {
            "text/html": [
              "<img src=\"https://www.skinnytaste.com/wp-content/uploads/2010/10/Coconut-Curry-Butternut-Squash-Soup-5-260x390.jpg\"/>"
            ],
            "text/plain": [
              "<IPython.core.display.Image object>"
            ]
          },
          "metadata": {}
        },
        {
          "output_type": "stream",
          "name": "stdout",
          "text": [
            "Pumpkin Bread Recipe\n"
          ]
        },
        {
          "output_type": "display_data",
          "data": {
            "text/html": [
              "<img src=\"https://www.skinnytaste.com/wp-content/uploads/2011/10/Pumpkin-Bread-Recipe-5-260x390.jpg\"/>"
            ],
            "text/plain": [
              "<IPython.core.display.Image object>"
            ]
          },
          "metadata": {}
        },
        {
          "output_type": "stream",
          "name": "stdout",
          "text": [
            "Roasted Broccoli and Cauliflower\n"
          ]
        },
        {
          "output_type": "display_data",
          "data": {
            "text/html": [
              "<img src=\"https://www.skinnytaste.com/wp-content/uploads/2023/09/230912_roasted-broccoli-cauliflower-09-260x390.jpg\"/>"
            ],
            "text/plain": [
              "<IPython.core.display.Image object>"
            ]
          },
          "metadata": {}
        },
        {
          "output_type": "stream",
          "name": "stdout",
          "text": [
            "Pumpkin Baked Oatmeal Cups\n"
          ]
        },
        {
          "output_type": "display_data",
          "data": {
            "text/html": [
              "<img src=\"https://www.skinnytaste.com/wp-content/uploads/2023/09/Pumpkin-Baked-Oatmeal-Cups-7-260x390.jpg\"/>"
            ],
            "text/plain": [
              "<IPython.core.display.Image object>"
            ]
          },
          "metadata": {}
        },
        {
          "output_type": "stream",
          "name": "stdout",
          "text": [
            "Apple Turnover\n"
          ]
        },
        {
          "output_type": "display_data",
          "data": {
            "text/html": [
              "<img src=\"https://www.skinnytaste.com/wp-content/uploads/2023/09/Apple-Turnovers-11-260x390.jpg\"/>"
            ],
            "text/plain": [
              "<IPython.core.display.Image object>"
            ]
          },
          "metadata": {}
        },
        {
          "output_type": "stream",
          "name": "stdout",
          "text": [
            "Apple Cobbler Recipe\n"
          ]
        },
        {
          "output_type": "display_data",
          "data": {
            "text/html": [
              "<img src=\"https://www.skinnytaste.com/wp-content/uploads/2021/10/Skinny-Apple-Cobbler-11-2-260x390.jpg\"/>"
            ],
            "text/plain": [
              "<IPython.core.display.Image object>"
            ]
          },
          "metadata": {}
        },
        {
          "output_type": "stream",
          "name": "stdout",
          "text": [
            "Instant Pot Rice\n"
          ]
        },
        {
          "output_type": "display_data",
          "data": {
            "text/html": [
              "<img src=\"https://www.skinnytaste.com/wp-content/uploads/2023/09/Instant-Pot-White-Rice-4-260x390.jpg\"/>"
            ],
            "text/plain": [
              "<IPython.core.display.Image object>"
            ]
          },
          "metadata": {}
        },
        {
          "output_type": "stream",
          "name": "stdout",
          "text": [
            "Stuffed Shells with Meat Sauce\n"
          ]
        },
        {
          "output_type": "display_data",
          "data": {
            "text/html": [
              "<img src=\"https://www.skinnytaste.com/wp-content/uploads/2011/09/Spinach-Stuffed-Shells-with-Meat-Sauce-10-260x390.jpg\"/>"
            ],
            "text/plain": [
              "<IPython.core.display.Image object>"
            ]
          },
          "metadata": {}
        },
        {
          "output_type": "stream",
          "name": "stdout",
          "text": [
            "Chicken Nuggets\n"
          ]
        },
        {
          "output_type": "display_data",
          "data": {
            "text/html": [
              "<img src=\"https://www.skinnytaste.com/wp-content/uploads/2023/09/Chicken-Nuggets-10-260x390.jpg\"/>"
            ],
            "text/plain": [
              "<IPython.core.display.Image object>"
            ]
          },
          "metadata": {}
        },
        {
          "output_type": "stream",
          "name": "stdout",
          "text": [
            "Classic Egg Salad\n"
          ]
        },
        {
          "output_type": "display_data",
          "data": {
            "text/html": [
              "<img src=\"https://www.skinnytaste.com/wp-content/uploads/2019/01/Egg-Salad-Finals-9-260x390.jpg\"/>"
            ],
            "text/plain": [
              "<IPython.core.display.Image object>"
            ]
          },
          "metadata": {}
        },
        {
          "output_type": "stream",
          "name": "stdout",
          "text": [
            "Pumpkin Chocolate Chip Muffins\n"
          ]
        },
        {
          "output_type": "display_data",
          "data": {
            "text/html": [
              "<img src=\"https://www.skinnytaste.com/wp-content/uploads/2013/09/Mini-Pumpkin-Chocolate-Chip-Muffins-9-260x390.jpg\"/>"
            ],
            "text/plain": [
              "<IPython.core.display.Image object>"
            ]
          },
          "metadata": {}
        },
        {
          "output_type": "stream",
          "name": "stdout",
          "text": [
            "Banana Bread Recipe\n"
          ]
        },
        {
          "output_type": "display_data",
          "data": {
            "text/html": [
              "<img src=\"https://www.skinnytaste.com/wp-content/uploads/2023/09/BananaBread-18-260x390.jpg\"/>"
            ],
            "text/plain": [
              "<IPython.core.display.Image object>"
            ]
          },
          "metadata": {}
        },
        {
          "output_type": "stream",
          "name": "stdout",
          "text": [
            "Cinnamon-Raisin Overnight Oats\n"
          ]
        },
        {
          "output_type": "display_data",
          "data": {
            "text/html": [
              "<img src=\"https://www.skinnytaste.com/wp-content/uploads/2023/08/Cinnamon_Raisin_Overnight_Oats-03-260x390.jpg\"/>"
            ],
            "text/plain": [
              "<IPython.core.display.Image object>"
            ]
          },
          "metadata": {}
        },
        {
          "output_type": "stream",
          "name": "stdout",
          "text": [
            "Orange Chicken\n"
          ]
        },
        {
          "output_type": "display_data",
          "data": {
            "text/html": [
              "<img src=\"https://www.skinnytaste.com/wp-content/uploads/2014/03/Orange-Chicken-7-260x390.jpg\"/>"
            ],
            "text/plain": [
              "<IPython.core.display.Image object>"
            ]
          },
          "metadata": {}
        },
        {
          "output_type": "stream",
          "name": "stdout",
          "text": [
            "Crispy Oven Roasted Baby Potatoes\n"
          ]
        },
        {
          "output_type": "display_data",
          "data": {
            "text/html": [
              "<img src=\"https://www.skinnytaste.com/wp-content/uploads/2023/08/Sheet-Pan-Roasted-Potatoes-7-260x390.jpg\"/>"
            ],
            "text/plain": [
              "<IPython.core.display.Image object>"
            ]
          },
          "metadata": {}
        },
        {
          "output_type": "stream",
          "name": "stdout",
          "text": [
            "Pasta with Creamy Zucchini Sauce\n"
          ]
        },
        {
          "output_type": "display_data",
          "data": {
            "text/html": [
              "<img src=\"https://www.skinnytaste.com/wp-content/uploads/2023/08/Creamy-Pasta-with-Roasted-Parmesan-Zucchini-Sauce-10-260x390.jpg\"/>"
            ],
            "text/plain": [
              "<IPython.core.display.Image object>"
            ]
          },
          "metadata": {}
        },
        {
          "output_type": "stream",
          "name": "stdout",
          "text": [
            "Salisbury Steak Meatballs (Instant Pot, Stove, Slow Cooker)\n"
          ]
        },
        {
          "output_type": "display_data",
          "data": {
            "text/html": [
              "<img src=\"https://www.skinnytaste.com/wp-content/uploads/2016/08/Salisbury-Steak-Meatballs-9-1-260x390.jpg\"/>"
            ],
            "text/plain": [
              "<IPython.core.display.Image object>"
            ]
          },
          "metadata": {}
        },
        {
          "output_type": "stream",
          "name": "stdout",
          "text": [
            "Mini Quiche\n"
          ]
        },
        {
          "output_type": "display_data",
          "data": {
            "text/html": [
              "<img src=\"https://www.skinnytaste.com/wp-content/uploads/2023/08/Mini-Quiche-Recipe-9-260x390.jpg\"/>"
            ],
            "text/plain": [
              "<IPython.core.display.Image object>"
            ]
          },
          "metadata": {}
        },
        {
          "output_type": "stream",
          "name": "stdout",
          "text": [
            "Cauliflower Rice\n"
          ]
        },
        {
          "output_type": "display_data",
          "data": {
            "text/html": [
              "<img src=\"https://www.skinnytaste.com/wp-content/uploads/2023/08/How-to-Make-Cauliflower-Rice-10-260x390.jpg\"/>"
            ],
            "text/plain": [
              "<IPython.core.display.Image object>"
            ]
          },
          "metadata": {}
        },
        {
          "output_type": "stream",
          "name": "stdout",
          "text": [
            "Air Fryer Chicken Cutlets\n"
          ]
        },
        {
          "output_type": "display_data",
          "data": {
            "text/html": [
              "<img src=\"https://www.skinnytaste.com/wp-content/uploads/2023/08/Air-Fryer-Chicken-Cutlets-9-260x390.jpg\"/>"
            ],
            "text/plain": [
              "<IPython.core.display.Image object>"
            ]
          },
          "metadata": {}
        },
        {
          "output_type": "stream",
          "name": "stdout",
          "text": [
            "Cajun Chicken Pasta\n"
          ]
        },
        {
          "output_type": "display_data",
          "data": {
            "text/html": [
              "<img src=\"https://www.skinnytaste.com/wp-content/uploads/2012/02/Cajun-Chicken-Pasta-4-260x390.jpg\"/>"
            ],
            "text/plain": [
              "<IPython.core.display.Image object>"
            ]
          },
          "metadata": {}
        },
        {
          "output_type": "stream",
          "name": "stdout",
          "text": [
            "Loaded Baked Potato Soup\n"
          ]
        },
        {
          "output_type": "display_data",
          "data": {
            "text/html": [
              "<img src=\"https://www.skinnytaste.com/wp-content/uploads/2016/08/Baked-Potato-Soup-5-260x390.jpg\"/>"
            ],
            "text/plain": [
              "<IPython.core.display.Image object>"
            ]
          },
          "metadata": {}
        },
        {
          "output_type": "stream",
          "name": "stdout",
          "text": [
            "Turkey Meatloaf with Zucchini\n"
          ]
        },
        {
          "output_type": "display_data",
          "data": {
            "text/html": [
              "<img src=\"https://www.skinnytaste.com/wp-content/uploads/2022/07/Turkey-Meatloaf-with-Zucchini-6-260x390.jpg\"/>"
            ],
            "text/plain": [
              "<IPython.core.display.Image object>"
            ]
          },
          "metadata": {}
        },
        {
          "output_type": "stream",
          "name": "stdout",
          "text": [
            "Babka-Inspired Bagels\n"
          ]
        },
        {
          "output_type": "display_data",
          "data": {
            "text/html": [
              "<img src=\"https://www.skinnytaste.com/wp-content/uploads/2023/08/Babka-Bagels-19-260x390.jpg\"/>"
            ],
            "text/plain": [
              "<IPython.core.display.Image object>"
            ]
          },
          "metadata": {}
        },
        {
          "output_type": "stream",
          "name": "stdout",
          "text": [
            "Roasted Broccoli with Smashed Garlic\n"
          ]
        },
        {
          "output_type": "display_data",
          "data": {
            "text/html": [
              "<img src=\"https://www.skinnytaste.com/wp-content/uploads/2010/03/Roasted-Broccoli-with-Smashed-Garlic-4-260x390.jpg\"/>"
            ],
            "text/plain": [
              "<IPython.core.display.Image object>"
            ]
          },
          "metadata": {}
        },
        {
          "output_type": "stream",
          "name": "stdout",
          "text": [
            "Chicken Stroganoff\n"
          ]
        },
        {
          "output_type": "display_data",
          "data": {
            "text/html": [
              "<img src=\"https://www.skinnytaste.com/wp-content/uploads/2023/08/Chicken-Stroganoff-9-1-260x390.jpg\"/>"
            ],
            "text/plain": [
              "<IPython.core.display.Image object>"
            ]
          },
          "metadata": {}
        },
        {
          "output_type": "stream",
          "name": "stdout",
          "text": [
            "Feta Eggs with Zucchini\n"
          ]
        },
        {
          "output_type": "display_data",
          "data": {
            "text/html": [
              "<img src=\"https://www.skinnytaste.com/wp-content/uploads/2023/08/Feta-Eggs-with-Zucchini-5-260x390.jpg\"/>"
            ],
            "text/plain": [
              "<IPython.core.display.Image object>"
            ]
          },
          "metadata": {}
        },
        {
          "output_type": "stream",
          "name": "stdout",
          "text": [
            "Air Fryer Fish Sticks\n"
          ]
        },
        {
          "output_type": "display_data",
          "data": {
            "text/html": [
              "<img src=\"https://www.skinnytaste.com/wp-content/uploads/2023/08/Air-Fryer-Fish-Sticks-9-260x390.jpg\"/>"
            ],
            "text/plain": [
              "<IPython.core.display.Image object>"
            ]
          },
          "metadata": {}
        },
        {
          "output_type": "stream",
          "name": "stdout",
          "text": [
            "Instant Pot Chicken Noodle Soup\n"
          ]
        },
        {
          "output_type": "display_data",
          "data": {
            "text/html": [
              "<img src=\"https://www.skinnytaste.com/wp-content/uploads/2023/08/Instant-Pot-Chicken-Noodle-Soup-6-260x390.jpg\"/>"
            ],
            "text/plain": [
              "<IPython.core.display.Image object>"
            ]
          },
          "metadata": {}
        },
        {
          "output_type": "stream",
          "name": "stdout",
          "text": [
            "Hummus\n"
          ]
        },
        {
          "output_type": "display_data",
          "data": {
            "text/html": [
              "<img src=\"https://www.skinnytaste.com/wp-content/uploads/2023/08/Hummus-8-260x390.jpg\"/>"
            ],
            "text/plain": [
              "<IPython.core.display.Image object>"
            ]
          },
          "metadata": {}
        },
        {
          "output_type": "stream",
          "name": "stdout",
          "text": [
            "Ratatouille with Farro\n"
          ]
        },
        {
          "output_type": "display_data",
          "data": {
            "text/html": [
              "<img src=\"https://www.skinnytaste.com/wp-content/uploads/2023/08/RatatouillewithFarro-13-260x390.jpg\"/>"
            ],
            "text/plain": [
              "<IPython.core.display.Image object>"
            ]
          },
          "metadata": {}
        },
        {
          "output_type": "stream",
          "name": "stdout",
          "text": [
            "Shrimp Quesadilla\n"
          ]
        },
        {
          "output_type": "display_data",
          "data": {
            "text/html": [
              "<img src=\"https://www.skinnytaste.com/wp-content/uploads/2023/07/Shrimp-Quesadilla-5-260x390.jpg\"/>"
            ],
            "text/plain": [
              "<IPython.core.display.Image object>"
            ]
          },
          "metadata": {}
        },
        {
          "output_type": "stream",
          "name": "stdout",
          "text": [
            "Zucchini Gnocchi\n"
          ]
        },
        {
          "output_type": "display_data",
          "data": {
            "text/html": [
              "<img src=\"https://www.skinnytaste.com/wp-content/uploads/2023/07/Zucchini-Gnocchi-4-260x390.jpg\"/>"
            ],
            "text/plain": [
              "<IPython.core.display.Image object>"
            ]
          },
          "metadata": {}
        },
        {
          "output_type": "stream",
          "name": "stdout",
          "text": [
            "Strawberry Swiss Roll\n"
          ]
        },
        {
          "output_type": "display_data",
          "data": {
            "text/html": [
              "<img src=\"https://www.skinnytaste.com/wp-content/uploads/2023/07/Strawberry-Roll-9-260x390.jpg\"/>"
            ],
            "text/plain": [
              "<IPython.core.display.Image object>"
            ]
          },
          "metadata": {}
        },
        {
          "output_type": "stream",
          "name": "stdout",
          "text": [
            "Chicken Eggplant Parmesan\n"
          ]
        },
        {
          "output_type": "display_data",
          "data": {
            "text/html": [
              "<img src=\"https://www.skinnytaste.com/wp-content/uploads/2023/07/Chicken-Eggplant-Parmesan-9-260x390.jpg\"/>"
            ],
            "text/plain": [
              "<IPython.core.display.Image object>"
            ]
          },
          "metadata": {}
        },
        {
          "output_type": "stream",
          "name": "stdout",
          "text": [
            "Air Fryer Asian Meatballs\n"
          ]
        },
        {
          "output_type": "display_data",
          "data": {
            "text/html": [
              "<img src=\"https://www.skinnytaste.com/wp-content/uploads/2023/07/Asian-Meatball-Rice-Bowls-6-260x390.jpg\"/>"
            ],
            "text/plain": [
              "<IPython.core.display.Image object>"
            ]
          },
          "metadata": {}
        },
        {
          "output_type": "stream",
          "name": "stdout",
          "text": [
            "Gazpacho\n"
          ]
        },
        {
          "output_type": "display_data",
          "data": {
            "text/html": [
              "<img src=\"https://www.skinnytaste.com/wp-content/uploads/2023/07/230718_gazpacho-14-260x390.jpg\"/>"
            ],
            "text/plain": [
              "<IPython.core.display.Image object>"
            ]
          },
          "metadata": {}
        },
        {
          "output_type": "stream",
          "name": "stdout",
          "text": [
            "Zucchini Pancakes\n"
          ]
        },
        {
          "output_type": "display_data",
          "data": {
            "text/html": [
              "<img src=\"https://www.skinnytaste.com/wp-content/uploads/2008/07/ZuchiniPancakes-06-260x390.jpg\"/>"
            ],
            "text/plain": [
              "<IPython.core.display.Image object>"
            ]
          },
          "metadata": {}
        },
        {
          "output_type": "stream",
          "name": "stdout",
          "text": [
            "Corn Salsa\n"
          ]
        },
        {
          "output_type": "display_data",
          "data": {
            "text/html": [
              "<img src=\"https://www.skinnytaste.com/wp-content/uploads/2019/02/Corn-Salsa-with-Lime-5-260x390.jpg\"/>"
            ],
            "text/plain": [
              "<IPython.core.display.Image object>"
            ]
          },
          "metadata": {}
        },
        {
          "output_type": "stream",
          "name": "stdout",
          "text": [
            "Zucchini Bread\n"
          ]
        },
        {
          "output_type": "display_data",
          "data": {
            "text/html": [
              "<img src=\"https://www.skinnytaste.com/wp-content/uploads/2022/08/Zucchini-Bread-7-1-260x390.jpg\"/>"
            ],
            "text/plain": [
              "<IPython.core.display.Image object>"
            ]
          },
          "metadata": {}
        },
        {
          "output_type": "stream",
          "name": "stdout",
          "text": [
            "Spicy Salmon Sushi Pizza\n"
          ]
        },
        {
          "output_type": "display_data",
          "data": {
            "text/html": [
              "<img src=\"https://www.skinnytaste.com/wp-content/uploads/2023/07/Spicy-Salmon-Sushi-Pizza-7-260x390.jpg\"/>"
            ],
            "text/plain": [
              "<IPython.core.display.Image object>"
            ]
          },
          "metadata": {}
        },
        {
          "output_type": "stream",
          "name": "stdout",
          "text": [
            "Air Fryer Pork Chops\n"
          ]
        },
        {
          "output_type": "display_data",
          "data": {
            "text/html": [
              "<img src=\"https://www.skinnytaste.com/wp-content/uploads/2021/09/Air-Fryer-Pork-Chops-5-1-260x390.jpg\"/>"
            ],
            "text/plain": [
              "<IPython.core.display.Image object>"
            ]
          },
          "metadata": {}
        },
        {
          "output_type": "stream",
          "name": "stdout",
          "text": [
            "Pupusas\n"
          ]
        },
        {
          "output_type": "display_data",
          "data": {
            "text/html": [
              "<img src=\"https://www.skinnytaste.com/wp-content/uploads/2023/07/Pupusas-12-260x390.jpg\"/>"
            ],
            "text/plain": [
              "<IPython.core.display.Image object>"
            ]
          },
          "metadata": {}
        },
        {
          "output_type": "stream",
          "name": "stdout",
          "text": [
            "Waffled Zucchini Fritters\n"
          ]
        },
        {
          "output_type": "display_data",
          "data": {
            "text/html": [
              "<img src=\"https://www.skinnytaste.com/wp-content/uploads/2023/07/Savory-Zucchini-Waffle-Recipe-5-260x390.jpg\"/>"
            ],
            "text/plain": [
              "<IPython.core.display.Image object>"
            ]
          },
          "metadata": {}
        },
        {
          "output_type": "stream",
          "name": "stdout",
          "text": [
            "BBQ Chicken\n"
          ]
        },
        {
          "output_type": "display_data",
          "data": {
            "text/html": [
              "<img src=\"https://www.skinnytaste.com/wp-content/uploads/2023/07/BBQ-Chicken-8-260x390.jpg\"/>"
            ],
            "text/plain": [
              "<IPython.core.display.Image object>"
            ]
          },
          "metadata": {}
        },
        {
          "output_type": "stream",
          "name": "stdout",
          "text": [
            "Homemade Ferrero Rocher (Hazelnut) Date Balls\n"
          ]
        },
        {
          "output_type": "display_data",
          "data": {
            "text/html": [
              "<img src=\"https://www.skinnytaste.com/wp-content/uploads/2023/06/HomemadeFerreroRocherHazelnutDateBalls-06-260x390.jpg\"/>"
            ],
            "text/plain": [
              "<IPython.core.display.Image object>"
            ]
          },
          "metadata": {}
        },
        {
          "output_type": "stream",
          "name": "stdout",
          "text": [
            "Grilled Pesto Chicken and Tomato Kebabs\n"
          ]
        },
        {
          "output_type": "display_data",
          "data": {
            "text/html": [
              "<img src=\"https://www.skinnytaste.com/wp-content/uploads/2013/06/Grilled-Pesto-Chicken-and-Tomato-Kebabs-7-260x390.jpg\"/>"
            ],
            "text/plain": [
              "<IPython.core.display.Image object>"
            ]
          },
          "metadata": {}
        },
        {
          "output_type": "stream",
          "name": "stdout",
          "text": [
            "Chicken Burger\n"
          ]
        },
        {
          "output_type": "display_data",
          "data": {
            "text/html": [
              "<img src=\"https://www.skinnytaste.com/wp-content/uploads/2023/06/Chicken_Burger-06-260x390.jpg\"/>"
            ],
            "text/plain": [
              "<IPython.core.display.Image object>"
            ]
          },
          "metadata": {}
        },
        {
          "output_type": "stream",
          "name": "stdout",
          "text": [
            "Coleslaw Recipe\n"
          ]
        },
        {
          "output_type": "display_data",
          "data": {
            "text/html": [
              "<img src=\"https://www.skinnytaste.com/wp-content/uploads/2023/06/Cole-Slaw-7-260x390.jpg\"/>"
            ],
            "text/plain": [
              "<IPython.core.display.Image object>"
            ]
          },
          "metadata": {}
        },
        {
          "output_type": "stream",
          "name": "stdout",
          "text": [
            "Grilled Chicken Sandwich\n"
          ]
        },
        {
          "output_type": "display_data",
          "data": {
            "text/html": [
              "<img src=\"https://www.skinnytaste.com/wp-content/uploads/2023/06/Grilled-Chicken-Sandwiches-6-1-260x390.jpg\"/>"
            ],
            "text/plain": [
              "<IPython.core.display.Image object>"
            ]
          },
          "metadata": {}
        },
        {
          "output_type": "stream",
          "name": "stdout",
          "text": [
            "Grilled Pineapple\n"
          ]
        },
        {
          "output_type": "display_data",
          "data": {
            "text/html": [
              "<img src=\"https://www.skinnytaste.com/wp-content/uploads/2011/06/Grilled-Pineapple-4-260x390.jpg\"/>"
            ],
            "text/plain": [
              "<IPython.core.display.Image object>"
            ]
          },
          "metadata": {}
        },
        {
          "output_type": "stream",
          "name": "stdout",
          "text": [
            "Mediterranean Meatballs\n"
          ]
        },
        {
          "output_type": "display_data",
          "data": {
            "text/html": [
              "<img src=\"https://www.skinnytaste.com/wp-content/uploads/2023/06/Mediterranean-Meatball-Bowl-8-260x390.jpg\"/>"
            ],
            "text/plain": [
              "<IPython.core.display.Image object>"
            ]
          },
          "metadata": {}
        },
        {
          "output_type": "stream",
          "name": "stdout",
          "text": [
            "Smash Tacos\n"
          ]
        },
        {
          "output_type": "display_data",
          "data": {
            "text/html": [
              "<img src=\"https://www.skinnytaste.com/wp-content/uploads/2023/06/Smashed-Taco-10-260x390.jpg\"/>"
            ],
            "text/plain": [
              "<IPython.core.display.Image object>"
            ]
          },
          "metadata": {}
        },
        {
          "output_type": "stream",
          "name": "stdout",
          "text": [
            "Loaded Egg Muffins\n"
          ]
        },
        {
          "output_type": "display_data",
          "data": {
            "text/html": [
              "<img src=\"https://www.skinnytaste.com/wp-content/uploads/2016/02/Loaded-Baked-Omelet-Muffins-4-260x390.jpg\"/>"
            ],
            "text/plain": [
              "<IPython.core.display.Image object>"
            ]
          },
          "metadata": {}
        },
        {
          "output_type": "stream",
          "name": "stdout",
          "text": [
            "Veggie Kabobs\n"
          ]
        },
        {
          "output_type": "display_data",
          "data": {
            "text/html": [
              "<img src=\"https://www.skinnytaste.com/wp-content/uploads/2023/06/Veggie-Kabobs-7-260x390.jpg\"/>"
            ],
            "text/plain": [
              "<IPython.core.display.Image object>"
            ]
          },
          "metadata": {}
        },
        {
          "output_type": "stream",
          "name": "stdout",
          "text": [
            "Chipotle Chicken\n"
          ]
        },
        {
          "output_type": "display_data",
          "data": {
            "text/html": [
              "<img src=\"https://www.skinnytaste.com/wp-content/uploads/2023/06/Chipotle-Chicken-Thighs-7-260x390.jpg\"/>"
            ],
            "text/plain": [
              "<IPython.core.display.Image object>"
            ]
          },
          "metadata": {}
        },
        {
          "output_type": "stream",
          "name": "stdout",
          "text": [
            "Italian Pasta Salad\n"
          ]
        },
        {
          "output_type": "display_data",
          "data": {
            "text/html": [
              "<img src=\"https://www.skinnytaste.com/wp-content/uploads/2023/06/Italian-Pasta-Salad-7-260x390.jpg\"/>"
            ],
            "text/plain": [
              "<IPython.core.display.Image object>"
            ]
          },
          "metadata": {}
        },
        {
          "output_type": "stream",
          "name": "stdout",
          "text": [
            "How To Cook Quinoa\n"
          ]
        },
        {
          "output_type": "display_data",
          "data": {
            "text/html": [
              "<img src=\"https://www.skinnytaste.com/wp-content/uploads/2019/08/How-To-Make-Perfect-Quinoa-in-the-Instant-Pot-9-260x390.jpg\"/>"
            ],
            "text/plain": [
              "<IPython.core.display.Image object>"
            ]
          },
          "metadata": {}
        },
        {
          "output_type": "stream",
          "name": "stdout",
          "text": [
            "Protein Bagels with Cottage Cheese\n"
          ]
        },
        {
          "output_type": "display_data",
          "data": {
            "text/html": [
              "<img src=\"https://www.skinnytaste.com/wp-content/uploads/2023/06/Protein-Bagels-4-260x390.jpg\"/>"
            ],
            "text/plain": [
              "<IPython.core.display.Image object>"
            ]
          },
          "metadata": {}
        },
        {
          "output_type": "stream",
          "name": "stdout",
          "text": [
            "Turkey Burger Recipe\n"
          ]
        },
        {
          "output_type": "display_data",
          "data": {
            "text/html": [
              "<img src=\"https://www.skinnytaste.com/wp-content/uploads/2023/06/turkey-burgers-2-260x390.jpg\"/>"
            ],
            "text/plain": [
              "<IPython.core.display.Image object>"
            ]
          },
          "metadata": {}
        },
        {
          "output_type": "stream",
          "name": "stdout",
          "text": [
            "Greek Cottage Cheese Bowl\n"
          ]
        },
        {
          "output_type": "display_data",
          "data": {
            "text/html": [
              "<img src=\"https://www.skinnytaste.com/wp-content/uploads/2023/05/Skinny_Taste_Greek_Cottage_cheese_bowl-7-260x390.jpg\"/>"
            ],
            "text/plain": [
              "<IPython.core.display.Image object>"
            ]
          },
          "metadata": {}
        },
        {
          "output_type": "stream",
          "name": "stdout",
          "text": [
            "Taco Seasoning Recipe\n"
          ]
        },
        {
          "output_type": "display_data",
          "data": {
            "text/html": [
              "<img src=\"https://www.skinnytaste.com/wp-content/uploads/2023/06/Taco-Seasoning-Recipe-2-260x390.jpg\"/>"
            ],
            "text/plain": [
              "<IPython.core.display.Image object>"
            ]
          },
          "metadata": {}
        },
        {
          "output_type": "stream",
          "name": "stdout",
          "text": [
            "Mexican-Inspired Grilled Corn Salad with Cotija\n"
          ]
        },
        {
          "output_type": "display_data",
          "data": {
            "text/html": [
              "<img src=\"https://www.skinnytaste.com/wp-content/uploads/2022/06/Grilled-Corn-Salad-with-Cojita-6-260x390.jpg\"/>"
            ],
            "text/plain": [
              "<IPython.core.display.Image object>"
            ]
          },
          "metadata": {}
        },
        {
          "output_type": "stream",
          "name": "stdout",
          "text": [
            "Grilled Asparagus\n"
          ]
        },
        {
          "output_type": "display_data",
          "data": {
            "text/html": [
              "<img src=\"https://www.skinnytaste.com/wp-content/uploads/2023/06/Grilled-Asparagus-2-260x390.jpg\"/>"
            ],
            "text/plain": [
              "<IPython.core.display.Image object>"
            ]
          },
          "metadata": {}
        },
        {
          "output_type": "stream",
          "name": "stdout",
          "text": [
            "Chicken Summer Rolls\n"
          ]
        },
        {
          "output_type": "display_data",
          "data": {
            "text/html": [
              "<img src=\"https://www.skinnytaste.com/wp-content/uploads/2023/05/Chicken-Summer-Rolls-9-260x390.jpg\"/>"
            ],
            "text/plain": [
              "<IPython.core.display.Image object>"
            ]
          },
          "metadata": {}
        },
        {
          "output_type": "stream",
          "name": "stdout",
          "text": [
            "Cheesy Stuffed Chicken Breast with Zucchini\n"
          ]
        },
        {
          "output_type": "display_data",
          "data": {
            "text/html": [
              "<img src=\"https://www.skinnytaste.com/wp-content/uploads/2023/05/Cheesy-Stuffed-Chicken-Breast-with-Zucchini-8-260x390.jpg\"/>"
            ],
            "text/plain": [
              "<IPython.core.display.Image object>"
            ]
          },
          "metadata": {}
        },
        {
          "output_type": "stream",
          "name": "stdout",
          "text": [
            "Lamb Keema with Peas\n"
          ]
        },
        {
          "output_type": "display_data",
          "data": {
            "text/html": [
              "<img src=\"https://www.skinnytaste.com/wp-content/uploads/2009/05/lamb-kheema-07-260x390.jpg\"/>"
            ],
            "text/plain": [
              "<IPython.core.display.Image object>"
            ]
          },
          "metadata": {}
        },
        {
          "output_type": "stream",
          "name": "stdout",
          "text": [
            "Pickled Red Onions\n"
          ]
        },
        {
          "output_type": "display_data",
          "data": {
            "text/html": [
              "<img src=\"https://www.skinnytaste.com/wp-content/uploads/2023/05/Skinny-taste-pickled-onions-07-260x390.jpg\"/>"
            ],
            "text/plain": [
              "<IPython.core.display.Image object>"
            ]
          },
          "metadata": {}
        },
        {
          "output_type": "stream",
          "name": "stdout",
          "text": [
            "Macaroni Salad with Tomatoes\n"
          ]
        },
        {
          "output_type": "display_data",
          "data": {
            "text/html": [
              "<img src=\"https://www.skinnytaste.com/wp-content/uploads/2009/05/Macaroni-Salad-with-Tomatoes-8-260x390.jpg\"/>"
            ],
            "text/plain": [
              "<IPython.core.display.Image object>"
            ]
          },
          "metadata": {}
        },
        {
          "output_type": "stream",
          "name": "stdout",
          "text": [
            "How To Grill Corn on The Cob\n"
          ]
        },
        {
          "output_type": "display_data",
          "data": {
            "text/html": [
              "<img src=\"https://www.skinnytaste.com/wp-content/uploads/2023/05/Skinny-taste-how-to-grill-corn-on-the-cob-01-260x390.jpg\"/>"
            ],
            "text/plain": [
              "<IPython.core.display.Image object>"
            ]
          },
          "metadata": {}
        },
        {
          "output_type": "stream",
          "name": "stdout",
          "text": [
            "Blackened Grilled Salmon Skewers\n"
          ]
        },
        {
          "output_type": "display_data",
          "data": {
            "text/html": [
              "<img src=\"https://www.skinnytaste.com/wp-content/uploads/2023/05/blackened-salmon-skewers-3-2-260x390.jpg\"/>"
            ],
            "text/plain": [
              "<IPython.core.display.Image object>"
            ]
          },
          "metadata": {}
        },
        {
          "output_type": "stream",
          "name": "stdout",
          "text": [
            "Cilantro Lime Shrimp\n"
          ]
        },
        {
          "output_type": "display_data",
          "data": {
            "text/html": [
              "<img src=\"https://www.skinnytaste.com/wp-content/uploads/2018/01/Cilantro-Lime-Shrimp-6-260x390.jpg\"/>"
            ],
            "text/plain": [
              "<IPython.core.display.Image object>"
            ]
          },
          "metadata": {}
        },
        {
          "output_type": "stream",
          "name": "stdout",
          "text": [
            "The Best Grilled Chicken Breast\n"
          ]
        },
        {
          "output_type": "display_data",
          "data": {
            "text/html": [
              "<img src=\"https://www.skinnytaste.com/wp-content/uploads/2023/05/Grilled-Chicken-Breast-7-260x390.jpg\"/>"
            ],
            "text/plain": [
              "<IPython.core.display.Image object>"
            ]
          },
          "metadata": {}
        },
        {
          "output_type": "stream",
          "name": "stdout",
          "text": [
            "Creamy Cucumber Salad\n"
          ]
        },
        {
          "output_type": "display_data",
          "data": {
            "text/html": [
              "<img src=\"https://www.skinnytaste.com/wp-content/uploads/2023/05/Creamy-Cucumber-Salad-7-260x390.jpg\"/>"
            ],
            "text/plain": [
              "<IPython.core.display.Image object>"
            ]
          },
          "metadata": {}
        },
        {
          "output_type": "stream",
          "name": "stdout",
          "text": [
            "Blueberry Galette\n"
          ]
        },
        {
          "output_type": "display_data",
          "data": {
            "text/html": [
              "<img src=\"https://www.skinnytaste.com/wp-content/uploads/2023/05/Blueberry-Galette-6-260x390.jpg\"/>"
            ],
            "text/plain": [
              "<IPython.core.display.Image object>"
            ]
          },
          "metadata": {}
        },
        {
          "output_type": "stream",
          "name": "stdout",
          "text": [
            "Broccoli and Cheese Egg Muffins\n"
          ]
        },
        {
          "output_type": "display_data",
          "data": {
            "text/html": [
              "<img src=\"https://www.skinnytaste.com/wp-content/uploads/2013/04/Broccoli-and-Cheese-Egg-Muffins-9-260x390.jpg\"/>"
            ],
            "text/plain": [
              "<IPython.core.display.Image object>"
            ]
          },
          "metadata": {}
        },
        {
          "output_type": "stream",
          "name": "stdout",
          "text": [
            "Air Fryer Sweet Potato Fries\n"
          ]
        },
        {
          "output_type": "display_data",
          "data": {
            "text/html": [
              "<img src=\"https://www.skinnytaste.com/wp-content/uploads/2017/12/air-fryer-sweet-potato-fries-1-6-260x390.jpg\"/>"
            ],
            "text/plain": [
              "<IPython.core.display.Image object>"
            ]
          },
          "metadata": {}
        },
        {
          "output_type": "stream",
          "name": "stdout",
          "text": [
            "Pesto Pasta with Arugula, Asparagus, Peas, and Pistachios\n"
          ]
        },
        {
          "output_type": "display_data",
          "data": {
            "text/html": [
              "<img src=\"https://www.skinnytaste.com/wp-content/uploads/2023/05/Pesto-Pasta-Salad-7-260x390.jpg\"/>"
            ],
            "text/plain": [
              "<IPython.core.display.Image object>"
            ]
          },
          "metadata": {}
        },
        {
          "output_type": "stream",
          "name": "stdout",
          "text": [
            "Red Potato Salad\n"
          ]
        },
        {
          "output_type": "display_data",
          "data": {
            "text/html": [
              "<img src=\"https://www.skinnytaste.com/wp-content/uploads/2009/06/Baby-Red-Potato-Salad-5-260x390.jpg\"/>"
            ],
            "text/plain": [
              "<IPython.core.display.Image object>"
            ]
          },
          "metadata": {}
        },
        {
          "output_type": "stream",
          "name": "stdout",
          "text": [
            "Grilled Potatoes\n"
          ]
        },
        {
          "output_type": "display_data",
          "data": {
            "text/html": [
              "<img src=\"https://www.skinnytaste.com/wp-content/uploads/2012/06/grilled-potatoes-260x390.jpg\"/>"
            ],
            "text/plain": [
              "<IPython.core.display.Image object>"
            ]
          },
          "metadata": {}
        },
        {
          "output_type": "stream",
          "name": "stdout",
          "text": [
            "Lentil Curry\n"
          ]
        },
        {
          "output_type": "display_data",
          "data": {
            "text/html": [
              "<img src=\"https://www.skinnytaste.com/wp-content/uploads/2023/05/Lentil-Curry-7-260x390.jpg\"/>"
            ],
            "text/plain": [
              "<IPython.core.display.Image object>"
            ]
          },
          "metadata": {}
        },
        {
          "output_type": "stream",
          "name": "stdout",
          "text": [
            "Hot Dog Onions\n"
          ]
        },
        {
          "output_type": "display_data",
          "data": {
            "text/html": [
              "<img src=\"https://www.skinnytaste.com/wp-content/uploads/2023/05/Hot-Dog-Onions-10-260x390.jpg\"/>"
            ],
            "text/plain": [
              "<IPython.core.display.Image object>"
            ]
          },
          "metadata": {}
        },
        {
          "output_type": "stream",
          "name": "stdout",
          "text": [
            "Creamy Orzo with Asparagus and Peas\n"
          ]
        },
        {
          "output_type": "display_data",
          "data": {
            "text/html": [
              "<img src=\"https://www.skinnytaste.com/wp-content/uploads/2023/05/Creamy-Orzo-with-Asparagus-and-Peas-6-1-260x390.jpg\"/>"
            ],
            "text/plain": [
              "<IPython.core.display.Image object>"
            ]
          },
          "metadata": {}
        },
        {
          "output_type": "stream",
          "name": "stdout",
          "text": [
            "High-Protein Cottage Cheese Veggie Dip with Za’atar\n"
          ]
        },
        {
          "output_type": "display_data",
          "data": {
            "text/html": [
              "<img src=\"https://www.skinnytaste.com/wp-content/uploads/2023/05/High-Protein-Cottage-Cheese-Veggie-Dip-5-260x390.jpg\"/>"
            ],
            "text/plain": [
              "<IPython.core.display.Image object>"
            ]
          },
          "metadata": {}
        },
        {
          "output_type": "stream",
          "name": "stdout",
          "text": [
            "Artichoke Dip\n"
          ]
        },
        {
          "output_type": "display_data",
          "data": {
            "text/html": [
              "<img src=\"https://www.skinnytaste.com/wp-content/uploads/2010/12/Skinny-Artichoke-Dip-7-260x390.jpg\"/>"
            ],
            "text/plain": [
              "<IPython.core.display.Image object>"
            ]
          },
          "metadata": {}
        },
        {
          "output_type": "stream",
          "name": "stdout",
          "text": [
            "Spicy Shrimp Francese with Calabrian Chili\n"
          ]
        },
        {
          "output_type": "display_data",
          "data": {
            "text/html": [
              "<img src=\"https://www.skinnytaste.com/wp-content/uploads/2023/05/Spicy-Shrimp-Francese-with-Calabrian-Chili-7-260x390.jpg\"/>"
            ],
            "text/plain": [
              "<IPython.core.display.Image object>"
            ]
          },
          "metadata": {}
        },
        {
          "output_type": "stream",
          "name": "stdout",
          "text": [
            "Yogurt-Marinated Chicken\n"
          ]
        },
        {
          "output_type": "display_data",
          "data": {
            "text/html": [
              "<img src=\"https://www.skinnytaste.com/wp-content/uploads/2023/05/Yogurt-Marinated-Chicken-6-260x390.jpg\"/>"
            ],
            "text/plain": [
              "<IPython.core.display.Image object>"
            ]
          },
          "metadata": {}
        },
        {
          "output_type": "stream",
          "name": "stdout",
          "text": [
            "English Muffin Breakfast Sandwich\n"
          ]
        },
        {
          "output_type": "display_data",
          "data": {
            "text/html": [
              "<img src=\"https://www.skinnytaste.com/wp-content/uploads/2023/05/English-Muffin-Egg-Sandwich-8-2-260x390.jpg\"/>"
            ],
            "text/plain": [
              "<IPython.core.display.Image object>"
            ]
          },
          "metadata": {}
        },
        {
          "output_type": "stream",
          "name": "stdout",
          "text": [
            "Best Guacamole Recipe\n"
          ]
        },
        {
          "output_type": "display_data",
          "data": {
            "text/html": [
              "<img src=\"https://www.skinnytaste.com/wp-content/uploads/2017/01/Guacamole-6-260x390.jpg\"/>"
            ],
            "text/plain": [
              "<IPython.core.display.Image object>"
            ]
          },
          "metadata": {}
        },
        {
          "output_type": "stream",
          "name": "stdout",
          "text": [
            "The BEST Chicken Enchilada Recipe\n"
          ]
        },
        {
          "output_type": "display_data",
          "data": {
            "text/html": [
              "<img src=\"https://www.skinnytaste.com/wp-content/uploads/2011/08/Gina-Skinny-Chicken-Enchiladas-4-3-260x390.jpg\"/>"
            ],
            "text/plain": [
              "<IPython.core.display.Image object>"
            ]
          },
          "metadata": {}
        },
        {
          "output_type": "stream",
          "name": "stdout",
          "text": [
            "Pico de Gallo\n"
          ]
        },
        {
          "output_type": "display_data",
          "data": {
            "text/html": [
              "<img src=\"https://www.skinnytaste.com/wp-content/uploads/2008/05/Pico-de-Gallo-9-260x390.jpg\"/>"
            ],
            "text/plain": [
              "<IPython.core.display.Image object>"
            ]
          },
          "metadata": {}
        },
        {
          "output_type": "stream",
          "name": "stdout",
          "text": [
            "Shrimp Tacos\n"
          ]
        },
        {
          "output_type": "display_data",
          "data": {
            "text/html": [
              "<img src=\"https://www.skinnytaste.com/wp-content/uploads/2023/05/shrimp-tacos-1-260x390.jpg\"/>"
            ],
            "text/plain": [
              "<IPython.core.display.Image object>"
            ]
          },
          "metadata": {}
        },
        {
          "output_type": "stream",
          "name": "stdout",
          "text": [
            "Greek Tofu Bowls\n"
          ]
        },
        {
          "output_type": "display_data",
          "data": {
            "text/html": [
              "<img src=\"https://www.skinnytaste.com/wp-content/uploads/2023/05/Greek-Tofu-Bowl-9-260x390.jpg\"/>"
            ],
            "text/plain": [
              "<IPython.core.display.Image object>"
            ]
          },
          "metadata": {}
        },
        {
          "output_type": "stream",
          "name": "stdout",
          "text": [
            "Angel Hair Pasta with Shrimp and Tomato Cream Sauce\n"
          ]
        },
        {
          "output_type": "display_data",
          "data": {
            "text/html": [
              "<img src=\"https://www.skinnytaste.com/wp-content/uploads/2010/01/Angel-Hair-with-Shrimp-and-Tomato-Sauce-6-260x390.jpg\"/>"
            ],
            "text/plain": [
              "<IPython.core.display.Image object>"
            ]
          },
          "metadata": {}
        },
        {
          "output_type": "stream",
          "name": "stdout",
          "text": [
            "Lasagna Roll Ups With Cottage Cheese\n"
          ]
        },
        {
          "output_type": "display_data",
          "data": {
            "text/html": [
              "<img src=\"https://www.skinnytaste.com/wp-content/uploads/2023/04/Cottage-Cheese-Lasagna-Rolls-6-260x390.jpg\"/>"
            ],
            "text/plain": [
              "<IPython.core.display.Image object>"
            ]
          },
          "metadata": {}
        },
        {
          "output_type": "stream",
          "name": "stdout",
          "text": [
            "Air Fryer Salmon Patties\n"
          ]
        },
        {
          "output_type": "display_data",
          "data": {
            "text/html": [
              "<img src=\"https://www.skinnytaste.com/wp-content/uploads/2023/04/Air-Fryer-Salmon-Patties-5-260x390.jpg\"/>"
            ],
            "text/plain": [
              "<IPython.core.display.Image object>"
            ]
          },
          "metadata": {}
        },
        {
          "output_type": "stream",
          "name": "stdout",
          "text": [
            "Mexican Shrimp Cobb Salad\n"
          ]
        },
        {
          "output_type": "display_data",
          "data": {
            "text/html": [
              "<img src=\"https://www.skinnytaste.com/wp-content/uploads/2011/07/Mexican-Cobb-Salad-1-4-260x390.jpg\"/>"
            ],
            "text/plain": [
              "<IPython.core.display.Image object>"
            ]
          },
          "metadata": {}
        },
        {
          "output_type": "stream",
          "name": "stdout",
          "text": [
            "Roasted Strawberry Almond Flour Muffins\n"
          ]
        },
        {
          "output_type": "display_data",
          "data": {
            "text/html": [
              "<img src=\"https://www.skinnytaste.com/wp-content/uploads/2023/04/Roasted-Strawberry-Almond-Flour-Muffins-8-260x390.jpg\"/>"
            ],
            "text/plain": [
              "<IPython.core.display.Image object>"
            ]
          },
          "metadata": {}
        },
        {
          "output_type": "stream",
          "name": "stdout",
          "text": [
            "Fiesta Bean Salad\n"
          ]
        },
        {
          "output_type": "display_data",
          "data": {
            "text/html": [
              "<img src=\"https://www.skinnytaste.com/wp-content/uploads/2013/04/Fiesta-Bean-Salad-5-260x390.jpg\"/>"
            ],
            "text/plain": [
              "<IPython.core.display.Image object>"
            ]
          },
          "metadata": {}
        },
        {
          "output_type": "stream",
          "name": "stdout",
          "text": [
            "Ground Beef and Broccoli Stir Fry\n"
          ]
        },
        {
          "output_type": "display_data",
          "data": {
            "text/html": [
              "<img src=\"https://www.skinnytaste.com/wp-content/uploads/2023/04/Ground-Beef-and-Broccoli-8-260x390.jpg\"/>"
            ],
            "text/plain": [
              "<IPython.core.display.Image object>"
            ]
          },
          "metadata": {}
        },
        {
          "output_type": "stream",
          "name": "stdout",
          "text": [
            "Roasted Mushrooms with Parmesan\n"
          ]
        },
        {
          "output_type": "display_data",
          "data": {
            "text/html": [
              "<img src=\"https://www.skinnytaste.com/wp-content/uploads/2023/04/Roasted-Mushroom-Medley-with-Parmesan-5-260x390.jpg\"/>"
            ],
            "text/plain": [
              "<IPython.core.display.Image object>"
            ]
          },
          "metadata": {}
        },
        {
          "output_type": "stream",
          "name": "stdout",
          "text": [
            "Huevos Pericos\n"
          ]
        },
        {
          "output_type": "display_data",
          "data": {
            "text/html": [
              "<img src=\"https://www.skinnytaste.com/wp-content/uploads/2008/03/Huevos-Pericos-7-260x390.jpg\"/>"
            ],
            "text/plain": [
              "<IPython.core.display.Image object>"
            ]
          },
          "metadata": {}
        },
        {
          "output_type": "stream",
          "name": "stdout",
          "text": [
            "Chicken Satay with Spicy Peanut Sauce\n"
          ]
        },
        {
          "output_type": "display_data",
          "data": {
            "text/html": [
              "<img src=\"https://www.skinnytaste.com/wp-content/uploads/2016/06/Grilled-Chicken-Satay-with-Spicy-Peanut-Sauce-7-260x390.jpg\"/>"
            ],
            "text/plain": [
              "<IPython.core.display.Image object>"
            ]
          },
          "metadata": {}
        },
        {
          "output_type": "stream",
          "name": "stdout",
          "text": [
            "Open Faced Tuna Sandwich with Avocado\n"
          ]
        },
        {
          "output_type": "display_data",
          "data": {
            "text/html": [
              "<img src=\"https://www.skinnytaste.com/wp-content/uploads/2019/01/Open-Faced-Tuna-Sandwich-7-260x390.jpg\"/>"
            ],
            "text/plain": [
              "<IPython.core.display.Image object>"
            ]
          },
          "metadata": {}
        },
        {
          "output_type": "stream",
          "name": "stdout",
          "text": [
            "Ropa Vieja\n"
          ]
        },
        {
          "output_type": "display_data",
          "data": {
            "text/html": [
              "<img src=\"https://www.skinnytaste.com/wp-content/uploads/2023/03/Instant-Pot-Ropa-Vieja-10-260x390.jpg\"/>"
            ],
            "text/plain": [
              "<IPython.core.display.Image object>"
            ]
          },
          "metadata": {}
        },
        {
          "output_type": "stream",
          "name": "stdout",
          "text": [
            "Green Smoothie Bowl\n"
          ]
        },
        {
          "output_type": "display_data",
          "data": {
            "text/html": [
              "<img src=\"https://www.skinnytaste.com/wp-content/uploads/2023/04/Green-Smoothie-Bowl-5-260x390.jpg\"/>"
            ],
            "text/plain": [
              "<IPython.core.display.Image object>"
            ]
          },
          "metadata": {}
        },
        {
          "output_type": "stream",
          "name": "stdout",
          "text": [
            "Carrot Cake Recipe with Cream Cheese Frosting\n"
          ]
        },
        {
          "output_type": "display_data",
          "data": {
            "text/html": [
              "<img src=\"https://www.skinnytaste.com/wp-content/uploads/2010/03/Carrot-Cake-1-8-260x390.jpg\"/>"
            ],
            "text/plain": [
              "<IPython.core.display.Image object>"
            ]
          },
          "metadata": {}
        },
        {
          "output_type": "stream",
          "name": "stdout",
          "text": [
            "Insanely Good Blueberry Oatmeal Muffins\n"
          ]
        },
        {
          "output_type": "display_data",
          "data": {
            "text/html": [
              "<img src=\"https://www.skinnytaste.com/wp-content/uploads/2012/03/Blueberry-Oatmeal-Muffins-10-260x390.jpg\"/>"
            ],
            "text/plain": [
              "<IPython.core.display.Image object>"
            ]
          },
          "metadata": {}
        },
        {
          "output_type": "stream",
          "name": "stdout",
          "text": [
            "20-Minute Veggie Lo Mein Bowl\n"
          ]
        },
        {
          "output_type": "display_data",
          "data": {
            "text/html": [
              "<img src=\"https://www.skinnytaste.com/wp-content/uploads/2023/04/20-Minute-Lo-Mein-5-260x390.jpg\"/>"
            ],
            "text/plain": [
              "<IPython.core.display.Image object>"
            ]
          },
          "metadata": {}
        },
        {
          "output_type": "stream",
          "name": "stdout",
          "text": [
            "Roasted Carrots\n"
          ]
        },
        {
          "output_type": "display_data",
          "data": {
            "text/html": [
              "<img src=\"https://www.skinnytaste.com/wp-content/uploads/2022/12/Herb-Roasted-Carrots-1-5-260x390.jpg\"/>"
            ],
            "text/plain": [
              "<IPython.core.display.Image object>"
            ]
          },
          "metadata": {}
        },
        {
          "output_type": "stream",
          "name": "stdout",
          "text": [
            "Artichoke Pie\n"
          ]
        },
        {
          "output_type": "display_data",
          "data": {
            "text/html": [
              "<img src=\"https://www.skinnytaste.com/wp-content/uploads/2023/03/Artichoke-Pie-6-260x390.jpg\"/>"
            ],
            "text/plain": [
              "<IPython.core.display.Image object>"
            ]
          },
          "metadata": {}
        },
        {
          "output_type": "stream",
          "name": "stdout",
          "text": [
            "Ground Turkey with Potatoes and Spring Peas\n"
          ]
        },
        {
          "output_type": "display_data",
          "data": {
            "text/html": [
              "<img src=\"https://www.skinnytaste.com/wp-content/uploads/2011/05/Ground-Turkey-with-Potatoes_1-8-260x390.jpg\"/>"
            ],
            "text/plain": [
              "<IPython.core.display.Image object>"
            ]
          },
          "metadata": {}
        },
        {
          "output_type": "stream",
          "name": "stdout",
          "text": [
            "Italian Sub Broccoli Salad\n"
          ]
        },
        {
          "output_type": "display_data",
          "data": {
            "text/html": [
              "<img src=\"https://www.skinnytaste.com/wp-content/uploads/2023/03/Italian-Sub-Broccoli-Spoon-Salad-5-260x390.jpg\"/>"
            ],
            "text/plain": [
              "<IPython.core.display.Image object>"
            ]
          },
          "metadata": {}
        },
        {
          "output_type": "stream",
          "name": "stdout",
          "text": [
            "5-Ingredient Salmon Salad (easy lunch idea)\n"
          ]
        },
        {
          "output_type": "display_data",
          "data": {
            "text/html": [
              "<img src=\"https://www.skinnytaste.com/wp-content/uploads/2023/03/Salmon-Salad-5-260x390.jpg\"/>"
            ],
            "text/plain": [
              "<IPython.core.display.Image object>"
            ]
          },
          "metadata": {}
        },
        {
          "output_type": "stream",
          "name": "stdout",
          "text": [
            "Baked Shrimp Parmesan Hero\n"
          ]
        },
        {
          "output_type": "display_data",
          "data": {
            "text/html": [
              "<img src=\"https://www.skinnytaste.com/wp-content/uploads/2011/09/Shrimp-Parmigiana-Hero-9-260x390.jpg\"/>"
            ],
            "text/plain": [
              "<IPython.core.display.Image object>"
            ]
          },
          "metadata": {}
        },
        {
          "output_type": "stream",
          "name": "stdout",
          "text": [
            "Parmesan Asparagus Fries\n"
          ]
        },
        {
          "output_type": "display_data",
          "data": {
            "text/html": [
              "<img src=\"https://www.skinnytaste.com/wp-content/uploads/2023/03/Parmesan-Asparagus-Fries-6-260x390.jpg\"/>"
            ],
            "text/plain": [
              "<IPython.core.display.Image object>"
            ]
          },
          "metadata": {}
        },
        {
          "output_type": "stream",
          "name": "stdout",
          "text": [
            "Broiled Tilapia Oreganata\n"
          ]
        },
        {
          "output_type": "display_data",
          "data": {
            "text/html": [
              "<img src=\"https://www.skinnytaste.com/wp-content/uploads/2008/03/Broild-Tilapia-Oreganata-7-260x390.jpg\"/>"
            ],
            "text/plain": [
              "<IPython.core.display.Image object>"
            ]
          },
          "metadata": {}
        },
        {
          "output_type": "stream",
          "name": "stdout",
          "text": [
            "Hash Brown Egg White Nests\n"
          ]
        },
        {
          "output_type": "display_data",
          "data": {
            "text/html": [
              "<img src=\"https://www.skinnytaste.com/wp-content/uploads/2011/06/Hash-Brown-Egg-White-Nests-6-260x390.jpg\"/>"
            ],
            "text/plain": [
              "<IPython.core.display.Image object>"
            ]
          },
          "metadata": {}
        },
        {
          "output_type": "stream",
          "name": "stdout",
          "text": [
            "Tofu Poke Bowl\n"
          ]
        },
        {
          "output_type": "display_data",
          "data": {
            "text/html": [
              "<img src=\"https://www.skinnytaste.com/wp-content/uploads/2023/03/Tofu-Poke-Bowl-8-260x390.jpg\"/>"
            ],
            "text/plain": [
              "<IPython.core.display.Image object>"
            ]
          },
          "metadata": {}
        },
        {
          "output_type": "stream",
          "name": "stdout",
          "text": [
            "Broccoli Cheddar Soup\n"
          ]
        },
        {
          "output_type": "display_data",
          "data": {
            "text/html": [
              "<img src=\"https://www.skinnytaste.com/wp-content/uploads/2023/03/Broccoli-Cheddar-Soup-8-260x390.jpg\"/>"
            ],
            "text/plain": [
              "<IPython.core.display.Image object>"
            ]
          },
          "metadata": {}
        },
        {
          "output_type": "stream",
          "name": "stdout",
          "text": [
            "Baked Salmon Cakes\n"
          ]
        },
        {
          "output_type": "display_data",
          "data": {
            "text/html": [
              "<img src=\"https://www.skinnytaste.com/wp-content/uploads/2013/12/Baked-Salmon-Cakes-6-260x390.jpg\"/>"
            ],
            "text/plain": [
              "<IPython.core.display.Image object>"
            ]
          },
          "metadata": {}
        },
        {
          "output_type": "stream",
          "name": "stdout",
          "text": [
            "Classic Chicken Salad Recipe\n"
          ]
        },
        {
          "output_type": "display_data",
          "data": {
            "text/html": [
              "<img src=\"https://www.skinnytaste.com/wp-content/uploads/2008/07/Classic-Chicken-Salad-4-260x390.jpg\"/>"
            ],
            "text/plain": [
              "<IPython.core.display.Image object>"
            ]
          },
          "metadata": {}
        },
        {
          "output_type": "stream",
          "name": "stdout",
          "text": [
            "Turkey Shepherd’s Pie Stuffed Sweet Potato\n"
          ]
        },
        {
          "output_type": "display_data",
          "data": {
            "text/html": [
              "<img src=\"https://www.skinnytaste.com/wp-content/uploads/2023/03/Shepherds-Pie-Stuffed-Sweet-Potato-7-260x390.jpg\"/>"
            ],
            "text/plain": [
              "<IPython.core.display.Image object>"
            ]
          },
          "metadata": {}
        },
        {
          "output_type": "stream",
          "name": "stdout",
          "text": [
            "Filipino Chicken Adobo\n"
          ]
        },
        {
          "output_type": "display_data",
          "data": {
            "text/html": [
              "<img src=\"https://www.skinnytaste.com/wp-content/uploads/2010/11/Filipino-Adobo-Chicken-1-3-260x390.jpg\"/>"
            ],
            "text/plain": [
              "<IPython.core.display.Image object>"
            ]
          },
          "metadata": {}
        },
        {
          "output_type": "stream",
          "name": "stdout",
          "text": [
            "Linguini and Shrimp Fra Diavolo\n"
          ]
        },
        {
          "output_type": "display_data",
          "data": {
            "text/html": [
              "<img src=\"https://www.skinnytaste.com/wp-content/uploads/2012/05/Linguine-and-Shrimp-Fra-Diavolo-7-260x390.jpg\"/>"
            ],
            "text/plain": [
              "<IPython.core.display.Image object>"
            ]
          },
          "metadata": {}
        },
        {
          "output_type": "stream",
          "name": "stdout",
          "text": [
            "Honey-Mustard Air Fryer Pork Chops\n"
          ]
        },
        {
          "output_type": "display_data",
          "data": {
            "text/html": [
              "<img src=\"https://www.skinnytaste.com/wp-content/uploads/2023/02/Air-Fryer-Honey-Mustard-Pork-Chops-8-260x390.jpg\"/>"
            ],
            "text/plain": [
              "<IPython.core.display.Image object>"
            ]
          },
          "metadata": {}
        },
        {
          "output_type": "stream",
          "name": "stdout",
          "text": [
            "Tropical Chia Pudding Breakfast Bowl (High Protein)\n"
          ]
        },
        {
          "output_type": "display_data",
          "data": {
            "text/html": [
              "<img src=\"https://www.skinnytaste.com/wp-content/uploads/2023/02/Tropical-Chia-Pudding-Breakfast-Bowl-11-260x390.jpg\"/>"
            ],
            "text/plain": [
              "<IPython.core.display.Image object>"
            ]
          },
          "metadata": {}
        },
        {
          "output_type": "stream",
          "name": "stdout",
          "text": [
            "Short Rib Soup (Instant Pot or Stove)\n"
          ]
        },
        {
          "output_type": "display_data",
          "data": {
            "text/html": [
              "<img src=\"https://www.skinnytaste.com/wp-content/uploads/2023/03/Short-Rib-Soup-10-260x390.jpg\"/>"
            ],
            "text/plain": [
              "<IPython.core.display.Image object>"
            ]
          },
          "metadata": {}
        },
        {
          "output_type": "stream",
          "name": "stdout",
          "text": [
            "30-Minute Shrimp, Peas and Rice\n"
          ]
        },
        {
          "output_type": "display_data",
          "data": {
            "text/html": [
              "<img src=\"https://www.skinnytaste.com/wp-content/uploads/2009/05/Shrimp-Peas-_-Rice-9-260x390.jpg\"/>"
            ],
            "text/plain": [
              "<IPython.core.display.Image object>"
            ]
          },
          "metadata": {}
        },
        {
          "output_type": "stream",
          "name": "stdout",
          "text": [
            "Honey Sriracha Roasted Salmon Rice Bowls (GF, DF)\n"
          ]
        },
        {
          "output_type": "display_data",
          "data": {
            "text/html": [
              "<img src=\"https://www.skinnytaste.com/wp-content/uploads/2023/02/Honey-Sriracha-Roasted-Salmon-Bowls-7-260x390.jpg\"/>"
            ],
            "text/plain": [
              "<IPython.core.display.Image object>"
            ]
          },
          "metadata": {}
        },
        {
          "output_type": "stream",
          "name": "stdout",
          "text": [
            "Wild Mushroom and Farro Soup\n"
          ]
        },
        {
          "output_type": "display_data",
          "data": {
            "text/html": [
              "<img src=\"https://www.skinnytaste.com/wp-content/uploads/2023/02/Wild-Mushroom-_-Farro-Soup-3-260x390.jpg\"/>"
            ],
            "text/plain": [
              "<IPython.core.display.Image object>"
            ]
          },
          "metadata": {}
        },
        {
          "output_type": "stream",
          "name": "stdout",
          "text": [
            "Cabbage Soup with Chicken and Pork\n"
          ]
        },
        {
          "output_type": "display_data",
          "data": {
            "text/html": [
              "<img src=\"https://www.skinnytaste.com/wp-content/uploads/2009/02/Cabbage-Soup-with-Chicken-and-Pork-6-260x390.jpg\"/>"
            ],
            "text/plain": [
              "<IPython.core.display.Image object>"
            ]
          },
          "metadata": {}
        },
        {
          "output_type": "stream",
          "name": "stdout",
          "text": [
            "Spicy Gochujang Tofu Bowl (Vegan, Gluten-Free)\n"
          ]
        },
        {
          "output_type": "display_data",
          "data": {
            "text/html": [
              "<img src=\"https://www.skinnytaste.com/wp-content/uploads/2023/02/Spicy-Gochujang-Tofu-Bowls-6-260x390.jpg\"/>"
            ],
            "text/plain": [
              "<IPython.core.display.Image object>"
            ]
          },
          "metadata": {}
        },
        {
          "output_type": "stream",
          "name": "stdout",
          "text": [
            "Air Fryer Salmon with Maple Soy Glaze (5 Ingredients)\n"
          ]
        },
        {
          "output_type": "display_data",
          "data": {
            "text/html": [
              "<img src=\"https://www.skinnytaste.com/wp-content/uploads/2019/08/Air-Fryer-Salmon-with-Maple-Soy-Glaze-7-260x390.jpg\"/>"
            ],
            "text/plain": [
              "<IPython.core.display.Image object>"
            ]
          },
          "metadata": {}
        },
        {
          "output_type": "stream",
          "name": "stdout",
          "text": [
            "Chicken Divan\n"
          ]
        },
        {
          "output_type": "display_data",
          "data": {
            "text/html": [
              "<img src=\"https://www.skinnytaste.com/wp-content/uploads/2010/12/Lightened-Up-Chicken-Divan-8-260x390.jpg\"/>"
            ],
            "text/plain": [
              "<IPython.core.display.Image object>"
            ]
          },
          "metadata": {}
        },
        {
          "output_type": "stream",
          "name": "stdout",
          "text": [
            "Air Fryer Breaded Cubed Steak\n"
          ]
        },
        {
          "output_type": "display_data",
          "data": {
            "text/html": [
              "<img src=\"https://www.skinnytaste.com/wp-content/uploads/2023/02/Air-Fryer-Breaded-Cubed-Steak-11-260x390.jpg\"/>"
            ],
            "text/plain": [
              "<IPython.core.display.Image object>"
            ]
          },
          "metadata": {}
        },
        {
          "output_type": "stream",
          "name": "stdout",
          "text": [
            "Chicken Tenders Parmesan\n"
          ]
        },
        {
          "output_type": "display_data",
          "data": {
            "text/html": [
              "<img src=\"https://www.skinnytaste.com/wp-content/uploads/2023/02/Chicken-Fingers-Parmesan-Casserole-10-260x390.jpg\"/>"
            ],
            "text/plain": [
              "<IPython.core.display.Image object>"
            ]
          },
          "metadata": {}
        },
        {
          "output_type": "stream",
          "name": "stdout",
          "text": [
            "Perfect Filet Mignon for Two\n"
          ]
        },
        {
          "output_type": "display_data",
          "data": {
            "text/html": [
              "<img src=\"https://www.skinnytaste.com/wp-content/uploads/2015/02/filet-mignon-260x390.jpg\"/>"
            ],
            "text/plain": [
              "<IPython.core.display.Image object>"
            ]
          },
          "metadata": {}
        },
        {
          "output_type": "stream",
          "name": "stdout",
          "text": [
            "High Protein Egg White Muffins with Turkey Bacon\n"
          ]
        },
        {
          "output_type": "display_data",
          "data": {
            "text/html": [
              "<img src=\"https://www.skinnytaste.com/wp-content/uploads/2023/02/Egg-White-Muffins-with-Turkey-Bacon-Cottage-Cheese-and-Veggies-8-260x390.jpg\"/>"
            ],
            "text/plain": [
              "<IPython.core.display.Image object>"
            ]
          },
          "metadata": {}
        },
        {
          "output_type": "stream",
          "name": "stdout",
          "text": [
            "Buffalo Chicken Dip\n"
          ]
        },
        {
          "output_type": "display_data",
          "data": {
            "text/html": [
              "<img src=\"https://www.skinnytaste.com/wp-content/uploads/2010/02/Slow-Cooker-Buffalo-Chicken-Dip-5-260x390.jpg\"/>"
            ],
            "text/plain": [
              "<IPython.core.display.Image object>"
            ]
          },
          "metadata": {}
        },
        {
          "output_type": "stream",
          "name": "stdout",
          "text": [
            "Chocolate Brownie Date Balls\n"
          ]
        },
        {
          "output_type": "display_data",
          "data": {
            "text/html": [
              "<img src=\"https://www.skinnytaste.com/wp-content/uploads/2023/02/Chocolate-Brownie-Date-Balls-8-260x390.jpg\"/>"
            ],
            "text/plain": [
              "<IPython.core.display.Image object>"
            ]
          },
          "metadata": {}
        },
        {
          "output_type": "stream",
          "name": "stdout",
          "text": [
            "Baked Buffalo Chicken Jalapeño Poppers\n"
          ]
        },
        {
          "output_type": "display_data",
          "data": {
            "text/html": [
              "<img src=\"https://www.skinnytaste.com/wp-content/uploads/2014/01/Baked-Buffalo-Chicken-Jalapeno-Poppers-11-260x390.jpg\"/>"
            ],
            "text/plain": [
              "<IPython.core.display.Image object>"
            ]
          },
          "metadata": {}
        },
        {
          "output_type": "stream",
          "name": "stdout",
          "text": [
            "Buffalo Chicken Lettuce Wraps (Slow Cooker, Instant Pot)\n"
          ]
        },
        {
          "output_type": "display_data",
          "data": {
            "text/html": [
              "<img src=\"https://www.skinnytaste.com/wp-content/uploads/2012/04/Crockpot-Buffalo-Chicken-Lettuce-Wraps-3-260x390.jpg\"/>"
            ],
            "text/plain": [
              "<IPython.core.display.Image object>"
            ]
          },
          "metadata": {}
        },
        {
          "output_type": "stream",
          "name": "stdout",
          "text": [
            "Loaded Nachos with Ground Turkey, Beans and Cheese\n"
          ]
        },
        {
          "output_type": "display_data",
          "data": {
            "text/html": [
              "<img src=\"https://www.skinnytaste.com/wp-content/uploads/2010/05/Skinny-Loaded-Nachos-6-260x390.jpg\"/>"
            ],
            "text/plain": [
              "<IPython.core.display.Image object>"
            ]
          },
          "metadata": {}
        },
        {
          "output_type": "stream",
          "name": "stdout",
          "text": [
            "Air Fryer Egg Salad\n"
          ]
        },
        {
          "output_type": "display_data",
          "data": {
            "text/html": [
              "<img src=\"https://www.skinnytaste.com/wp-content/uploads/2023/01/Air-Fryer-Egg-Salad-4-260x390.jpg\"/>"
            ],
            "text/plain": [
              "<IPython.core.display.Image object>"
            ]
          },
          "metadata": {}
        },
        {
          "output_type": "stream",
          "name": "stdout",
          "text": [
            "Stuffed Buffalo Chicken Breasts\n"
          ]
        },
        {
          "output_type": "display_data",
          "data": {
            "text/html": [
              "<img src=\"https://www.skinnytaste.com/wp-content/uploads/2012/07/Stuffed-Buffalo-Chicken-Breasts-6-260x390.jpg\"/>"
            ],
            "text/plain": [
              "<IPython.core.display.Image object>"
            ]
          },
          "metadata": {}
        },
        {
          "output_type": "stream",
          "name": "stdout",
          "text": [
            "5-Minute Microwave Salmon Rice Bowl with Bok Choy\n"
          ]
        },
        {
          "output_type": "display_data",
          "data": {
            "text/html": [
              "<img src=\"https://www.skinnytaste.com/wp-content/uploads/2023/02/5-Minute-Glazed-Salmon-Rice-Bowl-13-260x390.jpg\"/>"
            ],
            "text/plain": [
              "<IPython.core.display.Image object>"
            ]
          },
          "metadata": {}
        },
        {
          "output_type": "stream",
          "name": "stdout",
          "text": [
            "Pasta Fagioli (Pasta and Beans)\n"
          ]
        },
        {
          "output_type": "display_data",
          "data": {
            "text/html": [
              "<img src=\"https://www.skinnytaste.com/wp-content/uploads/2008/12/Pasta-Fagioli-5-260x390.jpg\"/>"
            ],
            "text/plain": [
              "<IPython.core.display.Image object>"
            ]
          },
          "metadata": {}
        },
        {
          "output_type": "stream",
          "name": "stdout",
          "text": [
            "Buffalo Chicken Meatballs\n"
          ]
        },
        {
          "output_type": "display_data",
          "data": {
            "text/html": [
              "<img src=\"https://www.skinnytaste.com/wp-content/uploads/2015/01/SkinnyChickenBuffaloMeatballs-260x390.jpg\"/>"
            ],
            "text/plain": [
              "<IPython.core.display.Image object>"
            ]
          },
          "metadata": {}
        },
        {
          "output_type": "stream",
          "name": "stdout",
          "text": [
            "Raw Beet Salad with Apples and Carrots\n"
          ]
        },
        {
          "output_type": "display_data",
          "data": {
            "text/html": [
              "<img src=\"https://www.skinnytaste.com/wp-content/uploads/2023/02/Raw-Beet-Salad-6-260x390.jpg\"/>"
            ],
            "text/plain": [
              "<IPython.core.display.Image object>"
            ]
          },
          "metadata": {}
        },
        {
          "output_type": "stream",
          "name": "stdout",
          "text": [
            "Teriyaki Shrimp Quinoa Bowls with Mango-Cucumber Salsa\n"
          ]
        },
        {
          "output_type": "display_data",
          "data": {
            "text/html": [
              "<img src=\"https://www.skinnytaste.com/wp-content/uploads/2023/01/Teriyaki-Shrimp-Quinoa-Bowls-with-Mango-Cucumber-Salsa-5-260x390.jpg\"/>"
            ],
            "text/plain": [
              "<IPython.core.display.Image object>"
            ]
          },
          "metadata": {}
        },
        {
          "output_type": "stream",
          "name": "stdout",
          "text": [
            "Black Beans and Rice\n"
          ]
        },
        {
          "output_type": "display_data",
          "data": {
            "text/html": [
              "<img src=\"https://www.skinnytaste.com/wp-content/uploads/2023/01/Rice-and-Black-Beans-5-260x390.jpg\"/>"
            ],
            "text/plain": [
              "<IPython.core.display.Image object>"
            ]
          },
          "metadata": {}
        },
        {
          "output_type": "stream",
          "name": "stdout",
          "text": [
            "Tortilla Encrusted Chicken Tenders\n"
          ]
        },
        {
          "output_type": "display_data",
          "data": {
            "text/html": [
              "<img src=\"https://www.skinnytaste.com/wp-content/uploads/2016/10/Tortilla-Encrusted-Chicken-Tenders-5-260x390.jpg\"/>"
            ],
            "text/plain": [
              "<IPython.core.display.Image object>"
            ]
          },
          "metadata": {}
        },
        {
          "output_type": "stream",
          "name": "stdout",
          "text": [
            "Air Fryer Breakfast Banana Split\n"
          ]
        },
        {
          "output_type": "display_data",
          "data": {
            "text/html": [
              "<img src=\"https://www.skinnytaste.com/wp-content/uploads/2023/01/Air-Fryer-Breakfast-Banana-Split-5-260x390.jpg\"/>"
            ],
            "text/plain": [
              "<IPython.core.display.Image object>"
            ]
          },
          "metadata": {}
        },
        {
          "output_type": "stream",
          "name": "stdout",
          "text": [
            "Red Thai Coconut Curry Shrimp\n"
          ]
        },
        {
          "output_type": "display_data",
          "data": {
            "text/html": [
              "<img src=\"https://www.skinnytaste.com/wp-content/uploads/2023/01/Thai-Coconut-Curry-Shrimp-8-260x390.jpg\"/>"
            ],
            "text/plain": [
              "<IPython.core.display.Image object>"
            ]
          },
          "metadata": {}
        },
        {
          "output_type": "stream",
          "name": "stdout",
          "text": [
            "Ground Turkey Skillet with Sweet Potatoes and Black Bean\n"
          ]
        },
        {
          "output_type": "display_data",
          "data": {
            "text/html": [
              "<img src=\"https://www.skinnytaste.com/wp-content/uploads/2023/01/Ground-Turkey-Skillet-with-Sweet-Potatoes-and-Black-Beans-7-260x390.jpg\"/>"
            ],
            "text/plain": [
              "<IPython.core.display.Image object>"
            ]
          },
          "metadata": {}
        },
        {
          "output_type": "stream",
          "name": "stdout",
          "text": [
            "Avgolemono Chicken and Rice Soup\n"
          ]
        },
        {
          "output_type": "display_data",
          "data": {
            "text/html": [
              "<img src=\"https://www.skinnytaste.com/wp-content/uploads/2023/01/Avgolemono-Soup-8-1-260x390.jpg\"/>"
            ],
            "text/plain": [
              "<IPython.core.display.Image object>"
            ]
          },
          "metadata": {}
        },
        {
          "output_type": "stream",
          "name": "stdout",
          "text": [
            "Pavlova\n"
          ]
        },
        {
          "output_type": "display_data",
          "data": {
            "text/html": [
              "<img src=\"https://www.skinnytaste.com/wp-content/uploads/2011/01/Strawberry-Kiwi-Pavlova_14-260x390.jpg\"/>"
            ],
            "text/plain": [
              "<IPython.core.display.Image object>"
            ]
          },
          "metadata": {}
        },
        {
          "output_type": "stream",
          "name": "stdout",
          "text": [
            "Broccoli Salad\n"
          ]
        },
        {
          "output_type": "display_data",
          "data": {
            "text/html": [
              "<img src=\"https://www.skinnytaste.com/wp-content/uploads/2023/01/Broccoli-Salad-7-260x390.jpg\"/>"
            ],
            "text/plain": [
              "<IPython.core.display.Image object>"
            ]
          },
          "metadata": {}
        },
        {
          "output_type": "stream",
          "name": "stdout",
          "text": [
            "Braised Kale with Pancetta\n"
          ]
        },
        {
          "output_type": "display_data",
          "data": {
            "text/html": [
              "<img src=\"https://www.skinnytaste.com/wp-content/uploads/2022/12/Braised-Kale-with-Pancetta-7-260x390.jpg\"/>"
            ],
            "text/plain": [
              "<IPython.core.display.Image object>"
            ]
          },
          "metadata": {}
        },
        {
          "output_type": "stream",
          "name": "stdout",
          "text": [
            "White Bean Scampi with Linguine\n"
          ]
        },
        {
          "output_type": "display_data",
          "data": {
            "text/html": [
              "<img src=\"https://www.skinnytaste.com/wp-content/uploads/2023/01/Vegetarian-Cannellini-Scampi-with-Linguine-6-260x390.jpg\"/>"
            ],
            "text/plain": [
              "<IPython.core.display.Image object>"
            ]
          },
          "metadata": {}
        },
        {
          "output_type": "stream",
          "name": "stdout",
          "text": [
            "Borscht\n"
          ]
        },
        {
          "output_type": "display_data",
          "data": {
            "text/html": [
              "<img src=\"https://www.skinnytaste.com/wp-content/uploads/2023/01/Borscht-8-260x390.jpg\"/>"
            ],
            "text/plain": [
              "<IPython.core.display.Image object>"
            ]
          },
          "metadata": {}
        },
        {
          "output_type": "stream",
          "name": "stdout",
          "text": [
            "Zoats or Zucchini Oats\n"
          ]
        },
        {
          "output_type": "display_data",
          "data": {
            "text/html": [
              "<img src=\"https://www.skinnytaste.com/wp-content/uploads/2023/01/Zucchini-Oats-5-260x390.jpg\"/>"
            ],
            "text/plain": [
              "<IPython.core.display.Image object>"
            ]
          },
          "metadata": {}
        },
        {
          "output_type": "stream",
          "name": "stdout",
          "text": [
            "Chicken Stuffed Peppers with White Beans\n"
          ]
        },
        {
          "output_type": "display_data",
          "data": {
            "text/html": [
              "<img src=\"https://www.skinnytaste.com/wp-content/uploads/2010/08/Chicken-and-White-Bean-Stuffed-Peppers-5-260x390.jpg\"/>"
            ],
            "text/plain": [
              "<IPython.core.display.Image object>"
            ]
          },
          "metadata": {}
        },
        {
          "output_type": "stream",
          "name": "stdout",
          "text": [
            "Perfect Air Fryer Shrimp\n"
          ]
        },
        {
          "output_type": "display_data",
          "data": {
            "text/html": [
              "<img src=\"https://www.skinnytaste.com/wp-content/uploads/2023/01/Air-Fryer-Shrimp-4-260x390.jpg\"/>"
            ],
            "text/plain": [
              "<IPython.core.display.Image object>"
            ]
          },
          "metadata": {}
        },
        {
          "output_type": "stream",
          "name": "stdout",
          "text": [
            "Skillet French Onion Chicken\n"
          ]
        },
        {
          "output_type": "display_data",
          "data": {
            "text/html": [
              "<img src=\"https://www.skinnytaste.com/wp-content/uploads/2023/01/French-Onion-Skillet-Chicken-3-260x390.jpg\"/>"
            ],
            "text/plain": [
              "<IPython.core.display.Image object>"
            ]
          },
          "metadata": {}
        },
        {
          "output_type": "stream",
          "name": "stdout",
          "text": [
            "Juicy Oven Baked Chicken Breast\n"
          ]
        },
        {
          "output_type": "display_data",
          "data": {
            "text/html": [
              "<img src=\"https://www.skinnytaste.com/wp-content/uploads/2022/01/Baked-Chicken-Breast-with-Panko-Parmesan-Crumb-Topping-6-1-260x390.jpg\"/>"
            ],
            "text/plain": [
              "<IPython.core.display.Image object>"
            ]
          },
          "metadata": {}
        },
        {
          "output_type": "stream",
          "name": "stdout",
          "text": [
            "Salmon Caesar Salad\n"
          ]
        },
        {
          "output_type": "display_data",
          "data": {
            "text/html": [
              "<img src=\"https://www.skinnytaste.com/wp-content/uploads/2023/01/Salmon-Caesar-Salad-5-260x390.jpg\"/>"
            ],
            "text/plain": [
              "<IPython.core.display.Image object>"
            ]
          },
          "metadata": {}
        },
        {
          "output_type": "stream",
          "name": "stdout",
          "text": [
            "Spicy Hearts of Palm Noodle Stir Fry with Ground Chicken\n"
          ]
        },
        {
          "output_type": "display_data",
          "data": {
            "text/html": [
              "<img src=\"https://www.skinnytaste.com/wp-content/uploads/2022/12/Sambal-Spicy-Noodles-with-Turkey-8-260x390.jpg\"/>"
            ],
            "text/plain": [
              "<IPython.core.display.Image object>"
            ]
          },
          "metadata": {}
        },
        {
          "output_type": "stream",
          "name": "stdout",
          "text": [
            "Buffalo Chicken Rice Bowls\n"
          ]
        },
        {
          "output_type": "display_data",
          "data": {
            "text/html": [
              "<img src=\"https://www.skinnytaste.com/wp-content/uploads/2022/12/Buffalo-Chicken-Meal-Prep-Bowls-8-260x390.jpg\"/>"
            ],
            "text/plain": [
              "<IPython.core.display.Image object>"
            ]
          },
          "metadata": {}
        },
        {
          "output_type": "stream",
          "name": "stdout",
          "text": [
            "Breaded Shrimp\n"
          ]
        },
        {
          "output_type": "display_data",
          "data": {
            "text/html": [
              "<img src=\"https://www.skinnytaste.com/wp-content/uploads/2011/08/Healthy-Breaded-27Fried27-Shrimp-260x367.jpg\"/>"
            ],
            "text/plain": [
              "<IPython.core.display.Image object>"
            ]
          },
          "metadata": {}
        },
        {
          "output_type": "stream",
          "name": "stdout",
          "text": [
            "Whipped Feta Dip\n"
          ]
        },
        {
          "output_type": "display_data",
          "data": {
            "text/html": [
              "<img src=\"https://www.skinnytaste.com/wp-content/uploads/2022/12/Whipped-Feta-4-260x390.jpg\"/>"
            ],
            "text/plain": [
              "<IPython.core.display.Image object>"
            ]
          },
          "metadata": {}
        },
        {
          "output_type": "stream",
          "name": "stdout",
          "text": [
            "Spinach Dip Stuffed Mushrooms\n"
          ]
        },
        {
          "output_type": "display_data",
          "data": {
            "text/html": [
              "<img src=\"https://www.skinnytaste.com/wp-content/uploads/2022/12/Spinach-Dip-Stuffed-Mushrooms-4-260x390.jpg\"/>"
            ],
            "text/plain": [
              "<IPython.core.display.Image object>"
            ]
          },
          "metadata": {}
        },
        {
          "output_type": "stream",
          "name": "stdout",
          "text": [
            "Breakfast Strata with Sausage and Mushrooms\n"
          ]
        },
        {
          "output_type": "display_data",
          "data": {
            "text/html": [
              "<img src=\"https://www.skinnytaste.com/wp-content/uploads/2022/12/Breakfast-Strata-4-260x390.jpg\"/>"
            ],
            "text/plain": [
              "<IPython.core.display.Image object>"
            ]
          },
          "metadata": {}
        },
        {
          "output_type": "stream",
          "name": "stdout",
          "text": [
            "Slow Cooker Steel Cut Oats\n"
          ]
        },
        {
          "output_type": "display_data",
          "data": {
            "text/html": [
              "<img src=\"https://www.skinnytaste.com/wp-content/uploads/2022/12/Slow-Cooker-Steel-Cut-Oats-4-260x390.jpg\"/>"
            ],
            "text/plain": [
              "<IPython.core.display.Image object>"
            ]
          },
          "metadata": {}
        },
        {
          "output_type": "stream",
          "name": "stdout",
          "text": [
            "One-Pot Orzo with Sausage, Spinach and Corn\n"
          ]
        },
        {
          "output_type": "display_data",
          "data": {
            "text/html": [
              "<img src=\"https://www.skinnytaste.com/wp-content/uploads/2022/12/Orzo-with-Italian-Sausage-Corn-and-Spinach-7-260x390.jpg\"/>"
            ],
            "text/plain": [
              "<IPython.core.display.Image object>"
            ]
          },
          "metadata": {}
        },
        {
          "output_type": "stream",
          "name": "stdout",
          "text": [
            "Healthy Chocolate Chip Oat Cookies\n"
          ]
        },
        {
          "output_type": "display_data",
          "data": {
            "text/html": [
              "<img src=\"https://www.skinnytaste.com/wp-content/uploads/2022/12/Healthy-Chocolate-Chip-Oat-Cookies-6-260x390.jpg\"/>"
            ],
            "text/plain": [
              "<IPython.core.display.Image object>"
            ]
          },
          "metadata": {}
        },
        {
          "output_type": "stream",
          "name": "stdout",
          "text": [
            "Veggie Stromboli with Mushroom, Spinach and Mozzarella\n"
          ]
        },
        {
          "output_type": "display_data",
          "data": {
            "text/html": [
              "<img src=\"https://www.skinnytaste.com/wp-content/uploads/2022/12/Mushroom-and-Spinach-Stromboli-9-260x390.jpg\"/>"
            ],
            "text/plain": [
              "<IPython.core.display.Image object>"
            ]
          },
          "metadata": {}
        },
        {
          "output_type": "stream",
          "name": "stdout",
          "text": [
            "Spinach Prosciutto and Mozzarella Stuffed Pork Tenderloin\n"
          ]
        },
        {
          "output_type": "display_data",
          "data": {
            "text/html": [
              "<img src=\"https://www.skinnytaste.com/wp-content/uploads/2012/12/Spinach-Prosciutto-and-Mozzarella-Stuffed-Pork-Tenderloin-8-260x390.jpg\"/>"
            ],
            "text/plain": [
              "<IPython.core.display.Image object>"
            ]
          },
          "metadata": {}
        },
        {
          "output_type": "stream",
          "name": "stdout",
          "text": [
            "Butternut Squash Galette\n"
          ]
        },
        {
          "output_type": "display_data",
          "data": {
            "text/html": [
              "<img src=\"https://www.skinnytaste.com/wp-content/uploads/2022/12/Butternut-Squash-Galette-13-260x390.jpg\"/>"
            ],
            "text/plain": [
              "<IPython.core.display.Image object>"
            ]
          },
          "metadata": {}
        },
        {
          "output_type": "stream",
          "name": "stdout",
          "text": [
            "Buttermilk Marinated Air Fryer Whole Chicken\n"
          ]
        },
        {
          "output_type": "display_data",
          "data": {
            "text/html": [
              "<img src=\"https://www.skinnytaste.com/wp-content/uploads/2019/07/Buttermilk-Roast-Chicken-in-the-Air-Fryer-6-260x390.jpg\"/>"
            ],
            "text/plain": [
              "<IPython.core.display.Image object>"
            ]
          },
          "metadata": {}
        },
        {
          "output_type": "stream",
          "name": "stdout",
          "text": [
            "Bacon Spinach Breakfast Casserole with Gruyère Cheese\n"
          ]
        },
        {
          "output_type": "display_data",
          "data": {
            "text/html": [
              "<img src=\"https://www.skinnytaste.com/wp-content/uploads/2022/12/Spinach-Bacon-Gruyere-Breakfast-Casserole-9-260x390.jpg\"/>"
            ],
            "text/plain": [
              "<IPython.core.display.Image object>"
            ]
          },
          "metadata": {}
        },
        {
          "output_type": "stream",
          "name": "stdout",
          "text": [
            "Rainbow Quinoa Salad with Lemon Dressing\n"
          ]
        },
        {
          "output_type": "display_data",
          "data": {
            "text/html": [
              "<img src=\"https://www.skinnytaste.com/wp-content/uploads/2022/12/Rainbow-Quinoa-Salad-with-Lemon-Dressing-5-260x390.jpg\"/>"
            ],
            "text/plain": [
              "<IPython.core.display.Image object>"
            ]
          },
          "metadata": {}
        },
        {
          "output_type": "stream",
          "name": "stdout",
          "text": [
            "Greek Yogurt Caesar Dip\n"
          ]
        },
        {
          "output_type": "display_data",
          "data": {
            "text/html": [
              "<img src=\"https://www.skinnytaste.com/wp-content/uploads/2022/12/Caesar-Dip-8-260x390.jpg\"/>"
            ],
            "text/plain": [
              "<IPython.core.display.Image object>"
            ]
          },
          "metadata": {}
        },
        {
          "output_type": "stream",
          "name": "stdout",
          "text": [
            "Spicy Vodka Chicken Parmesan\n"
          ]
        },
        {
          "output_type": "display_data",
          "data": {
            "text/html": [
              "<img src=\"https://www.skinnytaste.com/wp-content/uploads/2022/12/Spicy-Vodka-Chicken-Parmesan-8-260x390.jpg\"/>"
            ],
            "text/plain": [
              "<IPython.core.display.Image object>"
            ]
          },
          "metadata": {}
        },
        {
          "output_type": "stream",
          "name": "stdout",
          "text": [
            "Oysters Rockefeller\n"
          ]
        },
        {
          "output_type": "display_data",
          "data": {
            "text/html": [
              "<img src=\"https://www.skinnytaste.com/wp-content/uploads/2022/11/Oysters-Rockefeller-7-260x390.jpg\"/>"
            ],
            "text/plain": [
              "<IPython.core.display.Image object>"
            ]
          },
          "metadata": {}
        },
        {
          "output_type": "stream",
          "name": "stdout",
          "text": [
            "Fennel Gratin\n"
          ]
        },
        {
          "output_type": "display_data",
          "data": {
            "text/html": [
              "<img src=\"https://www.skinnytaste.com/wp-content/uploads/2022/12/Fennel-Gratin-010-260x390.jpg\"/>"
            ],
            "text/plain": [
              "<IPython.core.display.Image object>"
            ]
          },
          "metadata": {}
        },
        {
          "output_type": "stream",
          "name": "stdout",
          "text": [
            "Savory Steel Cut Oatmeal\n"
          ]
        },
        {
          "output_type": "display_data",
          "data": {
            "text/html": [
              "<img src=\"https://www.skinnytaste.com/wp-content/uploads/2022/12/Savory-Steel-Cut-Oatmeal-Bowl-5-260x390.jpg\"/>"
            ],
            "text/plain": [
              "<IPython.core.display.Image object>"
            ]
          },
          "metadata": {}
        },
        {
          "output_type": "stream",
          "name": "stdout",
          "text": [
            "Asian Chicken Lettuce Wraps\n"
          ]
        },
        {
          "output_type": "display_data",
          "data": {
            "text/html": [
              "<img src=\"https://www.skinnytaste.com/wp-content/uploads/2012/01/Asian-Chicken-Lettuce-Wraps-5-260x390.jpg\"/>"
            ],
            "text/plain": [
              "<IPython.core.display.Image object>"
            ]
          },
          "metadata": {}
        },
        {
          "output_type": "stream",
          "name": "stdout",
          "text": [
            "Air Fryer Chicken Thighs\n"
          ]
        },
        {
          "output_type": "display_data",
          "data": {
            "text/html": [
              "<img src=\"https://www.skinnytaste.com/wp-content/uploads/2022/11/Air-Fryer-Chicken-Thighs-4-260x390.jpg\"/>"
            ],
            "text/plain": [
              "<IPython.core.display.Image object>"
            ]
          },
          "metadata": {}
        },
        {
          "output_type": "stream",
          "name": "stdout",
          "text": [
            "High-Protein Zucchini Omelet for One\n"
          ]
        },
        {
          "output_type": "display_data",
          "data": {
            "text/html": [
              "<img src=\"https://www.skinnytaste.com/wp-content/uploads/2022/10/High-Protein-Zucchini-Omelet-8-260x390.jpg\"/>"
            ],
            "text/plain": [
              "<IPython.core.display.Image object>"
            ]
          },
          "metadata": {}
        },
        {
          "output_type": "stream",
          "name": "stdout",
          "text": [
            "Tortilla Soup\n"
          ]
        },
        {
          "output_type": "display_data",
          "data": {
            "text/html": [
              "<img src=\"https://www.skinnytaste.com/wp-content/uploads/2022/11/Turkey-Tortilla-Soup-3-260x390.jpg\"/>"
            ],
            "text/plain": [
              "<IPython.core.display.Image object>"
            ]
          },
          "metadata": {}
        },
        {
          "output_type": "stream",
          "name": "stdout",
          "text": [
            "Stuffed Butternut Squash with Wild Rice and Sausage\n"
          ]
        },
        {
          "output_type": "display_data",
          "data": {
            "text/html": [
              "<img src=\"https://www.skinnytaste.com/wp-content/uploads/2022/11/Stuffed-Butternut-Squash-with-Wild-Rice-_-Sausage-6-260x390.jpg\"/>"
            ],
            "text/plain": [
              "<IPython.core.display.Image object>"
            ]
          },
          "metadata": {}
        },
        {
          "output_type": "stream",
          "name": "stdout",
          "text": [
            "Kale and Brussels Sprout Salad with Parmesan and Pecans\n"
          ]
        },
        {
          "output_type": "display_data",
          "data": {
            "text/html": [
              "<img src=\"https://www.skinnytaste.com/wp-content/uploads/2022/11/Kale-and-Brussels-Sprouts-Salad-6-260x390.jpg\"/>"
            ],
            "text/plain": [
              "<IPython.core.display.Image object>"
            ]
          },
          "metadata": {}
        },
        {
          "output_type": "stream",
          "name": "stdout",
          "text": [
            "Sheet Pan Thanksgiving Dinner for Four\n"
          ]
        },
        {
          "output_type": "display_data",
          "data": {
            "text/html": [
              "<img src=\"https://www.skinnytaste.com/wp-content/uploads/2022/11/Sheet-Pan-Thanksgiving-7-copy-260x390.jpg\"/>"
            ],
            "text/plain": [
              "<IPython.core.display.Image object>"
            ]
          },
          "metadata": {}
        },
        {
          "output_type": "stream",
          "name": "stdout",
          "text": [
            "Cornbread Stuffing\n"
          ]
        },
        {
          "output_type": "display_data",
          "data": {
            "text/html": [
              "<img src=\"https://www.skinnytaste.com/wp-content/uploads/2022/11/Savory-Cornbread-Stuffing-8-260x390.jpg\"/>"
            ],
            "text/plain": [
              "<IPython.core.display.Image object>"
            ]
          },
          "metadata": {}
        },
        {
          "output_type": "stream",
          "name": "stdout",
          "text": [
            "Vanilla Sweet Potato Casserole with Praline Topping\n"
          ]
        },
        {
          "output_type": "display_data",
          "data": {
            "text/html": [
              "<img src=\"https://www.skinnytaste.com/wp-content/uploads/2022/11/Vanilla-Sweet-Potato-Casserole-with-Praline-Topping-8-260x390.jpg\"/>"
            ],
            "text/plain": [
              "<IPython.core.display.Image object>"
            ]
          },
          "metadata": {}
        },
        {
          "output_type": "stream",
          "name": "stdout",
          "text": [
            "Roasted Butternut Squash with Onions, Bacon, and Parmesan\n"
          ]
        },
        {
          "output_type": "display_data",
          "data": {
            "text/html": [
              "<img src=\"https://www.skinnytaste.com/wp-content/uploads/2022/11/Roasted-Butternut-Squash-with-Onions-Bacon-and-Parmesan-5-260x390.jpg\"/>"
            ],
            "text/plain": [
              "<IPython.core.display.Image object>"
            ]
          },
          "metadata": {}
        },
        {
          "output_type": "stream",
          "name": "stdout",
          "text": [
            "Garlic Mashed Potatoes\n"
          ]
        },
        {
          "output_type": "display_data",
          "data": {
            "text/html": [
              "<img src=\"https://www.skinnytaste.com/wp-content/uploads/2017/11/Garlic-Mashed-Potatoes-7-260x390.jpg\"/>"
            ],
            "text/plain": [
              "<IPython.core.display.Image object>"
            ]
          },
          "metadata": {}
        },
        {
          "output_type": "stream",
          "name": "stdout",
          "text": [
            "High-Protein Enchilada Scrambled Eggs\n"
          ]
        },
        {
          "output_type": "display_data",
          "data": {
            "text/html": [
              "<img src=\"https://www.skinnytaste.com/wp-content/uploads/2022/11/High-Protein-Enchilada-Scramble-4-260x390.jpg\"/>"
            ],
            "text/plain": [
              "<IPython.core.display.Image object>"
            ]
          },
          "metadata": {}
        },
        {
          "output_type": "stream",
          "name": "stdout",
          "text": [
            "Creamy Roasted Acorn Squash Soup\n"
          ]
        },
        {
          "output_type": "display_data",
          "data": {
            "text/html": [
              "<img src=\"https://www.skinnytaste.com/wp-content/uploads/2022/11/Roasted-Vegan-Acorn-Soup-9-260x390.jpg\"/>"
            ],
            "text/plain": [
              "<IPython.core.display.Image object>"
            ]
          },
          "metadata": {}
        },
        {
          "output_type": "stream",
          "name": "stdout",
          "text": [
            "Chicken Parmesan Rolls\n"
          ]
        },
        {
          "output_type": "display_data",
          "data": {
            "text/html": [
              "<img src=\"https://www.skinnytaste.com/wp-content/uploads/2020/11/Chicken-Parm-Rolls-9-260x390.jpg\"/>"
            ],
            "text/plain": [
              "<IPython.core.display.Image object>"
            ]
          },
          "metadata": {}
        },
        {
          "output_type": "stream",
          "name": "stdout",
          "text": [
            "Green Bean Casserole\n"
          ]
        },
        {
          "output_type": "display_data",
          "data": {
            "text/html": [
              "<img src=\"https://www.skinnytaste.com/wp-content/uploads/2012/11/Lightened-Up-Green-Bean-Casserole-6-260x390.jpg\"/>"
            ],
            "text/plain": [
              "<IPython.core.display.Image object>"
            ]
          },
          "metadata": {}
        },
        {
          "output_type": "stream",
          "name": "stdout",
          "text": [
            "Dairy-Free Heavy Cream\n"
          ]
        },
        {
          "output_type": "display_data",
          "data": {
            "text/html": [
              "<img src=\"https://www.skinnytaste.com/wp-content/uploads/2022/11/Dairy-Free-Heavy-Cream-8-260x390.jpg\"/>"
            ],
            "text/plain": [
              "<IPython.core.display.Image object>"
            ]
          },
          "metadata": {}
        },
        {
          "output_type": "stream",
          "name": "stdout",
          "text": [
            "Garlic-Ginger Chicken Stir-Fry\n"
          ]
        },
        {
          "output_type": "display_data",
          "data": {
            "text/html": [
              "<img src=\"https://www.skinnytaste.com/wp-content/uploads/2022/11/Garlic-Ginger-Chicken-Stir-Fry-6-260x390.jpg\"/>"
            ],
            "text/plain": [
              "<IPython.core.display.Image object>"
            ]
          },
          "metadata": {}
        },
        {
          "output_type": "stream",
          "name": "stdout",
          "text": [
            "Instant Pot Bolognese Sauce\n"
          ]
        },
        {
          "output_type": "display_data",
          "data": {
            "text/html": [
              "<img src=\"https://www.skinnytaste.com/wp-content/uploads/2017/11/instant-pot-bolognese-1-8-260x390.jpg\"/>"
            ],
            "text/plain": [
              "<IPython.core.display.Image object>"
            ]
          },
          "metadata": {}
        },
        {
          "output_type": "stream",
          "name": "stdout",
          "text": [
            "Sweet Potato Soup with Sausage (Slow Cooker, Instant Pot, Stove)\n"
          ]
        },
        {
          "output_type": "display_data",
          "data": {
            "text/html": [
              "<img src=\"https://www.skinnytaste.com/wp-content/uploads/2022/11/Slow-Cooker-Creamy-Sausage-Kale-Sweet-Potato-Soup-10-260x390.jpg\"/>"
            ],
            "text/plain": [
              "<IPython.core.display.Image object>"
            ]
          },
          "metadata": {}
        },
        {
          "output_type": "stream",
          "name": "stdout",
          "text": [
            "Everything Bagel Pigs in a Blanket\n"
          ]
        },
        {
          "output_type": "display_data",
          "data": {
            "text/html": [
              "<img src=\"https://www.skinnytaste.com/wp-content/uploads/2022/11/Mini-Bagel-Dogs-8-260x390.jpg\"/>"
            ],
            "text/plain": [
              "<IPython.core.display.Image object>"
            ]
          },
          "metadata": {}
        },
        {
          "output_type": "stream",
          "name": "stdout",
          "text": [
            "Garlic Butter Mushrooms\n"
          ]
        },
        {
          "output_type": "display_data",
          "data": {
            "text/html": [
              "<img src=\"https://www.skinnytaste.com/wp-content/uploads/2022/11/Garlic-Butter-Mushrooms-8-260x390.jpg\"/>"
            ],
            "text/plain": [
              "<IPython.core.display.Image object>"
            ]
          },
          "metadata": {}
        },
        {
          "output_type": "stream",
          "name": "stdout",
          "text": [
            "Healing Turmeric Chicken Noodle Soup (GF, DF)\n"
          ]
        },
        {
          "output_type": "display_data",
          "data": {
            "text/html": [
              "<img src=\"https://www.skinnytaste.com/wp-content/uploads/2022/10/Turmeric-Chicken-Noodle-Soup-9-260x390.jpg\"/>"
            ],
            "text/plain": [
              "<IPython.core.display.Image object>"
            ]
          },
          "metadata": {}
        },
        {
          "output_type": "stream",
          "name": "stdout",
          "text": [
            "Apple Pie Overnight Oats\n"
          ]
        },
        {
          "output_type": "display_data",
          "data": {
            "text/html": [
              "<img src=\"https://www.skinnytaste.com/wp-content/uploads/2022/10/Apple-Pie-Overnight-Oats-3-260x390.jpg\"/>"
            ],
            "text/plain": [
              "<IPython.core.display.Image object>"
            ]
          },
          "metadata": {}
        },
        {
          "output_type": "stream",
          "name": "stdout",
          "text": [
            "Avocado Toast with Egg – Four (4) Ways\n"
          ]
        },
        {
          "output_type": "display_data",
          "data": {
            "text/html": [
              "<img src=\"https://www.skinnytaste.com/wp-content/uploads/2015/01/Avocado-Toast-with-Egg-7-260x390.jpg\"/>"
            ],
            "text/plain": [
              "<IPython.core.display.Image object>"
            ]
          },
          "metadata": {}
        },
        {
          "output_type": "stream",
          "name": "stdout",
          "text": [
            "Black Bean Soup (Freezer Friendly)\n"
          ]
        },
        {
          "output_type": "display_data",
          "data": {
            "text/html": [
              "<img src=\"https://www.skinnytaste.com/wp-content/uploads/2010/09/Black-Bean-Soup-5-260x390.jpg\"/>"
            ],
            "text/plain": [
              "<IPython.core.display.Image object>"
            ]
          },
          "metadata": {}
        },
        {
          "output_type": "stream",
          "name": "stdout",
          "text": [
            "Blackened Air Fryer Salmon Bites\n"
          ]
        },
        {
          "output_type": "display_data",
          "data": {
            "text/html": [
              "<img src=\"https://www.skinnytaste.com/wp-content/uploads/2022/10/Blackended-Air-Fryer-Salmon-Bites-6-260x390.jpg\"/>"
            ],
            "text/plain": [
              "<IPython.core.display.Image object>"
            ]
          },
          "metadata": {}
        },
        {
          "output_type": "stream",
          "name": "stdout",
          "text": [
            "Tofu Tacos with Potatoes and Jalapeños\n"
          ]
        },
        {
          "output_type": "display_data",
          "data": {
            "text/html": [
              "<img src=\"https://www.skinnytaste.com/wp-content/uploads/2022/10/Roasted-Tofu-Tacos-with-Potatoes-and-Jalapeños-8-260x390.jpg\"/>"
            ],
            "text/plain": [
              "<IPython.core.display.Image object>"
            ]
          },
          "metadata": {}
        },
        {
          "output_type": "stream",
          "name": "stdout",
          "text": [
            "Sweet Potato Turkey Meatloaf\n"
          ]
        },
        {
          "output_type": "display_data",
          "data": {
            "text/html": [
              "<img src=\"https://www.skinnytaste.com/wp-content/uploads/2022/10/Turkey-Sweet-Potato-Meatloaf-5-260x390.jpg\"/>"
            ],
            "text/plain": [
              "<IPython.core.display.Image object>"
            ]
          },
          "metadata": {}
        },
        {
          "output_type": "stream",
          "name": "stdout",
          "text": [
            "Lemony Hearts of Palm Salad with Avocado\n"
          ]
        },
        {
          "output_type": "display_data",
          "data": {
            "text/html": [
              "<img src=\"https://www.skinnytaste.com/wp-content/uploads/2022/10/Lemony-Hearts-of-Palm-and-Avocado-Salad-2-260x390.jpg\"/>"
            ],
            "text/plain": [
              "<IPython.core.display.Image object>"
            ]
          },
          "metadata": {}
        },
        {
          "output_type": "stream",
          "name": "stdout",
          "text": [
            "Pizza Sausage Rolls\n"
          ]
        },
        {
          "output_type": "display_data",
          "data": {
            "text/html": [
              "<img src=\"https://www.skinnytaste.com/wp-content/uploads/2020/10/Pizza-Sausage-Rolls-12-260x390.jpg\"/>"
            ],
            "text/plain": [
              "<IPython.core.display.Image object>"
            ]
          },
          "metadata": {}
        },
        {
          "output_type": "stream",
          "name": "stdout",
          "text": [
            "Korean-Inspired Salmon Tacos with Spicy Slaw\n"
          ]
        },
        {
          "output_type": "display_data",
          "data": {
            "text/html": [
              "<img src=\"https://www.skinnytaste.com/wp-content/uploads/2022/10/Korean-Inspired-Salmon-Tacos-with-Spicy-Slaw-4-260x390.jpg\"/>"
            ],
            "text/plain": [
              "<IPython.core.display.Image object>"
            ]
          },
          "metadata": {}
        },
        {
          "output_type": "stream",
          "name": "stdout",
          "text": [
            "Mexican Layer Dip\n"
          ]
        },
        {
          "output_type": "display_data",
          "data": {
            "text/html": [
              "<img src=\"https://www.skinnytaste.com/wp-content/uploads/2022/10/Mexican-Layer-Dip-9-260x390.jpg\"/>"
            ],
            "text/plain": [
              "<IPython.core.display.Image object>"
            ]
          },
          "metadata": {}
        },
        {
          "output_type": "stream",
          "name": "stdout",
          "text": [
            "Creamy Pumpkin Polenta\n"
          ]
        },
        {
          "output_type": "display_data",
          "data": {
            "text/html": [
              "<img src=\"https://www.skinnytaste.com/wp-content/uploads/2022/10/Pumpkin-Polenta-260x390.jpg\"/>"
            ],
            "text/plain": [
              "<IPython.core.display.Image object>"
            ]
          },
          "metadata": {}
        },
        {
          "output_type": "stream",
          "name": "stdout",
          "text": [
            "Quick Black Beans Recipe\n"
          ]
        },
        {
          "output_type": "display_data",
          "data": {
            "text/html": [
              "<img src=\"https://www.skinnytaste.com/wp-content/uploads/2022/10/Quick-Black-Beans-8-260x390.jpg\"/>"
            ],
            "text/plain": [
              "<IPython.core.display.Image object>"
            ]
          },
          "metadata": {}
        },
        {
          "output_type": "stream",
          "name": "stdout",
          "text": [
            "Air Fryer Butternut Squash\n"
          ]
        },
        {
          "output_type": "display_data",
          "data": {
            "text/html": [
              "<img src=\"https://www.skinnytaste.com/wp-content/uploads/2022/10/Air-Fryer-Butternut-Squash-3-260x390.jpg\"/>"
            ],
            "text/plain": [
              "<IPython.core.display.Image object>"
            ]
          },
          "metadata": {}
        },
        {
          "output_type": "stream",
          "name": "stdout",
          "text": [
            "Slow Cooker Ground Beef Ragu\n"
          ]
        },
        {
          "output_type": "display_data",
          "data": {
            "text/html": [
              "<img src=\"https://www.skinnytaste.com/wp-content/uploads/2022/10/Slow-Cooker-Beef-Ragu-9-260x390.jpg\"/>"
            ],
            "text/plain": [
              "<IPython.core.display.Image object>"
            ]
          },
          "metadata": {}
        },
        {
          "output_type": "stream",
          "name": "stdout",
          "text": [
            "Pumpkin Banana Bread\n"
          ]
        },
        {
          "output_type": "display_data",
          "data": {
            "text/html": [
              "<img src=\"https://www.skinnytaste.com/wp-content/uploads/2009/10/Pumpkin-Banana-Bread-7-260x390.jpg\"/>"
            ],
            "text/plain": [
              "<IPython.core.display.Image object>"
            ]
          },
          "metadata": {}
        },
        {
          "output_type": "stream",
          "name": "stdout",
          "text": [
            "Lox and Eggs with Onions\n"
          ]
        },
        {
          "output_type": "display_data",
          "data": {
            "text/html": [
              "<img src=\"https://www.skinnytaste.com/wp-content/uploads/2022/09/Lox-Eggs-and-Onions-2-1-260x390.jpg\"/>"
            ],
            "text/plain": [
              "<IPython.core.display.Image object>"
            ]
          },
          "metadata": {}
        },
        {
          "output_type": "stream",
          "name": "stdout",
          "text": [
            "Fall Brussels Sprout Salad with Apples, Pecans, and Blue Cheese\n"
          ]
        },
        {
          "output_type": "display_data",
          "data": {
            "text/html": [
              "<img src=\"https://www.skinnytaste.com/wp-content/uploads/2022/10/Fall-Brussels-Sprouts-Salad-with-Apple-Pecans-and-Blue-Cheese-8-260x390.jpg\"/>"
            ],
            "text/plain": [
              "<IPython.core.display.Image object>"
            ]
          },
          "metadata": {}
        },
        {
          "output_type": "stream",
          "name": "stdout",
          "text": [
            "Turmeric Roasted Sweet Potato and Macadamia Soup\n"
          ]
        },
        {
          "output_type": "display_data",
          "data": {
            "text/html": [
              "<img src=\"https://www.skinnytaste.com/wp-content/uploads/2017/01/Turmeric-Roasted-Sweet-Potato-and-Macadamia-Soup-1-3-260x390.jpg\"/>"
            ],
            "text/plain": [
              "<IPython.core.display.Image object>"
            ]
          },
          "metadata": {}
        },
        {
          "output_type": "stream",
          "name": "stdout",
          "text": [
            "Air Fryer Salmon Fish Sandwich\n"
          ]
        },
        {
          "output_type": "display_data",
          "data": {
            "text/html": [
              "<img src=\"https://www.skinnytaste.com/wp-content/uploads/2022/10/Air-Fryer-Salmon-Sandwich-6-260x390.jpg\"/>"
            ],
            "text/plain": [
              "<IPython.core.display.Image object>"
            ]
          },
          "metadata": {}
        },
        {
          "output_type": "stream",
          "name": "stdout",
          "text": [
            "Potato Leek Soup\n"
          ]
        },
        {
          "output_type": "display_data",
          "data": {
            "text/html": [
              "<img src=\"https://www.skinnytaste.com/wp-content/uploads/2018/10/POTATO-LEEK-SOUP2.-5-2-260x390.jpg\"/>"
            ],
            "text/plain": [
              "<IPython.core.display.Image object>"
            ]
          },
          "metadata": {}
        },
        {
          "output_type": "stream",
          "name": "stdout",
          "text": [
            "Whole Wheat Pumpkin Pancakes with Pecans\n"
          ]
        },
        {
          "output_type": "display_data",
          "data": {
            "text/html": [
              "<img src=\"https://www.skinnytaste.com/wp-content/uploads/2013/10/Whole-Wheat-Pumpkin-Pecan-Pancakes-5-260x390.jpg\"/>"
            ],
            "text/plain": [
              "<IPython.core.display.Image object>"
            ]
          },
          "metadata": {}
        },
        {
          "output_type": "stream",
          "name": "stdout",
          "text": [
            "Chicken Taco Poblano Rice Bowls\n"
          ]
        },
        {
          "output_type": "display_data",
          "data": {
            "text/html": [
              "<img src=\"https://www.skinnytaste.com/wp-content/uploads/2020/09/Chicken-Taco-Poblano-Rice-Bowls-6-260x390.jpg\"/>"
            ],
            "text/plain": [
              "<IPython.core.display.Image object>"
            ]
          },
          "metadata": {}
        },
        {
          "output_type": "stream",
          "name": "stdout",
          "text": [
            "Peanut Butter Banana Muffins\n"
          ]
        },
        {
          "output_type": "display_data",
          "data": {
            "text/html": [
              "<img src=\"https://www.skinnytaste.com/wp-content/uploads/2022/09/peanut-butter-banana-muffins-8-260x390.jpg\"/>"
            ],
            "text/plain": [
              "<IPython.core.display.Image object>"
            ]
          },
          "metadata": {}
        },
        {
          "output_type": "stream",
          "name": "stdout",
          "text": [
            "Apple and Grape Fall Fruit Salad\n"
          ]
        },
        {
          "output_type": "display_data",
          "data": {
            "text/html": [
              "<img src=\"https://www.skinnytaste.com/wp-content/uploads/2011/09/Autumn-Apple-and-Grape-Medley-4-260x390.jpg\"/>"
            ],
            "text/plain": [
              "<IPython.core.display.Image object>"
            ]
          },
          "metadata": {}
        },
        {
          "output_type": "stream",
          "name": "stdout",
          "text": [
            "Sheet Pan Baked Feta with Broccolini, Tomatoes and Chickpeas\n"
          ]
        },
        {
          "output_type": "display_data",
          "data": {
            "text/html": [
              "<img src=\"https://www.skinnytaste.com/wp-content/uploads/2022/09/Sheet-Pan-Baked-Feta-with-Chickpeas-Broccolini-and-Tomatoes-9-260x390.jpg\"/>"
            ],
            "text/plain": [
              "<IPython.core.display.Image object>"
            ]
          },
          "metadata": {}
        },
        {
          "output_type": "stream",
          "name": "stdout",
          "text": [
            "Maple Roasted Butternut Squash\n"
          ]
        },
        {
          "output_type": "display_data",
          "data": {
            "text/html": [
              "<img src=\"https://www.skinnytaste.com/wp-content/uploads/2020/10/Maple-Roasted-Butternut-Squash-7-260x390.jpg\"/>"
            ],
            "text/plain": [
              "<IPython.core.display.Image object>"
            ]
          },
          "metadata": {}
        },
        {
          "output_type": "stream",
          "name": "stdout",
          "text": [
            "Pumpkin Cream Cheese Muffins\n"
          ]
        },
        {
          "output_type": "display_data",
          "data": {
            "text/html": [
              "<img src=\"https://www.skinnytaste.com/wp-content/uploads/2019/10/Pumpkin-Cream-Cheese-Muffins-5-260x390.jpg\"/>"
            ],
            "text/plain": [
              "<IPython.core.display.Image object>"
            ]
          },
          "metadata": {}
        },
        {
          "output_type": "stream",
          "name": "stdout",
          "text": [
            "Creamy Sausage and Potato Soup\n"
          ]
        },
        {
          "output_type": "display_data",
          "data": {
            "text/html": [
              "<img src=\"https://www.skinnytaste.com/wp-content/uploads/2022/09/Creamy-Potato-and-Sausage-Soup-5-260x390.jpg\"/>"
            ],
            "text/plain": [
              "<IPython.core.display.Image object>"
            ]
          },
          "metadata": {}
        },
        {
          "output_type": "stream",
          "name": "stdout",
          "text": [
            "Parmesan-Herb Baked Salmon\n"
          ]
        },
        {
          "output_type": "display_data",
          "data": {
            "text/html": [
              "<img src=\"https://www.skinnytaste.com/wp-content/uploads/2022/09/Parmesan-Herb-Baked-Salmon-6-2-260x390.jpg\"/>"
            ],
            "text/plain": [
              "<IPython.core.display.Image object>"
            ]
          },
          "metadata": {}
        },
        {
          "output_type": "stream",
          "name": "stdout",
          "text": [
            "Pumpkin Overnight Oats\n"
          ]
        },
        {
          "output_type": "display_data",
          "data": {
            "text/html": [
              "<img src=\"https://www.skinnytaste.com/wp-content/uploads/2012/09/Skinny-Pumpkin-Overnight-Oats-9-260x390.jpg\"/>"
            ],
            "text/plain": [
              "<IPython.core.display.Image object>"
            ]
          },
          "metadata": {}
        },
        {
          "output_type": "stream",
          "name": "stdout",
          "text": [
            "Avocado Toast with Halloumi and Egg\n"
          ]
        },
        {
          "output_type": "display_data",
          "data": {
            "text/html": [
              "<img src=\"https://www.skinnytaste.com/wp-content/uploads/2022/09/Avocado-Toast-4-260x390.jpg\"/>"
            ],
            "text/plain": [
              "<IPython.core.display.Image object>"
            ]
          },
          "metadata": {}
        },
        {
          "output_type": "stream",
          "name": "stdout",
          "text": [
            "Chicken Enchilada Stuffed Zucchini Boats\n"
          ]
        },
        {
          "output_type": "display_data",
          "data": {
            "text/html": [
              "<img src=\"https://www.skinnytaste.com/wp-content/uploads/2012/08/Chicken-Enchilada-Stuffed-Zucchini-Boats-7-260x390.jpg\"/>"
            ],
            "text/plain": [
              "<IPython.core.display.Image object>"
            ]
          },
          "metadata": {}
        },
        {
          "output_type": "stream",
          "name": "stdout",
          "text": [
            "15-Minute Protein Chia Seed Cereal\n"
          ]
        },
        {
          "output_type": "display_data",
          "data": {
            "text/html": [
              "<img src=\"https://www.skinnytaste.com/wp-content/uploads/2022/09/Protein-Chia-Seed-Cereal-4-260x390.jpg\"/>"
            ],
            "text/plain": [
              "<IPython.core.display.Image object>"
            ]
          },
          "metadata": {}
        },
        {
          "output_type": "stream",
          "name": "stdout",
          "text": [
            "Fish Taco Bowls\n"
          ]
        },
        {
          "output_type": "display_data",
          "data": {
            "text/html": [
              "<img src=\"https://www.skinnytaste.com/wp-content/uploads/2022/09/Fish-Taco-Bowls-8-260x390.jpg\"/>"
            ],
            "text/plain": [
              "<IPython.core.display.Image object>"
            ]
          },
          "metadata": {}
        },
        {
          "output_type": "stream",
          "name": "stdout",
          "text": [
            "Spaghetti and Meatball Soup\n"
          ]
        },
        {
          "output_type": "display_data",
          "data": {
            "text/html": [
              "<img src=\"https://www.skinnytaste.com/wp-content/uploads/2011/12/Meatball-and-Spaghetti-Soup-8-260x390.jpg\"/>"
            ],
            "text/plain": [
              "<IPython.core.display.Image object>"
            ]
          },
          "metadata": {}
        },
        {
          "output_type": "stream",
          "name": "stdout",
          "text": [
            "Heirloom Tomato Galette\n"
          ]
        },
        {
          "output_type": "display_data",
          "data": {
            "text/html": [
              "<img src=\"https://www.skinnytaste.com/wp-content/uploads/2022/09/Heirloom-Tomato-Galette-5-260x390.jpg\"/>"
            ],
            "text/plain": [
              "<IPython.core.display.Image object>"
            ]
          },
          "metadata": {}
        },
        {
          "output_type": "stream",
          "name": "stdout",
          "text": [
            "Grilled Chicken Panini with Zucchini, Tomato, and Mozzarella\n"
          ]
        },
        {
          "output_type": "display_data",
          "data": {
            "text/html": [
              "<img src=\"https://www.skinnytaste.com/wp-content/uploads/2022/08/Chicken-Panini-3-260x390.jpg\"/>"
            ],
            "text/plain": [
              "<IPython.core.display.Image object>"
            ]
          },
          "metadata": {}
        },
        {
          "output_type": "stream",
          "name": "stdout",
          "text": [
            "Chicken Caprese Skillet\n"
          ]
        },
        {
          "output_type": "display_data",
          "data": {
            "text/html": [
              "<img src=\"https://www.skinnytaste.com/wp-content/uploads/2020/08/Caprese-Chicken-Skillet-4-260x390.jpg\"/>"
            ],
            "text/plain": [
              "<IPython.core.display.Image object>"
            ]
          },
          "metadata": {}
        },
        {
          "output_type": "stream",
          "name": "stdout",
          "text": [
            "Air Fryer Sweet Plantains (Maduros)\n"
          ]
        },
        {
          "output_type": "display_data",
          "data": {
            "text/html": [
              "<img src=\"https://www.skinnytaste.com/wp-content/uploads/2022/08/Air-Fryer-Plantains-5-260x390.jpg\"/>"
            ],
            "text/plain": [
              "<IPython.core.display.Image object>"
            ]
          },
          "metadata": {}
        },
        {
          "output_type": "stream",
          "name": "stdout",
          "text": [
            "Three-Cheese Zucchini Quiche\n"
          ]
        },
        {
          "output_type": "display_data",
          "data": {
            "text/html": [
              "<img src=\"https://www.skinnytaste.com/wp-content/uploads/2022/08/3-Cheese-Zucchini-Quiche-5-260x390.jpg\"/>"
            ],
            "text/plain": [
              "<IPython.core.display.Image object>"
            ]
          },
          "metadata": {}
        },
        {
          "output_type": "stream",
          "name": "stdout",
          "text": [
            "Raspberry Coconut Chia Pudding Popsicles\n"
          ]
        },
        {
          "output_type": "display_data",
          "data": {
            "text/html": [
              "<img src=\"https://www.skinnytaste.com/wp-content/uploads/2012/08/Raspberry-Coconut-Chia-Pudding-Pops-_FINAL09-260x390.jpg\"/>"
            ],
            "text/plain": [
              "<IPython.core.display.Image object>"
            ]
          },
          "metadata": {}
        },
        {
          "output_type": "stream",
          "name": "stdout",
          "text": [
            "Creamy Corn Soup with Queso Fresco\n"
          ]
        },
        {
          "output_type": "display_data",
          "data": {
            "text/html": [
              "<img src=\"https://www.skinnytaste.com/wp-content/uploads/2013/07/Corn-Soup-with-Queso-Fresco-7-260x390.jpg\"/>"
            ],
            "text/plain": [
              "<IPython.core.display.Image object>"
            ]
          },
          "metadata": {}
        },
        {
          "output_type": "stream",
          "name": "stdout",
          "text": [
            "Tuna Tartare\n"
          ]
        },
        {
          "output_type": "display_data",
          "data": {
            "text/html": [
              "<img src=\"https://www.skinnytaste.com/wp-content/uploads/2022/08/Tuna-Tartare-with-Cucumber-7-1-260x390.jpg\"/>"
            ],
            "text/plain": [
              "<IPython.core.display.Image object>"
            ]
          },
          "metadata": {}
        },
        {
          "output_type": "stream",
          "name": "stdout",
          "text": [
            "Tortellini Salad\n"
          ]
        },
        {
          "output_type": "display_data",
          "data": {
            "text/html": [
              "<img src=\"https://www.skinnytaste.com/wp-content/uploads/2022/08/Tortellini-Salad-4-260x390.jpg\"/>"
            ],
            "text/plain": [
              "<IPython.core.display.Image object>"
            ]
          },
          "metadata": {}
        },
        {
          "output_type": "stream",
          "name": "stdout",
          "text": [
            "BLT Roll Ups with Turkey and Avocado\n"
          ]
        },
        {
          "output_type": "display_data",
          "data": {
            "text/html": [
              "<img src=\"https://www.skinnytaste.com/wp-content/uploads/2019/07/BLT-Roll-Ups-with-Turkey-and-Avocado-6-260x390.jpg\"/>"
            ],
            "text/plain": [
              "<IPython.core.display.Image object>"
            ]
          },
          "metadata": {}
        },
        {
          "output_type": "stream",
          "name": "stdout",
          "text": [
            "Baked Wonton Chips\n"
          ]
        },
        {
          "output_type": "display_data",
          "data": {
            "text/html": [
              "<img src=\"https://www.skinnytaste.com/wp-content/uploads/2022/08/Baked-Wonton-Chips-5-260x390.jpg\"/>"
            ],
            "text/plain": [
              "<IPython.core.display.Image object>"
            ]
          },
          "metadata": {}
        },
        {
          "output_type": "stream",
          "name": "stdout",
          "text": [
            "Lentil Salad\n"
          ]
        },
        {
          "output_type": "display_data",
          "data": {
            "text/html": [
              "<img src=\"https://www.skinnytaste.com/wp-content/uploads/2014/07/Lentil-Salad-5-260x390.jpg\"/>"
            ],
            "text/plain": [
              "<IPython.core.display.Image object>"
            ]
          },
          "metadata": {}
        },
        {
          "output_type": "stream",
          "name": "stdout",
          "text": [
            "Air Fryer Popcorn Chicken\n"
          ]
        },
        {
          "output_type": "display_data",
          "data": {
            "text/html": [
              "<img src=\"https://www.skinnytaste.com/wp-content/uploads/2022/08/Air-Fryer-Popcorn-Chicken-5-260x390.jpg\"/>"
            ],
            "text/plain": [
              "<IPython.core.display.Image object>"
            ]
          },
          "metadata": {}
        },
        {
          "output_type": "stream",
          "name": "stdout",
          "text": [
            "Homemade Kansas City Style BBQ Sauce\n"
          ]
        },
        {
          "output_type": "display_data",
          "data": {
            "text/html": [
              "<img src=\"https://www.skinnytaste.com/wp-content/uploads/2012/04/Kansas-City-BBQ-Sauce-9-260x390.jpg\"/>"
            ],
            "text/plain": [
              "<IPython.core.display.Image object>"
            ]
          },
          "metadata": {}
        },
        {
          "output_type": "stream",
          "name": "stdout",
          "text": [
            "Easy Zucchini Casserole\n"
          ]
        },
        {
          "output_type": "display_data",
          "data": {
            "text/html": [
              "<img src=\"https://www.skinnytaste.com/wp-content/uploads/2008/08/Zucchini-Casserole-6-260x390.jpg\"/>"
            ],
            "text/plain": [
              "<IPython.core.display.Image object>"
            ]
          },
          "metadata": {}
        },
        {
          "output_type": "stream",
          "name": "stdout",
          "text": [
            "Pineapple Chia with Cottage Cheese\n"
          ]
        },
        {
          "output_type": "display_data",
          "data": {
            "text/html": [
              "<img src=\"https://www.skinnytaste.com/wp-content/uploads/2022/07/Pineapple-Chia-with-Cottage-Cheese-6-260x390.jpg\"/>"
            ],
            "text/plain": [
              "<IPython.core.display.Image object>"
            ]
          },
          "metadata": {}
        },
        {
          "output_type": "stream",
          "name": "stdout",
          "text": [
            "Scallops with Corn and Tomatoes\n"
          ]
        },
        {
          "output_type": "display_data",
          "data": {
            "text/html": [
              "<img src=\"https://www.skinnytaste.com/wp-content/uploads/2022/07/Seared-Scallops-with-Creamy-Corn-Tomatoes-and-Chives-6-260x390.jpg\"/>"
            ],
            "text/plain": [
              "<IPython.core.display.Image object>"
            ]
          },
          "metadata": {}
        },
        {
          "output_type": "stream",
          "name": "stdout",
          "text": [
            "Giant Zucchini Parmesan\n"
          ]
        },
        {
          "output_type": "display_data",
          "data": {
            "text/html": [
              "<img src=\"https://www.skinnytaste.com/wp-content/uploads/2022/07/Giant-Zucchini-Parmesan-9-260x390.jpg\"/>"
            ],
            "text/plain": [
              "<IPython.core.display.Image object>"
            ]
          },
          "metadata": {}
        },
        {
          "output_type": "stream",
          "name": "stdout",
          "text": [
            "Corn Tomato Avocado Salad\n"
          ]
        },
        {
          "output_type": "display_data",
          "data": {
            "text/html": [
              "<img src=\"https://www.skinnytaste.com/wp-content/uploads/2018/07/Corn-Tomato-Avocado-Salad-1-9-260x390.jpg\"/>"
            ],
            "text/plain": [
              "<IPython.core.display.Image object>"
            ]
          },
          "metadata": {}
        },
        {
          "output_type": "stream",
          "name": "stdout",
          "text": [
            "Peach Pie Cottage Cheese Bowls\n"
          ]
        },
        {
          "output_type": "display_data",
          "data": {
            "text/html": [
              "<img src=\"https://www.skinnytaste.com/wp-content/uploads/2022/07/Peach-Pie-Cottage-Cheese-Bowls-3-260x390.jpg\"/>"
            ],
            "text/plain": [
              "<IPython.core.display.Image object>"
            ]
          },
          "metadata": {}
        },
        {
          "output_type": "stream",
          "name": "stdout",
          "text": [
            "Gandules Guisados (Stewed Pigeon Peas)\n"
          ]
        },
        {
          "output_type": "display_data",
          "data": {
            "text/html": [
              "<img src=\"https://www.skinnytaste.com/wp-content/uploads/2022/07/Gandules-4-260x390.jpg\"/>"
            ],
            "text/plain": [
              "<IPython.core.display.Image object>"
            ]
          },
          "metadata": {}
        },
        {
          "output_type": "stream",
          "name": "stdout",
          "text": [
            "Puerto Rican Sofrito Recipe\n"
          ]
        },
        {
          "output_type": "display_data",
          "data": {
            "text/html": [
              "<img src=\"https://www.skinnytaste.com/wp-content/uploads/2022/07/Puerto-Rican-Sofrito-5-260x390.jpg\"/>"
            ],
            "text/plain": [
              "<IPython.core.display.Image object>"
            ]
          },
          "metadata": {}
        },
        {
          "output_type": "stream",
          "name": "stdout",
          "text": [
            "Pollo Sabroso (Broiled or Grilled)\n"
          ]
        },
        {
          "output_type": "display_data",
          "data": {
            "text/html": [
              "<img src=\"https://www.skinnytaste.com/wp-content/uploads/2010/06/Pollo-Sabroso-9-260x390.jpg\"/>"
            ],
            "text/plain": [
              "<IPython.core.display.Image object>"
            ]
          },
          "metadata": {}
        },
        {
          "output_type": "stream",
          "name": "stdout",
          "text": [
            "Summer Cavatelli Pasta with Corn, Tomatoes and Zucchini\n"
          ]
        },
        {
          "output_type": "display_data",
          "data": {
            "text/html": [
              "<img src=\"https://www.skinnytaste.com/wp-content/uploads/2017/07/Summer-Cavatelli-with-Corn-Tomatoes-and-Zucchini-8-260x390.jpg\"/>"
            ],
            "text/plain": [
              "<IPython.core.display.Image object>"
            ]
          },
          "metadata": {}
        },
        {
          "output_type": "stream",
          "name": "stdout",
          "text": [
            "Bacon-Wrapped Air Fryer Chicken Breast\n"
          ]
        },
        {
          "output_type": "display_data",
          "data": {
            "text/html": [
              "<img src=\"https://www.skinnytaste.com/wp-content/uploads/2022/07/Air-Fryer-Bacon-Wrapped-Chicken-Breast-3-260x390.jpg\"/>"
            ],
            "text/plain": [
              "<IPython.core.display.Image object>"
            ]
          },
          "metadata": {}
        },
        {
          "output_type": "stream",
          "name": "stdout",
          "text": [
            "Black Bean, Avocado, Cucumber and Tomato Salad\n"
          ]
        },
        {
          "output_type": "display_data",
          "data": {
            "text/html": [
              "<img src=\"https://www.skinnytaste.com/wp-content/uploads/2010/07/Black-Bean-Avocado-Cucumber-and-Tomato-Salad-4-260x390.jpg\"/>"
            ],
            "text/plain": [
              "<IPython.core.display.Image object>"
            ]
          },
          "metadata": {}
        },
        {
          "output_type": "stream",
          "name": "stdout",
          "text": [
            "Greek 7 Layer Dip\n"
          ]
        },
        {
          "output_type": "display_data",
          "data": {
            "text/html": [
              "<img src=\"https://www.skinnytaste.com/wp-content/uploads/2015/06/Greek-7-Layer-Dip-7-260x390.jpg\"/>"
            ],
            "text/plain": [
              "<IPython.core.display.Image object>"
            ]
          },
          "metadata": {}
        },
        {
          "output_type": "stream",
          "name": "stdout",
          "text": [
            "Red, White and Blueberry Trifle\n"
          ]
        },
        {
          "output_type": "display_data",
          "data": {
            "text/html": [
              "<img src=\"https://www.skinnytaste.com/wp-content/uploads/2015/06/red-white-and-blueberry-trifle-260x390.jpg\"/>"
            ],
            "text/plain": [
              "<IPython.core.display.Image object>"
            ]
          },
          "metadata": {}
        },
        {
          "output_type": "stream",
          "name": "stdout",
          "text": [
            "Air Fryer Baked Potato\n"
          ]
        },
        {
          "output_type": "display_data",
          "data": {
            "text/html": [
              "<img src=\"https://www.skinnytaste.com/wp-content/uploads/2022/06/Air-Fryer-Baked-Potato_1-2-260x390.jpg\"/>"
            ],
            "text/plain": [
              "<IPython.core.display.Image object>"
            ]
          },
          "metadata": {}
        },
        {
          "output_type": "stream",
          "name": "stdout",
          "text": [
            "Chickpea Milanese\n"
          ]
        },
        {
          "output_type": "display_data",
          "data": {
            "text/html": [
              "<img src=\"https://www.skinnytaste.com/wp-content/uploads/2022/06/Chickpea-Milanese-5-260x390.jpg\"/>"
            ],
            "text/plain": [
              "<IPython.core.display.Image object>"
            ]
          },
          "metadata": {}
        },
        {
          "output_type": "stream",
          "name": "stdout",
          "text": [
            "Peruvian Grilled Chicken Skewers\n"
          ]
        },
        {
          "output_type": "display_data",
          "data": {
            "text/html": [
              "<img src=\"https://www.skinnytaste.com/wp-content/uploads/2022/06/Peruvian-Grilled-Chicken-11-260x390.jpg\"/>"
            ],
            "text/plain": [
              "<IPython.core.display.Image object>"
            ]
          },
          "metadata": {}
        },
        {
          "output_type": "stream",
          "name": "stdout",
          "text": [
            "Overnight Oats (How To Make)\n"
          ]
        },
        {
          "output_type": "display_data",
          "data": {
            "text/html": [
              "<img src=\"https://www.skinnytaste.com/wp-content/uploads/2012/06/Skinny-Overnight-Oats-in-a-Jar-260x390.jpg\"/>"
            ],
            "text/plain": [
              "<IPython.core.display.Image object>"
            ]
          },
          "metadata": {}
        },
        {
          "output_type": "stream",
          "name": "stdout",
          "text": [
            "Broiled Fish with Tomato Caper Sauce\n"
          ]
        },
        {
          "output_type": "display_data",
          "data": {
            "text/html": [
              "<img src=\"https://www.skinnytaste.com/wp-content/uploads/2009/03/Broiled-Tilapia-with-Tomato-Caper-Sauce-5-260x390.jpg\"/>"
            ],
            "text/plain": [
              "<IPython.core.display.Image object>"
            ]
          },
          "metadata": {}
        },
        {
          "output_type": "stream",
          "name": "stdout",
          "text": [
            "Mango Coconut Chia Pudding\n"
          ]
        },
        {
          "output_type": "display_data",
          "data": {
            "text/html": [
              "<img src=\"https://www.skinnytaste.com/wp-content/uploads/2012/06/Mango-Coconut-Chia-Pudding-6-260x390.jpg\"/>"
            ],
            "text/plain": [
              "<IPython.core.display.Image object>"
            ]
          },
          "metadata": {}
        },
        {
          "output_type": "stream",
          "name": "stdout",
          "text": [
            "Grilled Chicken Chickpea Salad\n"
          ]
        },
        {
          "output_type": "display_data",
          "data": {
            "text/html": [
              "<img src=\"https://www.skinnytaste.com/wp-content/uploads/2022/05/Grilled-Chicken-Feta-Chickpea-Salad-6-260x390.jpg\"/>"
            ],
            "text/plain": [
              "<IPython.core.display.Image object>"
            ]
          },
          "metadata": {}
        },
        {
          "output_type": "stream",
          "name": "stdout",
          "text": [
            "Grilled Tuna over Arugula with Lemon Vinaigrette\n"
          ]
        },
        {
          "output_type": "display_data",
          "data": {
            "text/html": [
              "<img src=\"https://www.skinnytaste.com/wp-content/uploads/2011/06/Grilled-Tuna_-5-260x390.jpg\"/>"
            ],
            "text/plain": [
              "<IPython.core.display.Image object>"
            ]
          },
          "metadata": {}
        },
        {
          "output_type": "stream",
          "name": "stdout",
          "text": [
            "Watermelon Arugula and Feta Salad\n"
          ]
        },
        {
          "output_type": "display_data",
          "data": {
            "text/html": [
              "<img src=\"https://www.skinnytaste.com/wp-content/uploads/2011/07/Watermelon-and-Feta-Salad-6-260x390.jpg\"/>"
            ],
            "text/plain": [
              "<IPython.core.display.Image object>"
            ]
          },
          "metadata": {}
        },
        {
          "output_type": "stream",
          "name": "stdout",
          "text": [
            "Berry Cottage Cheese Breakfast Bowl\n"
          ]
        },
        {
          "output_type": "display_data",
          "data": {
            "text/html": [
              "<img src=\"https://www.skinnytaste.com/wp-content/uploads/2022/06/Very-Berry-Cottage-Cheese-Bowl-10-260x390.jpg\"/>"
            ],
            "text/plain": [
              "<IPython.core.display.Image object>"
            ]
          },
          "metadata": {}
        },
        {
          "output_type": "stream",
          "name": "stdout",
          "text": [
            "Chili-Lime Air Fryer Salmon\n"
          ]
        },
        {
          "output_type": "display_data",
          "data": {
            "text/html": [
              "<img src=\"https://www.skinnytaste.com/wp-content/uploads/2022/05/Chili-_-Lime-Air-Fryer-Salmon-6-260x390.jpg\"/>"
            ],
            "text/plain": [
              "<IPython.core.display.Image object>"
            ]
          },
          "metadata": {}
        },
        {
          "output_type": "stream",
          "name": "stdout",
          "text": [
            "String Beans with Garlic and Oil\n"
          ]
        },
        {
          "output_type": "display_data",
          "data": {
            "text/html": [
              "<img src=\"https://www.skinnytaste.com/wp-content/uploads/2009/05/String-Beans-with-Garlic-and-Oil-5-260x390.jpg\"/>"
            ],
            "text/plain": [
              "<IPython.core.display.Image object>"
            ]
          },
          "metadata": {}
        },
        {
          "output_type": "stream",
          "name": "stdout",
          "text": [
            "Tuna Poke Salad\n"
          ]
        },
        {
          "output_type": "display_data",
          "data": {
            "text/html": [
              "<img src=\"https://www.skinnytaste.com/wp-content/uploads/2022/05/Poke-Salad-10-260x390.jpg\"/>"
            ],
            "text/plain": [
              "<IPython.core.display.Image object>"
            ]
          },
          "metadata": {}
        },
        {
          "output_type": "stream",
          "name": "stdout",
          "text": [
            "Arugula Pasta Salad with Chickpeas and Sun Dried Tomatoes (no mayo)\n"
          ]
        },
        {
          "output_type": "display_data",
          "data": {
            "text/html": [
              "<img src=\"https://www.skinnytaste.com/wp-content/uploads/2012/02/Penne-Arugula-Salad-with-Sun-Dried-Tomatoes-4-260x390.jpg\"/>"
            ],
            "text/plain": [
              "<IPython.core.display.Image object>"
            ]
          },
          "metadata": {}
        },
        {
          "output_type": "stream",
          "name": "stdout",
          "text": [
            "Honey Sriracha Chicken and Broccoli Meal Prep Bowls\n"
          ]
        },
        {
          "output_type": "display_data",
          "data": {
            "text/html": [
              "<img src=\"https://www.skinnytaste.com/wp-content/uploads/2019/05/Honey-Sriracha-Chicken-and-Broccoli-Meal-Prep-Bowls-10-260x390.jpg\"/>"
            ],
            "text/plain": [
              "<IPython.core.display.Image object>"
            ]
          },
          "metadata": {}
        },
        {
          "output_type": "stream",
          "name": "stdout",
          "text": [
            "Greek Pasta Salad\n"
          ]
        },
        {
          "output_type": "display_data",
          "data": {
            "text/html": [
              "<img src=\"https://www.skinnytaste.com/wp-content/uploads/2019/06/Greek-Pasta-Salad-6-260x390.jpg\"/>"
            ],
            "text/plain": [
              "<IPython.core.display.Image object>"
            ]
          },
          "metadata": {}
        },
        {
          "output_type": "stream",
          "name": "stdout",
          "text": [
            "Sous Vide Chicken Breast and a Cilantro Lime Chicken Avocado Salad\n"
          ]
        },
        {
          "output_type": "display_data",
          "data": {
            "text/html": [
              "<img src=\"https://www.skinnytaste.com/wp-content/uploads/2022/04/Sous-Vide-Chicken-14-1-260x390.jpg\"/>"
            ],
            "text/plain": [
              "<IPython.core.display.Image object>"
            ]
          },
          "metadata": {}
        },
        {
          "output_type": "stream",
          "name": "stdout",
          "text": [
            "Instant Pot Baked Oatmeal Bars\n"
          ]
        },
        {
          "output_type": "display_data",
          "data": {
            "text/html": [
              "<img src=\"https://www.skinnytaste.com/wp-content/uploads/2022/05/Instant-Pot-Banana-Bread-Oatmeal-Bars-9-260x390.jpg\"/>"
            ],
            "text/plain": [
              "<IPython.core.display.Image object>"
            ]
          },
          "metadata": {}
        },
        {
          "output_type": "stream",
          "name": "stdout",
          "text": [
            "Seared Scallop Salad with Grapefruit, Arugula and Spinach\n"
          ]
        },
        {
          "output_type": "display_data",
          "data": {
            "text/html": [
              "<img src=\"https://www.skinnytaste.com/wp-content/uploads/2011/03/Seared-Scallops-Grapefruit-Arugula-and-Spinach-Salad-4-1-260x390.jpg\"/>"
            ],
            "text/plain": [
              "<IPython.core.display.Image object>"
            ]
          },
          "metadata": {}
        },
        {
          "output_type": "stream",
          "name": "stdout",
          "text": [
            "Burst Tomato Cottage Cheese Caprese Bowl\n"
          ]
        },
        {
          "output_type": "display_data",
          "data": {
            "text/html": [
              "<img src=\"https://www.skinnytaste.com/wp-content/uploads/2022/05/Burst-Tomato-Cottage-Cheese-Caprese-Bowl-9-260x390.jpg\"/>"
            ],
            "text/plain": [
              "<IPython.core.display.Image object>"
            ]
          },
          "metadata": {}
        },
        {
          "output_type": "stream",
          "name": "stdout",
          "text": [
            "Blueberry Frozen Yogurt\n"
          ]
        },
        {
          "output_type": "display_data",
          "data": {
            "text/html": [
              "<img src=\"https://www.skinnytaste.com/wp-content/uploads/2022/05/Blueberry-Frozen-Yogurt-8-260x390.jpg\"/>"
            ],
            "text/plain": [
              "<IPython.core.display.Image object>"
            ]
          },
          "metadata": {}
        },
        {
          "output_type": "stream",
          "name": "stdout",
          "text": [
            "Buffalo Chicken Salad\n"
          ]
        },
        {
          "output_type": "display_data",
          "data": {
            "text/html": [
              "<img src=\"https://www.skinnytaste.com/wp-content/uploads/2022/05/Buffalo-Chicken-Salad-4-260x390.jpg\"/>"
            ],
            "text/plain": [
              "<IPython.core.display.Image object>"
            ]
          },
          "metadata": {}
        },
        {
          "output_type": "stream",
          "name": "stdout",
          "text": [
            "Coconut Chicken Salad with Warm Honey Mustard Vinaigrette\n"
          ]
        },
        {
          "output_type": "display_data",
          "data": {
            "text/html": [
              "<img src=\"https://www.skinnytaste.com/wp-content/uploads/2011/03/Coconut-Chicken-Salad-6-260x390.jpg\"/>"
            ],
            "text/plain": [
              "<IPython.core.display.Image object>"
            ]
          },
          "metadata": {}
        },
        {
          "output_type": "stream",
          "name": "stdout",
          "text": [
            "Grilled Vegetable Orzo Pasta Salad\n"
          ]
        },
        {
          "output_type": "display_data",
          "data": {
            "text/html": [
              "<img src=\"https://www.skinnytaste.com/wp-content/uploads/2021/05/Farmer_s-Market-Orzo-Salad-8-260x390.jpg\"/>"
            ],
            "text/plain": [
              "<IPython.core.display.Image object>"
            ]
          },
          "metadata": {}
        },
        {
          "output_type": "stream",
          "name": "stdout",
          "text": [
            "Juicy Turkey Burgers with Zucchini\n"
          ]
        },
        {
          "output_type": "display_data",
          "data": {
            "text/html": [
              "<img src=\"https://www.skinnytaste.com/wp-content/uploads/2015/05/TurkeyZucchiniBurger-260x390.jpg\"/>"
            ],
            "text/plain": [
              "<IPython.core.display.Image object>"
            ]
          },
          "metadata": {}
        },
        {
          "output_type": "stream",
          "name": "stdout",
          "text": [
            "Italian Turkey Meatballs\n"
          ]
        },
        {
          "output_type": "display_data",
          "data": {
            "text/html": [
              "<img src=\"https://www.skinnytaste.com/wp-content/uploads/2008/12/Skinny-Italian-Turkey-Meatballs-9-260x390.jpg\"/>"
            ],
            "text/plain": [
              "<IPython.core.display.Image object>"
            ]
          },
          "metadata": {}
        },
        {
          "output_type": "stream",
          "name": "stdout",
          "text": [
            "Grilled Chicken Tacos with Lettuce Slaw, Avocado and Cotija\n"
          ]
        },
        {
          "output_type": "display_data",
          "data": {
            "text/html": [
              "<img src=\"https://www.skinnytaste.com/wp-content/uploads/2015/04/Grilled-Chicken-Tacos-1-5-260x390.jpg\"/>"
            ],
            "text/plain": [
              "<IPython.core.display.Image object>"
            ]
          },
          "metadata": {}
        },
        {
          "output_type": "stream",
          "name": "stdout",
          "text": [
            "Lemon Asparagus Couscous Salad with Tomatoes\n"
          ]
        },
        {
          "output_type": "display_data",
          "data": {
            "text/html": [
              "<img src=\"https://www.skinnytaste.com/wp-content/uploads/2013/05/Lemon-Asparagus-Couscous-Salad-with-Tomatoes-5-260x390.jpg\"/>"
            ],
            "text/plain": [
              "<IPython.core.display.Image object>"
            ]
          },
          "metadata": {}
        },
        {
          "output_type": "stream",
          "name": "stdout",
          "text": [
            "Latin Yellow Rice\n"
          ]
        },
        {
          "output_type": "display_data",
          "data": {
            "text/html": [
              "<img src=\"https://www.skinnytaste.com/wp-content/uploads/2008/10/Latin-Yellow-Rice-6-260x390.jpg\"/>"
            ],
            "text/plain": [
              "<IPython.core.display.Image object>"
            ]
          },
          "metadata": {}
        },
        {
          "output_type": "stream",
          "name": "stdout",
          "text": [
            "Slow Cooker Chicken Tacos\n"
          ]
        },
        {
          "output_type": "display_data",
          "data": {
            "text/html": [
              "<img src=\"https://www.skinnytaste.com/wp-content/uploads/2020/04/Slow-Cooker-Chicken-Tacos-6-260x390.jpg\"/>"
            ],
            "text/plain": [
              "<IPython.core.display.Image object>"
            ]
          },
          "metadata": {}
        },
        {
          "output_type": "stream",
          "name": "stdout",
          "text": [
            "Spicy Canned Salmon Rice Bowl\n"
          ]
        },
        {
          "output_type": "display_data",
          "data": {
            "text/html": [
              "<img src=\"https://www.skinnytaste.com/wp-content/uploads/2022/04/Spicy-Canned-Salmon-Salad-Bowl-8-260x390.jpg\"/>"
            ],
            "text/plain": [
              "<IPython.core.display.Image object>"
            ]
          },
          "metadata": {}
        },
        {
          "output_type": "stream",
          "name": "stdout",
          "text": [
            "Avocado Quinoa Salad\n"
          ]
        },
        {
          "output_type": "display_data",
          "data": {
            "text/html": [
              "<img src=\"https://www.skinnytaste.com/wp-content/uploads/2022/04/Avocado-Quinoa-Salad-3-260x390.jpg\"/>"
            ],
            "text/plain": [
              "<IPython.core.display.Image object>"
            ]
          },
          "metadata": {}
        },
        {
          "output_type": "stream",
          "name": "stdout",
          "text": [
            "Swiss Chard Frittata\n"
          ]
        },
        {
          "output_type": "display_data",
          "data": {
            "text/html": [
              "<img src=\"https://www.skinnytaste.com/wp-content/uploads/2012/02/Swiss-Chard-Frittata-8-260x390.jpg\"/>"
            ],
            "text/plain": [
              "<IPython.core.display.Image object>"
            ]
          },
          "metadata": {}
        },
        {
          "output_type": "stream",
          "name": "stdout",
          "text": [
            "Salmon Tikka Masala\n"
          ]
        },
        {
          "output_type": "display_data",
          "data": {
            "text/html": [
              "<img src=\"https://www.skinnytaste.com/wp-content/uploads/2022/04/Salmon-Tikka-Masala-8-260x390.jpg\"/>"
            ],
            "text/plain": [
              "<IPython.core.display.Image object>"
            ]
          },
          "metadata": {}
        },
        {
          "output_type": "stream",
          "name": "stdout",
          "text": [
            "Warm Salad with Artichoke Hearts, Roasted Peppers, Mozzarella\n"
          ]
        },
        {
          "output_type": "display_data",
          "data": {
            "text/html": [
              "<img src=\"https://www.skinnytaste.com/wp-content/uploads/2022/04/Warm-Salad-with-Artichoke-Hearts-Roasted-Peppers-and-Mozzarella-9-260x390.jpg\"/>"
            ],
            "text/plain": [
              "<IPython.core.display.Image object>"
            ]
          },
          "metadata": {}
        },
        {
          "output_type": "stream",
          "name": "stdout",
          "text": [
            "Air Fryer Empanadas\n"
          ]
        },
        {
          "output_type": "display_data",
          "data": {
            "text/html": [
              "<img src=\"https://www.skinnytaste.com/wp-content/uploads/2017/09/Air-Fryer-Beef-Empanadas-8-260x390.jpg\"/>"
            ],
            "text/plain": [
              "<IPython.core.display.Image object>"
            ]
          },
          "metadata": {}
        },
        {
          "output_type": "stream",
          "name": "stdout",
          "text": [
            "Instant Pot Risotto with Prosciutto, Peas, and Herbs\n"
          ]
        },
        {
          "output_type": "display_data",
          "data": {
            "text/html": [
              "<img src=\"https://www.skinnytaste.com/wp-content/uploads/2022/04/Instant-Pot-Prosciutto-Pea-and-Herb-Risotto-8-1-260x390.jpg\"/>"
            ],
            "text/plain": [
              "<IPython.core.display.Image object>"
            ]
          },
          "metadata": {}
        },
        {
          "output_type": "stream",
          "name": "stdout",
          "text": [
            "Brown Sugar Baked Beans\n"
          ]
        },
        {
          "output_type": "display_data",
          "data": {
            "text/html": [
              "<img src=\"https://www.skinnytaste.com/wp-content/uploads/2018/04/Instant-Pot-Brown-Sugar-Baked-Beans-3-260x390.jpg\"/>"
            ],
            "text/plain": [
              "<IPython.core.display.Image object>"
            ]
          },
          "metadata": {}
        },
        {
          "output_type": "stream",
          "name": "stdout",
          "text": [
            "Chocolate Frozen Yogurt in the Ninja™ CREAMi®\n"
          ]
        },
        {
          "output_type": "display_data",
          "data": {
            "text/html": [
              "<img src=\"https://www.skinnytaste.com/wp-content/uploads/2022/04/Chocolate-Frozen-Yogurt-17-260x390.jpg\"/>"
            ],
            "text/plain": [
              "<IPython.core.display.Image object>"
            ]
          },
          "metadata": {}
        },
        {
          "output_type": "stream",
          "name": "stdout",
          "text": [
            "Lemon Cheesecake Yogurt Cups\n"
          ]
        },
        {
          "output_type": "display_data",
          "data": {
            "text/html": [
              "<img src=\"https://www.skinnytaste.com/wp-content/uploads/2011/05/Lemon-Cheesecake-Yogurt-Cups-8-260x390.jpg\"/>"
            ],
            "text/plain": [
              "<IPython.core.display.Image object>"
            ]
          },
          "metadata": {}
        },
        {
          "output_type": "stream",
          "name": "stdout",
          "text": [
            "Blackened Shrimp and Grits\n"
          ]
        },
        {
          "output_type": "display_data",
          "data": {
            "text/html": [
              "<img src=\"https://www.skinnytaste.com/wp-content/uploads/2022/04/Blackened-Shrimp-with-Cheesy-Grits-9-260x390.jpg\"/>"
            ],
            "text/plain": [
              "<IPython.core.display.Image object>"
            ]
          },
          "metadata": {}
        },
        {
          "output_type": "stream",
          "name": "stdout",
          "text": [
            "Banana Nut Pancakes\n"
          ]
        },
        {
          "output_type": "display_data",
          "data": {
            "text/html": [
              "<img src=\"https://www.skinnytaste.com/wp-content/uploads/2010/09/BANANA-NUT-PANCAKES-19-of-15-260x390.jpg\"/>"
            ],
            "text/plain": [
              "<IPython.core.display.Image object>"
            ]
          },
          "metadata": {}
        },
        {
          "output_type": "stream",
          "name": "stdout",
          "text": [
            "Air Fryer Steak\n"
          ]
        },
        {
          "output_type": "display_data",
          "data": {
            "text/html": [
              "<img src=\"https://www.skinnytaste.com/wp-content/uploads/2022/03/Air-Fryer-Steak-6-260x390.jpg\"/>"
            ],
            "text/plain": [
              "<IPython.core.display.Image object>"
            ]
          },
          "metadata": {}
        },
        {
          "output_type": "stream",
          "name": "stdout",
          "text": [
            "Peanut Butter Breakfast Oatmeal Bowl\n"
          ]
        },
        {
          "output_type": "display_data",
          "data": {
            "text/html": [
              "<img src=\"https://www.skinnytaste.com/wp-content/uploads/2022/03/Peanut-Butter-Breakfast-Oatmeal-Bowl-8-260x390.jpg\"/>"
            ],
            "text/plain": [
              "<IPython.core.display.Image object>"
            ]
          },
          "metadata": {}
        },
        {
          "output_type": "stream",
          "name": "stdout",
          "text": [
            "Greek Turkey Meatballs\n"
          ]
        },
        {
          "output_type": "display_data",
          "data": {
            "text/html": [
              "<img src=\"https://www.skinnytaste.com/wp-content/uploads/2010/08/Greek-Turkey-Meatballs-9-260x390.jpg\"/>"
            ],
            "text/plain": [
              "<IPython.core.display.Image object>"
            ]
          },
          "metadata": {}
        },
        {
          "output_type": "stream",
          "name": "stdout",
          "text": [
            "Blackened Fish with Key Lime Tartar\n"
          ]
        },
        {
          "output_type": "display_data",
          "data": {
            "text/html": [
              "<img src=\"https://www.skinnytaste.com/wp-content/uploads/2022/03/Blackened-Fish-with-Key-Lime-Tartar-8-260x390.jpg\"/>"
            ],
            "text/plain": [
              "<IPython.core.display.Image object>"
            ]
          },
          "metadata": {}
        },
        {
          "output_type": "stream",
          "name": "stdout",
          "text": [
            "BBQ Chicken Salad\n"
          ]
        },
        {
          "output_type": "display_data",
          "data": {
            "text/html": [
              "<img src=\"https://www.skinnytaste.com/wp-content/uploads/2015/08/BBQ-Chicken-Salad-6-260x390.jpg\"/>"
            ],
            "text/plain": [
              "<IPython.core.display.Image object>"
            ]
          },
          "metadata": {}
        },
        {
          "output_type": "stream",
          "name": "stdout",
          "text": [
            "Roasted Strawberry Banana Bread\n"
          ]
        },
        {
          "output_type": "display_data",
          "data": {
            "text/html": [
              "<img src=\"https://www.skinnytaste.com/wp-content/uploads/2013/06/Strawberry-Banana-Bread-6-260x390.jpg\"/>"
            ],
            "text/plain": [
              "<IPython.core.display.Image object>"
            ]
          },
          "metadata": {}
        },
        {
          "output_type": "stream",
          "name": "stdout",
          "text": [
            "Spinach Artichoke Lasagna Roll-ups\n"
          ]
        },
        {
          "output_type": "display_data",
          "data": {
            "text/html": [
              "<img src=\"https://www.skinnytaste.com/wp-content/uploads/2022/03/Spinach-and-Artichoke-Lasagna-Roll-Ups-10-260x390.jpg\"/>"
            ],
            "text/plain": [
              "<IPython.core.display.Image object>"
            ]
          },
          "metadata": {}
        },
        {
          "output_type": "stream",
          "name": "stdout",
          "text": [
            "Ginger Scallion Fish\n"
          ]
        },
        {
          "output_type": "display_data",
          "data": {
            "text/html": [
              "<img src=\"https://www.skinnytaste.com/wp-content/uploads/2022/03/Ginger-Scallion-Fish-5-260x390.jpg\"/>"
            ],
            "text/plain": [
              "<IPython.core.display.Image object>"
            ]
          },
          "metadata": {}
        },
        {
          "output_type": "stream",
          "name": "stdout",
          "text": [
            "Air Fryer Chickpeas\n"
          ]
        },
        {
          "output_type": "display_data",
          "data": {
            "text/html": [
              "<img src=\"https://www.skinnytaste.com/wp-content/uploads/2022/03/Air-Fryer-Chickpeas-8-260x390.jpg\"/>"
            ],
            "text/plain": [
              "<IPython.core.display.Image object>"
            ]
          },
          "metadata": {}
        },
        {
          "output_type": "stream",
          "name": "stdout",
          "text": [
            "Mushroom Risotto\n"
          ]
        },
        {
          "output_type": "display_data",
          "data": {
            "text/html": [
              "<img src=\"https://www.skinnytaste.com/wp-content/uploads/2009/10/Mushroom-Risotto_1-4-260x390.jpg\"/>"
            ],
            "text/plain": [
              "<IPython.core.display.Image object>"
            ]
          },
          "metadata": {}
        },
        {
          "output_type": "stream",
          "name": "stdout",
          "text": [
            "High-Protein Scrambled Eggs with Cottage Cheese\n"
          ]
        },
        {
          "output_type": "display_data",
          "data": {
            "text/html": [
              "<img src=\"https://www.skinnytaste.com/wp-content/uploads/2022/03/High-Protein-Scrambled-Eggs-9-260x390.jpg\"/>"
            ],
            "text/plain": [
              "<IPython.core.display.Image object>"
            ]
          },
          "metadata": {}
        },
        {
          "output_type": "stream",
          "name": "stdout",
          "text": [
            "Sloppy Joe Recipe\n"
          ]
        },
        {
          "output_type": "display_data",
          "data": {
            "text/html": [
              "<img src=\"https://www.skinnytaste.com/wp-content/uploads/2010/10/Skinny-Sloppy-Joe_s-9-260x390.jpg\"/>"
            ],
            "text/plain": [
              "<IPython.core.display.Image object>"
            ]
          },
          "metadata": {}
        },
        {
          "output_type": "stream",
          "name": "stdout",
          "text": [
            "Tuna Croquettes (Baked or Air Fryer)\n"
          ]
        },
        {
          "output_type": "display_data",
          "data": {
            "text/html": [
              "<img src=\"https://www.skinnytaste.com/wp-content/uploads/2022/03/Tuna-Croquettes-8-260x390.jpg\"/>"
            ],
            "text/plain": [
              "<IPython.core.display.Image object>"
            ]
          },
          "metadata": {}
        },
        {
          "output_type": "stream",
          "name": "stdout",
          "text": [
            "Ground Turkey Taco Skillet\n"
          ]
        },
        {
          "output_type": "display_data",
          "data": {
            "text/html": [
              "<img src=\"https://www.skinnytaste.com/wp-content/uploads/2022/03/Turkey-Taco-Skillet-6-260x390.jpg\"/>"
            ],
            "text/plain": [
              "<IPython.core.display.Image object>"
            ]
          },
          "metadata": {}
        },
        {
          "output_type": "stream",
          "name": "stdout",
          "text": [
            "Enchilada Turkey Meatloaf\n"
          ]
        },
        {
          "output_type": "display_data",
          "data": {
            "text/html": [
              "<img src=\"https://www.skinnytaste.com/wp-content/uploads/2022/03/Enchilada-Turkey-Meatloaf-5-260x390.jpg\"/>"
            ],
            "text/plain": [
              "<IPython.core.display.Image object>"
            ]
          },
          "metadata": {}
        },
        {
          "output_type": "stream",
          "name": "stdout",
          "text": [
            "Homemade Italian Turkey Sausage or Chicken Sausage\n"
          ]
        },
        {
          "output_type": "display_data",
          "data": {
            "text/html": [
              "<img src=\"https://www.skinnytaste.com/wp-content/uploads/2010/01/Homemade-Turkey-Sausage-6-260x390.jpg\"/>"
            ],
            "text/plain": [
              "<IPython.core.display.Image object>"
            ]
          },
          "metadata": {}
        },
        {
          "output_type": "stream",
          "name": "stdout",
          "text": [
            "Escarole and Chickpea Soup with Garlic Toast\n"
          ]
        },
        {
          "output_type": "display_data",
          "data": {
            "text/html": [
              "<img src=\"https://www.skinnytaste.com/wp-content/uploads/2022/02/Garlicky-Escarole-and-Chickpea-Soup-with-Garlic-Toast-5-260x390.jpg\"/>"
            ],
            "text/plain": [
              "<IPython.core.display.Image object>"
            ]
          },
          "metadata": {}
        },
        {
          "output_type": "stream",
          "name": "stdout",
          "text": [
            "Cajun Fried Rice\n"
          ]
        },
        {
          "output_type": "display_data",
          "data": {
            "text/html": [
              "<img src=\"https://www.skinnytaste.com/wp-content/uploads/2022/02/Cajun-Fried-Rice-7-260x390.jpg\"/>"
            ],
            "text/plain": [
              "<IPython.core.display.Image object>"
            ]
          },
          "metadata": {}
        },
        {
          "output_type": "stream",
          "name": "stdout",
          "text": [
            "Peanut Butter Oatmeal Protein Cookies\n"
          ]
        },
        {
          "output_type": "display_data",
          "data": {
            "text/html": [
              "<img src=\"https://www.skinnytaste.com/wp-content/uploads/2022/02/Peanut-Butter-Banana-Oat-Breakfast-Cookies-8-1-260x390.jpg\"/>"
            ],
            "text/plain": [
              "<IPython.core.display.Image object>"
            ]
          },
          "metadata": {}
        },
        {
          "output_type": "stream",
          "name": "stdout",
          "text": [
            "Meal Prep Breakfast Taco Scramble\n"
          ]
        },
        {
          "output_type": "display_data",
          "data": {
            "text/html": [
              "<img src=\"https://www.skinnytaste.com/wp-content/uploads/2018/02/meal-prep-breakfast-taco-1-2-260x390.jpg\"/>"
            ],
            "text/plain": [
              "<IPython.core.display.Image object>"
            ]
          },
          "metadata": {}
        },
        {
          "output_type": "stream",
          "name": "stdout",
          "text": [
            "Easiest Salsa Verde Chicken (Slow cooker or Instant Pot)\n"
          ]
        },
        {
          "output_type": "display_data",
          "data": {
            "text/html": [
              "<img src=\"https://www.skinnytaste.com/wp-content/uploads/2013/04/Crockpot-Salsa-Verde-Chicken-5-260x390.jpg\"/>"
            ],
            "text/plain": [
              "<IPython.core.display.Image object>"
            ]
          },
          "metadata": {}
        },
        {
          "output_type": "stream",
          "name": "stdout",
          "text": [
            "Lobster Bisque\n"
          ]
        },
        {
          "output_type": "display_data",
          "data": {
            "text/html": [
              "<img src=\"https://www.skinnytaste.com/wp-content/uploads/2022/02/Healthy-Lobster-Bisque-9-260x390.jpg\"/>"
            ],
            "text/plain": [
              "<IPython.core.display.Image object>"
            ]
          },
          "metadata": {}
        },
        {
          "output_type": "stream",
          "name": "stdout",
          "text": [
            "Brothy Lima Beans and Greens (Stove or Instant Pot)\n"
          ]
        },
        {
          "output_type": "display_data",
          "data": {
            "text/html": [
              "<img src=\"https://www.skinnytaste.com/wp-content/uploads/2022/02/Brothy-Beans-and-Greens-7-260x390.jpg\"/>"
            ],
            "text/plain": [
              "<IPython.core.display.Image object>"
            ]
          },
          "metadata": {}
        },
        {
          "output_type": "stream",
          "name": "stdout",
          "text": [
            "Food Cart-Style Chicken Salad with White Sauce\n"
          ]
        },
        {
          "output_type": "display_data",
          "data": {
            "text/html": [
              "<img src=\"https://www.skinnytaste.com/wp-content/uploads/2019/01/Street-Cart-Style-Chicken-Salad-with-White-Sauce-8-260x390.jpg\"/>"
            ],
            "text/plain": [
              "<IPython.core.display.Image object>"
            ]
          },
          "metadata": {}
        },
        {
          "output_type": "stream",
          "name": "stdout",
          "text": [
            "Chicken Breast with Hot Cherry Peppers\n"
          ]
        },
        {
          "output_type": "display_data",
          "data": {
            "text/html": [
              "<img src=\"https://www.skinnytaste.com/wp-content/uploads/2022/02/Chicken-with-Hot-Cherry-Peppers-3-260x390.jpg\"/>"
            ],
            "text/plain": [
              "<IPython.core.display.Image object>"
            ]
          },
          "metadata": {}
        },
        {
          "output_type": "stream",
          "name": "stdout",
          "text": [
            "3-Ingredient Strawberries Romanoff\n"
          ]
        },
        {
          "output_type": "display_data",
          "data": {
            "text/html": [
              "<img src=\"https://www.skinnytaste.com/wp-content/uploads/2019/04/Skinny-Strawberries-Romanoff-7-260x390.jpg\"/>"
            ],
            "text/plain": [
              "<IPython.core.display.Image object>"
            ]
          },
          "metadata": {}
        },
        {
          "output_type": "stream",
          "name": "stdout",
          "text": [
            "Air Fryer Baked Sweet Potato\n"
          ]
        },
        {
          "output_type": "display_data",
          "data": {
            "text/html": [
              "<img src=\"https://www.skinnytaste.com/wp-content/uploads/2022/02/Air-Fryer-Baked-Sweet-Potato-5-260x390.jpg\"/>"
            ],
            "text/plain": [
              "<IPython.core.display.Image object>"
            ]
          },
          "metadata": {}
        },
        {
          "output_type": "stream",
          "name": "stdout",
          "text": [
            "Roasted Sweet Potato Black Bean Bowls\n"
          ]
        },
        {
          "output_type": "display_data",
          "data": {
            "text/html": [
              "<img src=\"https://www.skinnytaste.com/wp-content/uploads/2022/02/Roasted-Sweet-Potato-and-Chipotle-Black-Bean-Bowls-8-2-260x390.jpg\"/>"
            ],
            "text/plain": [
              "<IPython.core.display.Image object>"
            ]
          },
          "metadata": {}
        },
        {
          "output_type": "stream",
          "name": "stdout",
          "text": [
            "Crock Pot Italian Sloppy Joes\n"
          ]
        },
        {
          "output_type": "display_data",
          "data": {
            "text/html": [
              "<img src=\"https://www.skinnytaste.com/wp-content/uploads/2013/01/Crockpot-Italian-Sloppy-Joe-7-260x390.jpg\"/>"
            ],
            "text/plain": [
              "<IPython.core.display.Image object>"
            ]
          },
          "metadata": {}
        },
        {
          "output_type": "stream",
          "name": "stdout",
          "text": [
            "Mini Bell Pepper Loaded Turkey “Nachos”\n"
          ]
        },
        {
          "output_type": "display_data",
          "data": {
            "text/html": [
              "<img src=\"https://www.skinnytaste.com/wp-content/uploads/2017/02/Mini-Bell-Pepper-Loaded-Turkey-“Nachos-1-3-260x390.jpg\"/>"
            ],
            "text/plain": [
              "<IPython.core.display.Image object>"
            ]
          },
          "metadata": {}
        },
        {
          "output_type": "stream",
          "name": "stdout",
          "text": [
            "Spinach and Bacon Stuffed Mushrooms\n"
          ]
        },
        {
          "output_type": "display_data",
          "data": {
            "text/html": [
              "<img src=\"https://www.skinnytaste.com/wp-content/uploads/2012/01/skinny-spinach-and-bacon-stuffed-mushrooms-260x390.jpg\"/>"
            ],
            "text/plain": [
              "<IPython.core.display.Image object>"
            ]
          },
          "metadata": {}
        },
        {
          "output_type": "stream",
          "name": "stdout",
          "text": [
            "Air Fryer Buffalo Chicken Nuggets\n"
          ]
        },
        {
          "output_type": "display_data",
          "data": {
            "text/html": [
              "<img src=\"https://www.skinnytaste.com/wp-content/uploads/2022/01/Air-Fryer-Buffalo-Chicken-Nuggets-9-260x390.jpg\"/>"
            ],
            "text/plain": [
              "<IPython.core.display.Image object>"
            ]
          },
          "metadata": {}
        },
        {
          "output_type": "stream",
          "name": "stdout",
          "text": [
            "Cream Cheese-Filled Almond Flour Banana Muffins (Gluten-Free)\n"
          ]
        },
        {
          "output_type": "display_data",
          "data": {
            "text/html": [
              "<img src=\"https://www.skinnytaste.com/wp-content/uploads/2022/01/Almond-Flour-Banana-Cream-Cheese-Muffins-8-260x390.jpg\"/>"
            ],
            "text/plain": [
              "<IPython.core.display.Image object>"
            ]
          },
          "metadata": {}
        },
        {
          "output_type": "stream",
          "name": "stdout",
          "text": [
            "Jalapeno Poppers\n"
          ]
        },
        {
          "output_type": "display_data",
          "data": {
            "text/html": [
              "<img src=\"https://www.skinnytaste.com/wp-content/uploads/2011/01/Skinny-Baked-Jalapeno-Poppers-4-260x390.jpg\"/>"
            ],
            "text/plain": [
              "<IPython.core.display.Image object>"
            ]
          },
          "metadata": {}
        },
        {
          "output_type": "stream",
          "name": "stdout",
          "text": [
            "Jalapeno Popper “Nachos”\n"
          ]
        },
        {
          "output_type": "display_data",
          "data": {
            "text/html": [
              "<img src=\"https://www.skinnytaste.com/wp-content/uploads/2019/01/Jalapeno-Popper-Nachos-7-260x390.jpg\"/>"
            ],
            "text/plain": [
              "<IPython.core.display.Image object>"
            ]
          },
          "metadata": {}
        },
        {
          "output_type": "stream",
          "name": "stdout",
          "text": [
            "Pepperoni Pizza Bites\n"
          ]
        },
        {
          "output_type": "display_data",
          "data": {
            "text/html": [
              "<img src=\"https://www.skinnytaste.com/wp-content/uploads/2022/01/Pepperoni-Pizza-Bites-8-260x390.jpg\"/>"
            ],
            "text/plain": [
              "<IPython.core.display.Image object>"
            ]
          },
          "metadata": {}
        },
        {
          "output_type": "stream",
          "name": "stdout",
          "text": [
            "Crustless Potato Jalapeño Quiche\n"
          ]
        },
        {
          "output_type": "display_data",
          "data": {
            "text/html": [
              "<img src=\"https://www.skinnytaste.com/wp-content/uploads/2022/01/Potato-Jalapeño-Pepper-Jack-Crustless-Quiche-6-260x390.jpg\"/>"
            ],
            "text/plain": [
              "<IPython.core.display.Image object>"
            ]
          },
          "metadata": {}
        },
        {
          "output_type": "stream",
          "name": "stdout",
          "text": [
            "Perfect Baked Potato\n"
          ]
        },
        {
          "output_type": "display_data",
          "data": {
            "text/html": [
              "<img src=\"https://www.skinnytaste.com/wp-content/uploads/2022/01/Perfect-Baked-Potato-8-1-260x390.jpg\"/>"
            ],
            "text/plain": [
              "<IPython.core.display.Image object>"
            ]
          },
          "metadata": {}
        },
        {
          "output_type": "stream",
          "name": "stdout",
          "text": [
            "Pollo Guisado (Latin Chicken Stew with Olives)\n"
          ]
        },
        {
          "output_type": "display_data",
          "data": {
            "text/html": [
              "<img src=\"https://www.skinnytaste.com/wp-content/uploads/2022/01/Latin-Chicken-Stew-with-Olives-8-260x390.jpg\"/>"
            ],
            "text/plain": [
              "<IPython.core.display.Image object>"
            ]
          },
          "metadata": {}
        },
        {
          "output_type": "stream",
          "name": "stdout",
          "text": [
            "Instant Pot Salsa Chicken\n"
          ]
        },
        {
          "output_type": "display_data",
          "data": {
            "text/html": [
              "<img src=\"https://www.skinnytaste.com/wp-content/uploads/2016/01/InstantPoteasyshreddedsalsachicken-4-260x390.jpg\"/>"
            ],
            "text/plain": [
              "<IPython.core.display.Image object>"
            ]
          },
          "metadata": {}
        },
        {
          "output_type": "stream",
          "name": "stdout",
          "text": [
            "Instant Pot Mashed Potatoes\n"
          ]
        },
        {
          "output_type": "display_data",
          "data": {
            "text/html": [
              "<img src=\"https://www.skinnytaste.com/wp-content/uploads/2018/01/Instant-Pot-Mashed-Potatoes-1-5-260x390.jpg\"/>"
            ],
            "text/plain": [
              "<IPython.core.display.Image object>"
            ]
          },
          "metadata": {}
        },
        {
          "output_type": "stream",
          "name": "stdout",
          "text": [
            "Chicken Piccata\n"
          ]
        },
        {
          "output_type": "display_data",
          "data": {
            "text/html": [
              "<img src=\"https://www.skinnytaste.com/wp-content/uploads/2022/01/Chicken-Piccata-8-260x390.jpg\"/>"
            ],
            "text/plain": [
              "<IPython.core.display.Image object>"
            ]
          },
          "metadata": {}
        },
        {
          "output_type": "stream",
          "name": "stdout",
          "text": [
            "Colombian Chicken Sancocho (Sancocho de Pollo)\n"
          ]
        },
        {
          "output_type": "display_data",
          "data": {
            "text/html": [
              "<img src=\"https://www.skinnytaste.com/wp-content/uploads/2008/11/chicken-sancocho-10-260x390.jpg\"/>"
            ],
            "text/plain": [
              "<IPython.core.display.Image object>"
            ]
          },
          "metadata": {}
        },
        {
          "output_type": "stream",
          "name": "stdout",
          "text": [
            "Mushroom-Spinach Scrambled Eggs\n"
          ]
        },
        {
          "output_type": "display_data",
          "data": {
            "text/html": [
              "<img src=\"https://www.skinnytaste.com/wp-content/uploads/2022/01/Mushroom-Spinach-Scrambled-Eggs-6-260x390.jpg\"/>"
            ],
            "text/plain": [
              "<IPython.core.display.Image object>"
            ]
          },
          "metadata": {}
        },
        {
          "output_type": "stream",
          "name": "stdout",
          "text": [
            "Asian Salmon Bowl\n"
          ]
        },
        {
          "output_type": "display_data",
          "data": {
            "text/html": [
              "<img src=\"https://www.skinnytaste.com/wp-content/uploads/2015/01/SalmonBowl-0013-s-260x390.jpg\"/>"
            ],
            "text/plain": [
              "<IPython.core.display.Image object>"
            ]
          },
          "metadata": {}
        },
        {
          "output_type": "stream",
          "name": "stdout",
          "text": [
            "Tuna Egg Salad\n"
          ]
        },
        {
          "output_type": "display_data",
          "data": {
            "text/html": [
              "<img src=\"https://www.skinnytaste.com/wp-content/uploads/2021/11/Tuna-Egg-Salad-2-260x390.jpg\"/>"
            ],
            "text/plain": [
              "<IPython.core.display.Image object>"
            ]
          },
          "metadata": {}
        },
        {
          "output_type": "stream",
          "name": "stdout",
          "text": [
            "Spaghetti Squash Crust Pizza\n"
          ]
        },
        {
          "output_type": "display_data",
          "data": {
            "text/html": [
              "<img src=\"https://www.skinnytaste.com/wp-content/uploads/2022/01/Spaghetti-Squash-Pizza-Crust-9-260x390.jpg\"/>"
            ],
            "text/plain": [
              "<IPython.core.display.Image object>"
            ]
          },
          "metadata": {}
        },
        {
          "output_type": "stream",
          "name": "stdout",
          "text": [
            "Taco Salad (Perfect for Meal Prep)\n"
          ]
        },
        {
          "output_type": "display_data",
          "data": {
            "text/html": [
              "<img src=\"https://www.skinnytaste.com/wp-content/uploads/2018/12/Taco-Salad-1-260x390.jpg\"/>"
            ],
            "text/plain": [
              "<IPython.core.display.Image object>"
            ]
          },
          "metadata": {}
        },
        {
          "output_type": "stream",
          "name": "stdout",
          "text": [
            "Healthy 3-Ingredient Banana Oatmeal Cookies\n"
          ]
        },
        {
          "output_type": "display_data",
          "data": {
            "text/html": [
              "<img src=\"https://www.skinnytaste.com/wp-content/uploads/2013/02/Healthy-Cookies-9-260x390.jpg\"/>"
            ],
            "text/plain": [
              "<IPython.core.display.Image object>"
            ]
          },
          "metadata": {}
        },
        {
          "output_type": "stream",
          "name": "stdout",
          "text": [
            "Black-Eyed Peas with Leftover Ham, Collard Greens and Cabbage\n"
          ]
        },
        {
          "output_type": "display_data",
          "data": {
            "text/html": [
              "<img src=\"https://www.skinnytaste.com/wp-content/uploads/2021/12/Black-Eyed-Peas-with-Leftover-Ham-Bone-Collard-Greens-and-Cabbage-7-260x390.jpg\"/>"
            ],
            "text/plain": [
              "<IPython.core.display.Image object>"
            ]
          },
          "metadata": {}
        },
        {
          "output_type": "stream",
          "name": "stdout",
          "text": [
            "Sausage and Broccoli Rabe Egg Rolls (Air Fryer or Oven)\n"
          ]
        },
        {
          "output_type": "display_data",
          "data": {
            "text/html": [
              "<img src=\"https://www.skinnytaste.com/wp-content/uploads/2021/12/Sausage-and-Broccoli-Rabe-Egg-Rolls-1-4-260x390.jpg\"/>"
            ],
            "text/plain": [
              "<IPython.core.display.Image object>"
            ]
          },
          "metadata": {}
        },
        {
          "output_type": "stream",
          "name": "stdout",
          "text": [
            "Chilled Calamari Salad with Lemon and Parsley\n"
          ]
        },
        {
          "output_type": "display_data",
          "data": {
            "text/html": [
              "<img src=\"https://www.skinnytaste.com/wp-content/uploads/2011/06/Chilled-Calamari-Salad-5-260x390.jpg\"/>"
            ],
            "text/plain": [
              "<IPython.core.display.Image object>"
            ]
          },
          "metadata": {}
        },
        {
          "output_type": "stream",
          "name": "stdout",
          "text": [
            "Drunken Mussels\n"
          ]
        },
        {
          "output_type": "display_data",
          "data": {
            "text/html": [
              "<img src=\"https://www.skinnytaste.com/wp-content/uploads/2021/12/Drunken-Mussels-7-260x390.jpg\"/>"
            ],
            "text/plain": [
              "<IPython.core.display.Image object>"
            ]
          },
          "metadata": {}
        },
        {
          "output_type": "stream",
          "name": "stdout",
          "text": [
            "Baked Oatmeal with Blueberries and Bananas\n"
          ]
        },
        {
          "output_type": "display_data",
          "data": {
            "text/html": [
              "<img src=\"https://www.skinnytaste.com/wp-content/uploads/2012/01/Baked-Oatmeal-with-Blueberries-and-Bananas-8-260x390.jpg\"/>"
            ],
            "text/plain": [
              "<IPython.core.display.Image object>"
            ]
          },
          "metadata": {}
        },
        {
          "output_type": "stream",
          "name": "stdout",
          "text": [
            "Scallops over Wilted Spinach Parmesan Risotto\n"
          ]
        },
        {
          "output_type": "display_data",
          "data": {
            "text/html": [
              "<img src=\"https://www.skinnytaste.com/wp-content/uploads/2009/05/Scallops-Over-Wilted-Spinach-Parmesan-Risotto_1-3-260x390.jpg\"/>"
            ],
            "text/plain": [
              "<IPython.core.display.Image object>"
            ]
          },
          "metadata": {}
        },
        {
          "output_type": "stream",
          "name": "stdout",
          "text": [
            "Paprika Smashed Potatoes\n"
          ]
        },
        {
          "output_type": "display_data",
          "data": {
            "text/html": [
              "<img src=\"https://www.skinnytaste.com/wp-content/uploads/2021/11/Paprika-Smashed-Potatoes-9-260x390.jpg\"/>"
            ],
            "text/plain": [
              "<IPython.core.display.Image object>"
            ]
          },
          "metadata": {}
        },
        {
          "output_type": "stream",
          "name": "stdout",
          "text": [
            "Garlic Shrimp\n"
          ]
        },
        {
          "output_type": "display_data",
          "data": {
            "text/html": [
              "<img src=\"https://www.skinnytaste.com/wp-content/uploads/2010/01/Garlic-Shrimp-4-260x390.jpg\"/>"
            ],
            "text/plain": [
              "<IPython.core.display.Image object>"
            ]
          },
          "metadata": {}
        },
        {
          "output_type": "stream",
          "name": "stdout",
          "text": [
            "Spaghetti Squash Sausage Lasagna Boats\n"
          ]
        },
        {
          "output_type": "display_data",
          "data": {
            "text/html": [
              "<img src=\"https://www.skinnytaste.com/wp-content/uploads/2015/12/Spaghetti-Squash-Sausage-Lasagna-Boats-6-260x390.jpg\"/>"
            ],
            "text/plain": [
              "<IPython.core.display.Image object>"
            ]
          },
          "metadata": {}
        },
        {
          "output_type": "stream",
          "name": "stdout",
          "text": [
            "Waffled Vegetable Latkes\n"
          ]
        },
        {
          "output_type": "display_data",
          "data": {
            "text/html": [
              "<img src=\"https://www.skinnytaste.com/wp-content/uploads/2017/12/Veggie-Latkes-1-12-260x390.jpg\"/>"
            ],
            "text/plain": [
              "<IPython.core.display.Image object>"
            ]
          },
          "metadata": {}
        },
        {
          "output_type": "stream",
          "name": "stdout",
          "text": [
            "Leftover Turkey Harvest Cobb Salad\n"
          ]
        },
        {
          "output_type": "display_data",
          "data": {
            "text/html": [
              "<img src=\"https://www.skinnytaste.com/wp-content/uploads/2016/11/Leftover-Turkey-Harvest-Cobb-Salad-260x390.jpg\"/>"
            ],
            "text/plain": [
              "<IPython.core.display.Image object>"
            ]
          },
          "metadata": {}
        },
        {
          "output_type": "stream",
          "name": "stdout",
          "text": [
            "Herb and Salt-Rubbed Dry Brine Turkey\n"
          ]
        },
        {
          "output_type": "display_data",
          "data": {
            "text/html": [
              "<img src=\"https://www.skinnytaste.com/wp-content/uploads/2019/11/dry-brine-turkey-9-260x390.jpg\"/>"
            ],
            "text/plain": [
              "<IPython.core.display.Image object>"
            ]
          },
          "metadata": {}
        },
        {
          "output_type": "stream",
          "name": "stdout",
          "text": [
            "Baked Pumpkin Pasta with Pancetta, Gruyere, Kale, and White Beans\n"
          ]
        },
        {
          "output_type": "display_data",
          "data": {
            "text/html": [
              "<img src=\"https://www.skinnytaste.com/wp-content/uploads/2021/11/Pumpkin-Pasta-with-Kale-12-260x390.jpg\"/>"
            ],
            "text/plain": [
              "<IPython.core.display.Image object>"
            ]
          },
          "metadata": {}
        },
        {
          "output_type": "stream",
          "name": "stdout",
          "text": [
            "Stuffing Recipe\n"
          ]
        },
        {
          "output_type": "display_data",
          "data": {
            "text/html": [
              "<img src=\"https://www.skinnytaste.com/wp-content/uploads/2021/11/Stuffing-Recipe-6-260x390.jpg\"/>"
            ],
            "text/plain": [
              "<IPython.core.display.Image object>"
            ]
          },
          "metadata": {}
        },
        {
          "output_type": "stream",
          "name": "stdout",
          "text": [
            "Makeover Spinach Gratin\n"
          ]
        },
        {
          "output_type": "display_data",
          "data": {
            "text/html": [
              "<img src=\"https://www.skinnytaste.com/wp-content/uploads/2017/11/Makeover-Spinach-Gratin-10-260x390.jpg\"/>"
            ],
            "text/plain": [
              "<IPython.core.display.Image object>"
            ]
          },
          "metadata": {}
        },
        {
          "output_type": "stream",
          "name": "stdout",
          "text": [
            "Roasted Green Beans with Caramelized Onions\n"
          ]
        },
        {
          "output_type": "display_data",
          "data": {
            "text/html": [
              "<img src=\"https://www.skinnytaste.com/wp-content/uploads/2021/11/Green-Beans-with-Caramelized-Onions-6-260x390.jpg\"/>"
            ],
            "text/plain": [
              "<IPython.core.display.Image object>"
            ]
          },
          "metadata": {}
        },
        {
          "output_type": "stream",
          "name": "stdout",
          "text": [
            "Turkey Pot Pie with Sweet Potato Topping\n"
          ]
        },
        {
          "output_type": "display_data",
          "data": {
            "text/html": [
              "<img src=\"https://www.skinnytaste.com/wp-content/uploads/2021/11/Turkey-Mashed-Potato-Pot-Pie-9-260x390.jpg\"/>"
            ],
            "text/plain": [
              "<IPython.core.display.Image object>"
            ]
          },
          "metadata": {}
        },
        {
          "output_type": "stream",
          "name": "stdout",
          "text": [
            "Shredded Brussels Sprouts with Pancetta\n"
          ]
        },
        {
          "output_type": "display_data",
          "data": {
            "text/html": [
              "<img src=\"https://www.skinnytaste.com/wp-content/uploads/2011/11/shredded-brussels-sprouts-with-pancetta-1-5-260x390.jpg\"/>"
            ],
            "text/plain": [
              "<IPython.core.display.Image object>"
            ]
          },
          "metadata": {}
        },
        {
          "output_type": "stream",
          "name": "stdout",
          "text": [
            "Chicken and Broccoli Noodle Casserole\n"
          ]
        },
        {
          "output_type": "display_data",
          "data": {
            "text/html": [
              "<img src=\"https://www.skinnytaste.com/wp-content/uploads/2012/02/Chicken-and-Broccoli-Noodle-Casserole-8-260x390.jpg\"/>"
            ],
            "text/plain": [
              "<IPython.core.display.Image object>"
            ]
          },
          "metadata": {}
        },
        {
          "output_type": "stream",
          "name": "stdout",
          "text": [
            "Baked Brie Phyllo Tarts with Craisins and Walnuts\n"
          ]
        },
        {
          "output_type": "display_data",
          "data": {
            "text/html": [
              "<img src=\"https://www.skinnytaste.com/wp-content/uploads/2012/11/Baked-Brie-Phyllo-Cups-with-Craisins-and-Walnuts-7-260x390.jpg\"/>"
            ],
            "text/plain": [
              "<IPython.core.display.Image object>"
            ]
          },
          "metadata": {}
        },
        {
          "output_type": "stream",
          "name": "stdout",
          "text": [
            "Peanut Butter and Jelly Smoothie\n"
          ]
        },
        {
          "output_type": "display_data",
          "data": {
            "text/html": [
              "<img src=\"https://www.skinnytaste.com/wp-content/uploads/2013/11/PB-2B-J-Smoothie-260x390.jpg\"/>"
            ],
            "text/plain": [
              "<IPython.core.display.Image object>"
            ]
          },
          "metadata": {}
        },
        {
          "output_type": "stream",
          "name": "stdout",
          "text": [
            "Arugula Salmon Salad with Capers and Shaved Parmesan\n"
          ]
        },
        {
          "output_type": "display_data",
          "data": {
            "text/html": [
              "<img src=\"https://www.skinnytaste.com/wp-content/uploads/2012/05/Arugula-Salmon-Salad-with-Capers-and-Shaved-Parmesan-260x377.jpg\"/>"
            ],
            "text/plain": [
              "<IPython.core.display.Image object>"
            ]
          },
          "metadata": {}
        },
        {
          "output_type": "stream",
          "name": "stdout",
          "text": [
            "Chicken Cassoulet\n"
          ]
        },
        {
          "output_type": "display_data",
          "data": {
            "text/html": [
              "<img src=\"https://www.skinnytaste.com/wp-content/uploads/2021/11/Chicken-Sausage-Swiss-Chard-Cassoulet-6-260x390.jpg\"/>"
            ],
            "text/plain": [
              "<IPython.core.display.Image object>"
            ]
          },
          "metadata": {}
        },
        {
          "output_type": "stream",
          "name": "stdout",
          "text": [
            "Quick Beef Chili Recipe (Stove, Slow Cooker or Instant Pot)\n"
          ]
        },
        {
          "output_type": "display_data",
          "data": {
            "text/html": [
              "<img src=\"https://www.skinnytaste.com/wp-content/uploads/2017/10/Instant-Pot-Beef-and-Beer-Chili-1-10-260x390.jpg\"/>"
            ],
            "text/plain": [
              "<IPython.core.display.Image object>"
            ]
          },
          "metadata": {}
        },
        {
          "output_type": "stream",
          "name": "stdout",
          "text": [
            "Roasted Acorn Squash with Brown Sugar\n"
          ]
        },
        {
          "output_type": "display_data",
          "data": {
            "text/html": [
              "<img src=\"https://www.skinnytaste.com/wp-content/uploads/2017/10/Roasted-Acorn-Squash-with-Brown-Sugar-6-260x390.jpg\"/>"
            ],
            "text/plain": [
              "<IPython.core.display.Image object>"
            ]
          },
          "metadata": {}
        },
        {
          "output_type": "stream",
          "name": "stdout",
          "text": [
            "Drunken Noodles\n"
          ]
        },
        {
          "output_type": "display_data",
          "data": {
            "text/html": [
              "<img src=\"https://www.skinnytaste.com/wp-content/uploads/2021/10/Drunken-Style-Noodles-with-Shrimp-9-260x390.jpg\"/>"
            ],
            "text/plain": [
              "<IPython.core.display.Image object>"
            ]
          },
          "metadata": {}
        },
        {
          "output_type": "stream",
          "name": "stdout",
          "text": [
            "Turkey Cutlets with Parmesan Crust\n"
          ]
        },
        {
          "output_type": "display_data",
          "data": {
            "text/html": [
              "<img src=\"https://www.skinnytaste.com/wp-content/uploads/2015/11/Turkey-Cutlets-with-Parmesan-Crust-8-260x390.jpg\"/>"
            ],
            "text/plain": [
              "<IPython.core.display.Image object>"
            ]
          },
          "metadata": {}
        },
        {
          "output_type": "stream",
          "name": "stdout",
          "text": [
            "Huevos Rancheros\n"
          ]
        },
        {
          "output_type": "display_data",
          "data": {
            "text/html": [
              "<img src=\"https://www.skinnytaste.com/wp-content/uploads/2021/10/Huevos-Rancheros-8-260x390.jpg\"/>"
            ],
            "text/plain": [
              "<IPython.core.display.Image object>"
            ]
          },
          "metadata": {}
        },
        {
          "output_type": "stream",
          "name": "stdout",
          "text": [
            "Butternut Squash Ravioli with Sage Butter\n"
          ]
        },
        {
          "output_type": "display_data",
          "data": {
            "text/html": [
              "<img src=\"https://www.skinnytaste.com/wp-content/uploads/2021/10/Butternut-Squash-Ravioli-with-Sage-Butter-9-260x390.jpg\"/>"
            ],
            "text/plain": [
              "<IPython.core.display.Image object>"
            ]
          },
          "metadata": {}
        },
        {
          "output_type": "stream",
          "name": "stdout",
          "text": [
            "Easy Black Bean Vegetarian Chili with Spiced Yogurt\n"
          ]
        },
        {
          "output_type": "display_data",
          "data": {
            "text/html": [
              "<img src=\"https://www.skinnytaste.com/wp-content/uploads/2021/09/Easy-Black-Bean-Vegetarian-Chili-20-260x390.jpg\"/>"
            ],
            "text/plain": [
              "<IPython.core.display.Image object>"
            ]
          },
          "metadata": {}
        },
        {
          "output_type": "stream",
          "name": "stdout",
          "text": [
            "Air Fryer Chicken Milanese with Mediterranean Salad\n"
          ]
        },
        {
          "output_type": "display_data",
          "data": {
            "text/html": [
              "<img src=\"https://www.skinnytaste.com/wp-content/uploads/2021/09/Air-Fryer-Chicken-Milanese-8-260x390.jpg\"/>"
            ],
            "text/plain": [
              "<IPython.core.display.Image object>"
            ]
          },
          "metadata": {}
        },
        {
          "output_type": "stream",
          "name": "stdout",
          "text": [
            "Salisbury Steak with Mushroom Gravy\n"
          ]
        },
        {
          "output_type": "display_data",
          "data": {
            "text/html": [
              "<img src=\"https://www.skinnytaste.com/wp-content/uploads/2012/01/Skinny-Salisbury-Steak-with-Mushrooms-6-260x390.jpg\"/>"
            ],
            "text/plain": [
              "<IPython.core.display.Image object>"
            ]
          },
          "metadata": {}
        },
        {
          "output_type": "stream",
          "name": "stdout",
          "text": [
            "Tofu Stir Fry with Vegetables in a Soy Sesame Sauce\n"
          ]
        },
        {
          "output_type": "display_data",
          "data": {
            "text/html": [
              "<img src=\"https://www.skinnytaste.com/wp-content/uploads/2021/09/Tofu-Stir-Fry-8-260x390.jpg\"/>"
            ],
            "text/plain": [
              "<IPython.core.display.Image object>"
            ]
          },
          "metadata": {}
        },
        {
          "output_type": "stream",
          "name": "stdout",
          "text": [
            "Chicken Cutlet Caprese Salad\n"
          ]
        },
        {
          "output_type": "display_data",
          "data": {
            "text/html": [
              "<img src=\"https://www.skinnytaste.com/wp-content/uploads/2021/09/Chicken-Cutlet-Caprese-Salad-7-260x390.jpg\"/>"
            ],
            "text/plain": [
              "<IPython.core.display.Image object>"
            ]
          },
          "metadata": {}
        },
        {
          "output_type": "stream",
          "name": "stdout",
          "text": [
            "Strawberry Cheesecake Dip\n"
          ]
        },
        {
          "output_type": "display_data",
          "data": {
            "text/html": [
              "<img src=\"https://www.skinnytaste.com/wp-content/uploads/2021/09/Strawberry-Cheesecake-Dip-10-260x390.jpg\"/>"
            ],
            "text/plain": [
              "<IPython.core.display.Image object>"
            ]
          },
          "metadata": {}
        },
        {
          "output_type": "stream",
          "name": "stdout",
          "text": [
            "Beef Stew with Pumpkin\n"
          ]
        },
        {
          "output_type": "display_data",
          "data": {
            "text/html": [
              "<img src=\"https://www.skinnytaste.com/wp-content/uploads/2021/09/Beef-Stew-with-Pumpkin-8-260x390.jpg\"/>"
            ],
            "text/plain": [
              "<IPython.core.display.Image object>"
            ]
          },
          "metadata": {}
        },
        {
          "output_type": "stream",
          "name": "stdout",
          "text": [
            "Chicken Romano Meatballs\n"
          ]
        },
        {
          "output_type": "display_data",
          "data": {
            "text/html": [
              "<img src=\"https://www.skinnytaste.com/wp-content/uploads/2021/09/Chicken-Romano-Meatballs-9-260x390.jpg\"/>"
            ],
            "text/plain": [
              "<IPython.core.display.Image object>"
            ]
          },
          "metadata": {}
        },
        {
          "output_type": "stream",
          "name": "stdout",
          "text": [
            "Chicken Cacciatore\n"
          ]
        },
        {
          "output_type": "display_data",
          "data": {
            "text/html": [
              "<img src=\"https://www.skinnytaste.com/wp-content/uploads/2008/06/Chicken-Cacciatore-3-260x390.jpg\"/>"
            ],
            "text/plain": [
              "<IPython.core.display.Image object>"
            ]
          },
          "metadata": {}
        },
        {
          "output_type": "stream",
          "name": "stdout",
          "text": [
            "Summer Vegetables with Sausage and Potatoes Skillet (One Pot)\n"
          ]
        },
        {
          "output_type": "display_data",
          "data": {
            "text/html": [
              "<img src=\"https://www.skinnytaste.com/wp-content/uploads/2012/07/Summer-Vegetables-with-Sausage-and-Potatoes-7-260x390.jpg\"/>"
            ],
            "text/plain": [
              "<IPython.core.display.Image object>"
            ]
          },
          "metadata": {}
        },
        {
          "output_type": "stream",
          "name": "stdout",
          "text": [
            "Cilantro Lime Chicken Breast (Grilled or Air Fryer)\n"
          ]
        },
        {
          "output_type": "display_data",
          "data": {
            "text/html": [
              "<img src=\"https://www.skinnytaste.com/wp-content/uploads/2021/08/Cilantro-Lime-Chicken-Breast-5-260x390.jpg\"/>"
            ],
            "text/plain": [
              "<IPython.core.display.Image object>"
            ]
          },
          "metadata": {}
        },
        {
          "output_type": "stream",
          "name": "stdout",
          "text": [
            "Spicy Sriracha Tofu Rice Bowls (Air Fryer or Oven)\n"
          ]
        },
        {
          "output_type": "display_data",
          "data": {
            "text/html": [
              "<img src=\"https://www.skinnytaste.com/wp-content/uploads/2021/08/Spicy-Sriracha-Tofu-Rice-Bowls-11-260x390.jpg\"/>"
            ],
            "text/plain": [
              "<IPython.core.display.Image object>"
            ]
          },
          "metadata": {}
        },
        {
          "output_type": "stream",
          "name": "stdout",
          "text": [
            "Banana Nut Protein Oats\n"
          ]
        },
        {
          "output_type": "display_data",
          "data": {
            "text/html": [
              "<img src=\"https://www.skinnytaste.com/wp-content/uploads/2021/08/Banana-Nut-Protein-Oats-7-260x390.jpg\"/>"
            ],
            "text/plain": [
              "<IPython.core.display.Image object>"
            ]
          },
          "metadata": {}
        },
        {
          "output_type": "stream",
          "name": "stdout",
          "text": [
            "Sausage and Pepper Stromboli (Stuffed Sausage Bread)\n"
          ]
        },
        {
          "output_type": "display_data",
          "data": {
            "text/html": [
              "<img src=\"https://www.skinnytaste.com/wp-content/uploads/2021/08/Spicy-Sausage-and-Pepper-Bread-11-260x390.jpg\"/>"
            ],
            "text/plain": [
              "<IPython.core.display.Image object>"
            ]
          },
          "metadata": {}
        },
        {
          "output_type": "stream",
          "name": "stdout",
          "text": [
            "Oven Fried Chicken\n"
          ]
        },
        {
          "output_type": "display_data",
          "data": {
            "text/html": [
              "<img src=\"https://www.skinnytaste.com/wp-content/uploads/2009/07/Oven-Fried-Chicken-6-260x390.jpg\"/>"
            ],
            "text/plain": [
              "<IPython.core.display.Image object>"
            ]
          },
          "metadata": {}
        },
        {
          "output_type": "stream",
          "name": "stdout",
          "text": [
            "Portuguese Seafood Stew\n"
          ]
        },
        {
          "output_type": "display_data",
          "data": {
            "text/html": [
              "<img src=\"https://www.skinnytaste.com/wp-content/uploads/2009/03/Portugese-Seafood-Stew-7-260x390.jpg\"/>"
            ],
            "text/plain": [
              "<IPython.core.display.Image object>"
            ]
          },
          "metadata": {}
        },
        {
          "output_type": "stream",
          "name": "stdout",
          "text": [
            "Air Fryer Roasted Cauliflower Tacos\n"
          ]
        },
        {
          "output_type": "display_data",
          "data": {
            "text/html": [
              "<img src=\"https://www.skinnytaste.com/wp-content/uploads/2021/08/Air-Fryer-Roasted-Cauliflower-Tacos-6-260x390.jpg\"/>"
            ],
            "text/plain": [
              "<IPython.core.display.Image object>"
            ]
          },
          "metadata": {}
        },
        {
          "output_type": "stream",
          "name": "stdout",
          "text": [
            "Garden Tomato Sauce\n"
          ]
        },
        {
          "output_type": "display_data",
          "data": {
            "text/html": [
              "<img src=\"https://www.skinnytaste.com/wp-content/uploads/2021/08/Garden-Tomato-Sauce-7-260x390.jpg\"/>"
            ],
            "text/plain": [
              "<IPython.core.display.Image object>"
            ]
          },
          "metadata": {}
        },
        {
          "output_type": "stream",
          "name": "stdout",
          "text": [
            "Coconut Red Curry Shrimp Skewers\n"
          ]
        },
        {
          "output_type": "display_data",
          "data": {
            "text/html": [
              "<img src=\"https://www.skinnytaste.com/wp-content/uploads/2021/07/Coconut-Red-Curry-Shrimp-Skewers-4-260x390.jpg\"/>"
            ],
            "text/plain": [
              "<IPython.core.display.Image object>"
            ]
          },
          "metadata": {}
        },
        {
          "output_type": "stream",
          "name": "stdout",
          "text": [
            "Spice Rubbed Grilled Salmon with Black Beans and Corn\n"
          ]
        },
        {
          "output_type": "display_data",
          "data": {
            "text/html": [
              "<img src=\"https://www.skinnytaste.com/wp-content/uploads/2012/04/Smoky-Spice-Rubbed-Grilled-Salmon-with-Black-Beans-and-Corn-14-260x390.jpg\"/>"
            ],
            "text/plain": [
              "<IPython.core.display.Image object>"
            ]
          },
          "metadata": {}
        },
        {
          "output_type": "stream",
          "name": "stdout",
          "text": [
            "Strawberry Scones\n"
          ]
        },
        {
          "output_type": "display_data",
          "data": {
            "text/html": [
              "<img src=\"https://www.skinnytaste.com/wp-content/uploads/2010/06/Low-Fat-Strawberry-Scones-8-260x390.jpg\"/>"
            ],
            "text/plain": [
              "<IPython.core.display.Image object>"
            ]
          },
          "metadata": {}
        },
        {
          "output_type": "stream",
          "name": "stdout",
          "text": [
            "Air Fryer Burst Tomato Burrata Caprese Salad\n"
          ]
        },
        {
          "output_type": "display_data",
          "data": {
            "text/html": [
              "<img src=\"https://www.skinnytaste.com/wp-content/uploads/2021/07/Air-Fryer-Burst-Tomato-Burrata-Caprese-Salad-5-260x390.jpg\"/>"
            ],
            "text/plain": [
              "<IPython.core.display.Image object>"
            ]
          },
          "metadata": {}
        },
        {
          "output_type": "stream",
          "name": "stdout",
          "text": [
            "Cilantro Chicken Salad\n"
          ]
        },
        {
          "output_type": "display_data",
          "data": {
            "text/html": [
              "<img src=\"https://www.skinnytaste.com/wp-content/uploads/2010/06/Cilantro-Chicken-Salad-5-260x390.jpg\"/>"
            ],
            "text/plain": [
              "<IPython.core.display.Image object>"
            ]
          },
          "metadata": {}
        },
        {
          "output_type": "stream",
          "name": "stdout",
          "text": [
            "Grilled Steak With Tomatoes, Red Onion and Balsamic\n"
          ]
        },
        {
          "output_type": "display_data",
          "data": {
            "text/html": [
              "<img src=\"https://www.skinnytaste.com/wp-content/uploads/2017/08/Grilled-Flank-Steak-with-Tomatoes-Red-Onion-and-Balsamic-8-260x390.jpg\"/>"
            ],
            "text/plain": [
              "<IPython.core.display.Image object>"
            ]
          },
          "metadata": {}
        },
        {
          "output_type": "stream",
          "name": "stdout",
          "text": [
            "Baby Red Potato Salad with Apples\n"
          ]
        },
        {
          "output_type": "display_data",
          "data": {
            "text/html": [
              "<img src=\"https://www.skinnytaste.com/wp-content/uploads/2012/07/potato-salad-11-260x390.jpg\"/>"
            ],
            "text/plain": [
              "<IPython.core.display.Image object>"
            ]
          },
          "metadata": {}
        },
        {
          "output_type": "stream",
          "name": "stdout",
          "text": [
            "Foil Packet Cheesy Sausage and Peppers\n"
          ]
        },
        {
          "output_type": "display_data",
          "data": {
            "text/html": [
              "<img src=\"https://www.skinnytaste.com/wp-content/uploads/2021/06/Foil-Packet-Cheesy-Sausage-and-Peppers-9-260x390.jpg\"/>"
            ],
            "text/plain": [
              "<IPython.core.display.Image object>"
            ]
          },
          "metadata": {}
        },
        {
          "output_type": "stream",
          "name": "stdout",
          "text": [
            "Red White and Blue Fruit Skewers with Cheesecake Yogurt Dip\n"
          ]
        },
        {
          "output_type": "display_data",
          "data": {
            "text/html": [
              "<img src=\"https://www.skinnytaste.com/wp-content/uploads/2013/05/strawberry-blueberry-skewers-05-260x390.jpg\"/>"
            ],
            "text/plain": [
              "<IPython.core.display.Image object>"
            ]
          },
          "metadata": {}
        },
        {
          "output_type": "stream",
          "name": "stdout",
          "text": [
            "Mexican Adobo Rubbed Grilled Pork Tenderloin\n"
          ]
        },
        {
          "output_type": "display_data",
          "data": {
            "text/html": [
              "<img src=\"https://www.skinnytaste.com/wp-content/uploads/2013/04/Grilled-Pork_10-260x390.jpg\"/>"
            ],
            "text/plain": [
              "<IPython.core.display.Image object>"
            ]
          },
          "metadata": {}
        },
        {
          "output_type": "stream",
          "name": "stdout",
          "text": [
            "Grilled Bruschetta Chicken\n"
          ]
        },
        {
          "output_type": "display_data",
          "data": {
            "text/html": [
              "<img src=\"https://www.skinnytaste.com/wp-content/uploads/2017/05/Grilled-Chicken-Bruschetta-3-260x390.jpg\"/>"
            ],
            "text/plain": [
              "<IPython.core.display.Image object>"
            ]
          },
          "metadata": {}
        },
        {
          "output_type": "stream",
          "name": "stdout",
          "text": [
            "Caesar-Marinated Chicken Kabobs with Zucchini and Grilled Romaine\n"
          ]
        },
        {
          "output_type": "display_data",
          "data": {
            "text/html": [
              "<img src=\"https://www.skinnytaste.com/wp-content/uploads/2021/06/Chicken-Caesar-Skewers-8-260x390.jpg\"/>"
            ],
            "text/plain": [
              "<IPython.core.display.Image object>"
            ]
          },
          "metadata": {}
        },
        {
          "output_type": "stream",
          "name": "stdout",
          "text": [
            "Grilled Shrimp Panzanella Skewers\n"
          ]
        },
        {
          "output_type": "display_data",
          "data": {
            "text/html": [
              "<img src=\"https://www.skinnytaste.com/wp-content/uploads/2021/06/Shrimp-Panzanella-Skewers-4-260x390.jpg\"/>"
            ],
            "text/plain": [
              "<IPython.core.display.Image object>"
            ]
          },
          "metadata": {}
        },
        {
          "output_type": "stream",
          "name": "stdout",
          "text": [
            "Ground Turkey Skillet with Zucchini, Corn, Black Beans and Tomato\n"
          ]
        },
        {
          "output_type": "display_data",
          "data": {
            "text/html": [
              "<img src=\"https://www.skinnytaste.com/wp-content/uploads/2021/06/Santa-Fe-Turkey-Zucchini-Bowls_-4-260x390.jpg\"/>"
            ],
            "text/plain": [
              "<IPython.core.display.Image object>"
            ]
          },
          "metadata": {}
        },
        {
          "output_type": "stream",
          "name": "stdout",
          "text": [
            "Shrimp Ceviche\n"
          ]
        },
        {
          "output_type": "display_data",
          "data": {
            "text/html": [
              "<img src=\"https://www.skinnytaste.com/wp-content/uploads/2021/06/Shrimp-Ceviche-8-260x390.jpg\"/>"
            ],
            "text/plain": [
              "<IPython.core.display.Image object>"
            ]
          },
          "metadata": {}
        },
        {
          "output_type": "stream",
          "name": "stdout",
          "text": [
            "Asparagus and Swiss Cheese Frittata\n"
          ]
        },
        {
          "output_type": "display_data",
          "data": {
            "text/html": [
              "<img src=\"https://www.skinnytaste.com/wp-content/uploads/2013/05/Asparagus-and-Swiss-Cheese-Frittata-7-260x390.jpg\"/>"
            ],
            "text/plain": [
              "<IPython.core.display.Image object>"
            ]
          },
          "metadata": {}
        },
        {
          "output_type": "stream",
          "name": "stdout",
          "text": [
            "Arroz Congri (Cuban Rice and Black Beans)\n"
          ]
        },
        {
          "output_type": "display_data",
          "data": {
            "text/html": [
              "<img src=\"https://www.skinnytaste.com/wp-content/uploads/2011/02/arroz-congri-rice-10-260x390.jpg\"/>"
            ],
            "text/plain": [
              "<IPython.core.display.Image object>"
            ]
          },
          "metadata": {}
        },
        {
          "output_type": "stream",
          "name": "stdout",
          "text": [
            "Mayo-less Tuna Pasta Salad\n"
          ]
        },
        {
          "output_type": "display_data",
          "data": {
            "text/html": [
              "<img src=\"https://www.skinnytaste.com/wp-content/uploads/2011/05/Mayo-less-Tuna-Salad-5-260x390.jpg\"/>"
            ],
            "text/plain": [
              "<IPython.core.display.Image object>"
            ]
          },
          "metadata": {}
        },
        {
          "output_type": "stream",
          "name": "stdout",
          "text": [
            "Grilled Flank Steak with Black Bean and Corn Salsa\n"
          ]
        },
        {
          "output_type": "display_data",
          "data": {
            "text/html": [
              "<img src=\"https://www.skinnytaste.com/wp-content/uploads/2012/05/grilled-flank-steak-10-260x390.jpg\"/>"
            ],
            "text/plain": [
              "<IPython.core.display.Image object>"
            ]
          },
          "metadata": {}
        },
        {
          "output_type": "stream",
          "name": "stdout",
          "text": [
            "Grilled Chicken, Strawberry, Avocado Salad with Citrus Dressing\n"
          ]
        },
        {
          "output_type": "display_data",
          "data": {
            "text/html": [
              "<img src=\"https://www.skinnytaste.com/wp-content/uploads/2022/06/Grilled-Chicken-Salad-with-Strawberries-5-260x390.jpg\"/>"
            ],
            "text/plain": [
              "<IPython.core.display.Image object>"
            ]
          },
          "metadata": {}
        },
        {
          "output_type": "stream",
          "name": "stdout",
          "text": [
            "Shrimp Egg Rolls (Air Fryer or Baked)\n"
          ]
        },
        {
          "output_type": "display_data",
          "data": {
            "text/html": [
              "<img src=\"https://www.skinnytaste.com/wp-content/uploads/2021/06/Air-Fryer-Shrimp-Egg-Rolls-9-260x390.jpg\"/>"
            ],
            "text/plain": [
              "<IPython.core.display.Image object>"
            ]
          },
          "metadata": {}
        },
        {
          "output_type": "stream",
          "name": "stdout",
          "text": [
            "Chicken and Broccoli Recipe\n"
          ]
        },
        {
          "output_type": "display_data",
          "data": {
            "text/html": [
              "<img src=\"https://www.skinnytaste.com/wp-content/uploads/2018/05/Chicken-and-Broccoli-Stir-Fry-3-260x390.jpg\"/>"
            ],
            "text/plain": [
              "<IPython.core.display.Image object>"
            ]
          },
          "metadata": {}
        },
        {
          "output_type": "stream",
          "name": "stdout",
          "text": [
            "Lobster Roll Pasta Salad\n"
          ]
        },
        {
          "output_type": "display_data",
          "data": {
            "text/html": [
              "<img src=\"https://www.skinnytaste.com/wp-content/uploads/2021/05/Lobster-Roll-Pasta-Salad-11-260x390.jpg\"/>"
            ],
            "text/plain": [
              "<IPython.core.display.Image object>"
            ]
          },
          "metadata": {}
        },
        {
          "output_type": "stream",
          "name": "stdout",
          "text": [
            "Triple Berry Crisp\n"
          ]
        },
        {
          "output_type": "display_data",
          "data": {
            "text/html": [
              "<img src=\"https://www.skinnytaste.com/wp-content/uploads/2011/07/Triple-Berry-Crisp_11-260x390.jpg\"/>"
            ],
            "text/plain": [
              "<IPython.core.display.Image object>"
            ]
          },
          "metadata": {}
        },
        {
          "output_type": "stream",
          "name": "stdout",
          "text": [
            "Air Fryer Chicken Sandwich with Sriracha Mayo\n"
          ]
        },
        {
          "output_type": "display_data",
          "data": {
            "text/html": [
              "<img src=\"https://www.skinnytaste.com/wp-content/uploads/2021/05/air-fryer-chicken-sandwich-21-260x390.jpg\"/>"
            ],
            "text/plain": [
              "<IPython.core.display.Image object>"
            ]
          },
          "metadata": {}
        },
        {
          "output_type": "stream",
          "name": "stdout",
          "text": [
            "Ambrosia Fruit Salad\n"
          ]
        },
        {
          "output_type": "display_data",
          "data": {
            "text/html": [
              "<img src=\"https://www.skinnytaste.com/wp-content/uploads/2021/05/ambrosia-salad-09-260x390.jpg\"/>"
            ],
            "text/plain": [
              "<IPython.core.display.Image object>"
            ]
          },
          "metadata": {}
        },
        {
          "output_type": "stream",
          "name": "stdout",
          "text": [
            "Quinoa Salad with Kale, Cranberries and Mint\n"
          ]
        },
        {
          "output_type": "display_data",
          "data": {
            "text/html": [
              "<img src=\"https://www.skinnytaste.com/wp-content/uploads/2021/05/Quinoa-Salad-with-Kale-Cranberries-and-Mint-7-260x390.jpg\"/>"
            ],
            "text/plain": [
              "<IPython.core.display.Image object>"
            ]
          },
          "metadata": {}
        },
        {
          "output_type": "stream",
          "name": "stdout",
          "text": [
            "Oatmeal Berry Smoothie Bowl\n"
          ]
        },
        {
          "output_type": "display_data",
          "data": {
            "text/html": [
              "<img src=\"https://www.skinnytaste.com/wp-content/uploads/2021/05/Oatmeal-Berry-Smoothie-Bowl-8-260x390.jpg\"/>"
            ],
            "text/plain": [
              "<IPython.core.display.Image object>"
            ]
          },
          "metadata": {}
        },
        {
          "output_type": "stream",
          "name": "stdout",
          "text": [
            "Skillet Cajun Spiced Fish with Tomatoes\n"
          ]
        },
        {
          "output_type": "display_data",
          "data": {
            "text/html": [
              "<img src=\"https://www.skinnytaste.com/wp-content/uploads/2012/03/Skillet-Flounder-with-Tomatoes-6-260x390.jpg\"/>"
            ],
            "text/plain": [
              "<IPython.core.display.Image object>"
            ]
          },
          "metadata": {}
        },
        {
          "output_type": "stream",
          "name": "stdout",
          "text": [
            "Bisteces a la Mexicana (Mexican Style Beef Stew)\n"
          ]
        },
        {
          "output_type": "display_data",
          "data": {
            "text/html": [
              "<img src=\"https://www.skinnytaste.com/wp-content/uploads/2021/05/Bistecas-a-la-Mexicana-8-260x390.jpg\"/>"
            ],
            "text/plain": [
              "<IPython.core.display.Image object>"
            ]
          },
          "metadata": {}
        },
        {
          "output_type": "stream",
          "name": "stdout",
          "text": [
            "Cheeseburger Crunch Wrap\n"
          ]
        },
        {
          "output_type": "display_data",
          "data": {
            "text/html": [
              "<img src=\"https://www.skinnytaste.com/wp-content/uploads/2021/05/Cheeseburger-Crunch-Wrap-11-260x390.jpg\"/>"
            ],
            "text/plain": [
              "<IPython.core.display.Image object>"
            ]
          },
          "metadata": {}
        },
        {
          "output_type": "stream",
          "name": "stdout",
          "text": [
            "Salmon Fried Rice\n"
          ]
        },
        {
          "output_type": "display_data",
          "data": {
            "text/html": [
              "<img src=\"https://www.skinnytaste.com/wp-content/uploads/2020/12/Salmon-Fried-Rice-3-260x390.jpg\"/>"
            ],
            "text/plain": [
              "<IPython.core.display.Image object>"
            ]
          },
          "metadata": {}
        },
        {
          "output_type": "stream",
          "name": "stdout",
          "text": [
            "Quick and Delicioso Cuban Style Black Beans\n"
          ]
        },
        {
          "output_type": "display_data",
          "data": {
            "text/html": [
              "<img src=\"https://www.skinnytaste.com/wp-content/uploads/2011/01/Cuban-Black-Beans-9-260x390.jpg\"/>"
            ],
            "text/plain": [
              "<IPython.core.display.Image object>"
            ]
          },
          "metadata": {}
        },
        {
          "output_type": "stream",
          "name": "stdout",
          "text": [
            "Strawberries and Yogurt Whipped Cream\n"
          ]
        },
        {
          "output_type": "display_data",
          "data": {
            "text/html": [
              "<img src=\"https://www.skinnytaste.com/wp-content/uploads/2021/04/Strawberries-and-Yogurt-Whipped-Cream-10-260x390.jpg\"/>"
            ],
            "text/plain": [
              "<IPython.core.display.Image object>"
            ]
          },
          "metadata": {}
        },
        {
          "output_type": "stream",
          "name": "stdout",
          "text": [
            "Low-Yolk Egg Salad\n"
          ]
        },
        {
          "output_type": "display_data",
          "data": {
            "text/html": [
              "<img src=\"https://www.skinnytaste.com/wp-content/uploads/2011/04/Half-Yolk-Egg-Salad-3-260x390.jpg\"/>"
            ],
            "text/plain": [
              "<IPython.core.display.Image object>"
            ]
          },
          "metadata": {}
        },
        {
          "output_type": "stream",
          "name": "stdout",
          "text": [
            "Air Fryer Bacon Wrapped Pork Tenderloin\n"
          ]
        },
        {
          "output_type": "display_data",
          "data": {
            "text/html": [
              "<img src=\"https://www.skinnytaste.com/wp-content/uploads/2021/04/Bacon-Wrapped-Pork-Loin-7-260x390.jpg\"/>"
            ],
            "text/plain": [
              "<IPython.core.display.Image object>"
            ]
          },
          "metadata": {}
        },
        {
          "output_type": "stream",
          "name": "stdout",
          "text": [
            "Turkey Picadillo\n"
          ]
        },
        {
          "output_type": "display_data",
          "data": {
            "text/html": [
              "<img src=\"https://www.skinnytaste.com/wp-content/uploads/2010/02/Turkey-Picadillo-8-260x390.jpg\"/>"
            ],
            "text/plain": [
              "<IPython.core.display.Image object>"
            ]
          },
          "metadata": {}
        },
        {
          "output_type": "stream",
          "name": "stdout",
          "text": [
            "Farro Salad with Feta, Cucumbers and Sun Dried Tomatoes\n"
          ]
        },
        {
          "output_type": "display_data",
          "data": {
            "text/html": [
              "<img src=\"https://www.skinnytaste.com/wp-content/uploads/2012/05/Farro-with-Feta-Cucumbers-and-Sun-Dried-Tomatoes-6-260x390.jpg\"/>"
            ],
            "text/plain": [
              "<IPython.core.display.Image object>"
            ]
          },
          "metadata": {}
        },
        {
          "output_type": "stream",
          "name": "stdout",
          "text": [
            "Easy (10-minute) Waffled Salmon Cakes\n"
          ]
        },
        {
          "output_type": "display_data",
          "data": {
            "text/html": [
              "<img src=\"https://www.skinnytaste.com/wp-content/uploads/2021/04/Waffled-Salmon-Cakes-5-260x390.jpg\"/>"
            ],
            "text/plain": [
              "<IPython.core.display.Image object>"
            ]
          },
          "metadata": {}
        },
        {
          "output_type": "stream",
          "name": "stdout",
          "text": [
            "Coconut-Poached Chicken with Bok Choy and Mushrooms\n"
          ]
        },
        {
          "output_type": "display_data",
          "data": {
            "text/html": [
              "<img src=\"https://www.skinnytaste.com/wp-content/uploads/2021/04/Coconut-Simmered-Chicken-with-Bok-Choy-and-Mushrooms-8-260x390.jpg\"/>"
            ],
            "text/plain": [
              "<IPython.core.display.Image object>"
            ]
          },
          "metadata": {}
        },
        {
          "output_type": "stream",
          "name": "stdout",
          "text": [
            "Italian Ground Turkey Meatball Sheet Pan Dinner\n"
          ]
        },
        {
          "output_type": "display_data",
          "data": {
            "text/html": [
              "<img src=\"https://www.skinnytaste.com/wp-content/uploads/2021/04/Italian-Turkey-Meatball-Sheet-Pan-Dinner-5-260x390.jpg\"/>"
            ],
            "text/plain": [
              "<IPython.core.display.Image object>"
            ]
          },
          "metadata": {}
        },
        {
          "output_type": "stream",
          "name": "stdout",
          "text": [
            "Ahi Tuna Poke Stacks\n"
          ]
        },
        {
          "output_type": "display_data",
          "data": {
            "text/html": [
              "<img src=\"https://www.skinnytaste.com/wp-content/uploads/2021/04/Ahi-Tuna-Poke-Rice-Stacks-6-260x390.jpg\"/>"
            ],
            "text/plain": [
              "<IPython.core.display.Image object>"
            ]
          },
          "metadata": {}
        },
        {
          "output_type": "stream",
          "name": "stdout",
          "text": [
            "Navel Orange Salad with Avocado\n"
          ]
        },
        {
          "output_type": "display_data",
          "data": {
            "text/html": [
              "<img src=\"https://www.skinnytaste.com/wp-content/uploads/2021/03/Naval-Orange-Salad-with-Avocado-7-260x390.jpg\"/>"
            ],
            "text/plain": [
              "<IPython.core.display.Image object>"
            ]
          },
          "metadata": {}
        },
        {
          "output_type": "stream",
          "name": "stdout",
          "text": [
            "Asparagus and Feta Tartlet with Phyllo Crust\n"
          ]
        },
        {
          "output_type": "display_data",
          "data": {
            "text/html": [
              "<img src=\"https://www.skinnytaste.com/wp-content/uploads/2021/03/Asparagus-Tart-6-260x390.jpg\"/>"
            ],
            "text/plain": [
              "<IPython.core.display.Image object>"
            ]
          },
          "metadata": {}
        },
        {
          "output_type": "stream",
          "name": "stdout",
          "text": [
            "Spring Green Pea Soup with Fresh Herbs\n"
          ]
        },
        {
          "output_type": "display_data",
          "data": {
            "text/html": [
              "<img src=\"https://www.skinnytaste.com/wp-content/uploads/2021/03/Spring-Pea-and-Fresh-Herbs-Soup-7-260x390.jpg\"/>"
            ],
            "text/plain": [
              "<IPython.core.display.Image object>"
            ]
          },
          "metadata": {}
        },
        {
          "output_type": "stream",
          "name": "stdout",
          "text": [
            "Protein PB & J Smoothie Bowl\n"
          ]
        },
        {
          "output_type": "display_data",
          "data": {
            "text/html": [
              "<img src=\"https://www.skinnytaste.com/wp-content/uploads/2021/03/PB-_-J-Smoothie-Bowl-7-260x390.jpg\"/>"
            ],
            "text/plain": [
              "<IPython.core.display.Image object>"
            ]
          },
          "metadata": {}
        },
        {
          "output_type": "stream",
          "name": "stdout",
          "text": [
            "Layered Potato Cups with Spring Herbs and Leeks\n"
          ]
        },
        {
          "output_type": "display_data",
          "data": {
            "text/html": [
              "<img src=\"https://www.skinnytaste.com/wp-content/uploads/2021/03/Spring-Herbs-Leeks-Goat-Cheese-and-Potato-Cups-6-260x390.jpg\"/>"
            ],
            "text/plain": [
              "<IPython.core.display.Image object>"
            ]
          },
          "metadata": {}
        },
        {
          "output_type": "stream",
          "name": "stdout",
          "text": [
            "Spicy Crunchy Tuna Tartare\n"
          ]
        },
        {
          "output_type": "display_data",
          "data": {
            "text/html": [
              "<img src=\"https://www.skinnytaste.com/wp-content/uploads/2010/08/Spicy-Crunchy-Tuna-Tartare-6-260x390.jpg\"/>"
            ],
            "text/plain": [
              "<IPython.core.display.Image object>"
            ]
          },
          "metadata": {}
        },
        {
          "output_type": "stream",
          "name": "stdout",
          "text": [
            "One-Pot Chicken and Artichoke Cavatappi\n"
          ]
        },
        {
          "output_type": "display_data",
          "data": {
            "text/html": [
              "<img src=\"https://www.skinnytaste.com/wp-content/uploads/2021/03/One-Pot-Chicken-and-Artichoke-Cavatappi-8-260x390.jpg\"/>"
            ],
            "text/plain": [
              "<IPython.core.display.Image object>"
            ]
          },
          "metadata": {}
        },
        {
          "output_type": "stream",
          "name": "stdout",
          "text": [
            "Spanakopita Baked Eggs\n"
          ]
        },
        {
          "output_type": "display_data",
          "data": {
            "text/html": [
              "<img src=\"https://www.skinnytaste.com/wp-content/uploads/2021/03/SPANAKOPITA-26-260x390.jpg\"/>"
            ],
            "text/plain": [
              "<IPython.core.display.Image object>"
            ]
          },
          "metadata": {}
        },
        {
          "output_type": "stream",
          "name": "stdout",
          "text": [
            "Cuban Picadillo\n"
          ]
        },
        {
          "output_type": "display_data",
          "data": {
            "text/html": [
              "<img src=\"https://www.skinnytaste.com/wp-content/uploads/2017/01/Instant-Pot-Picadillo-2-260x390.jpg\"/>"
            ],
            "text/plain": [
              "<IPython.core.display.Image object>"
            ]
          },
          "metadata": {}
        },
        {
          "output_type": "stream",
          "name": "stdout",
          "text": [
            "Cacio e Pepe Frittata with Cauliflower and Lemony Yogurt\n"
          ]
        },
        {
          "output_type": "display_data",
          "data": {
            "text/html": [
              "<img src=\"https://www.skinnytaste.com/wp-content/uploads/2021/03/Cacio-e-Pepe-Frittata-9-260x390.jpg\"/>"
            ],
            "text/plain": [
              "<IPython.core.display.Image object>"
            ]
          },
          "metadata": {}
        },
        {
          "output_type": "stream",
          "name": "stdout",
          "text": [
            "Hearts of Palm Noodle Peanut Stir Fry\n"
          ]
        },
        {
          "output_type": "display_data",
          "data": {
            "text/html": [
              "<img src=\"https://www.skinnytaste.com/wp-content/uploads/2021/03/Hearts-of-Palm-Noodle-Peanut-Stir-Fry-9-260x390.jpg\"/>"
            ],
            "text/plain": [
              "<IPython.core.display.Image object>"
            ]
          },
          "metadata": {}
        },
        {
          "output_type": "stream",
          "name": "stdout",
          "text": [
            "Flaugnarde of Mixed Berries (Clafoutis)\n"
          ]
        },
        {
          "output_type": "display_data",
          "data": {
            "text/html": [
              "<img src=\"https://www.skinnytaste.com/wp-content/uploads/2011/08/Flaugnarde-of-Mixed-Berries-Clafoutis-6-260x390.jpg\"/>"
            ],
            "text/plain": [
              "<IPython.core.display.Image object>"
            ]
          },
          "metadata": {}
        },
        {
          "output_type": "stream",
          "name": "stdout",
          "text": [
            "Pork Chops and Pears with Spicy Mustard Greens\n"
          ]
        },
        {
          "output_type": "display_data",
          "data": {
            "text/html": [
              "<img src=\"https://www.skinnytaste.com/wp-content/uploads/2021/03/Pork-Chops-7-260x390.jpg\"/>"
            ],
            "text/plain": [
              "<IPython.core.display.Image object>"
            ]
          },
          "metadata": {}
        },
        {
          "output_type": "stream",
          "name": "stdout",
          "text": [
            "Air Fryer Lobster Jalapeño Empanadas\n"
          ]
        },
        {
          "output_type": "display_data",
          "data": {
            "text/html": [
              "<img src=\"https://www.skinnytaste.com/wp-content/uploads/2021/03/Air-Fryer-Lobster-Jalapeño-Empanadas-11-260x390.jpg\"/>"
            ],
            "text/plain": [
              "<IPython.core.display.Image object>"
            ]
          },
          "metadata": {}
        },
        {
          "output_type": "stream",
          "name": "stdout",
          "text": [
            "Beef Negimaki Stir Fry\n"
          ]
        },
        {
          "output_type": "display_data",
          "data": {
            "text/html": [
              "<img src=\"https://www.skinnytaste.com/wp-content/uploads/2021/03/Beef-Negimaki-Stir-Fry-5-260x390.jpg\"/>"
            ],
            "text/plain": [
              "<IPython.core.display.Image object>"
            ]
          },
          "metadata": {}
        },
        {
          "output_type": "stream",
          "name": "stdout",
          "text": [
            "Greek Yogurt Caesar Salad Dressing\n"
          ]
        },
        {
          "output_type": "display_data",
          "data": {
            "text/html": [
              "<img src=\"https://www.skinnytaste.com/wp-content/uploads/2012/08/Skinny-Caesar-Dressing-7-copy-260x390.jpg\"/>"
            ],
            "text/plain": [
              "<IPython.core.display.Image object>"
            ]
          },
          "metadata": {}
        },
        {
          "output_type": "stream",
          "name": "stdout",
          "text": [
            "Sheet Pan Teriyaki Salmon and Vegetables\n"
          ]
        },
        {
          "output_type": "display_data",
          "data": {
            "text/html": [
              "<img src=\"https://www.skinnytaste.com/wp-content/uploads/2016/12/Sheet-Pan-Teriyaki-Salmon-1-6-260x390.jpg\"/>"
            ],
            "text/plain": [
              "<IPython.core.display.Image object>"
            ]
          },
          "metadata": {}
        },
        {
          "output_type": "stream",
          "name": "stdout",
          "text": [
            "Cheesy Eggplant Gnocchi Caprese\n"
          ]
        },
        {
          "output_type": "display_data",
          "data": {
            "text/html": [
              "<img src=\"https://www.skinnytaste.com/wp-content/uploads/2021/02/Cheesy-Eggplant-Caprese-Skillet-5-260x390.jpg\"/>"
            ],
            "text/plain": [
              "<IPython.core.display.Image object>"
            ]
          },
          "metadata": {}
        },
        {
          "output_type": "stream",
          "name": "stdout",
          "text": [
            "Buffalo Chickpea Salad\n"
          ]
        },
        {
          "output_type": "display_data",
          "data": {
            "text/html": [
              "<img src=\"https://www.skinnytaste.com/wp-content/uploads/2021/02/Buffalo-Chickpea-Salad-4-260x390.jpg\"/>"
            ],
            "text/plain": [
              "<IPython.core.display.Image object>"
            ]
          },
          "metadata": {}
        },
        {
          "output_type": "stream",
          "name": "stdout",
          "text": [
            "One-Pot Spaghetti Puttanesca\n"
          ]
        },
        {
          "output_type": "display_data",
          "data": {
            "text/html": [
              "<img src=\"https://www.skinnytaste.com/wp-content/uploads/2021/02/One-Pot-Puttanesca-7-260x390.jpg\"/>"
            ],
            "text/plain": [
              "<IPython.core.display.Image object>"
            ]
          },
          "metadata": {}
        },
        {
          "output_type": "stream",
          "name": "stdout",
          "text": [
            "Cottage Cheese Egg and Sausage Frittata\n"
          ]
        },
        {
          "output_type": "display_data",
          "data": {
            "text/html": [
              "<img src=\"https://www.skinnytaste.com/wp-content/uploads/2021/02/Egg-Cottage-Cheese-Sausage-Frittata-7-260x390.jpg\"/>"
            ],
            "text/plain": [
              "<IPython.core.display.Image object>"
            ]
          },
          "metadata": {}
        },
        {
          "output_type": "stream",
          "name": "stdout",
          "text": [
            "Peanut-Braised Chicken Breasts\n"
          ]
        },
        {
          "output_type": "display_data",
          "data": {
            "text/html": [
              "<img src=\"https://www.skinnytaste.com/wp-content/uploads/2021/02/Peanut-Braised-Chicken-Breasts-4-1-260x390.jpg\"/>"
            ],
            "text/plain": [
              "<IPython.core.display.Image object>"
            ]
          },
          "metadata": {}
        },
        {
          "output_type": "stream",
          "name": "stdout",
          "text": [
            "Instant Pot Braised Beef\n"
          ]
        },
        {
          "output_type": "display_data",
          "data": {
            "text/html": [
              "<img src=\"https://www.skinnytaste.com/wp-content/uploads/2021/02/Instant-Pot-Braised-Beef-6-260x390.jpg\"/>"
            ],
            "text/plain": [
              "<IPython.core.display.Image object>"
            ]
          },
          "metadata": {}
        },
        {
          "output_type": "stream",
          "name": "stdout",
          "text": [
            "Baked Sweet Potato Egg Cups\n"
          ]
        },
        {
          "output_type": "display_data",
          "data": {
            "text/html": [
              "<img src=\"https://www.skinnytaste.com/wp-content/uploads/2021/02/Baked-Sweet-Potato-Egg-Cups-7-260x390.jpg\"/>"
            ],
            "text/plain": [
              "<IPython.core.display.Image object>"
            ]
          },
          "metadata": {}
        },
        {
          "output_type": "stream",
          "name": "stdout",
          "text": [
            "Air Fryer Buffalo Chicken Zucchini Skins\n"
          ]
        },
        {
          "output_type": "display_data",
          "data": {
            "text/html": [
              "<img src=\"https://www.skinnytaste.com/wp-content/uploads/2021/02/Buffalo-Chicken-Zucchini-Skins-7-260x390.jpg\"/>"
            ],
            "text/plain": [
              "<IPython.core.display.Image object>"
            ]
          },
          "metadata": {}
        },
        {
          "output_type": "stream",
          "name": "stdout",
          "text": [
            "Orange Moscow Mule Mocktail\n"
          ]
        },
        {
          "output_type": "display_data",
          "data": {
            "text/html": [
              "<img src=\"https://www.skinnytaste.com/wp-content/uploads/2021/01/Virgin-Orange-Moscow-Mules-7-260x390.jpg\"/>"
            ],
            "text/plain": [
              "<IPython.core.display.Image object>"
            ]
          },
          "metadata": {}
        },
        {
          "output_type": "stream",
          "name": "stdout",
          "text": [
            "Shrimp Dumpling Lettuce Wraps or Rice Bowls\n"
          ]
        },
        {
          "output_type": "display_data",
          "data": {
            "text/html": [
              "<img src=\"https://www.skinnytaste.com/wp-content/uploads/2021/02/Shrimp-Dumpling-Wraps-2-Ways_-7-260x390.jpg\"/>"
            ],
            "text/plain": [
              "<IPython.core.display.Image object>"
            ]
          },
          "metadata": {}
        },
        {
          "output_type": "stream",
          "name": "stdout",
          "text": [
            "Savory Cottage Cheese Bowl\n"
          ]
        },
        {
          "output_type": "display_data",
          "data": {
            "text/html": [
              "<img src=\"https://www.skinnytaste.com/wp-content/uploads/2021/02/Savory-Cottage-Cheese-Bowl-4-260x390.jpg\"/>"
            ],
            "text/plain": [
              "<IPython.core.display.Image object>"
            ]
          },
          "metadata": {}
        },
        {
          "output_type": "stream",
          "name": "stdout",
          "text": [
            "Zero-Proof Jalapeño Paloma\n"
          ]
        },
        {
          "output_type": "display_data",
          "data": {
            "text/html": [
              "<img src=\"https://www.skinnytaste.com/wp-content/uploads/2021/01/Zero-Proof-Palomas-3-260x390.jpg\"/>"
            ],
            "text/plain": [
              "<IPython.core.display.Image object>"
            ]
          },
          "metadata": {}
        },
        {
          "output_type": "stream",
          "name": "stdout",
          "text": [
            "Baby Greens with Goat Cheese, Beets and Candied Pecans\n"
          ]
        },
        {
          "output_type": "display_data",
          "data": {
            "text/html": [
              "<img src=\"https://www.skinnytaste.com/wp-content/uploads/2012/11/Baby-Greens-with-Goats-Cheese-Beets-and-Candied-Pecans-6-260x390.jpg\"/>"
            ],
            "text/plain": [
              "<IPython.core.display.Image object>"
            ]
          },
          "metadata": {}
        },
        {
          "output_type": "stream",
          "name": "stdout",
          "text": [
            "Instant Pot Baked Ziti\n"
          ]
        },
        {
          "output_type": "display_data",
          "data": {
            "text/html": [
              "<img src=\"https://www.skinnytaste.com/wp-content/uploads/2021/01/Instant-Pot-Baked-Ziti_-9-260x390.jpg\"/>"
            ],
            "text/plain": [
              "<IPython.core.display.Image object>"
            ]
          },
          "metadata": {}
        },
        {
          "output_type": "stream",
          "name": "stdout",
          "text": [
            "Shrimp and Andouille Sheet Pan Dinner\n"
          ]
        },
        {
          "output_type": "display_data",
          "data": {
            "text/html": [
              "<img src=\"https://www.skinnytaste.com/wp-content/uploads/2021/01/Shrimp-Andouille-Sheet-Pan-Roast-13-260x390.jpg\"/>"
            ],
            "text/plain": [
              "<IPython.core.display.Image object>"
            ]
          },
          "metadata": {}
        },
        {
          "output_type": "stream",
          "name": "stdout",
          "text": [
            "High Protein Bread (Oat Sandwich Rolls)\n"
          ]
        },
        {
          "output_type": "display_data",
          "data": {
            "text/html": [
              "<img src=\"https://www.skinnytaste.com/wp-content/uploads/2021/01/High-Protein-Oat-Rolls-11-260x390.jpg\"/>"
            ],
            "text/plain": [
              "<IPython.core.display.Image object>"
            ]
          },
          "metadata": {}
        },
        {
          "output_type": "stream",
          "name": "stdout",
          "text": [
            "Harissa Chicken Meatballs\n"
          ]
        },
        {
          "output_type": "display_data",
          "data": {
            "text/html": [
              "<img src=\"https://www.skinnytaste.com/wp-content/uploads/2021/01/Harissa-Chicken-Meatballs-8-260x390.jpg\"/>"
            ],
            "text/plain": [
              "<IPython.core.display.Image object>"
            ]
          },
          "metadata": {}
        },
        {
          "output_type": "stream",
          "name": "stdout",
          "text": [
            "House Special Fried Rice Recipe\n"
          ]
        },
        {
          "output_type": "display_data",
          "data": {
            "text/html": [
              "<img src=\"https://www.skinnytaste.com/wp-content/uploads/2021/01/House-Special-Fried-Rice-6-260x390.jpg\"/>"
            ],
            "text/plain": [
              "<IPython.core.display.Image object>"
            ]
          },
          "metadata": {}
        },
        {
          "output_type": "stream",
          "name": "stdout",
          "text": [
            "Quick Shrimp Pho with Vegetables\n"
          ]
        },
        {
          "output_type": "display_data",
          "data": {
            "text/html": [
              "<img src=\"https://www.skinnytaste.com/wp-content/uploads/2021/01/Shrimp-and-Vegetable-Pho-4-260x390.jpg\"/>"
            ],
            "text/plain": [
              "<IPython.core.display.Image object>"
            ]
          },
          "metadata": {}
        },
        {
          "output_type": "stream",
          "name": "stdout",
          "text": [
            "Air Fryer Nacho Fries\n"
          ]
        },
        {
          "output_type": "display_data",
          "data": {
            "text/html": [
              "<img src=\"https://www.skinnytaste.com/wp-content/uploads/2020/08/Air-Fryer-Nacho-Fries-9-260x390.jpg\"/>"
            ],
            "text/plain": [
              "<IPython.core.display.Image object>"
            ]
          },
          "metadata": {}
        },
        {
          "output_type": "stream",
          "name": "stdout",
          "text": [
            "Carne en Bistec – Colombian Steak with Onions and Tomatoes\n"
          ]
        },
        {
          "output_type": "display_data",
          "data": {
            "text/html": [
              "<img src=\"https://www.skinnytaste.com/wp-content/uploads/2011/04/Skinnytaste-50-260x390.jpg\"/>"
            ],
            "text/plain": [
              "<IPython.core.display.Image object>"
            ]
          },
          "metadata": {}
        },
        {
          "output_type": "stream",
          "name": "stdout",
          "text": [
            "Salmon Coconut Curry with Spinach and Chickpeas\n"
          ]
        },
        {
          "output_type": "display_data",
          "data": {
            "text/html": [
              "<img src=\"https://www.skinnytaste.com/wp-content/uploads/2021/01/Salmon-Coconut-Curry_-7-260x390.jpg\"/>"
            ],
            "text/plain": [
              "<IPython.core.display.Image object>"
            ]
          },
          "metadata": {}
        },
        {
          "output_type": "stream",
          "name": "stdout",
          "text": [
            "Spinach Stuffed Chicken Breast with Tomato and Feta\n"
          ]
        },
        {
          "output_type": "display_data",
          "data": {
            "text/html": [
              "<img src=\"https://www.skinnytaste.com/wp-content/uploads/2021/01/Spinach-Tomato-and-Feta-Stuffed-Chicken-Breast-9-260x390.jpg\"/>"
            ],
            "text/plain": [
              "<IPython.core.display.Image object>"
            ]
          },
          "metadata": {}
        },
        {
          "output_type": "stream",
          "name": "stdout",
          "text": [
            "3-Ingredient Baked Bananas\n"
          ]
        },
        {
          "output_type": "display_data",
          "data": {
            "text/html": [
              "<img src=\"https://www.skinnytaste.com/wp-content/uploads/2009/10/Baked-Bananas-7-260x390.jpg\"/>"
            ],
            "text/plain": [
              "<IPython.core.display.Image object>"
            ]
          },
          "metadata": {}
        },
        {
          "output_type": "stream",
          "name": "stdout",
          "text": [
            "Air Fryer Chicken Nuggets\n"
          ]
        },
        {
          "output_type": "display_data",
          "data": {
            "text/html": [
              "<img src=\"https://www.skinnytaste.com/wp-content/uploads/2018/01/Air-Fryer-Chicken-Nuggets-1-6-260x390.jpg\"/>"
            ],
            "text/plain": [
              "<IPython.core.display.Image object>"
            ]
          },
          "metadata": {}
        },
        {
          "output_type": "stream",
          "name": "stdout",
          "text": [
            "Breakfast Egg Rolls\n"
          ]
        },
        {
          "output_type": "display_data",
          "data": {
            "text/html": [
              "<img src=\"https://www.skinnytaste.com/wp-content/uploads/2021/01/Breakfast-Egg-Roll-5-260x390.jpg\"/>"
            ],
            "text/plain": [
              "<IPython.core.display.Image object>"
            ]
          },
          "metadata": {}
        },
        {
          "output_type": "stream",
          "name": "stdout",
          "text": [
            "Drunken Shrimp\n"
          ]
        },
        {
          "output_type": "display_data",
          "data": {
            "text/html": [
              "<img src=\"https://www.skinnytaste.com/wp-content/uploads/2009/04/Drunken-Shrimp-7-260x390.jpg\"/>"
            ],
            "text/plain": [
              "<IPython.core.display.Image object>"
            ]
          },
          "metadata": {}
        },
        {
          "output_type": "stream",
          "name": "stdout",
          "text": [
            "Virgin Bloody Mary\n"
          ]
        },
        {
          "output_type": "display_data",
          "data": {
            "text/html": [
              "<img src=\"https://www.skinnytaste.com/wp-content/uploads/2020/12/Virgin-Bloody-Mary-7-260x390.jpg\"/>"
            ],
            "text/plain": [
              "<IPython.core.display.Image object>"
            ]
          },
          "metadata": {}
        },
        {
          "output_type": "stream",
          "name": "stdout",
          "text": [
            "Sauteed Collard Greens with Bacon\n"
          ]
        },
        {
          "output_type": "display_data",
          "data": {
            "text/html": [
              "<img src=\"https://www.skinnytaste.com/wp-content/uploads/2011/01/Collard-Greens-and-Bacon-9-260x390.jpg\"/>"
            ],
            "text/plain": [
              "<IPython.core.display.Image object>"
            ]
          },
          "metadata": {}
        },
        {
          "output_type": "stream",
          "name": "stdout",
          "text": [
            "Fudgy Flourless Crinkle Brownie Cookies with Sea Salt\n"
          ]
        },
        {
          "output_type": "display_data",
          "data": {
            "text/html": [
              "<img src=\"https://www.skinnytaste.com/wp-content/uploads/2020/12/Fudgy-Flourless-Chocolate-Crinkle-Cookies-6-260x390.jpg\"/>"
            ],
            "text/plain": [
              "<IPython.core.display.Image object>"
            ]
          },
          "metadata": {}
        },
        {
          "output_type": "stream",
          "name": "stdout",
          "text": [
            "Sheet Pan Shrimp Oreganata\n"
          ]
        },
        {
          "output_type": "display_data",
          "data": {
            "text/html": [
              "<img src=\"https://www.skinnytaste.com/wp-content/uploads/2020/12/Sheet-Pan-Shrimp-Oreganata-9-260x390.jpg\"/>"
            ],
            "text/plain": [
              "<IPython.core.display.Image object>"
            ]
          },
          "metadata": {}
        },
        {
          "output_type": "stream",
          "name": "stdout",
          "text": [
            "Roasted Delicata Squash with Burrata, Pomegranate and Pistachios\n"
          ]
        },
        {
          "output_type": "display_data",
          "data": {
            "text/html": [
              "<img src=\"https://www.skinnytaste.com/wp-content/uploads/2020/12/Roasted-Delicata-Squash-7-260x390.jpg\"/>"
            ],
            "text/plain": [
              "<IPython.core.display.Image object>"
            ]
          },
          "metadata": {}
        },
        {
          "output_type": "stream",
          "name": "stdout",
          "text": [
            "Frenched Rack Of Lamb\n"
          ]
        },
        {
          "output_type": "display_data",
          "data": {
            "text/html": [
              "<img src=\"https://www.skinnytaste.com/wp-content/uploads/2020/12/Frenched-Rack-of-Lamb-1-2-260x390.jpg\"/>"
            ],
            "text/plain": [
              "<IPython.core.display.Image object>"
            ]
          },
          "metadata": {}
        },
        {
          "output_type": "stream",
          "name": "stdout",
          "text": [
            "Pizzelle Cookies\n"
          ]
        },
        {
          "output_type": "display_data",
          "data": {
            "text/html": [
              "<img src=\"https://www.skinnytaste.com/wp-content/uploads/2020/12/Pizzelle-Cookies-6-2-260x390.jpg\"/>"
            ],
            "text/plain": [
              "<IPython.core.display.Image object>"
            ]
          },
          "metadata": {}
        },
        {
          "output_type": "stream",
          "name": "stdout",
          "text": [
            "Caramelized Onion Empanadas (Chilean pequenes)\n"
          ]
        },
        {
          "output_type": "display_data",
          "data": {
            "text/html": [
              "<img src=\"https://www.skinnytaste.com/wp-content/uploads/2020/12/Caramelized-Onion-Empanadas-9-260x390.jpg\"/>"
            ],
            "text/plain": [
              "<IPython.core.display.Image object>"
            ]
          },
          "metadata": {}
        },
        {
          "output_type": "stream",
          "name": "stdout",
          "text": [
            "Yogurt Sheet Pan Pancakes with Mixed Berries\n"
          ]
        },
        {
          "output_type": "display_data",
          "data": {
            "text/html": [
              "<img src=\"https://www.skinnytaste.com/wp-content/uploads/2020/12/Yogurt-Sheet-Pan-Pancakes-8-260x390.jpg\"/>"
            ],
            "text/plain": [
              "<IPython.core.display.Image object>"
            ]
          },
          "metadata": {}
        },
        {
          "output_type": "stream",
          "name": "stdout",
          "text": [
            "Angel Hair with Shrimp and Asparagus\n"
          ]
        },
        {
          "output_type": "display_data",
          "data": {
            "text/html": [
              "<img src=\"https://www.skinnytaste.com/wp-content/uploads/2020/12/Angel-Hair-with-Shrimp-and-Asparagus-6-260x390.jpg\"/>"
            ],
            "text/plain": [
              "<IPython.core.display.Image object>"
            ]
          },
          "metadata": {}
        },
        {
          "output_type": "stream",
          "name": "stdout",
          "text": [
            "Lemon Cranberry Scones\n"
          ]
        },
        {
          "output_type": "display_data",
          "data": {
            "text/html": [
              "<img src=\"https://www.skinnytaste.com/wp-content/uploads/2011/03/Lemon-Cranberry-Scones-12-260x390.jpg\"/>"
            ],
            "text/plain": [
              "<IPython.core.display.Image object>"
            ]
          },
          "metadata": {}
        },
        {
          "output_type": "stream",
          "name": "stdout",
          "text": [
            "Dark Chocolate Peanut Butter Bark\n"
          ]
        },
        {
          "output_type": "display_data",
          "data": {
            "text/html": [
              "<img src=\"https://www.skinnytaste.com/wp-content/uploads/2020/12/DARK-CHOCOLATE-PEANUT-BUTTER-BARK-Finals-10-260x390.jpg\"/>"
            ],
            "text/plain": [
              "<IPython.core.display.Image object>"
            ]
          },
          "metadata": {}
        },
        {
          "output_type": "stream",
          "name": "stdout",
          "text": [
            "Roasted Radishes with Onions\n"
          ]
        },
        {
          "output_type": "display_data",
          "data": {
            "text/html": [
              "<img src=\"https://www.skinnytaste.com/wp-content/uploads/2020/12/Roasted-Radishes-and-Onions-7-260x390.jpg\"/>"
            ],
            "text/plain": [
              "<IPython.core.display.Image object>"
            ]
          },
          "metadata": {}
        },
        {
          "output_type": "stream",
          "name": "stdout",
          "text": [
            "Butternut Squash Lentil Soup\n"
          ]
        },
        {
          "output_type": "display_data",
          "data": {
            "text/html": [
              "<img src=\"https://www.skinnytaste.com/wp-content/uploads/2020/11/Lentil-Soup-with-Butternut-and-Kale-4-260x390.jpg\"/>"
            ],
            "text/plain": [
              "<IPython.core.display.Image object>"
            ]
          },
          "metadata": {}
        },
        {
          "output_type": "stream",
          "name": "stdout",
          "text": [
            "Chicken Brown Rice Bowl (copycat Zinque’s Le Bowl)\n"
          ]
        },
        {
          "output_type": "display_data",
          "data": {
            "text/html": [
              "<img src=\"https://www.skinnytaste.com/wp-content/uploads/2020/11/Zinque_s-Le-Bowl-edit-6-260x390.jpg\"/>"
            ],
            "text/plain": [
              "<IPython.core.display.Image object>"
            ]
          },
          "metadata": {}
        },
        {
          "output_type": "stream",
          "name": "stdout",
          "text": [
            "Sausage Stuffing\n"
          ]
        },
        {
          "output_type": "display_data",
          "data": {
            "text/html": [
              "<img src=\"https://www.skinnytaste.com/wp-content/uploads/2011/11/Chicken-Sausage-and-Herb-Stuffing-260x390.jpg\"/>"
            ],
            "text/plain": [
              "<IPython.core.display.Image object>"
            ]
          },
          "metadata": {}
        },
        {
          "output_type": "stream",
          "name": "stdout",
          "text": [
            "Apple Cranberry Crumble\n"
          ]
        },
        {
          "output_type": "display_data",
          "data": {
            "text/html": [
              "<img src=\"https://www.skinnytaste.com/wp-content/uploads/2011/12/Apple-Cranberry-Crumble_-5-260x390.jpg\"/>"
            ],
            "text/plain": [
              "<IPython.core.display.Image object>"
            ]
          },
          "metadata": {}
        },
        {
          "output_type": "stream",
          "name": "stdout",
          "text": [
            "Slow Cooker Butternut Squash Pear Soup\n"
          ]
        },
        {
          "output_type": "display_data",
          "data": {
            "text/html": [
              "<img src=\"https://www.skinnytaste.com/wp-content/uploads/2020/11/Slow-Cooker-Butternut-Pear-5-260x390.jpg\"/>"
            ],
            "text/plain": [
              "<IPython.core.display.Image object>"
            ]
          },
          "metadata": {}
        },
        {
          "output_type": "stream",
          "name": "stdout",
          "text": [
            "Turkey Pot Pie with Stuffing Crust\n"
          ]
        },
        {
          "output_type": "display_data",
          "data": {
            "text/html": [
              "<img src=\"https://www.skinnytaste.com/wp-content/uploads/2019/11/Turkey-Pot-Pie-with-Stuffing-Crust-7-260x390.jpg\"/>"
            ],
            "text/plain": [
              "<IPython.core.display.Image object>"
            ]
          },
          "metadata": {}
        },
        {
          "output_type": "stream",
          "name": "stdout",
          "text": [
            "Smashed Sweet Potatoes\n"
          ]
        },
        {
          "output_type": "display_data",
          "data": {
            "text/html": [
              "<img src=\"https://www.skinnytaste.com/wp-content/uploads/2020/11/Savory-Smashed-Sweet-Potatoes-7-260x390.jpg\"/>"
            ],
            "text/plain": [
              "<IPython.core.display.Image object>"
            ]
          },
          "metadata": {}
        },
        {
          "output_type": "stream",
          "name": "stdout",
          "text": [
            "Pumpkin Pistachio Energy Balls\n"
          ]
        },
        {
          "output_type": "display_data",
          "data": {
            "text/html": [
              "<img src=\"https://www.skinnytaste.com/wp-content/uploads/2020/11/Pumpkin-Pistachio-Energy-Balls-5-260x390.jpg\"/>"
            ],
            "text/plain": [
              "<IPython.core.display.Image object>"
            ]
          },
          "metadata": {}
        },
        {
          "output_type": "stream",
          "name": "stdout",
          "text": [
            "Crustless Sausage and Spinach Quiche\n"
          ]
        },
        {
          "output_type": "display_data",
          "data": {
            "text/html": [
              "<img src=\"https://www.skinnytaste.com/wp-content/uploads/2020/11/Sausage-and-Spinach-Quiche-6-260x390.jpg\"/>"
            ],
            "text/plain": [
              "<IPython.core.display.Image object>"
            ]
          },
          "metadata": {}
        },
        {
          "output_type": "stream",
          "name": "stdout",
          "text": [
            "Meatloaf and Brown Gravy\n"
          ]
        },
        {
          "output_type": "display_data",
          "data": {
            "text/html": [
              "<img src=\"https://www.skinnytaste.com/wp-content/uploads/2020/10/Meatloaf-and-Gravy-8-260x390.jpg\"/>"
            ],
            "text/plain": [
              "<IPython.core.display.Image object>"
            ]
          },
          "metadata": {}
        },
        {
          "output_type": "stream",
          "name": "stdout",
          "text": [
            "Air Fryer Herbed Buttermilk Roast Chicken Breast\n"
          ]
        },
        {
          "output_type": "display_data",
          "data": {
            "text/html": [
              "<img src=\"https://www.skinnytaste.com/wp-content/uploads/2020/10/Air-Fryer-Herbed-Buttermilk-Roast-Chicken-Breast-9-260x390.jpg\"/>"
            ],
            "text/plain": [
              "<IPython.core.display.Image object>"
            ]
          },
          "metadata": {}
        },
        {
          "output_type": "stream",
          "name": "stdout",
          "text": [
            "Vegetarian Mushroom Kale Lasagna Rolls\n"
          ]
        },
        {
          "output_type": "display_data",
          "data": {
            "text/html": [
              "<img src=\"https://www.skinnytaste.com/wp-content/uploads/2012/11/Mushroom-Kale-Lasagna-Rolls-11-260x390.jpg\"/>"
            ],
            "text/plain": [
              "<IPython.core.display.Image object>"
            ]
          },
          "metadata": {}
        },
        {
          "output_type": "stream",
          "name": "stdout",
          "text": [
            "Slow Cooker Chicken Enchilada Stuffed Sweet Potatoes\n"
          ]
        },
        {
          "output_type": "display_data",
          "data": {
            "text/html": [
              "<img src=\"https://www.skinnytaste.com/wp-content/uploads/2020/10/Enchilada-Chicken-Stuffed-Sweet-Potatoes-2-4-260x390.jpg\"/>"
            ],
            "text/plain": [
              "<IPython.core.display.Image object>"
            ]
          },
          "metadata": {}
        },
        {
          "output_type": "stream",
          "name": "stdout",
          "text": [
            "Honeynut Squash Recipe with Maple and Pecans\n"
          ]
        },
        {
          "output_type": "display_data",
          "data": {
            "text/html": [
              "<img src=\"https://www.skinnytaste.com/wp-content/uploads/2020/10/Roasted-Maple-Pecan-Honeynut-8-260x390.jpg\"/>"
            ],
            "text/plain": [
              "<IPython.core.display.Image object>"
            ]
          },
          "metadata": {}
        },
        {
          "output_type": "stream",
          "name": "stdout",
          "text": [
            "Pastrami Reuben Egg Rolls\n"
          ]
        },
        {
          "output_type": "display_data",
          "data": {
            "text/html": [
              "<img src=\"https://www.skinnytaste.com/wp-content/uploads/2020/10/Pastrami-Reuban-Eggrolls-7-260x390.jpg\"/>"
            ],
            "text/plain": [
              "<IPython.core.display.Image object>"
            ]
          },
          "metadata": {}
        },
        {
          "output_type": "stream",
          "name": "stdout",
          "text": [
            "Detox Vegetable Soup\n"
          ]
        },
        {
          "output_type": "display_data",
          "data": {
            "text/html": [
              "<img src=\"https://www.skinnytaste.com/wp-content/uploads/2020/10/detox-vegetable-soup-5-260x390.jpg\"/>"
            ],
            "text/plain": [
              "<IPython.core.display.Image object>"
            ]
          },
          "metadata": {}
        },
        {
          "output_type": "stream",
          "name": "stdout",
          "text": [
            "Pumpkin Pie Dip\n"
          ]
        },
        {
          "output_type": "display_data",
          "data": {
            "text/html": [
              "<img src=\"https://www.skinnytaste.com/wp-content/uploads/2015/11/Pumpkin-Pie-Dip-5-260x390.jpg\"/>"
            ],
            "text/plain": [
              "<IPython.core.display.Image object>"
            ]
          },
          "metadata": {}
        },
        {
          "output_type": "stream",
          "name": "stdout",
          "text": [
            "Broccoli and Cheese Twice Baked Potatoes\n"
          ]
        },
        {
          "output_type": "display_data",
          "data": {
            "text/html": [
              "<img src=\"https://www.skinnytaste.com/wp-content/uploads/2013/01/Twice-Baked-Potatoes-with-Broccoli-and-Cheese-2-260x367.jpg\"/>"
            ],
            "text/plain": [
              "<IPython.core.display.Image object>"
            ]
          },
          "metadata": {}
        },
        {
          "output_type": "stream",
          "name": "stdout",
          "text": [
            "Skinny Pumpkin Snickerdoodles\n"
          ]
        },
        {
          "output_type": "display_data",
          "data": {
            "text/html": [
              "<img src=\"https://www.skinnytaste.com/wp-content/uploads/2013/09/Skinny-Pumpkin-Spiced-Snickerdoodles-6-260x390.jpg\"/>"
            ],
            "text/plain": [
              "<IPython.core.display.Image object>"
            ]
          },
          "metadata": {}
        },
        {
          "output_type": "stream",
          "name": "stdout",
          "text": [
            "Sweet and Spicy Glazed Salmon\n"
          ]
        },
        {
          "output_type": "display_data",
          "data": {
            "text/html": [
              "<img src=\"https://www.skinnytaste.com/wp-content/uploads/2020/10/Sweet-and-Spicy-Sheet-Pan-Salmon-6-260x390.jpg\"/>"
            ],
            "text/plain": [
              "<IPython.core.display.Image object>"
            ]
          },
          "metadata": {}
        },
        {
          "output_type": "stream",
          "name": "stdout",
          "text": [
            "Mushroom Stroganoff\n"
          ]
        },
        {
          "output_type": "display_data",
          "data": {
            "text/html": [
              "<img src=\"https://www.skinnytaste.com/wp-content/uploads/2012/09/Mushroom-Stroganoff-3-260x390.jpg\"/>"
            ],
            "text/plain": [
              "<IPython.core.display.Image object>"
            ]
          },
          "metadata": {}
        },
        {
          "output_type": "stream",
          "name": "stdout",
          "text": [
            "Lemon Blueberry Buttermilk Sheet Pan Pancakes\n"
          ]
        },
        {
          "output_type": "display_data",
          "data": {
            "text/html": [
              "<img src=\"https://www.skinnytaste.com/wp-content/uploads/2020/09/Lemon-Blueberry-Buttermilk-Sheet-Pancakes-2-260x390.jpg\"/>"
            ],
            "text/plain": [
              "<IPython.core.display.Image object>"
            ]
          },
          "metadata": {}
        },
        {
          "output_type": "stream",
          "name": "stdout",
          "text": [
            "Citrus Immunity Shots\n"
          ]
        },
        {
          "output_type": "display_data",
          "data": {
            "text/html": [
              "<img src=\"https://www.skinnytaste.com/wp-content/uploads/2020/09/Citrus-Immunity-Booster-6-260x390.jpg\"/>"
            ],
            "text/plain": [
              "<IPython.core.display.Image object>"
            ]
          },
          "metadata": {}
        },
        {
          "output_type": "stream",
          "name": "stdout",
          "text": [
            "Turkey Meatball Tortellini Soup with Spinach\n"
          ]
        },
        {
          "output_type": "display_data",
          "data": {
            "text/html": [
              "<img src=\"https://www.skinnytaste.com/wp-content/uploads/2014/02/Turkey-Meatball-Spinach-Tortellini-Soup-10-260x390.jpg\"/>"
            ],
            "text/plain": [
              "<IPython.core.display.Image object>"
            ]
          },
          "metadata": {}
        },
        {
          "output_type": "stream",
          "name": "stdout",
          "text": [
            "Roasted Seasoned Winter Squash Medley\n"
          ]
        },
        {
          "output_type": "display_data",
          "data": {
            "text/html": [
              "<img src=\"https://www.skinnytaste.com/wp-content/uploads/2015/10/RoastedWinterSquashMedley-260x390.jpg\"/>"
            ],
            "text/plain": [
              "<IPython.core.display.Image object>"
            ]
          },
          "metadata": {}
        },
        {
          "output_type": "stream",
          "name": "stdout",
          "text": [
            "Spicy Pork Brussels Bowls\n"
          ]
        },
        {
          "output_type": "display_data",
          "data": {
            "text/html": [
              "<img src=\"https://www.skinnytaste.com/wp-content/uploads/2020/09/Spicy-Pork-Brussels-Bowl_-3-260x390.jpg\"/>"
            ],
            "text/plain": [
              "<IPython.core.display.Image object>"
            ]
          },
          "metadata": {}
        },
        {
          "output_type": "stream",
          "name": "stdout",
          "text": [
            "Portobello Burger with Mozzarella and Pesto Mayo\n"
          ]
        },
        {
          "output_type": "display_data",
          "data": {
            "text/html": [
              "<img src=\"https://www.skinnytaste.com/wp-content/uploads/2020/09/Portobello-Mushroom-Burger-6-260x390.jpg\"/>"
            ],
            "text/plain": [
              "<IPython.core.display.Image object>"
            ]
          },
          "metadata": {}
        },
        {
          "output_type": "stream",
          "name": "stdout",
          "text": [
            "Dominican Beans (Habichuelas Guisadas)\n"
          ]
        },
        {
          "output_type": "display_data",
          "data": {
            "text/html": [
              "<img src=\"https://www.skinnytaste.com/wp-content/uploads/2020/09/Dominican-Beans-10-260x390.jpg\"/>"
            ],
            "text/plain": [
              "<IPython.core.display.Image object>"
            ]
          },
          "metadata": {}
        },
        {
          "output_type": "stream",
          "name": "stdout",
          "text": [
            "Sautéed Zucchini with Plum Tomatoes\n"
          ]
        },
        {
          "output_type": "display_data",
          "data": {
            "text/html": [
              "<img src=\"https://www.skinnytaste.com/wp-content/uploads/2009/08/Sautéed-Zucchini-and-Plum-Tomatoes-6-260x390.jpg\"/>"
            ],
            "text/plain": [
              "<IPython.core.display.Image object>"
            ]
          },
          "metadata": {}
        },
        {
          "output_type": "stream",
          "name": "stdout",
          "text": [
            "Peach Blueberry Crisp\n"
          ]
        },
        {
          "output_type": "display_data",
          "data": {
            "text/html": [
              "<img src=\"https://www.skinnytaste.com/wp-content/uploads/2009/08/Blueberry-Peach-Crisp-7-260x390.jpg\"/>"
            ],
            "text/plain": [
              "<IPython.core.display.Image object>"
            ]
          },
          "metadata": {}
        },
        {
          "output_type": "stream",
          "name": "stdout",
          "text": [
            "Whipped Ricotta Toast with Roasted Tomatoes\n"
          ]
        },
        {
          "output_type": "display_data",
          "data": {
            "text/html": [
              "<img src=\"https://www.skinnytaste.com/wp-content/uploads/2020/08/Whipped-Ricotta-Toast-10-260x390.jpg\"/>"
            ],
            "text/plain": [
              "<IPython.core.display.Image object>"
            ]
          },
          "metadata": {}
        },
        {
          "output_type": "stream",
          "name": "stdout",
          "text": [
            "Skillet Mexican Zucchini\n"
          ]
        },
        {
          "output_type": "display_data",
          "data": {
            "text/html": [
              "<img src=\"https://www.skinnytaste.com/wp-content/uploads/2013/08/Mexican-Skillet-Zucchini-260x390.jpg\"/>"
            ],
            "text/plain": [
              "<IPython.core.display.Image object>"
            ]
          },
          "metadata": {}
        },
        {
          "output_type": "stream",
          "name": "stdout",
          "text": [
            "Raspberry Yogurt Ice Pops\n"
          ]
        },
        {
          "output_type": "display_data",
          "data": {
            "text/html": [
              "<img src=\"https://www.skinnytaste.com/wp-content/uploads/2020/08/Raspberry-Yogurt-Pops-10-260x390.jpg\"/>"
            ],
            "text/plain": [
              "<IPython.core.display.Image object>"
            ]
          },
          "metadata": {}
        },
        {
          "output_type": "stream",
          "name": "stdout",
          "text": [
            "Cauliflower Gnocchi\n"
          ]
        },
        {
          "output_type": "display_data",
          "data": {
            "text/html": [
              "<img src=\"https://www.skinnytaste.com/wp-content/uploads/2020/08/Cauliflower-Gnocchi-11-260x390.jpg\"/>"
            ],
            "text/plain": [
              "<IPython.core.display.Image object>"
            ]
          },
          "metadata": {}
        },
        {
          "output_type": "stream",
          "name": "stdout",
          "text": [
            "Ratatouille Baked Chicken\n"
          ]
        },
        {
          "output_type": "display_data",
          "data": {
            "text/html": [
              "<img src=\"https://www.skinnytaste.com/wp-content/uploads/2020/03/Ratatouille-Baked-Chicken-5-260x390.jpg\"/>"
            ],
            "text/plain": [
              "<IPython.core.display.Image object>"
            ]
          },
          "metadata": {}
        },
        {
          "output_type": "stream",
          "name": "stdout",
          "text": [
            "Chocolate Zucchini Bread\n"
          ]
        },
        {
          "output_type": "display_data",
          "data": {
            "text/html": [
              "<img src=\"https://www.skinnytaste.com/wp-content/uploads/2009/08/Chocolate-Zucchini-Bread-7-260x390.jpg\"/>"
            ],
            "text/plain": [
              "<IPython.core.display.Image object>"
            ]
          },
          "metadata": {}
        },
        {
          "output_type": "stream",
          "name": "stdout",
          "text": [
            "Spaghetti with Chicken and Grape Tomatoes\n"
          ]
        },
        {
          "output_type": "display_data",
          "data": {
            "text/html": [
              "<img src=\"https://www.skinnytaste.com/wp-content/uploads/2009/08/Spaghetti-with-Sauteed-Chicken-and-Grape-Tomatoes-3-260x390.jpg\"/>"
            ],
            "text/plain": [
              "<IPython.core.display.Image object>"
            ]
          },
          "metadata": {}
        },
        {
          "output_type": "stream",
          "name": "stdout",
          "text": [
            "Easy Blueberry Buttermilk Cake\n"
          ]
        },
        {
          "output_type": "display_data",
          "data": {
            "text/html": [
              "<img src=\"https://www.skinnytaste.com/wp-content/uploads/2012/05/Easy-Blueberry-Buttermilk-Cake-6-260x390.jpg\"/>"
            ],
            "text/plain": [
              "<IPython.core.display.Image object>"
            ]
          },
          "metadata": {}
        },
        {
          "output_type": "stream",
          "name": "stdout",
          "text": [
            "Greek Turkey Burgers\n"
          ]
        },
        {
          "output_type": "display_data",
          "data": {
            "text/html": [
              "<img src=\"https://www.skinnytaste.com/wp-content/uploads/2020/07/Greek-Turkey-Burgers-6-260x390.jpg\"/>"
            ],
            "text/plain": [
              "<IPython.core.display.Image object>"
            ]
          },
          "metadata": {}
        },
        {
          "output_type": "stream",
          "name": "stdout",
          "text": [
            "Crustless Quiche Lorraine\n"
          ]
        },
        {
          "output_type": "display_data",
          "data": {
            "text/html": [
              "<img src=\"https://www.skinnytaste.com/wp-content/uploads/2020/07/Crustless-Quiche-Lorraine-9-260x390.jpg\"/>"
            ],
            "text/plain": [
              "<IPython.core.display.Image object>"
            ]
          },
          "metadata": {}
        },
        {
          "output_type": "stream",
          "name": "stdout",
          "text": [
            "Flourless Chocolate Zucchini Brownies\n"
          ]
        },
        {
          "output_type": "display_data",
          "data": {
            "text/html": [
              "<img src=\"https://www.skinnytaste.com/wp-content/uploads/2020/07/Flourless-Zucchini-Brownies-12-260x390.jpg\"/>"
            ],
            "text/plain": [
              "<IPython.core.display.Image object>"
            ]
          },
          "metadata": {}
        },
        {
          "output_type": "stream",
          "name": "stdout",
          "text": [
            "Foil Packet Spice Rubbed Fish with Watermelon Salsa\n"
          ]
        },
        {
          "output_type": "display_data",
          "data": {
            "text/html": [
              "<img src=\"https://www.skinnytaste.com/wp-content/uploads/2020/06/Foil-Packet-Spice-Rubbed-Fish-with-Watermelon-Salsa-9-260x390.jpg\"/>"
            ],
            "text/plain": [
              "<IPython.core.display.Image object>"
            ]
          },
          "metadata": {}
        },
        {
          "output_type": "stream",
          "name": "stdout",
          "text": [
            "Easy Crustless Spinach and Feta Pie\n"
          ]
        },
        {
          "output_type": "display_data",
          "data": {
            "text/html": [
              "<img src=\"https://www.skinnytaste.com/wp-content/uploads/2018/03/Easy-Crustless-Spinach-and-Feta-Pie-8-260x390.jpg\"/>"
            ],
            "text/plain": [
              "<IPython.core.display.Image object>"
            ]
          },
          "metadata": {}
        },
        {
          "output_type": "stream",
          "name": "stdout",
          "text": [
            "Air Fryer Fried Shrimp Sandwich with Tartar Sauce\n"
          ]
        },
        {
          "output_type": "display_data",
          "data": {
            "text/html": [
              "<img src=\"https://www.skinnytaste.com/wp-content/uploads/2020/07/Air-Fryer-Shrimp-Sandwich-9-260x390.jpg\"/>"
            ],
            "text/plain": [
              "<IPython.core.display.Image object>"
            ]
          },
          "metadata": {}
        },
        {
          "output_type": "stream",
          "name": "stdout",
          "text": [
            "Caramelized Onion, Red Pepper and Zucchini Frittata\n"
          ]
        },
        {
          "output_type": "display_data",
          "data": {
            "text/html": [
              "<img src=\"https://www.skinnytaste.com/wp-content/uploads/2012/03/Caramelized-Onion-Red-Pepper-and-Zucchini-Frittata-14-260x390.jpg\"/>"
            ],
            "text/plain": [
              "<IPython.core.display.Image object>"
            ]
          },
          "metadata": {}
        },
        {
          "output_type": "stream",
          "name": "stdout",
          "text": [
            "Salmon Croquettes with Dill Sauce\n"
          ]
        },
        {
          "output_type": "display_data",
          "data": {
            "text/html": [
              "<img src=\"https://www.skinnytaste.com/wp-content/uploads/2020/07/Salmon-Croquettes-6-260x390.jpg\"/>"
            ],
            "text/plain": [
              "<IPython.core.display.Image object>"
            ]
          },
          "metadata": {}
        },
        {
          "output_type": "stream",
          "name": "stdout",
          "text": [
            "Grilled Chicken with Spinach and Melted Mozzarella\n"
          ]
        },
        {
          "output_type": "display_data",
          "data": {
            "text/html": [
              "<img src=\"https://www.skinnytaste.com/wp-content/uploads/2011/03/Grilled-Chicken-with-Spinach-and-Melted-Mozzarella-10-260x390.jpg\"/>"
            ],
            "text/plain": [
              "<IPython.core.display.Image object>"
            ]
          },
          "metadata": {}
        },
        {
          "output_type": "stream",
          "name": "stdout",
          "text": [
            "Gnocchi with Grilled Chicken in Roasted Red Pepper Sauce\n"
          ]
        },
        {
          "output_type": "display_data",
          "data": {
            "text/html": [
              "<img src=\"https://www.skinnytaste.com/wp-content/uploads/2020/07/Gnocchi-with-Grilled-Chicken-and-Roasted-Red-Pepper-Sauce-15-260x390.jpg\"/>"
            ],
            "text/plain": [
              "<IPython.core.display.Image object>"
            ]
          },
          "metadata": {}
        },
        {
          "output_type": "stream",
          "name": "stdout",
          "text": [
            "The Best Baba Ganoush\n"
          ]
        },
        {
          "output_type": "display_data",
          "data": {
            "text/html": [
              "<img src=\"https://www.skinnytaste.com/wp-content/uploads/2020/07/Baba-Ghanoush-6-1-260x390.jpg\"/>"
            ],
            "text/plain": [
              "<IPython.core.display.Image object>"
            ]
          },
          "metadata": {}
        },
        {
          "output_type": "stream",
          "name": "stdout",
          "text": [
            "Stuffed Zucchini with Sausage\n"
          ]
        },
        {
          "output_type": "display_data",
          "data": {
            "text/html": [
              "<img src=\"https://www.skinnytaste.com/wp-content/uploads/2015/06/Sausage-stuffed-zucchini-boats-260x390.jpg\"/>"
            ],
            "text/plain": [
              "<IPython.core.display.Image object>"
            ]
          },
          "metadata": {}
        },
        {
          "output_type": "stream",
          "name": "stdout",
          "text": [
            "Vegetarian Black Bean Tacos\n"
          ]
        },
        {
          "output_type": "display_data",
          "data": {
            "text/html": [
              "<img src=\"https://www.skinnytaste.com/wp-content/uploads/2020/06/Crunchy-Black-Bean-Tacos-6-260x390.jpg\"/>"
            ],
            "text/plain": [
              "<IPython.core.display.Image object>"
            ]
          },
          "metadata": {}
        },
        {
          "output_type": "stream",
          "name": "stdout",
          "text": [
            "Grilled Chicken Kabobs with Cucumber Yogurt Sauce\n"
          ]
        },
        {
          "output_type": "display_data",
          "data": {
            "text/html": [
              "<img src=\"https://www.skinnytaste.com/wp-content/uploads/2020/06/Chicken-Kabobs-9-260x390.jpg\"/>"
            ],
            "text/plain": [
              "<IPython.core.display.Image object>"
            ]
          },
          "metadata": {}
        },
        {
          "output_type": "stream",
          "name": "stdout",
          "text": [
            "Beef and Broccoli Recipe\n"
          ]
        },
        {
          "output_type": "display_data",
          "data": {
            "text/html": [
              "<img src=\"https://www.skinnytaste.com/wp-content/uploads/2020/06/Beef-Broccoli-1-2-1-260x390.jpg\"/>"
            ],
            "text/plain": [
              "<IPython.core.display.Image object>"
            ]
          },
          "metadata": {}
        },
        {
          "output_type": "stream",
          "name": "stdout",
          "text": [
            "Grilled Crab Legs\n"
          ]
        },
        {
          "output_type": "display_data",
          "data": {
            "text/html": [
              "<img src=\"https://www.skinnytaste.com/wp-content/uploads/2020/06/Grilled-King-Crab-Legs-4-260x390.jpg\"/>"
            ],
            "text/plain": [
              "<IPython.core.display.Image object>"
            ]
          },
          "metadata": {}
        },
        {
          "output_type": "stream",
          "name": "stdout",
          "text": [
            "Zesty Lime Grilled Chicken with Pineapple Salsa\n"
          ]
        },
        {
          "output_type": "display_data",
          "data": {
            "text/html": [
              "<img src=\"https://www.skinnytaste.com/wp-content/uploads/2020/06/Healthyish-Foods-Grilled-Chicken-Paillard_-260x390.jpg\"/>"
            ],
            "text/plain": [
              "<IPython.core.display.Image object>"
            ]
          },
          "metadata": {}
        },
        {
          "output_type": "stream",
          "name": "stdout",
          "text": [
            "Jamaican Beef Patties\n"
          ]
        },
        {
          "output_type": "display_data",
          "data": {
            "text/html": [
              "<img src=\"https://www.skinnytaste.com/wp-content/uploads/2020/06/Jamaican-Beef-Patties-13-260x390.jpg\"/>"
            ],
            "text/plain": [
              "<IPython.core.display.Image object>"
            ]
          },
          "metadata": {}
        },
        {
          "output_type": "stream",
          "name": "stdout",
          "text": [
            "Boozy Watermelon Lime Granita\n"
          ]
        },
        {
          "output_type": "display_data",
          "data": {
            "text/html": [
              "<img src=\"https://www.skinnytaste.com/wp-content/uploads/2020/06/Boozy-Watermelon-Lime-Granita-6-260x390.jpg\"/>"
            ],
            "text/plain": [
              "<IPython.core.display.Image object>"
            ]
          },
          "metadata": {}
        },
        {
          "output_type": "stream",
          "name": "stdout",
          "text": [
            "Omelet Tortilla Breakfast Wrap\n"
          ]
        },
        {
          "output_type": "display_data",
          "data": {
            "text/html": [
              "<img src=\"https://www.skinnytaste.com/wp-content/uploads/2020/06/Spinach-and-Mushroom-Omelet-Wrap-1-260x390.jpg\"/>"
            ],
            "text/plain": [
              "<IPython.core.display.Image object>"
            ]
          },
          "metadata": {}
        },
        {
          "output_type": "stream",
          "name": "stdout",
          "text": [
            "Margherita Pizza\n"
          ]
        },
        {
          "output_type": "display_data",
          "data": {
            "text/html": [
              "<img src=\"https://www.skinnytaste.com/wp-content/uploads/2020/05/Margherita-Pizza-1-4-260x390.jpg\"/>"
            ],
            "text/plain": [
              "<IPython.core.display.Image object>"
            ]
          },
          "metadata": {}
        },
        {
          "output_type": "stream",
          "name": "stdout",
          "text": [
            "Banana Pancake Cereal\n"
          ]
        },
        {
          "output_type": "display_data",
          "data": {
            "text/html": [
              "<img src=\"https://www.skinnytaste.com/wp-content/uploads/2020/05/Healthy-Pancake-Cereal-5-260x390.jpg\"/>"
            ],
            "text/plain": [
              "<IPython.core.display.Image object>"
            ]
          },
          "metadata": {}
        },
        {
          "output_type": "stream",
          "name": "stdout",
          "text": [
            "Turkey Club\n"
          ]
        },
        {
          "output_type": "display_data",
          "data": {
            "text/html": [
              "<img src=\"https://www.skinnytaste.com/wp-content/uploads/2020/05/Turkey-Club-Sandwich-9-260x390.jpg\"/>"
            ],
            "text/plain": [
              "<IPython.core.display.Image object>"
            ]
          },
          "metadata": {}
        },
        {
          "output_type": "stream",
          "name": "stdout",
          "text": [
            "Tuna Noodle Casserole\n"
          ]
        },
        {
          "output_type": "display_data",
          "data": {
            "text/html": [
              "<img src=\"https://www.skinnytaste.com/wp-content/uploads/2013/10/Tuna-Noodle-Casserole-7-260x390.jpg\"/>"
            ],
            "text/plain": [
              "<IPython.core.display.Image object>"
            ]
          },
          "metadata": {}
        },
        {
          "output_type": "stream",
          "name": "stdout",
          "text": [
            "Clam Chowder Lightened Up\n"
          ]
        },
        {
          "output_type": "display_data",
          "data": {
            "text/html": [
              "<img src=\"https://www.skinnytaste.com/wp-content/uploads/2009/08/Clam-Chowder-7-260x390.jpg\"/>"
            ],
            "text/plain": [
              "<IPython.core.display.Image object>"
            ]
          },
          "metadata": {}
        },
        {
          "output_type": "stream",
          "name": "stdout",
          "text": [
            "Avocado Mango Salsa\n"
          ]
        },
        {
          "output_type": "display_data",
          "data": {
            "text/html": [
              "<img src=\"https://www.skinnytaste.com/wp-content/uploads/2010/02/Avocado-_-Mango-Salsa-9-260x390.jpg\"/>"
            ],
            "text/plain": [
              "<IPython.core.display.Image object>"
            ]
          },
          "metadata": {}
        },
        {
          "output_type": "stream",
          "name": "stdout",
          "text": [
            "BBQ Chicken Foil Packets\n"
          ]
        },
        {
          "output_type": "display_data",
          "data": {
            "text/html": [
              "<img src=\"https://www.skinnytaste.com/wp-content/uploads/2020/05/BBQ-Chicken-Foil-Packets-10-260x390.jpg\"/>"
            ],
            "text/plain": [
              "<IPython.core.display.Image object>"
            ]
          },
          "metadata": {}
        },
        {
          "output_type": "stream",
          "name": "stdout",
          "text": [
            "Open-Faced Tuna Melt Sandwich Recipe\n"
          ]
        },
        {
          "output_type": "display_data",
          "data": {
            "text/html": [
              "<img src=\"https://www.skinnytaste.com/wp-content/uploads/2010/08/Skinny-Tuna-Melt-6-260x390.jpg\"/>"
            ],
            "text/plain": [
              "<IPython.core.display.Image object>"
            ]
          },
          "metadata": {}
        },
        {
          "output_type": "stream",
          "name": "stdout",
          "text": [
            "Carne Guisada (Latin Beef Stew)\n"
          ]
        },
        {
          "output_type": "display_data",
          "data": {
            "text/html": [
              "<img src=\"https://www.skinnytaste.com/wp-content/uploads/2011/11/Carne-Guisada-Latin-Beef-Stew-7-260x390.jpg\"/>"
            ],
            "text/plain": [
              "<IPython.core.display.Image object>"
            ]
          },
          "metadata": {}
        },
        {
          "output_type": "stream",
          "name": "stdout",
          "text": [
            "Superfood Triple Berry Chia Pudding\n"
          ]
        },
        {
          "output_type": "display_data",
          "data": {
            "text/html": [
              "<img src=\"https://www.skinnytaste.com/wp-content/uploads/2013/05/superfood-triple-berry-chia-pudding-260x390.jpg\"/>"
            ],
            "text/plain": [
              "<IPython.core.display.Image object>"
            ]
          },
          "metadata": {}
        },
        {
          "output_type": "stream",
          "name": "stdout",
          "text": [
            "Paprika Chicken Stew\n"
          ]
        },
        {
          "output_type": "display_data",
          "data": {
            "text/html": [
              "<img src=\"https://www.skinnytaste.com/wp-content/uploads/2020/04/Paprika-Chicken-Stew-9-260x390.jpg\"/>"
            ],
            "text/plain": [
              "<IPython.core.display.Image object>"
            ]
          },
          "metadata": {}
        },
        {
          "output_type": "stream",
          "name": "stdout",
          "text": [
            "Weeknight Seafood Paella\n"
          ]
        },
        {
          "output_type": "display_data",
          "data": {
            "text/html": [
              "<img src=\"https://www.skinnytaste.com/wp-content/uploads/2020/05/Weeknight-Paella-6-260x390.jpg\"/>"
            ],
            "text/plain": [
              "<IPython.core.display.Image object>"
            ]
          },
          "metadata": {}
        },
        {
          "output_type": "stream",
          "name": "stdout",
          "text": [
            "Skinny Hummingbird Cupcakes\n"
          ]
        },
        {
          "output_type": "display_data",
          "data": {
            "text/html": [
              "<img src=\"https://www.skinnytaste.com/wp-content/uploads/2012/05/Skinny-Hummingbird-Cupcakes-5-260x390.jpg\"/>"
            ],
            "text/plain": [
              "<IPython.core.display.Image object>"
            ]
          },
          "metadata": {}
        },
        {
          "output_type": "stream",
          "name": "stdout",
          "text": [
            "Eggplant Sticks (Baked or Air Fryer)\n"
          ]
        },
        {
          "output_type": "display_data",
          "data": {
            "text/html": [
              "<img src=\"https://www.skinnytaste.com/wp-content/uploads/2013/07/Baked-Eggplant-Sticks-8-260x390.jpg\"/>"
            ],
            "text/plain": [
              "<IPython.core.display.Image object>"
            ]
          },
          "metadata": {}
        },
        {
          "output_type": "stream",
          "name": "stdout",
          "text": [
            "Spinach and Quinoa Patties\n"
          ]
        },
        {
          "output_type": "display_data",
          "data": {
            "text/html": [
              "<img src=\"https://www.skinnytaste.com/wp-content/uploads/2013/06/Quinoa-and-Spinach-Patties-6-260x390.jpg\"/>"
            ],
            "text/plain": [
              "<IPython.core.display.Image object>"
            ]
          },
          "metadata": {}
        },
        {
          "output_type": "stream",
          "name": "stdout",
          "text": [
            "Tuna Salad Endive Wraps\n"
          ]
        },
        {
          "output_type": "display_data",
          "data": {
            "text/html": [
              "<img src=\"https://www.skinnytaste.com/wp-content/uploads/2008/12/Tuna-Salad-Endive-Wraps-7-260x390.jpg\"/>"
            ],
            "text/plain": [
              "<IPython.core.display.Image object>"
            ]
          },
          "metadata": {}
        },
        {
          "output_type": "stream",
          "name": "stdout",
          "text": [
            "Lightened Up Blueberry Scones\n"
          ]
        },
        {
          "output_type": "display_data",
          "data": {
            "text/html": [
              "<img src=\"https://www.skinnytaste.com/wp-content/uploads/2008/12/Blueberry-Scones-3-260x390.jpg\"/>"
            ],
            "text/plain": [
              "<IPython.core.display.Image object>"
            ]
          },
          "metadata": {}
        },
        {
          "output_type": "stream",
          "name": "stdout",
          "text": [
            "Homemade Rice Pilaf (healthy rice-a-roni)\n"
          ]
        },
        {
          "output_type": "display_data",
          "data": {
            "text/html": [
              "<img src=\"https://www.skinnytaste.com/wp-content/uploads/2020/04/Brown-Rice-Pilaf-7-260x390.jpg\"/>"
            ],
            "text/plain": [
              "<IPython.core.display.Image object>"
            ]
          },
          "metadata": {}
        },
        {
          "output_type": "stream",
          "name": "stdout",
          "text": [
            "Sheet Pan Turkey Meatloaf and Broccoli\n"
          ]
        },
        {
          "output_type": "display_data",
          "data": {
            "text/html": [
              "<img src=\"https://www.skinnytaste.com/wp-content/uploads/2020/04/Sheet-Pan-Turkey-Meatloaf-and-Broccoli-8-260x390.jpg\"/>"
            ],
            "text/plain": [
              "<IPython.core.display.Image object>"
            ]
          },
          "metadata": {}
        },
        {
          "output_type": "stream",
          "name": "stdout",
          "text": [
            "Instant Pot Cilantro Lime Rice\n"
          ]
        },
        {
          "output_type": "display_data",
          "data": {
            "text/html": [
              "<img src=\"https://www.skinnytaste.com/wp-content/uploads/2009/03/Cilantro-Lime-Rice-7-260x390.jpg\"/>"
            ],
            "text/plain": [
              "<IPython.core.display.Image object>"
            ]
          },
          "metadata": {}
        },
        {
          "output_type": "stream",
          "name": "stdout",
          "text": [
            "Instant Pot Refried Beans\n"
          ]
        },
        {
          "output_type": "display_data",
          "data": {
            "text/html": [
              "<img src=\"https://www.skinnytaste.com/wp-content/uploads/2018/10/Instant-Pot-Not-Fried-Pinto-Beans-Finals-9-260x390.jpg\"/>"
            ],
            "text/plain": [
              "<IPython.core.display.Image object>"
            ]
          },
          "metadata": {}
        },
        {
          "output_type": "stream",
          "name": "stdout",
          "text": [
            "Healthy Baked Macaroni and Cheese\n"
          ]
        },
        {
          "output_type": "display_data",
          "data": {
            "text/html": [
              "<img src=\"https://www.skinnytaste.com/wp-content/uploads/2020/04/Lighter-Baked-Macaroni-and-Cheese-9-260x390.jpg\"/>"
            ],
            "text/plain": [
              "<IPython.core.display.Image object>"
            ]
          },
          "metadata": {}
        },
        {
          "output_type": "stream",
          "name": "stdout",
          "text": [
            "Air Fryer Chicken Tenders\n"
          ]
        },
        {
          "output_type": "display_data",
          "data": {
            "text/html": [
              "<img src=\"https://www.skinnytaste.com/wp-content/uploads/2020/04/Crispy-Air-Fryer-Chicken-Tenders-4-260x390.jpg\"/>"
            ],
            "text/plain": [
              "<IPython.core.display.Image object>"
            ]
          },
          "metadata": {}
        },
        {
          "output_type": "stream",
          "name": "stdout",
          "text": [
            "Orzo with Zucchini and Tomato\n"
          ]
        },
        {
          "output_type": "display_data",
          "data": {
            "text/html": [
              "<img src=\"https://www.skinnytaste.com/wp-content/uploads/2020/04/Orzo-with-Zucchini-and-Tomato-5-260x390.jpg\"/>"
            ],
            "text/plain": [
              "<IPython.core.display.Image object>"
            ]
          },
          "metadata": {}
        },
        {
          "output_type": "stream",
          "name": "stdout",
          "text": [
            "Tropical Mango Blueberry Lassi\n"
          ]
        },
        {
          "output_type": "display_data",
          "data": {
            "text/html": [
              "<img src=\"https://www.skinnytaste.com/wp-content/uploads/2020/04/Tropical-Lassi-5-260x390.jpg\"/>"
            ],
            "text/plain": [
              "<IPython.core.display.Image object>"
            ]
          },
          "metadata": {}
        },
        {
          "output_type": "stream",
          "name": "stdout",
          "text": [
            "Egg Tomato and Scallion Sandwich\n"
          ]
        },
        {
          "output_type": "display_data",
          "data": {
            "text/html": [
              "<img src=\"https://www.skinnytaste.com/wp-content/uploads/2014/04/egg-scallion-and-tomato-sandwich-260x390.jpg\"/>"
            ],
            "text/plain": [
              "<IPython.core.display.Image object>"
            ]
          },
          "metadata": {}
        },
        {
          "output_type": "stream",
          "name": "stdout",
          "text": [
            "Skillet Mixed Berry Buttermilk Cobbler\n"
          ]
        },
        {
          "output_type": "display_data",
          "data": {
            "text/html": [
              "<img src=\"https://www.skinnytaste.com/wp-content/uploads/2020/04/Skillet-Mixed-Berry-Buttermilk-Cobbler-6-260x390.jpg\"/>"
            ],
            "text/plain": [
              "<IPython.core.display.Image object>"
            ]
          },
          "metadata": {}
        },
        {
          "output_type": "stream",
          "name": "stdout",
          "text": [
            "Hot Cross Buns\n"
          ]
        },
        {
          "output_type": "display_data",
          "data": {
            "text/html": [
              "<img src=\"https://www.skinnytaste.com/wp-content/uploads/2018/03/hot-cross-buns-1-5-260x390.jpg\"/>"
            ],
            "text/plain": [
              "<IPython.core.display.Image object>"
            ]
          },
          "metadata": {}
        },
        {
          "output_type": "stream",
          "name": "stdout",
          "text": [
            "Lebanese Lentil Soup\n"
          ]
        },
        {
          "output_type": "display_data",
          "data": {
            "text/html": [
              "<img src=\"https://www.skinnytaste.com/wp-content/uploads/2020/04/Lebanese-Lentil-Soup-1-3-260x390.jpg\"/>"
            ],
            "text/plain": [
              "<IPython.core.display.Image object>"
            ]
          },
          "metadata": {}
        },
        {
          "output_type": "stream",
          "name": "stdout",
          "text": [
            "Baked Rice and Peas\n"
          ]
        },
        {
          "output_type": "display_data",
          "data": {
            "text/html": [
              "<img src=\"https://www.skinnytaste.com/wp-content/uploads/2010/12/Baked-Rice-and-Peas-6-2-260x390.jpg\"/>"
            ],
            "text/plain": [
              "<IPython.core.display.Image object>"
            ]
          },
          "metadata": {}
        },
        {
          "output_type": "stream",
          "name": "stdout",
          "text": [
            "Banana Bread Muffin in a Mug\n"
          ]
        },
        {
          "output_type": "display_data",
          "data": {
            "text/html": [
              "<img src=\"https://www.skinnytaste.com/wp-content/uploads/2020/04/Banana-Bread-Muffin-in-a-Mug-9-260x390.jpg\"/>"
            ],
            "text/plain": [
              "<IPython.core.display.Image object>"
            ]
          },
          "metadata": {}
        },
        {
          "output_type": "stream",
          "name": "stdout",
          "text": [
            "Kale and Butternut Squash Salad with Pears and Almonds\n"
          ]
        },
        {
          "output_type": "display_data",
          "data": {
            "text/html": [
              "<img src=\"https://www.skinnytaste.com/wp-content/uploads/2020/03/Sweetgreen-Winter-Squash-Salad-3-260x390.jpg\"/>"
            ],
            "text/plain": [
              "<IPython.core.display.Image object>"
            ]
          },
          "metadata": {}
        },
        {
          "output_type": "stream",
          "name": "stdout",
          "text": [
            "Warm Curry Roasted Sheet Pan Vegetable Salad\n"
          ]
        },
        {
          "output_type": "display_data",
          "data": {
            "text/html": [
              "<img src=\"https://www.skinnytaste.com/wp-content/uploads/2020/03/Warm-Curry-Roasted-Vegetable-Salad-3-260x390.jpg\"/>"
            ],
            "text/plain": [
              "<IPython.core.display.Image object>"
            ]
          },
          "metadata": {}
        },
        {
          "output_type": "stream",
          "name": "stdout",
          "text": [
            "Instant Pot Spaghetti and Turkey Meatballs\n"
          ]
        },
        {
          "output_type": "display_data",
          "data": {
            "text/html": [
              "<img src=\"https://www.skinnytaste.com/wp-content/uploads/2020/03/Whole-Wheat-Spaghetti-9-260x390.jpg\"/>"
            ],
            "text/plain": [
              "<IPython.core.display.Image object>"
            ]
          },
          "metadata": {}
        },
        {
          "output_type": "stream",
          "name": "stdout",
          "text": [
            "Harissa Shrimp and Chickpeas\n"
          ]
        },
        {
          "output_type": "display_data",
          "data": {
            "text/html": [
              "<img src=\"https://www.skinnytaste.com/wp-content/uploads/2020/03/Harissa-Shrimp-and-Chickpeas-7-260x390.jpg\"/>"
            ],
            "text/plain": [
              "<IPython.core.display.Image object>"
            ]
          },
          "metadata": {}
        },
        {
          "output_type": "stream",
          "name": "stdout",
          "text": [
            "Baby Pasta Shells with Asparagus and Marinara Sauce\n"
          ]
        },
        {
          "output_type": "display_data",
          "data": {
            "text/html": [
              "<img src=\"https://www.skinnytaste.com/wp-content/uploads/2011/04/Baby-Pasta-Shells-with-Asparagus-and-Marinara-Sauce-7-260x390.jpg\"/>"
            ],
            "text/plain": [
              "<IPython.core.display.Image object>"
            ]
          },
          "metadata": {}
        },
        {
          "output_type": "stream",
          "name": "stdout",
          "text": [
            "Green Apple Lemon Cucumber Ginger Smoothie\n"
          ]
        },
        {
          "output_type": "display_data",
          "data": {
            "text/html": [
              "<img src=\"https://www.skinnytaste.com/wp-content/uploads/2020/03/Green-Apple-Lemon-Cucumber-Ginger-Smoothie-6-260x390.jpg\"/>"
            ],
            "text/plain": [
              "<IPython.core.display.Image object>"
            ]
          },
          "metadata": {}
        },
        {
          "output_type": "stream",
          "name": "stdout",
          "text": [
            "Za’atar Roasted Carrot and Chickpea Yogurt Bowls\n"
          ]
        },
        {
          "output_type": "display_data",
          "data": {
            "text/html": [
              "<img src=\"https://www.skinnytaste.com/wp-content/uploads/2020/03/Za_atar-Roasted-Carrots-and-Chickpea-Yogurt-Bowls-4-260x390.jpg\"/>"
            ],
            "text/plain": [
              "<IPython.core.display.Image object>"
            ]
          },
          "metadata": {}
        },
        {
          "output_type": "stream",
          "name": "stdout",
          "text": [
            "Broiled Tilapia with Thai Coconut Curry Sauce\n"
          ]
        },
        {
          "output_type": "display_data",
          "data": {
            "text/html": [
              "<img src=\"https://www.skinnytaste.com/wp-content/uploads/2010/04/Broiled-Tilapia-with-Thai-Coconut-Curry-7-260x390.jpg\"/>"
            ],
            "text/plain": [
              "<IPython.core.display.Image object>"
            ]
          },
          "metadata": {}
        },
        {
          "output_type": "stream",
          "name": "stdout",
          "text": [
            "Soba Noodle Veggie Stir Fry\n"
          ]
        },
        {
          "output_type": "display_data",
          "data": {
            "text/html": [
              "<img src=\"https://www.skinnytaste.com/wp-content/uploads/2020/03/Soba-Noodle-Veggie-Stir-Fry-6-260x390.jpg\"/>"
            ],
            "text/plain": [
              "<IPython.core.display.Image object>"
            ]
          },
          "metadata": {}
        },
        {
          "output_type": "stream",
          "name": "stdout",
          "text": [
            "Chipotle’s Cilantro Lime Rice\n"
          ]
        },
        {
          "output_type": "display_data",
          "data": {
            "text/html": [
              "<img src=\"https://www.skinnytaste.com/wp-content/uploads/2009/03/Cilantro-Lime-Rice-5-260x390.jpg\"/>"
            ],
            "text/plain": [
              "<IPython.core.display.Image object>"
            ]
          },
          "metadata": {}
        },
        {
          "output_type": "stream",
          "name": "stdout",
          "text": [
            "Creamy Shrimp and Celery Salad\n"
          ]
        },
        {
          "output_type": "display_data",
          "data": {
            "text/html": [
              "<img src=\"https://www.skinnytaste.com/wp-content/uploads/2008/07/Creamy-Shrimp-and-Celery-Salad-6-260x390.jpg\"/>"
            ],
            "text/plain": [
              "<IPython.core.display.Image object>"
            ]
          },
          "metadata": {}
        },
        {
          "output_type": "stream",
          "name": "stdout",
          "text": [
            "Chorizo Breakfast Bowls\n"
          ]
        },
        {
          "output_type": "display_data",
          "data": {
            "text/html": [
              "<img src=\"https://www.skinnytaste.com/wp-content/uploads/2020/03/Chorizo-Breakfast-Bowls-7-260x390.jpg\"/>"
            ],
            "text/plain": [
              "<IPython.core.display.Image object>"
            ]
          },
          "metadata": {}
        },
        {
          "output_type": "stream",
          "name": "stdout",
          "text": [
            "Spring Asparagus Risotto\n"
          ]
        },
        {
          "output_type": "display_data",
          "data": {
            "text/html": [
              "<img src=\"https://www.skinnytaste.com/wp-content/uploads/2013/03/Spring-Asparagus-Risotto-7-260x390.jpg\"/>"
            ],
            "text/plain": [
              "<IPython.core.display.Image object>"
            ]
          },
          "metadata": {}
        },
        {
          "output_type": "stream",
          "name": "stdout",
          "text": [
            "Healthy Cod Fish Tacos\n"
          ]
        },
        {
          "output_type": "display_data",
          "data": {
            "text/html": [
              "<img src=\"https://www.skinnytaste.com/wp-content/uploads/2020/02/Cod-Fish-Tacos-7-260x390.jpg\"/>"
            ],
            "text/plain": [
              "<IPython.core.display.Image object>"
            ]
          },
          "metadata": {}
        },
        {
          "output_type": "stream",
          "name": "stdout",
          "text": [
            "Air Fryer Falafel\n"
          ]
        },
        {
          "output_type": "display_data",
          "data": {
            "text/html": [
              "<img src=\"https://www.skinnytaste.com/wp-content/uploads/2020/02/Air-Fryer-Falafel-6-260x390.jpg\"/>"
            ],
            "text/plain": [
              "<IPython.core.display.Image object>"
            ]
          },
          "metadata": {}
        },
        {
          "output_type": "stream",
          "name": "stdout",
          "text": [
            "Kung Pao Tofu\n"
          ]
        },
        {
          "output_type": "display_data",
          "data": {
            "text/html": [
              "<img src=\"https://www.skinnytaste.com/wp-content/uploads/2020/02/Kung-Pao-Tofu-7-260x390.jpg\"/>"
            ],
            "text/plain": [
              "<IPython.core.display.Image object>"
            ]
          },
          "metadata": {}
        },
        {
          "output_type": "stream",
          "name": "stdout",
          "text": [
            "Sesame Encrusted Chicken Tenders\n"
          ]
        },
        {
          "output_type": "display_data",
          "data": {
            "text/html": [
              "<img src=\"https://www.skinnytaste.com/wp-content/uploads/2011/08/Sesame-Encrusted-Baked-Chicken-Tenders-4-260x390.jpg\"/>"
            ],
            "text/plain": [
              "<IPython.core.display.Image object>"
            ]
          },
          "metadata": {}
        },
        {
          "output_type": "stream",
          "name": "stdout",
          "text": [
            "Spicy Shrimp Fried Rice\n"
          ]
        },
        {
          "output_type": "display_data",
          "data": {
            "text/html": [
              "<img src=\"https://www.skinnytaste.com/wp-content/uploads/2009/06/Spicy-Shrimp-Fried-Rice-4-260x390.jpg\"/>"
            ],
            "text/plain": [
              "<IPython.core.display.Image object>"
            ]
          },
          "metadata": {}
        },
        {
          "output_type": "stream",
          "name": "stdout",
          "text": [
            "Chocolate Pistachio Biscotti\n"
          ]
        },
        {
          "output_type": "display_data",
          "data": {
            "text/html": [
              "<img src=\"https://www.skinnytaste.com/wp-content/uploads/2011/02/chocolate-pistachio-biscotti-260x378.jpg\"/>"
            ],
            "text/plain": [
              "<IPython.core.display.Image object>"
            ]
          },
          "metadata": {}
        },
        {
          "output_type": "stream",
          "name": "stdout",
          "text": [
            "Crock Pot Chicken Taco Chili Recipe\n"
          ]
        },
        {
          "output_type": "display_data",
          "data": {
            "text/html": [
              "<img src=\"https://www.skinnytaste.com/wp-content/uploads/2008/11/crockpot-chicken-taco-chili-8-260x390.jpg\"/>"
            ],
            "text/plain": [
              "<IPython.core.display.Image object>"
            ]
          },
          "metadata": {}
        },
        {
          "output_type": "stream",
          "name": "stdout",
          "text": [
            "Cheesy Turkey Meatball Skillet\n"
          ]
        },
        {
          "output_type": "display_data",
          "data": {
            "text/html": [
              "<img src=\"https://www.skinnytaste.com/wp-content/uploads/2020/02/Cheesy-Turkey-Meatball-Skillet-9-260x390.jpg\"/>"
            ],
            "text/plain": [
              "<IPython.core.display.Image object>"
            ]
          },
          "metadata": {}
        },
        {
          "output_type": "stream",
          "name": "stdout",
          "text": [
            "Chicken Barley Soup\n"
          ]
        },
        {
          "output_type": "display_data",
          "data": {
            "text/html": [
              "<img src=\"https://www.skinnytaste.com/wp-content/uploads/2015/02/Chicken-Barley-Soup-2-2-260x390.jpg\"/>"
            ],
            "text/plain": [
              "<IPython.core.display.Image object>"
            ]
          },
          "metadata": {}
        },
        {
          "output_type": "stream",
          "name": "stdout",
          "text": [
            "Whole Roasted Baby Cauliflower\n"
          ]
        },
        {
          "output_type": "display_data",
          "data": {
            "text/html": [
              "<img src=\"https://www.skinnytaste.com/wp-content/uploads/2020/02/Whole-Roasted-Baby-Cauliflower-4-260x390.jpg\"/>"
            ],
            "text/plain": [
              "<IPython.core.display.Image object>"
            ]
          },
          "metadata": {}
        },
        {
          "output_type": "stream",
          "name": "stdout",
          "text": [
            "Air Fryer Bacon-Burger Bites\n"
          ]
        },
        {
          "output_type": "display_data",
          "data": {
            "text/html": [
              "<img src=\"https://www.skinnytaste.com/wp-content/uploads/2020/01/Air-Fryer-Burger-Bites-5-260x390.jpg\"/>"
            ],
            "text/plain": [
              "<IPython.core.display.Image object>"
            ]
          },
          "metadata": {}
        },
        {
          "output_type": "stream",
          "name": "stdout",
          "text": [
            "Pasta with Italian Chicken Sausage, Escarole and Beans\n"
          ]
        },
        {
          "output_type": "display_data",
          "data": {
            "text/html": [
              "<img src=\"https://www.skinnytaste.com/wp-content/uploads/2012/01/Pasta-with-Italian-Chicken-Sausage-7-260x390.jpg\"/>"
            ],
            "text/plain": [
              "<IPython.core.display.Image object>"
            ]
          },
          "metadata": {}
        },
        {
          "output_type": "stream",
          "name": "stdout",
          "text": [
            "Swedish Meatballs\n"
          ]
        },
        {
          "output_type": "display_data",
          "data": {
            "text/html": [
              "<img src=\"https://www.skinnytaste.com/wp-content/uploads/2011/05/Swedish-Meatballs-5-260x390.jpg\"/>"
            ],
            "text/plain": [
              "<IPython.core.display.Image object>"
            ]
          },
          "metadata": {}
        },
        {
          "output_type": "stream",
          "name": "stdout",
          "text": [
            "Mixed Baby Greens with Pomegranate, Gorgonzola and Pecans\n"
          ]
        },
        {
          "output_type": "display_data",
          "data": {
            "text/html": [
              "<img src=\"https://www.skinnytaste.com/wp-content/uploads/2008/11/Mixed-Baby-Greens-with-Pecans-5-260x390.jpg\"/>"
            ],
            "text/plain": [
              "<IPython.core.display.Image object>"
            ]
          },
          "metadata": {}
        },
        {
          "output_type": "stream",
          "name": "stdout",
          "text": [
            "Easy Wonton Soup\n"
          ]
        },
        {
          "output_type": "display_data",
          "data": {
            "text/html": [
              "<img src=\"https://www.skinnytaste.com/wp-content/uploads/2020/01/Wonton-Soup-7-260x390.jpg\"/>"
            ],
            "text/plain": [
              "<IPython.core.display.Image object>"
            ]
          },
          "metadata": {}
        },
        {
          "output_type": "stream",
          "name": "stdout",
          "text": [
            "French Onion Soup\n"
          ]
        },
        {
          "output_type": "display_data",
          "data": {
            "text/html": [
              "<img src=\"https://www.skinnytaste.com/wp-content/uploads/2009/11/French-Onion-Soup-11-260x390.jpg\"/>"
            ],
            "text/plain": [
              "<IPython.core.display.Image object>"
            ]
          },
          "metadata": {}
        },
        {
          "output_type": "stream",
          "name": "stdout",
          "text": [
            "Kielbasa Veggie Sheet Pan Dinner\n"
          ]
        },
        {
          "output_type": "display_data",
          "data": {
            "text/html": [
              "<img src=\"https://www.skinnytaste.com/wp-content/uploads/2020/01/Kielbasa-Sheetpan-Dinner-9-260x390.jpg\"/>"
            ],
            "text/plain": [
              "<IPython.core.display.Image object>"
            ]
          },
          "metadata": {}
        },
        {
          "output_type": "stream",
          "name": "stdout",
          "text": [
            "Low-Carb Turkey Taco Stuffed Avocados\n"
          ]
        },
        {
          "output_type": "display_data",
          "data": {
            "text/html": [
              "<img src=\"https://www.skinnytaste.com/wp-content/uploads/2020/01/Turkey-Taco-Stuffed-Avocados-5931-260x390.jpg\"/>"
            ],
            "text/plain": [
              "<IPython.core.display.Image object>"
            ]
          },
          "metadata": {}
        },
        {
          "output_type": "stream",
          "name": "stdout",
          "text": [
            "Vegetarian Enchiladas with Butternut Squash and Black Beans\n"
          ]
        },
        {
          "output_type": "display_data",
          "data": {
            "text/html": [
              "<img src=\"https://www.skinnytaste.com/wp-content/uploads/2013/11/Vegetarian-Enchiladas-20-260x390.jpg\"/>"
            ],
            "text/plain": [
              "<IPython.core.display.Image object>"
            ]
          },
          "metadata": {}
        },
        {
          "output_type": "stream",
          "name": "stdout",
          "text": [
            "Asian Glazed Drumsticks\n"
          ]
        },
        {
          "output_type": "display_data",
          "data": {
            "text/html": [
              "<img src=\"https://www.skinnytaste.com/wp-content/uploads/2010/07/Asian-Glazed-Drumsticks-7-1-260x390.jpg\"/>"
            ],
            "text/plain": [
              "<IPython.core.display.Image object>"
            ]
          },
          "metadata": {}
        },
        {
          "output_type": "stream",
          "name": "stdout",
          "text": [
            "Italian Beef and Spinach Meatballs\n"
          ]
        },
        {
          "output_type": "display_data",
          "data": {
            "text/html": [
              "<img src=\"https://www.skinnytaste.com/wp-content/uploads/2010/06/Italian-Spinach-and-Beef-Meatballs-9-260x390.jpg\"/>"
            ],
            "text/plain": [
              "<IPython.core.display.Image object>"
            ]
          },
          "metadata": {}
        },
        {
          "output_type": "stream",
          "name": "stdout",
          "text": [
            "Lemon-Chili Shrimp Quinoa Bowls\n"
          ]
        },
        {
          "output_type": "display_data",
          "data": {
            "text/html": [
              "<img src=\"https://www.skinnytaste.com/wp-content/uploads/2019/12/Lemon-Shrimp-Quinoa-Bowls-7-260x390.jpg\"/>"
            ],
            "text/plain": [
              "<IPython.core.display.Image object>"
            ]
          },
          "metadata": {}
        },
        {
          "output_type": "stream",
          "name": "stdout",
          "text": [
            "Greek Chicken Meal Prep Rice Bowls\n"
          ]
        },
        {
          "output_type": "display_data",
          "data": {
            "text/html": [
              "<img src=\"https://www.skinnytaste.com/wp-content/uploads/2020/01/Greek-Chicken-Meal-Prep-4-260x390.jpg\"/>"
            ],
            "text/plain": [
              "<IPython.core.display.Image object>"
            ]
          },
          "metadata": {}
        },
        {
          "output_type": "stream",
          "name": "stdout",
          "text": [
            "Changua (Colombian Milk and Egg Soup)\n"
          ]
        },
        {
          "output_type": "display_data",
          "data": {
            "text/html": [
              "<img src=\"https://www.skinnytaste.com/wp-content/uploads/2019/12/Changua-6-260x390.jpg\"/>"
            ],
            "text/plain": [
              "<IPython.core.display.Image object>"
            ]
          },
          "metadata": {}
        },
        {
          "output_type": "stream",
          "name": "stdout",
          "text": [
            "Coconut Broth Clams with Lemongrass\n"
          ]
        },
        {
          "output_type": "display_data",
          "data": {
            "text/html": [
              "<img src=\"https://www.skinnytaste.com/wp-content/uploads/2019/12/Coconut-Broth-Clams-6-260x390.jpg\"/>"
            ],
            "text/plain": [
              "<IPython.core.display.Image object>"
            ]
          },
          "metadata": {}
        },
        {
          "output_type": "stream",
          "name": "stdout",
          "text": [
            "Chocolate Chip Cloud Cookies\n"
          ]
        },
        {
          "output_type": "display_data",
          "data": {
            "text/html": [
              "<img src=\"https://www.skinnytaste.com/wp-content/uploads/2013/12/Chocolate-Chip-Clouds-10-260x390.jpg\"/>"
            ],
            "text/plain": [
              "<IPython.core.display.Image object>"
            ]
          },
          "metadata": {}
        },
        {
          "output_type": "stream",
          "name": "stdout",
          "text": [
            "Strawberry Squares\n"
          ]
        },
        {
          "output_type": "display_data",
          "data": {
            "text/html": [
              "<img src=\"https://www.skinnytaste.com/wp-content/uploads/2010/11/Strawberry-Squares-1-2-260x390.jpg\"/>"
            ],
            "text/plain": [
              "<IPython.core.display.Image object>"
            ]
          },
          "metadata": {}
        },
        {
          "output_type": "stream",
          "name": "stdout",
          "text": [
            "Arroz Con Pollo – Rice and Chicken\n"
          ]
        },
        {
          "output_type": "display_data",
          "data": {
            "text/html": [
              "<img src=\"https://www.skinnytaste.com/wp-content/uploads/2011/01/Arroz-con-Pollo-Lightened-Up-9-260x390.jpg\"/>"
            ],
            "text/plain": [
              "<IPython.core.display.Image object>"
            ]
          },
          "metadata": {}
        },
        {
          "output_type": "stream",
          "name": "stdout",
          "text": [
            "Healthy Breakfast Casserole with Spinach and Feta\n"
          ]
        },
        {
          "output_type": "display_data",
          "data": {
            "text/html": [
              "<img src=\"https://www.skinnytaste.com/wp-content/uploads/2019/12/Feta-Breakfast-Bake-9-260x390.jpg\"/>"
            ],
            "text/plain": [
              "<IPython.core.display.Image object>"
            ]
          },
          "metadata": {}
        },
        {
          "output_type": "stream",
          "name": "stdout",
          "text": [
            "One Pan Roasted Potatoes, Sausage and Peppers\n"
          ]
        },
        {
          "output_type": "display_data",
          "data": {
            "text/html": [
              "<img src=\"https://www.skinnytaste.com/wp-content/uploads/2011/10/One-Pan-Roasted-Potatoes-Sausage-and-Peppers-6-260x390.jpg\"/>"
            ],
            "text/plain": [
              "<IPython.core.display.Image object>"
            ]
          },
          "metadata": {}
        },
        {
          "output_type": "stream",
          "name": "stdout",
          "text": [
            "Pork Chops with Mushrooms and Shallots\n"
          ]
        },
        {
          "output_type": "display_data",
          "data": {
            "text/html": [
              "<img src=\"https://www.skinnytaste.com/wp-content/uploads/2010/12/Pork-Shops-with-Mushrooms-and-Shallots-7-260x390.jpg\"/>"
            ],
            "text/plain": [
              "<IPython.core.display.Image object>"
            ]
          },
          "metadata": {}
        },
        {
          "output_type": "stream",
          "name": "stdout",
          "text": [
            "Yogurt Panna Cotta with Macerated Berries\n"
          ]
        },
        {
          "output_type": "display_data",
          "data": {
            "text/html": [
              "<img src=\"https://www.skinnytaste.com/wp-content/uploads/2019/12/Yogurt-Panna-Cotta-4-260x390.jpg\"/>"
            ],
            "text/plain": [
              "<IPython.core.display.Image object>"
            ]
          },
          "metadata": {}
        },
        {
          "output_type": "stream",
          "name": "stdout",
          "text": [
            "Stuffed Mushrooms with Broccoli Rabe and Sausage\n"
          ]
        },
        {
          "output_type": "display_data",
          "data": {
            "text/html": [
              "<img src=\"https://www.skinnytaste.com/wp-content/uploads/2019/12/Broccoli-Rabe-Stuffed-Mushroom-11-260x390.jpg\"/>"
            ],
            "text/plain": [
              "<IPython.core.display.Image object>"
            ]
          },
          "metadata": {}
        },
        {
          "output_type": "stream",
          "name": "stdout",
          "text": [
            "Cacio e Pepe Brussels Sprouts\n"
          ]
        },
        {
          "output_type": "display_data",
          "data": {
            "text/html": [
              "<img src=\"https://www.skinnytaste.com/wp-content/uploads/2019/12/Cacio-E-Pepe-Brussels-Sprouts-6-260x390.jpg\"/>"
            ],
            "text/plain": [
              "<IPython.core.display.Image object>"
            ]
          },
          "metadata": {}
        },
        {
          "output_type": "stream",
          "name": "stdout",
          "text": [
            "Easy Healthy Ground Turkey Chorizo\n"
          ]
        },
        {
          "output_type": "display_data",
          "data": {
            "text/html": [
              "<img src=\"https://www.skinnytaste.com/wp-content/uploads/2019/11/Turkey-Chorizo-4-260x390.jpg\"/>"
            ],
            "text/plain": [
              "<IPython.core.display.Image object>"
            ]
          },
          "metadata": {}
        },
        {
          "output_type": "stream",
          "name": "stdout",
          "text": [
            "Open Faced Turkey Melts\n"
          ]
        },
        {
          "output_type": "display_data",
          "data": {
            "text/html": [
              "<img src=\"https://www.skinnytaste.com/wp-content/uploads/2019/11/Open-Face-Turkey-Melt-1-3-260x390.jpg\"/>"
            ],
            "text/plain": [
              "<IPython.core.display.Image object>"
            ]
          },
          "metadata": {}
        },
        {
          "output_type": "stream",
          "name": "stdout",
          "text": [
            "Creamy Pumpkin Ginger Soup\n"
          ]
        },
        {
          "output_type": "display_data",
          "data": {
            "text/html": [
              "<img src=\"https://www.skinnytaste.com/wp-content/uploads/2019/11/Pumpkin-Ginger-Soup-4-260x390.jpg\"/>"
            ],
            "text/plain": [
              "<IPython.core.display.Image object>"
            ]
          },
          "metadata": {}
        },
        {
          "output_type": "stream",
          "name": "stdout",
          "text": [
            "Butternut Squash Mac and Cheese\n"
          ]
        },
        {
          "output_type": "display_data",
          "data": {
            "text/html": [
              "<img src=\"https://www.skinnytaste.com/wp-content/uploads/2019/11/Butternut-Squash-Mac-and-Cheese-9-2-260x390.jpg\"/>"
            ],
            "text/plain": [
              "<IPython.core.display.Image object>"
            ]
          },
          "metadata": {}
        },
        {
          "output_type": "stream",
          "name": "stdout",
          "text": [
            "Kale Salad with Quinoa and Cranberries\n"
          ]
        },
        {
          "output_type": "display_data",
          "data": {
            "text/html": [
              "<img src=\"https://www.skinnytaste.com/wp-content/uploads/2019/11/Crowd-Pleasing-Kale-Salad-5-260x390.jpg\"/>"
            ],
            "text/plain": [
              "<IPython.core.display.Image object>"
            ]
          },
          "metadata": {}
        },
        {
          "output_type": "stream",
          "name": "stdout",
          "text": [
            "Sweet Potato Pie\n"
          ]
        },
        {
          "output_type": "display_data",
          "data": {
            "text/html": [
              "<img src=\"https://www.skinnytaste.com/wp-content/uploads/2010/11/Sweet-Potato-Pie-9-260x390.jpg\"/>"
            ],
            "text/plain": [
              "<IPython.core.display.Image object>"
            ]
          },
          "metadata": {}
        },
        {
          "output_type": "stream",
          "name": "stdout",
          "text": [
            "Whole Roasted Chicken with Lemon and Rosemary\n"
          ]
        },
        {
          "output_type": "display_data",
          "data": {
            "text/html": [
              "<img src=\"https://www.skinnytaste.com/wp-content/uploads/2010/02/Roast-Chicken-with-Rosemary-_-Lemon-Finals-15-260x390.jpg\"/>"
            ],
            "text/plain": [
              "<IPython.core.display.Image object>"
            ]
          },
          "metadata": {}
        },
        {
          "output_type": "stream",
          "name": "stdout",
          "text": [
            "Stuffing Muffins\n"
          ]
        },
        {
          "output_type": "display_data",
          "data": {
            "text/html": [
              "<img src=\"https://www.skinnytaste.com/wp-content/uploads/2019/11/Stuffing-Muffins-2-260x390.jpg\"/>"
            ],
            "text/plain": [
              "<IPython.core.display.Image object>"
            ]
          },
          "metadata": {}
        },
        {
          "output_type": "stream",
          "name": "stdout",
          "text": [
            "Baked Turkey Croquettes\n"
          ]
        },
        {
          "output_type": "display_data",
          "data": {
            "text/html": [
              "<img src=\"https://www.skinnytaste.com/wp-content/uploads/2010/11/Turkey-Croquettes-3-260x390.jpg\"/>"
            ],
            "text/plain": [
              "<IPython.core.display.Image object>"
            ]
          },
          "metadata": {}
        },
        {
          "output_type": "stream",
          "name": "stdout",
          "text": [
            "Scalloped Potato Gratin\n"
          ]
        },
        {
          "output_type": "display_data",
          "data": {
            "text/html": [
              "<img src=\"https://www.skinnytaste.com/wp-content/uploads/2011/11/Skinny-Scalloped-Potato-Gratin-12-260x390.jpg\"/>"
            ],
            "text/plain": [
              "<IPython.core.display.Image object>"
            ]
          },
          "metadata": {}
        },
        {
          "output_type": "stream",
          "name": "stdout",
          "text": [
            "Mashed Sweet Potatoes Brulee\n"
          ]
        },
        {
          "output_type": "display_data",
          "data": {
            "text/html": [
              "<img src=\"https://www.skinnytaste.com/wp-content/uploads/2011/10/Mashed-Sweet-Potato-Brulee_-8-260x390.jpg\"/>"
            ],
            "text/plain": [
              "<IPython.core.display.Image object>"
            ]
          },
          "metadata": {}
        },
        {
          "output_type": "stream",
          "name": "stdout",
          "text": [
            "Cauliflower “Mac” and Cheese\n"
          ]
        },
        {
          "output_type": "display_data",
          "data": {
            "text/html": [
              "<img src=\"https://www.skinnytaste.com/wp-content/uploads/2019/10/Cauli-Mac-11-260x390.jpg\"/>"
            ],
            "text/plain": [
              "<IPython.core.display.Image object>"
            ]
          },
          "metadata": {}
        },
        {
          "output_type": "stream",
          "name": "stdout",
          "text": [
            "Baked Chicken Thighs with Brussels and Sweet Potato\n"
          ]
        },
        {
          "output_type": "display_data",
          "data": {
            "text/html": [
              "<img src=\"https://www.skinnytaste.com/wp-content/uploads/2019/11/Chicken-Thighs-with-Brussels-and-Sweet-Potato-1-4-260x390.jpg\"/>"
            ],
            "text/plain": [
              "<IPython.core.display.Image object>"
            ]
          },
          "metadata": {}
        },
        {
          "output_type": "stream",
          "name": "stdout",
          "text": [
            "Air Fryer Turkey Breast\n"
          ]
        },
        {
          "output_type": "display_data",
          "data": {
            "text/html": [
              "<img src=\"https://www.skinnytaste.com/wp-content/uploads/2018/11/Air-Fryer-Turkey-Breast-2-260x390.jpg\"/>"
            ],
            "text/plain": [
              "<IPython.core.display.Image object>"
            ]
          },
          "metadata": {}
        },
        {
          "output_type": "stream",
          "name": "stdout",
          "text": [
            "Cranberry Pear Sauce\n"
          ]
        },
        {
          "output_type": "display_data",
          "data": {
            "text/html": [
              "<img src=\"https://www.skinnytaste.com/wp-content/uploads/2011/11/Cranberry-Pear-Sauce-2-copy-260x390.jpg\"/>"
            ],
            "text/plain": [
              "<IPython.core.display.Image object>"
            ]
          },
          "metadata": {}
        },
        {
          "output_type": "stream",
          "name": "stdout",
          "text": [
            "Macaroni and Cheese Soup with Broccoli\n"
          ]
        },
        {
          "output_type": "display_data",
          "data": {
            "text/html": [
              "<img src=\"https://www.skinnytaste.com/wp-content/uploads/2012/01/Macaroni-Cheese-Soup-with-Broccoli-17-260x390.jpg\"/>"
            ],
            "text/plain": [
              "<IPython.core.display.Image object>"
            ]
          },
          "metadata": {}
        },
        {
          "output_type": "stream",
          "name": "stdout",
          "text": [
            "Baked Apple Cider Chicken and Cabbage\n"
          ]
        },
        {
          "output_type": "display_data",
          "data": {
            "text/html": [
              "<img src=\"https://www.skinnytaste.com/wp-content/uploads/2019/10/Baked-Apple-Cider-Chicken-and-Cabbage-6-260x390.jpg\"/>"
            ],
            "text/plain": [
              "<IPython.core.display.Image object>"
            ]
          },
          "metadata": {}
        },
        {
          "output_type": "stream",
          "name": "stdout",
          "text": [
            "Banana Nut Bread\n"
          ]
        },
        {
          "output_type": "display_data",
          "data": {
            "text/html": [
              "<img src=\"https://www.skinnytaste.com/wp-content/uploads/2008/11/Banana-Nut-Bread-3-260x390.jpg\"/>"
            ],
            "text/plain": [
              "<IPython.core.display.Image object>"
            ]
          },
          "metadata": {}
        },
        {
          "output_type": "stream",
          "name": "stdout",
          "text": [
            "Kalyn’s Stuffed Cabbage Casserole\n"
          ]
        },
        {
          "output_type": "display_data",
          "data": {
            "text/html": [
              "<img src=\"https://www.skinnytaste.com/wp-content/uploads/2012/01/Stuffed-Cabbage-Casserole_-7-260x390.jpg\"/>"
            ],
            "text/plain": [
              "<IPython.core.display.Image object>"
            ]
          },
          "metadata": {}
        },
        {
          "output_type": "stream",
          "name": "stdout",
          "text": [
            "Slow Cooker French Dip Sandwich with Caramelized Onions\n"
          ]
        },
        {
          "output_type": "display_data",
          "data": {
            "text/html": [
              "<img src=\"https://www.skinnytaste.com/wp-content/uploads/2014/01/French-Dip-3-260x390.jpg\"/>"
            ],
            "text/plain": [
              "<IPython.core.display.Image object>"
            ]
          },
          "metadata": {}
        },
        {
          "output_type": "stream",
          "name": "stdout",
          "text": [
            "Spaghetti with Butternut Leek Parmesan Sauce\n"
          ]
        },
        {
          "output_type": "display_data",
          "data": {
            "text/html": [
              "<img src=\"https://www.skinnytaste.com/wp-content/uploads/2012/10/Spaghetti-with-Butternut-Leek-Sauce-7-260x390.jpg\"/>"
            ],
            "text/plain": [
              "<IPython.core.display.Image object>"
            ]
          },
          "metadata": {}
        },
        {
          "output_type": "stream",
          "name": "stdout",
          "text": [
            "Pumpkin Butter\n"
          ]
        },
        {
          "output_type": "display_data",
          "data": {
            "text/html": [
              "<img src=\"https://www.skinnytaste.com/wp-content/uploads/2010/10/pumpkin-butter-3-260x390.jpg\"/>"
            ],
            "text/plain": [
              "<IPython.core.display.Image object>"
            ]
          },
          "metadata": {}
        },
        {
          "output_type": "stream",
          "name": "stdout",
          "text": [
            "Cinnamon Apple Yogurt Bowls\n"
          ]
        },
        {
          "output_type": "display_data",
          "data": {
            "text/html": [
              "<img src=\"https://www.skinnytaste.com/wp-content/uploads/2019/10/Cinnamon-Apple-Yogurt-Bowls-1-9-260x390.jpg\"/>"
            ],
            "text/plain": [
              "<IPython.core.display.Image object>"
            ]
          },
          "metadata": {}
        },
        {
          "output_type": "stream",
          "name": "stdout",
          "text": [
            "Spaghetti Carbonara\n"
          ]
        },
        {
          "output_type": "display_data",
          "data": {
            "text/html": [
              "<img src=\"https://www.skinnytaste.com/wp-content/uploads/2019/10/Spaghetti-Carbonara-6-260x390.jpg\"/>"
            ],
            "text/plain": [
              "<IPython.core.display.Image object>"
            ]
          },
          "metadata": {}
        },
        {
          "output_type": "stream",
          "name": "stdout",
          "text": [
            "Crock Pot Picadillo\n"
          ]
        },
        {
          "output_type": "display_data",
          "data": {
            "text/html": [
              "<img src=\"https://www.skinnytaste.com/wp-content/uploads/2013/01/Crockpot-Picadillo-8-260x390.jpg\"/>"
            ],
            "text/plain": [
              "<IPython.core.display.Image object>"
            ]
          },
          "metadata": {}
        },
        {
          "output_type": "stream",
          "name": "stdout",
          "text": [
            "Creamy Roasted Cauliflower Chowder\n"
          ]
        },
        {
          "output_type": "display_data",
          "data": {
            "text/html": [
              "<img src=\"https://www.skinnytaste.com/wp-content/uploads/2019/10/Creamy-Roasted-Cauliflower-Chowder-6-260x390.jpg\"/>"
            ],
            "text/plain": [
              "<IPython.core.display.Image object>"
            ]
          },
          "metadata": {}
        },
        {
          "output_type": "stream",
          "name": "stdout",
          "text": [
            "Prosciutto Wrapped Figs with Blue Cheese (Grill or Air Fryer)\n"
          ]
        },
        {
          "output_type": "display_data",
          "data": {
            "text/html": [
              "<img src=\"https://www.skinnytaste.com/wp-content/uploads/2019/10/Prosciutto-Wrapped-Figs-with-Blue-Cheese-3-260x390.jpg\"/>"
            ],
            "text/plain": [
              "<IPython.core.display.Image object>"
            ]
          },
          "metadata": {}
        },
        {
          "output_type": "stream",
          "name": "stdout",
          "text": [
            "Turmeric Roasted Chicken and Sweet Potatoes\n"
          ]
        },
        {
          "output_type": "display_data",
          "data": {
            "text/html": [
              "<img src=\"https://www.skinnytaste.com/wp-content/uploads/2019/10/Turmeric-Roasted-Chicken-and-Sweet-Potatoes-5-260x390.jpg\"/>"
            ],
            "text/plain": [
              "<IPython.core.display.Image object>"
            ]
          },
          "metadata": {}
        },
        {
          "output_type": "stream",
          "name": "stdout",
          "text": [
            "Parmesan Crusted Delicata Squash\n"
          ]
        },
        {
          "output_type": "display_data",
          "data": {
            "text/html": [
              "<img src=\"https://www.skinnytaste.com/wp-content/uploads/2017/09/Parmesan-Crusted-Delicata-Squash-1-260x390.jpg\"/>"
            ],
            "text/plain": [
              "<IPython.core.display.Image object>"
            ]
          },
          "metadata": {}
        },
        {
          "output_type": "stream",
          "name": "stdout",
          "text": [
            "Instant Pot Indian Chicken Pulao\n"
          ]
        },
        {
          "output_type": "display_data",
          "data": {
            "text/html": [
              "<img src=\"https://www.skinnytaste.com/wp-content/uploads/2019/09/Instant-Pot-Indian-Chicken-Pulao-4-1-260x390.jpg\"/>"
            ],
            "text/plain": [
              "<IPython.core.display.Image object>"
            ]
          },
          "metadata": {}
        },
        {
          "output_type": "stream",
          "name": "stdout",
          "text": [
            "Pumpkin Roll\n"
          ]
        },
        {
          "output_type": "display_data",
          "data": {
            "text/html": [
              "<img src=\"https://www.skinnytaste.com/wp-content/uploads/2019/09/Pumpkin-Roll-6-260x390.jpg\"/>"
            ],
            "text/plain": [
              "<IPython.core.display.Image object>"
            ]
          },
          "metadata": {}
        },
        {
          "output_type": "stream",
          "name": "stdout",
          "text": [
            "Eggplant and Tomato Sauce\n"
          ]
        },
        {
          "output_type": "display_data",
          "data": {
            "text/html": [
              "<img src=\"https://www.skinnytaste.com/wp-content/uploads/2009/10/Eggplant-and-Tomato-Sauce-8-260x390.jpg\"/>"
            ],
            "text/plain": [
              "<IPython.core.display.Image object>"
            ]
          },
          "metadata": {}
        },
        {
          "output_type": "stream",
          "name": "stdout",
          "text": [
            "Air Fryer Scallops with Bacon\n"
          ]
        },
        {
          "output_type": "display_data",
          "data": {
            "text/html": [
              "<img src=\"https://www.skinnytaste.com/wp-content/uploads/2019/09/Air-Fryer-Bacon-Wrapped-Scallops-7-1-260x390.jpg\"/>"
            ],
            "text/plain": [
              "<IPython.core.display.Image object>"
            ]
          },
          "metadata": {}
        },
        {
          "output_type": "stream",
          "name": "stdout",
          "text": [
            "Pork Carnitas (Slow Cooker Mexican Pulled Pork)\n"
          ]
        },
        {
          "output_type": "display_data",
          "data": {
            "text/html": [
              "<img src=\"https://www.skinnytaste.com/wp-content/uploads/2010/03/Slow-Cooker-Carnitas-4-260x390.jpg\"/>"
            ],
            "text/plain": [
              "<IPython.core.display.Image object>"
            ]
          },
          "metadata": {}
        },
        {
          "output_type": "stream",
          "name": "stdout",
          "text": [
            "Mashed Cauliflower\n"
          ]
        },
        {
          "output_type": "display_data",
          "data": {
            "text/html": [
              "<img src=\"https://www.skinnytaste.com/wp-content/uploads/2010/03/Creamy-Cauliflower-Puree-5-260x390.jpg\"/>"
            ],
            "text/plain": [
              "<IPython.core.display.Image object>"
            ]
          },
          "metadata": {}
        },
        {
          "output_type": "stream",
          "name": "stdout",
          "text": [
            "Baked Oatmeal Recipe with Pears Bananas and Walnuts\n"
          ]
        },
        {
          "output_type": "display_data",
          "data": {
            "text/html": [
              "<img src=\"https://www.skinnytaste.com/wp-content/uploads/2019/09/Maple-Cinnamon-Banana-Pear-Baked-Oatmeal-with-Walnuts-7-260x390.jpg\"/>"
            ],
            "text/plain": [
              "<IPython.core.display.Image object>"
            ]
          },
          "metadata": {}
        },
        {
          "output_type": "stream",
          "name": "stdout",
          "text": [
            "Baked Sweet Potato (How To Bake Sweet Potatoes)\n"
          ]
        },
        {
          "output_type": "display_data",
          "data": {
            "text/html": [
              "<img src=\"https://www.skinnytaste.com/wp-content/uploads/2019/09/Baked-Sweet-Potatoes-5-260x390.jpg\"/>"
            ],
            "text/plain": [
              "<IPython.core.display.Image object>"
            ]
          },
          "metadata": {}
        },
        {
          "output_type": "stream",
          "name": "stdout",
          "text": [
            "Garlic Lovers Roast Beef\n"
          ]
        },
        {
          "output_type": "display_data",
          "data": {
            "text/html": [
              "<img src=\"https://www.skinnytaste.com/wp-content/uploads/2013/06/Garlic-Lover’s-Roast-Beef-5-260x390.jpg\"/>"
            ],
            "text/plain": [
              "<IPython.core.display.Image object>"
            ]
          },
          "metadata": {}
        },
        {
          "output_type": "stream",
          "name": "stdout",
          "text": [
            "Spinach Tortellini en Brodo (in Broth)\n"
          ]
        },
        {
          "output_type": "display_data",
          "data": {
            "text/html": [
              "<img src=\"https://www.skinnytaste.com/wp-content/uploads/2010/12/Spinach-Tortellini-En-Brodo-8-260x390.jpg\"/>"
            ],
            "text/plain": [
              "<IPython.core.display.Image object>"
            ]
          },
          "metadata": {}
        },
        {
          "output_type": "stream",
          "name": "stdout",
          "text": [
            "Mango-Raspberry Fruit Roll Ups\n"
          ]
        },
        {
          "output_type": "display_data",
          "data": {
            "text/html": [
              "<img src=\"https://www.skinnytaste.com/wp-content/uploads/2019/09/Mango-Raspberry-Fruit-Leather-9-260x390.jpg\"/>"
            ],
            "text/plain": [
              "<IPython.core.display.Image object>"
            ]
          },
          "metadata": {}
        },
        {
          "output_type": "stream",
          "name": "stdout",
          "text": [
            "Caprese Salad\n"
          ]
        },
        {
          "output_type": "display_data",
          "data": {
            "text/html": [
              "<img src=\"https://www.skinnytaste.com/wp-content/uploads/2019/09/Insalata-Caprese-2-260x390.jpg\"/>"
            ],
            "text/plain": [
              "<IPython.core.display.Image object>"
            ]
          },
          "metadata": {}
        },
        {
          "output_type": "stream",
          "name": "stdout",
          "text": [
            "Wilted Baby Spinach with Garlic and Oil\n"
          ]
        },
        {
          "output_type": "display_data",
          "data": {
            "text/html": [
              "<img src=\"https://www.skinnytaste.com/wp-content/uploads/2008/06/Wilted-Baby-Spinach-3-260x390.jpg\"/>"
            ],
            "text/plain": [
              "<IPython.core.display.Image object>"
            ]
          },
          "metadata": {}
        },
        {
          "output_type": "stream",
          "name": "stdout",
          "text": [
            "Lemon-Parsley Foil Packet Potatoes\n"
          ]
        },
        {
          "output_type": "display_data",
          "data": {
            "text/html": [
              "<img src=\"https://www.skinnytaste.com/wp-content/uploads/2019/08/Lemon-Parsley-Potatoes-in-Foil-5-260x390.jpg\"/>"
            ],
            "text/plain": [
              "<IPython.core.display.Image object>"
            ]
          },
          "metadata": {}
        },
        {
          "output_type": "stream",
          "name": "stdout",
          "text": [
            "Houston’s Veggie Burger\n"
          ]
        },
        {
          "output_type": "display_data",
          "data": {
            "text/html": [
              "<img src=\"https://www.skinnytaste.com/wp-content/uploads/2019/08/Veggie-Burger-8-260x390.jpg\"/>"
            ],
            "text/plain": [
              "<IPython.core.display.Image object>"
            ]
          },
          "metadata": {}
        },
        {
          "output_type": "stream",
          "name": "stdout",
          "text": [
            "Air Fryer Shishito Peppers\n"
          ]
        },
        {
          "output_type": "display_data",
          "data": {
            "text/html": [
              "<img src=\"https://www.skinnytaste.com/wp-content/uploads/2019/08/Air-Fryer-Blistered-Shishito-Peppers-4-260x390.jpg\"/>"
            ],
            "text/plain": [
              "<IPython.core.display.Image object>"
            ]
          },
          "metadata": {}
        },
        {
          "output_type": "stream",
          "name": "stdout",
          "text": [
            "Burma Superstar Chicken Dal Curry\n"
          ]
        },
        {
          "output_type": "display_data",
          "data": {
            "text/html": [
              "<img src=\"https://www.skinnytaste.com/wp-content/uploads/2019/08/Chicken-Dal-Curry-1-3-260x390.jpg\"/>"
            ],
            "text/plain": [
              "<IPython.core.display.Image object>"
            ]
          },
          "metadata": {}
        },
        {
          "output_type": "stream",
          "name": "stdout",
          "text": [
            "Spicy Tuna Poke Bowl\n"
          ]
        },
        {
          "output_type": "display_data",
          "data": {
            "text/html": [
              "<img src=\"https://www.skinnytaste.com/wp-content/uploads/2019/08/Spicy-Tuna-Poke-Bowls-8-260x390.jpg\"/>"
            ],
            "text/plain": [
              "<IPython.core.display.Image object>"
            ]
          },
          "metadata": {}
        },
        {
          "output_type": "stream",
          "name": "stdout",
          "text": [
            "Basil Oil\n"
          ]
        },
        {
          "output_type": "display_data",
          "data": {
            "text/html": [
              "<img src=\"https://www.skinnytaste.com/wp-content/uploads/2019/08/Basil-Oil-9-260x390.jpg\"/>"
            ],
            "text/plain": [
              "<IPython.core.display.Image object>"
            ]
          },
          "metadata": {}
        },
        {
          "output_type": "stream",
          "name": "stdout",
          "text": [
            "Orecchiette with Sausage and Broccoli Rabe\n"
          ]
        },
        {
          "output_type": "display_data",
          "data": {
            "text/html": [
              "<img src=\"https://www.skinnytaste.com/wp-content/uploads/2011/04/Orecchiette-Pasta-with-Chicken-Sausage-_-Broccoli-Rabe-6-260x390.jpg\"/>"
            ],
            "text/plain": [
              "<IPython.core.display.Image object>"
            ]
          },
          "metadata": {}
        },
        {
          "output_type": "stream",
          "name": "stdout",
          "text": [
            "Chicken Zucchini Stir Fry\n"
          ]
        },
        {
          "output_type": "display_data",
          "data": {
            "text/html": [
              "<img src=\"https://www.skinnytaste.com/wp-content/uploads/2019/08/Chicken-and-Zucchini-Stir-Fry-RS-5-260x390.jpg\"/>"
            ],
            "text/plain": [
              "<IPython.core.display.Image object>"
            ]
          },
          "metadata": {}
        },
        {
          "output_type": "stream",
          "name": "stdout",
          "text": [
            "How To Make Perfect Instant Pot Quinoa\n"
          ]
        },
        {
          "output_type": "display_data",
          "data": {
            "text/html": [
              "<img src=\"https://www.skinnytaste.com/wp-content/uploads/2019/08/How-To-Make-Perfect-Quinoa-in-the-Instant-Pot-4-260x390.jpg\"/>"
            ],
            "text/plain": [
              "<IPython.core.display.Image object>"
            ]
          },
          "metadata": {}
        },
        {
          "output_type": "stream",
          "name": "stdout",
          "text": [
            "Lighter Eggplant Parmesan\n"
          ]
        },
        {
          "output_type": "display_data",
          "data": {
            "text/html": [
              "<img src=\"https://www.skinnytaste.com/wp-content/uploads/2009/03/Lighter-Eggplant-Parmesan-4-260x390.jpg\"/>"
            ],
            "text/plain": [
              "<IPython.core.display.Image object>"
            ]
          },
          "metadata": {}
        },
        {
          "output_type": "stream",
          "name": "stdout",
          "text": [
            "Southwestern Black Bean, Quinoa and Mango Salad\n"
          ]
        },
        {
          "output_type": "display_data",
          "data": {
            "text/html": [
              "<img src=\"https://www.skinnytaste.com/wp-content/uploads/2015/03/Southwestern-Black-Bean-Quinoa-_-Mango-Medley-8-260x390.jpg\"/>"
            ],
            "text/plain": [
              "<IPython.core.display.Image object>"
            ]
          },
          "metadata": {}
        },
        {
          "output_type": "stream",
          "name": "stdout",
          "text": [
            "Baked Crab and Corn Cakes\n"
          ]
        },
        {
          "output_type": "display_data",
          "data": {
            "text/html": [
              "<img src=\"https://www.skinnytaste.com/wp-content/uploads/2012/08/Skinnytaste-Baked-Corn-Crab-Cakes-6-260x390.jpg\"/>"
            ],
            "text/plain": [
              "<IPython.core.display.Image object>"
            ]
          },
          "metadata": {}
        },
        {
          "output_type": "stream",
          "name": "stdout",
          "text": [
            "Tzatziki Fish Tacos\n"
          ]
        },
        {
          "output_type": "display_data",
          "data": {
            "text/html": [
              "<img src=\"https://www.skinnytaste.com/wp-content/uploads/2019/07/Tzatziki-Fish-Tacos-6-260x390.jpg\"/>"
            ],
            "text/plain": [
              "<IPython.core.display.Image object>"
            ]
          },
          "metadata": {}
        },
        {
          "output_type": "stream",
          "name": "stdout",
          "text": [
            "Buffalo Shrimp Lettuce Wraps\n"
          ]
        },
        {
          "output_type": "display_data",
          "data": {
            "text/html": [
              "<img src=\"https://www.skinnytaste.com/wp-content/uploads/2019/07/Buffalo-Shrimp-Lettuce-Wraps-7-260x390.jpg\"/>"
            ],
            "text/plain": [
              "<IPython.core.display.Image object>"
            ]
          },
          "metadata": {}
        },
        {
          "output_type": "stream",
          "name": "stdout",
          "text": [
            "Air Fryer Chicken Milanese with Baby Arugula\n"
          ]
        },
        {
          "output_type": "display_data",
          "data": {
            "text/html": [
              "<img src=\"https://www.skinnytaste.com/wp-content/uploads/2019/07/Air-Fryer-Chicken-Milanese-5-260x390.jpg\"/>"
            ],
            "text/plain": [
              "<IPython.core.display.Image object>"
            ]
          },
          "metadata": {}
        },
        {
          "output_type": "stream",
          "name": "stdout",
          "text": [
            "Bruschetta with Tomato and Basil\n"
          ]
        },
        {
          "output_type": "display_data",
          "data": {
            "text/html": [
              "<img src=\"https://www.skinnytaste.com/wp-content/uploads/2008/04/Bruschetta-4-260x390.jpg\"/>"
            ],
            "text/plain": [
              "<IPython.core.display.Image object>"
            ]
          },
          "metadata": {}
        },
        {
          "output_type": "stream",
          "name": "stdout",
          "text": [
            "Perfectly Grilled Zucchini Recipe\n"
          ]
        },
        {
          "output_type": "display_data",
          "data": {
            "text/html": [
              "<img src=\"https://www.skinnytaste.com/wp-content/uploads/2019/07/Perfectly-Grilled-Zucchini-11-1-260x390.jpg\"/>"
            ],
            "text/plain": [
              "<IPython.core.display.Image object>"
            ]
          },
          "metadata": {}
        },
        {
          "output_type": "stream",
          "name": "stdout",
          "text": [
            "Grilled Vegetable Platter with Yogurt Mint Sauce\n"
          ]
        },
        {
          "output_type": "display_data",
          "data": {
            "text/html": [
              "<img src=\"https://www.skinnytaste.com/wp-content/uploads/2019/06/Grilled-Vegetable-Platter-with-Yogurt-Mint-Sauce-6-260x390.jpg\"/>"
            ],
            "text/plain": [
              "<IPython.core.display.Image object>"
            ]
          },
          "metadata": {}
        },
        {
          "output_type": "stream",
          "name": "stdout",
          "text": [
            "Zesty Lime Shrimp and Avocado Salad\n"
          ]
        },
        {
          "output_type": "display_data",
          "data": {
            "text/html": [
              "<img src=\"https://www.skinnytaste.com/wp-content/uploads/2015/06/Zesty-Lime-Shrimp-_-Avocado-Salsa-9-260x390.jpg\"/>"
            ],
            "text/plain": [
              "<IPython.core.display.Image object>"
            ]
          },
          "metadata": {}
        },
        {
          "output_type": "stream",
          "name": "stdout",
          "text": [
            "Breakfast BLT\n"
          ]
        },
        {
          "output_type": "display_data",
          "data": {
            "text/html": [
              "<img src=\"https://www.skinnytaste.com/wp-content/uploads/2019/06/BLT-Egg-Sandwich-8-260x390.jpg\"/>"
            ],
            "text/plain": [
              "<IPython.core.display.Image object>"
            ]
          },
          "metadata": {}
        },
        {
          "output_type": "stream",
          "name": "stdout",
          "text": [
            "Mexican Shrimp Diablo\n"
          ]
        },
        {
          "output_type": "display_data",
          "data": {
            "text/html": [
              "<img src=\"https://www.skinnytaste.com/wp-content/uploads/2019/06/Mexican-Shrimp-Diablo-6-260x390.jpg\"/>"
            ],
            "text/plain": [
              "<IPython.core.display.Image object>"
            ]
          },
          "metadata": {}
        },
        {
          "output_type": "stream",
          "name": "stdout",
          "text": [
            "Salmon Avocado Salad\n"
          ]
        },
        {
          "output_type": "display_data",
          "data": {
            "text/html": [
              "<img src=\"https://www.skinnytaste.com/wp-content/uploads/2019/06/Salmon-Avocado-Salad-8-260x390.jpg\"/>"
            ],
            "text/plain": [
              "<IPython.core.display.Image object>"
            ]
          },
          "metadata": {}
        },
        {
          "output_type": "stream",
          "name": "stdout",
          "text": [
            "Campfire Dinner Meatloaf Foil Packets\n"
          ]
        },
        {
          "output_type": "display_data",
          "data": {
            "text/html": [
              "<img src=\"https://www.skinnytaste.com/wp-content/uploads/2019/06/Campfire-Meatloaf-Dinner-Foil-7-260x390.jpg\"/>"
            ],
            "text/plain": [
              "<IPython.core.display.Image object>"
            ]
          },
          "metadata": {}
        },
        {
          "output_type": "stream",
          "name": "stdout",
          "text": [
            "Chicken Chimichangas\n"
          ]
        },
        {
          "output_type": "display_data",
          "data": {
            "text/html": [
              "<img src=\"https://www.skinnytaste.com/wp-content/uploads/2019/06/Chicken-Chimichangas-09-260x390.jpg\"/>"
            ],
            "text/plain": [
              "<IPython.core.display.Image object>"
            ]
          },
          "metadata": {}
        },
        {
          "output_type": "stream",
          "name": "stdout",
          "text": [
            "Chickpea Salad with Cucumbers and Tomatoes\n"
          ]
        },
        {
          "output_type": "display_data",
          "data": {
            "text/html": [
              "<img src=\"https://www.skinnytaste.com/wp-content/uploads/2019/06/Chickpea-Salad-7-260x390.jpg\"/>"
            ],
            "text/plain": [
              "<IPython.core.display.Image object>"
            ]
          },
          "metadata": {}
        },
        {
          "output_type": "stream",
          "name": "stdout",
          "text": [
            "Air Fryer Chicken Breast\n"
          ]
        },
        {
          "output_type": "display_data",
          "data": {
            "text/html": [
              "<img src=\"https://www.skinnytaste.com/wp-content/uploads/2019/06/How-To-Make-Juicy-Air-Fryer-Chicken-Breasts-4-260x390.jpg\"/>"
            ],
            "text/plain": [
              "<IPython.core.display.Image object>"
            ]
          },
          "metadata": {}
        },
        {
          "output_type": "stream",
          "name": "stdout",
          "text": [
            "Air Fryer Asian-Glazed Boneless Chicken Thighs\n"
          ]
        },
        {
          "output_type": "display_data",
          "data": {
            "text/html": [
              "<img src=\"https://www.skinnytaste.com/wp-content/uploads/2019/06/Air-Fryer-Asian-Glazed-Boneless-Chicken-Thighs-4-260x390.jpg\"/>"
            ],
            "text/plain": [
              "<IPython.core.display.Image object>"
            ]
          },
          "metadata": {}
        },
        {
          "output_type": "stream",
          "name": "stdout",
          "text": [
            "Taco Stuffed Zucchini Boats\n"
          ]
        },
        {
          "output_type": "display_data",
          "data": {
            "text/html": [
              "<img src=\"https://www.skinnytaste.com/wp-content/uploads/2013/07/Turkey-Taco-Zucchini-Boats-1-7-260x390.jpg\"/>"
            ],
            "text/plain": [
              "<IPython.core.display.Image object>"
            ]
          },
          "metadata": {}
        },
        {
          "output_type": "stream",
          "name": "stdout",
          "text": [
            "Grilled Cumin Spiced Pork Tenderloin\n"
          ]
        },
        {
          "output_type": "display_data",
          "data": {
            "text/html": [
              "<img src=\"https://www.skinnytaste.com/wp-content/uploads/2014/06/Skinnytaste-Grilled-Cumin-Spiced-Pork-Tenderloin-9-260x390.jpg\"/>"
            ],
            "text/plain": [
              "<IPython.core.display.Image object>"
            ]
          },
          "metadata": {}
        },
        {
          "output_type": "stream",
          "name": "stdout",
          "text": [
            "Vegan Caesar Salad\n"
          ]
        },
        {
          "output_type": "display_data",
          "data": {
            "text/html": [
              "<img src=\"https://www.skinnytaste.com/wp-content/uploads/2019/06/Grilled-Romaine-Vegan-Caesar-Wedges-9-260x390.jpg\"/>"
            ],
            "text/plain": [
              "<IPython.core.display.Image object>"
            ]
          },
          "metadata": {}
        },
        {
          "output_type": "stream",
          "name": "stdout",
          "text": [
            "Pineapple Shrimp Fried Rice\n"
          ]
        },
        {
          "output_type": "display_data",
          "data": {
            "text/html": [
              "<img src=\"https://www.skinnytaste.com/wp-content/uploads/2011/07/Pineapple-Shrimp-Fried-Rice-10-260x390.jpg\"/>"
            ],
            "text/plain": [
              "<IPython.core.display.Image object>"
            ]
          },
          "metadata": {}
        },
        {
          "output_type": "stream",
          "name": "stdout",
          "text": [
            "Air Fryer Cajun Shrimp Dinner\n"
          ]
        },
        {
          "output_type": "display_data",
          "data": {
            "text/html": [
              "<img src=\"https://www.skinnytaste.com/wp-content/uploads/2019/05/Air-Fryer-Cajun-Shrimp-Dinner-2-260x390.jpg\"/>"
            ],
            "text/plain": [
              "<IPython.core.display.Image object>"
            ]
          },
          "metadata": {}
        },
        {
          "output_type": "stream",
          "name": "stdout",
          "text": [
            "California Grilled Chicken Avocado and Mango Salad\n"
          ]
        },
        {
          "output_type": "display_data",
          "data": {
            "text/html": [
              "<img src=\"https://www.skinnytaste.com/wp-content/uploads/2012/05/GRILLED-CHICKEN-AVOCADO-AND-MANGO-SALAD-3-260x390.jpg\"/>"
            ],
            "text/plain": [
              "<IPython.core.display.Image object>"
            ]
          },
          "metadata": {}
        },
        {
          "output_type": "stream",
          "name": "stdout",
          "text": [
            "Parmesan-Basil Air Fryer Salmon (or Baked)\n"
          ]
        },
        {
          "output_type": "display_data",
          "data": {
            "text/html": [
              "<img src=\"https://www.skinnytaste.com/wp-content/uploads/2019/05/Air-Fryer-Basil-Parmesan-Salmon-8-260x390.jpg\"/>"
            ],
            "text/plain": [
              "<IPython.core.display.Image object>"
            ]
          },
          "metadata": {}
        },
        {
          "output_type": "stream",
          "name": "stdout",
          "text": [
            "Potato and Green Bean Salad\n"
          ]
        },
        {
          "output_type": "display_data",
          "data": {
            "text/html": [
              "<img src=\"https://www.skinnytaste.com/wp-content/uploads/2009/02/Potato-and-Green-Bean-Salad-6-260x390.jpg\"/>"
            ],
            "text/plain": [
              "<IPython.core.display.Image object>"
            ]
          },
          "metadata": {}
        },
        {
          "output_type": "stream",
          "name": "stdout",
          "text": [
            "Mediterranean Sea Bass\n"
          ]
        },
        {
          "output_type": "display_data",
          "data": {
            "text/html": [
              "<img src=\"https://www.skinnytaste.com/wp-content/uploads/2019/05/Mediterranean-Sea-Bass-10-260x390.jpg\"/>"
            ],
            "text/plain": [
              "<IPython.core.display.Image object>"
            ]
          },
          "metadata": {}
        },
        {
          "output_type": "stream",
          "name": "stdout",
          "text": [
            "Everything Parmesan Crisps\n"
          ]
        },
        {
          "output_type": "display_data",
          "data": {
            "text/html": [
              "<img src=\"https://www.skinnytaste.com/wp-content/uploads/2019/05/Everything-Parmesan-Crisps-5-260x390.jpg\"/>"
            ],
            "text/plain": [
              "<IPython.core.display.Image object>"
            ]
          },
          "metadata": {}
        },
        {
          "output_type": "stream",
          "name": "stdout",
          "text": [
            "Green Detox Soup with Toasted Hemp Gremolata\n"
          ]
        },
        {
          "output_type": "display_data",
          "data": {
            "text/html": [
              "<img src=\"https://www.skinnytaste.com/wp-content/uploads/2019/05/Actually-Delicious-Green-Detox-Soup-with-Toasted-Hemp-Gremolata-5-260x390.jpg\"/>"
            ],
            "text/plain": [
              "<IPython.core.display.Image object>"
            ]
          },
          "metadata": {}
        },
        {
          "output_type": "stream",
          "name": "stdout",
          "text": [
            "Air Fryer Hard Boiled Eggs\n"
          ]
        },
        {
          "output_type": "display_data",
          "data": {
            "text/html": [
              "<img src=\"https://www.skinnytaste.com/wp-content/uploads/2019/05/Air-Fryer-Hard-Boiled-Eggs-2-260x390.jpg\"/>"
            ],
            "text/plain": [
              "<IPython.core.display.Image object>"
            ]
          },
          "metadata": {}
        },
        {
          "output_type": "stream",
          "name": "stdout",
          "text": [
            "Crispy Avocado Egg Rolls (Air Fryer or Oven)\n"
          ]
        },
        {
          "output_type": "display_data",
          "data": {
            "text/html": [
              "<img src=\"https://www.skinnytaste.com/wp-content/uploads/2019/04/Avocado-Egg-Rolls-with-Sweet-and-Spicy-Dipping-Sauce-11-260x390.jpg\"/>"
            ],
            "text/plain": [
              "<IPython.core.display.Image object>"
            ]
          },
          "metadata": {}
        },
        {
          "output_type": "stream",
          "name": "stdout",
          "text": [
            "Smoked Salmon Breakfast Flatbread\n"
          ]
        },
        {
          "output_type": "display_data",
          "data": {
            "text/html": [
              "<img src=\"https://www.skinnytaste.com/wp-content/uploads/2019/04/Smoked-Salmon-Breakfast-Flatbread-7-260x390.jpg\"/>"
            ],
            "text/plain": [
              "<IPython.core.display.Image object>"
            ]
          },
          "metadata": {}
        },
        {
          "output_type": "stream",
          "name": "stdout",
          "text": [
            "Ranch Chicken Salad\n"
          ]
        },
        {
          "output_type": "display_data",
          "data": {
            "text/html": [
              "<img src=\"https://www.skinnytaste.com/wp-content/uploads/2019/04/RANCH-CHICKEN-SALAD-11-260x390.jpg\"/>"
            ],
            "text/plain": [
              "<IPython.core.display.Image object>"
            ]
          },
          "metadata": {}
        },
        {
          "output_type": "stream",
          "name": "stdout",
          "text": [
            "Key Lime Yogurt Pie\n"
          ]
        },
        {
          "output_type": "display_data",
          "data": {
            "text/html": [
              "<img src=\"https://www.skinnytaste.com/wp-content/uploads/2019/04/Key-Lime-Yogurt-Pie-7-260x390.jpg\"/>"
            ],
            "text/plain": [
              "<IPython.core.display.Image object>"
            ]
          },
          "metadata": {}
        },
        {
          "output_type": "stream",
          "name": "stdout",
          "text": [
            "Chicken Parmesan Lasagna\n"
          ]
        },
        {
          "output_type": "display_data",
          "data": {
            "text/html": [
              "<img src=\"https://www.skinnytaste.com/wp-content/uploads/2019/03/Chicken-Parmesan-Lasagna-2-2-260x390.jpg\"/>"
            ],
            "text/plain": [
              "<IPython.core.display.Image object>"
            ]
          },
          "metadata": {}
        },
        {
          "output_type": "stream",
          "name": "stdout",
          "text": [
            "Thin Tortilla Pizza\n"
          ]
        },
        {
          "output_type": "display_data",
          "data": {
            "text/html": [
              "<img src=\"https://www.skinnytaste.com/wp-content/uploads/2019/04/Easy-Tortilla-Thin-Crust-Pizza-4-260x390.jpg\"/>"
            ],
            "text/plain": [
              "<IPython.core.display.Image object>"
            ]
          },
          "metadata": {}
        },
        {
          "output_type": "stream",
          "name": "stdout",
          "text": [
            "Tex Mex Migas\n"
          ]
        },
        {
          "output_type": "display_data",
          "data": {
            "text/html": [
              "<img src=\"https://www.skinnytaste.com/wp-content/uploads/2019/04/Tex-Mex-Migas-9-260x390.jpg\"/>"
            ],
            "text/plain": [
              "<IPython.core.display.Image object>"
            ]
          },
          "metadata": {}
        },
        {
          "output_type": "stream",
          "name": "stdout",
          "text": [
            "Chicken and Asparagus Lemon Stir Fry\n"
          ]
        },
        {
          "output_type": "display_data",
          "data": {
            "text/html": [
              "<img src=\"https://www.skinnytaste.com/wp-content/uploads/2014/03/Chicken-and-Asparagus-Lemon-Stir-Fry-5-260x390.jpg\"/>"
            ],
            "text/plain": [
              "<IPython.core.display.Image object>"
            ]
          },
          "metadata": {}
        },
        {
          "output_type": "stream",
          "name": "stdout",
          "text": [
            "The Best Turkey Meatloaf Recipe\n"
          ]
        },
        {
          "output_type": "display_data",
          "data": {
            "text/html": [
              "<img src=\"https://www.skinnytaste.com/wp-content/uploads/2009/02/turkey-meatloaf-8-260x390.jpg\"/>"
            ],
            "text/plain": [
              "<IPython.core.display.Image object>"
            ]
          },
          "metadata": {}
        },
        {
          "output_type": "stream",
          "name": "stdout",
          "text": [
            "BBQ Chicken Quesadilla\n"
          ]
        },
        {
          "output_type": "display_data",
          "data": {
            "text/html": [
              "<img src=\"https://www.skinnytaste.com/wp-content/uploads/2019/04/BBQ-Quesadilla-1-2-260x390.jpg\"/>"
            ],
            "text/plain": [
              "<IPython.core.display.Image object>"
            ]
          },
          "metadata": {}
        },
        {
          "output_type": "stream",
          "name": "stdout",
          "text": [
            "Veggie Ham and Cheese Breakfast Egg Casserole\n"
          ]
        },
        {
          "output_type": "display_data",
          "data": {
            "text/html": [
              "<img src=\"https://www.skinnytaste.com/wp-content/uploads/2014/05/Veggie-Ham-Egg-Cheese-Bake-260x390.jpg\"/>"
            ],
            "text/plain": [
              "<IPython.core.display.Image object>"
            ]
          },
          "metadata": {}
        },
        {
          "output_type": "stream",
          "name": "stdout",
          "text": [
            "Honey Lemon Bars with Whole Wheat Shortbread Crust\n"
          ]
        },
        {
          "output_type": "display_data",
          "data": {
            "text/html": [
              "<img src=\"https://www.skinnytaste.com/wp-content/uploads/2012/06/Skinny-Honey-Lemon-Bars-12-260x390.jpg\"/>"
            ],
            "text/plain": [
              "<IPython.core.display.Image object>"
            ]
          },
          "metadata": {}
        },
        {
          "output_type": "stream",
          "name": "stdout",
          "text": [
            "Heather’s Buddha Bowl\n"
          ]
        },
        {
          "output_type": "display_data",
          "data": {
            "text/html": [
              "<img src=\"https://www.skinnytaste.com/wp-content/uploads/2019/03/Heather_s-Buddha-Bowl-7-1-260x390.jpg\"/>"
            ],
            "text/plain": [
              "<IPython.core.display.Image object>"
            ]
          },
          "metadata": {}
        },
        {
          "output_type": "stream",
          "name": "stdout",
          "text": [
            "Hard Boiled Eggs\n"
          ]
        },
        {
          "output_type": "display_data",
          "data": {
            "text/html": [
              "<img src=\"https://www.skinnytaste.com/wp-content/uploads/2017/04/Perfect-Instant-Pot-Eggs-1-2-1-260x390.jpg\"/>"
            ],
            "text/plain": [
              "<IPython.core.display.Image object>"
            ]
          },
          "metadata": {}
        },
        {
          "output_type": "stream",
          "name": "stdout",
          "text": [
            "Swiss Chard Eggs Benedict\n"
          ]
        },
        {
          "output_type": "display_data",
          "data": {
            "text/html": [
              "<img src=\"https://www.skinnytaste.com/wp-content/uploads/2019/03/Swiss-Chard-Eggs-Benedict-8-260x390.jpg\"/>"
            ],
            "text/plain": [
              "<IPython.core.display.Image object>"
            ]
          },
          "metadata": {}
        },
        {
          "output_type": "stream",
          "name": "stdout",
          "text": [
            "Apricot-Rum Glazed Spiral Ham\n"
          ]
        },
        {
          "output_type": "display_data",
          "data": {
            "text/html": [
              "<img src=\"https://www.skinnytaste.com/wp-content/uploads/2017/04/Apricot-Rum-Glazed-Spiral-Ham-2-260x390.jpg\"/>"
            ],
            "text/plain": [
              "<IPython.core.display.Image object>"
            ]
          },
          "metadata": {}
        },
        {
          "output_type": "stream",
          "name": "stdout",
          "text": [
            "Green Bean Salad\n"
          ]
        },
        {
          "output_type": "display_data",
          "data": {
            "text/html": [
              "<img src=\"https://www.skinnytaste.com/wp-content/uploads/2009/03/Green-Bean-Salad-8-260x390.jpg\"/>"
            ],
            "text/plain": [
              "<IPython.core.display.Image object>"
            ]
          },
          "metadata": {}
        },
        {
          "output_type": "stream",
          "name": "stdout",
          "text": [
            "Yogurt Waffles\n"
          ]
        },
        {
          "output_type": "display_data",
          "data": {
            "text/html": [
              "<img src=\"https://www.skinnytaste.com/wp-content/uploads/2019/03/Yogurt-Waffles-8-260x390.jpg\"/>"
            ],
            "text/plain": [
              "<IPython.core.display.Image object>"
            ]
          },
          "metadata": {}
        },
        {
          "output_type": "stream",
          "name": "stdout",
          "text": [
            "Sesame Crusted Tuna Steak on Arugula\n"
          ]
        },
        {
          "output_type": "display_data",
          "data": {
            "text/html": [
              "<img src=\"https://www.skinnytaste.com/wp-content/uploads/2008/03/Sesame-Tuna-1-7-260x390.jpg\"/>"
            ],
            "text/plain": [
              "<IPython.core.display.Image object>"
            ]
          },
          "metadata": {}
        },
        {
          "output_type": "stream",
          "name": "stdout",
          "text": [
            "White Bean Turkey Chili\n"
          ]
        },
        {
          "output_type": "display_data",
          "data": {
            "text/html": [
              "<img src=\"https://www.skinnytaste.com/wp-content/uploads/2008/03/white-bean-chili-5-260x390.jpg\"/>"
            ],
            "text/plain": [
              "<IPython.core.display.Image object>"
            ]
          },
          "metadata": {}
        },
        {
          "output_type": "stream",
          "name": "stdout",
          "text": [
            "Shrimp Scampi with Broccoli Orzo\n"
          ]
        },
        {
          "output_type": "display_data",
          "data": {
            "text/html": [
              "<img src=\"https://www.skinnytaste.com/wp-content/uploads/2019/03/Shrimp-Scampi-with-Broccoli-Orzo-6-260x390.jpg\"/>"
            ],
            "text/plain": [
              "<IPython.core.display.Image object>"
            ]
          },
          "metadata": {}
        },
        {
          "output_type": "stream",
          "name": "stdout",
          "text": [
            "Slow Cooker Split Pea Soup\n"
          ]
        },
        {
          "output_type": "display_data",
          "data": {
            "text/html": [
              "<img src=\"https://www.skinnytaste.com/wp-content/uploads/2019/03/Slow-Cooker-Split-Pea-Soup-6-260x390.jpg\"/>"
            ],
            "text/plain": [
              "<IPython.core.display.Image object>"
            ]
          },
          "metadata": {}
        },
        {
          "output_type": "stream",
          "name": "stdout",
          "text": [
            "Broccoli and Cheese Stuffed Chicken (Oven or Air Fryer)\n"
          ]
        },
        {
          "output_type": "display_data",
          "data": {
            "text/html": [
              "<img src=\"https://www.skinnytaste.com/wp-content/uploads/2009/04/Chicken-Roll-Ups-with-Broccoli-_-Cheese-18-260x390.jpg\"/>"
            ],
            "text/plain": [
              "<IPython.core.display.Image object>"
            ]
          },
          "metadata": {}
        },
        {
          "output_type": "stream",
          "name": "stdout",
          "text": [
            "Seattle Smoked Salmon Chowder\n"
          ]
        },
        {
          "output_type": "display_data",
          "data": {
            "text/html": [
              "<img src=\"https://www.skinnytaste.com/wp-content/uploads/2019/02/Smoked-Salmon-Chowder-8-260x390.jpg\"/>"
            ],
            "text/plain": [
              "<IPython.core.display.Image object>"
            ]
          },
          "metadata": {}
        },
        {
          "output_type": "stream",
          "name": "stdout",
          "text": [
            "Instant Pot Corned Beef and Cabbage\n"
          ]
        },
        {
          "output_type": "display_data",
          "data": {
            "text/html": [
              "<img src=\"https://www.skinnytaste.com/wp-content/uploads/2019/02/Instant-Pot-Corned-Beef-_-Cabbage-5-1-260x390.jpg\"/>"
            ],
            "text/plain": [
              "<IPython.core.display.Image object>"
            ]
          },
          "metadata": {}
        },
        {
          "output_type": "stream",
          "name": "stdout",
          "text": [
            "Cream of Broccoli Soup\n"
          ]
        },
        {
          "output_type": "display_data",
          "data": {
            "text/html": [
              "<img src=\"https://www.skinnytaste.com/wp-content/uploads/2008/04/Cream-of-Broccoli-Soup-8-260x390.jpg\"/>"
            ],
            "text/plain": [
              "<IPython.core.display.Image object>"
            ]
          },
          "metadata": {}
        },
        {
          "output_type": "stream",
          "name": "stdout",
          "text": [
            "Cilantro-Lime Fish Tacos\n"
          ]
        },
        {
          "output_type": "display_data",
          "data": {
            "text/html": [
              "<img src=\"https://www.skinnytaste.com/wp-content/uploads/2012/02/fish-taco-4-260x390.jpg\"/>"
            ],
            "text/plain": [
              "<IPython.core.display.Image object>"
            ]
          },
          "metadata": {}
        },
        {
          "output_type": "stream",
          "name": "stdout",
          "text": [
            "Kale and Potato Soup with Turkey Sausage\n"
          ]
        },
        {
          "output_type": "display_data",
          "data": {
            "text/html": [
              "<img src=\"https://www.skinnytaste.com/wp-content/uploads/2012/10/Kale-and-Potato-Soup-with-Turkey-Sausage-8-260x390.jpg\"/>"
            ],
            "text/plain": [
              "<IPython.core.display.Image object>"
            ]
          },
          "metadata": {}
        },
        {
          "output_type": "stream",
          "name": "stdout",
          "text": [
            "Banana Foster Crepes\n"
          ]
        },
        {
          "output_type": "display_data",
          "data": {
            "text/html": [
              "<img src=\"https://www.skinnytaste.com/wp-content/uploads/2019/02/BANANAS-FOSTER-DESSERT-CREPES-8-260x390.jpg\"/>"
            ],
            "text/plain": [
              "<IPython.core.display.Image object>"
            ]
          },
          "metadata": {}
        },
        {
          "output_type": "stream",
          "name": "stdout",
          "text": [
            "Instant Pot Chicken Taco Chili\n"
          ]
        },
        {
          "output_type": "display_data",
          "data": {
            "text/html": [
              "<img src=\"https://www.skinnytaste.com/wp-content/uploads/2019/02/Instant-Pot-Chicken-Taco-Chili-1-5-260x390.jpg\"/>"
            ],
            "text/plain": [
              "<IPython.core.display.Image object>"
            ]
          },
          "metadata": {}
        }
      ]
    },
    {
      "cell_type": "markdown",
      "source": [
        "#Installing Visualization Libraries"
      ],
      "metadata": {
        "id": "a0J4Yfz8P05r"
      }
    },
    {
      "cell_type": "code",
      "source": [
        "pip install matplotlib seaborn\n"
      ],
      "metadata": {
        "id": "NcQaO6SXunJ9",
        "colab": {
          "base_uri": "https://localhost:8080/"
        },
        "outputId": "5054edeb-90b6-4f03-eb27-09fbef18a7b2"
      },
      "execution_count": null,
      "outputs": [
        {
          "output_type": "stream",
          "name": "stdout",
          "text": [
            "Requirement already satisfied: matplotlib in /usr/local/lib/python3.10/dist-packages (3.7.1)\n",
            "Requirement already satisfied: seaborn in /usr/local/lib/python3.10/dist-packages (0.13.1)\n",
            "Requirement already satisfied: contourpy>=1.0.1 in /usr/local/lib/python3.10/dist-packages (from matplotlib) (1.3.0)\n",
            "Requirement already satisfied: cycler>=0.10 in /usr/local/lib/python3.10/dist-packages (from matplotlib) (0.12.1)\n",
            "Requirement already satisfied: fonttools>=4.22.0 in /usr/local/lib/python3.10/dist-packages (from matplotlib) (4.53.1)\n",
            "Requirement already satisfied: kiwisolver>=1.0.1 in /usr/local/lib/python3.10/dist-packages (from matplotlib) (1.4.7)\n",
            "Requirement already satisfied: numpy>=1.20 in /usr/local/lib/python3.10/dist-packages (from matplotlib) (1.26.4)\n",
            "Requirement already satisfied: packaging>=20.0 in /usr/local/lib/python3.10/dist-packages (from matplotlib) (24.1)\n",
            "Requirement already satisfied: pillow>=6.2.0 in /usr/local/lib/python3.10/dist-packages (from matplotlib) (10.4.0)\n",
            "Requirement already satisfied: pyparsing>=2.3.1 in /usr/local/lib/python3.10/dist-packages (from matplotlib) (3.1.4)\n",
            "Requirement already satisfied: python-dateutil>=2.7 in /usr/local/lib/python3.10/dist-packages (from matplotlib) (2.8.2)\n",
            "Requirement already satisfied: pandas>=1.2 in /usr/local/lib/python3.10/dist-packages (from seaborn) (2.1.4)\n",
            "Requirement already satisfied: pytz>=2020.1 in /usr/local/lib/python3.10/dist-packages (from pandas>=1.2->seaborn) (2024.2)\n",
            "Requirement already satisfied: tzdata>=2022.1 in /usr/local/lib/python3.10/dist-packages (from pandas>=1.2->seaborn) (2024.1)\n",
            "Requirement already satisfied: six>=1.5 in /usr/local/lib/python3.10/dist-packages (from python-dateutil>=2.7->matplotlib) (1.16.0)\n"
          ]
        }
      ]
    },
    {
      "cell_type": "markdown",
      "source": [
        "#Importing Visualization Libraries"
      ],
      "metadata": {
        "id": "Zldmp1O8P4oY"
      }
    },
    {
      "cell_type": "code",
      "source": [
        "import matplotlib.pyplot as plt\n",
        "import seaborn as sns\n",
        "\n",
        "import numpy as np\n",
        "import pandas as pd\n",
        "\n",
        "import matplotlib.pyplot as plt\n",
        "import seaborn as sns\n",
        "\n",
        "from sklearn.linear_model import LinearRegression\n",
        "from sklearn.model_selection import train_test_split\n",
        "from sklearn.metrics import r2_score, mean_absolute_error, mean_squared_error\n",
        "from sklearn.preprocessing import LabelEncoder\n",
        "\n",
        "\n",
        "import warnings\n",
        "warnings.filterwarnings('ignore')\n",
        "\n",
        "sns.set_context(\"talk\")\n",
        "sns.set_style(\"darkgrid\")"
      ],
      "metadata": {
        "id": "mB0FdZ9hn6A7"
      },
      "execution_count": null,
      "outputs": []
    },
    {
      "cell_type": "markdown",
      "source": [
        "#Visualizing Calories Distribution using Histogram"
      ],
      "metadata": {
        "id": "khI80W3zQAWy"
      }
    },
    {
      "cell_type": "code",
      "source": [
        "plt.figure(figsize=(10, 6))\n",
        "sns.histplot(df['Calories'].dropna(), bins=15, kde=True)\n",
        "plt.title('Calories Distribution')\n",
        "plt.xlabel('Calories')\n",
        "plt.ylabel('Frequency')\n",
        "plt.show()\n"
      ],
      "metadata": {
        "id": "pCXLrOZ8uupX",
        "colab": {
          "base_uri": "https://localhost:8080/",
          "height": 596
        },
        "outputId": "4b57816b-6bea-43df-8dfd-7acd93995e7f"
      },
      "execution_count": null,
      "outputs": [
        {
          "output_type": "display_data",
          "data": {
            "text/plain": [
              "<Figure size 1000x600 with 1 Axes>"
            ],
            "image/png": "[encoded data removed]"
          },
          "metadata": {}
        }
      ]
    },
    {
      "cell_type": "markdown",
      "source": [
        "# Visualizing Recipe Key Count Uisng Barplot"
      ],
      "metadata": {
        "id": "ZwwHFvTKQJ7f"
      }
    },
    {
      "cell_type": "code",
      "source": [
        "import matplotlib.pyplot as plt\n",
        "import seaborn as sns\n",
        "\n",
        "recipe_key_df = pd.DataFrame(list(recipe_key_count.items()), columns=['Recipe Key', 'Count'])\n",
        "\n",
        "plt.figure(figsize=(12, 6))\n",
        "\n",
        "sns.barplot(x='Recipe Key', y='Count', data=recipe_key_df, palette='viridis')\n",
        "\n",
        "\n",
        "plt.title('Counts of Each Recipe Key')\n",
        "plt.xlabel('Recipe Key')\n",
        "plt.ylabel('Count')\n",
        "\n",
        "plt.xticks(rotation=90)\n",
        "\n",
        "plt.show()"
      ],
      "metadata": {
        "id": "IF_z5LJWuxdc",
        "colab": {
          "base_uri": "https://localhost:8080/",
          "height": 613
        },
        "outputId": "e703cd34-c79d-4795-a155-89157fe63491"
      },
      "execution_count": null,
      "outputs": [
        {
          "output_type": "display_data",
          "data": {
            "text/plain": [
              "<Figure size 1200x600 with 1 Axes>"
            ],
            "image/png": "[encoded data removed]"
          },
          "metadata": {}
        }
      ]
    },
    {
      "cell_type": "markdown",
      "source": [
        "# Visualizing Personal Points Distribution using Histogram"
      ],
      "metadata": {
        "id": "9sKl2E5gQS0o"
      }
    },
    {
      "cell_type": "code",
      "source": [
        "plt.figure(figsize=(10, 6))\n",
        "sns.histplot(df['Personal Points'].dropna(), bins=15, kde=True)\n",
        "plt.title('Personal Points Distribution')\n",
        "plt.xlabel('Personal Points')\n",
        "plt.ylabel('Frequency')\n",
        "plt.show()\n"
      ],
      "metadata": {
        "id": "Btmt2DiWu0wd",
        "colab": {
          "base_uri": "https://localhost:8080/",
          "height": 596
        },
        "outputId": "8fa270ed-2755-4c70-8399-b48baf9cc807"
      },
      "execution_count": null,
      "outputs": [
        {
          "output_type": "display_data",
          "data": {
            "text/plain": [
              "<Figure size 1000x600 with 1 Axes>"
            ],
            "image/png": "[encoded data removed]"
          },
          "metadata": {}
        }
      ]
    },
    {
      "cell_type": "markdown",
      "source": [
        "# Filtering Recipes Based on Calories and Personal Points"
      ],
      "metadata": {
        "id": "v-O6E8-rQVvd"
      }
    },
    {
      "cell_type": "code",
      "source": [
        "def get_recipes(calorie_min, calorie_max, points_min, points_max):\n",
        "    filtered_df = df[(df['Calories'] >= calorie_min) & (df['Calories'] <= calorie_max) &\n",
        "                     (df['Personal Points'] >= points_min) & (df['Personal Points'] <= points_max)]\n",
        "    sorted_df = filtered_df.sort_values(by='Calories').head(10)\n",
        "    return sorted_df\n",
        "\n",
        "calorie_min = int(input(\"Enter minimum calories: \"))\n",
        "calorie_max = int(input(\"Enter maximum calories: \"))\n",
        "points_min = int(input(\"Enter minimum personal points: \"))\n",
        "points_max = int(input(\"Enter maximum personal points: \"))\n",
        "\n",
        "recipes = get_recipes(calorie_min, calorie_max, points_min, points_max)\n",
        "print(\"\\n\")\n",
        "print(\"Top 10 recipes:\")\n",
        "for index, row in recipes.iterrows():\n",
        "    print(f\"Name: {row['Name']}\")\n",
        "    display(Image(url=row['Image']))\n",
        "    print(f\"Calories: {row['Calories']}\")\n",
        "    print(f\"Summary: {row['Summary']}\")\n",
        "    print(\"\\n\")\n"
      ],
      "metadata": {
        "id": "LJJuW1e9u44B",
        "colab": {
          "base_uri": "https://localhost:8080/",
          "height": 1000
        },
        "outputId": "8c3efa26-d742-48ef-db62-60174a497e27"
      },
      "execution_count": null,
      "outputs": [
        {
          "output_type": "stream",
          "name": "stdout",
          "text": [
            "Enter minimum calories: 1\n",
            "Enter maximum calories: 3000\n",
            "Enter minimum personal points: 1\n",
            "Enter maximum personal points: 16\n",
            "\n",
            "\n",
            "Top 10 recipes:\n",
            "Name: Virgin Bloody Mary\n"
          ]
        },
        {
          "output_type": "display_data",
          "data": {
            "text/html": [
              "<img src=\"https://www.skinnytaste.com/wp-content/uploads/2020/12/Virgin-Bloody-Mary-7-260x390.jpg\"/>"
            ],
            "text/plain": [
              "<IPython.core.display.Image object>"
            ]
          },
          "metadata": {}
        },
        {
          "output_type": "stream",
          "name": "stdout",
          "text": [
            "Calories: 33.0\n",
            "Summary: Craving a Bloody Mary but doing a dry challenge? Make this Virgin Bloody Mary, also known as the Virgin Mary, and you won’t miss the vodka!\n",
            "\n",
            "\n",
            "Name: Turkey Gravy\n"
          ]
        },
        {
          "output_type": "display_data",
          "data": {
            "text/html": [
              "<img src=\"https://www.skinnytaste.com/wp-content/uploads/2023/11/Turkey-Gravy-6-260x390.jpg\"/>"
            ],
            "text/plain": [
              "<IPython.core.display.Image object>"
            ]
          },
          "metadata": {}
        },
        {
          "output_type": "stream",
          "name": "stdout",
          "text": [
            "Calories: 33.0\n",
            "Summary: This homemade Turkey Gravy from stock is my mom’s tried and true recipe. It’s a staple on our Thanksgiving table every year.\n",
            "\n",
            "\n",
            "Name: Apple Butter\n"
          ]
        },
        {
          "output_type": "display_data",
          "data": {
            "text/html": [
              "<img src=\"https://www.skinnytaste.com/wp-content/uploads/2024/09/Apple-Butter-7-260x390.jpg\"/>"
            ],
            "text/plain": [
              "<IPython.core.display.Image object>"
            ]
          },
          "metadata": {}
        },
        {
          "output_type": "stream",
          "name": "stdout",
          "text": [
            "Calories: 34.0\n",
            "Summary: This easy apple butter recipe simmers on the stove, made with apples, cinnamon, nutmeg, and allspice, it smells and tastes like fall!\n",
            "\n",
            "\n",
            "Name: Spinach and Bacon Stuffed Mushrooms\n"
          ]
        },
        {
          "output_type": "display_data",
          "data": {
            "text/html": [
              "<img src=\"https://www.skinnytaste.com/wp-content/uploads/2012/01/skinny-spinach-and-bacon-stuffed-mushrooms-260x390.jpg\"/>"
            ],
            "text/plain": [
              "<IPython.core.display.Image object>"
            ]
          },
          "metadata": {}
        },
        {
          "output_type": "stream",
          "name": "stdout",
          "text": [
            "Calories: 34.5\n",
            "Summary: The stuffing is so good, I could eat it by the spoonful! More mushroom appetizers you might also like Philly Cheesesteak Stuffed Mushrooms, Mushroom Ceviche or Lasagna Stuffed Mushrooms.\n",
            "\n",
            "\n",
            "Name: Buffalo Chicken Meatballs\n"
          ]
        },
        {
          "output_type": "display_data",
          "data": {
            "text/html": [
              "<img src=\"https://www.skinnytaste.com/wp-content/uploads/2015/01/SkinnyChickenBuffaloMeatballs-260x390.jpg\"/>"
            ],
            "text/plain": [
              "<IPython.core.display.Image object>"
            ]
          },
          "metadata": {}
        },
        {
          "output_type": "stream",
          "name": "stdout",
          "text": [
            "Calories: 37.0\n",
            "Summary: These healthy buffalo chicken meatballs are a great option for a weeknight dinner, game day snack, or party appetizer. Serve them with celery sticks and blue cheese dressing for dipping, or enjoy them on their own.\n",
            "\n",
            "\n",
            "Name: Mango-Raspberry Fruit Roll Ups\n"
          ]
        },
        {
          "output_type": "display_data",
          "data": {
            "text/html": [
              "<img src=\"https://www.skinnytaste.com/wp-content/uploads/2019/09/Mango-Raspberry-Fruit-Leather-9-260x390.jpg\"/>"
            ],
            "text/plain": [
              "<IPython.core.display.Image object>"
            ]
          },
          "metadata": {}
        },
        {
          "output_type": "stream",
          "name": "stdout",
          "text": [
            "Calories: 39.0\n",
            "Summary: Homemade Mango-Raspberry Fruit Roll Ups, so much healthier than the store-bought kind, and with much less added sugar.\n",
            "\n",
            "\n",
            "Name: Pumpkin Butter\n"
          ]
        },
        {
          "output_type": "display_data",
          "data": {
            "text/html": [
              "<img src=\"https://www.skinnytaste.com/wp-content/uploads/2010/10/pumpkin-butter-3-260x390.jpg\"/>"
            ],
            "text/plain": [
              "<IPython.core.display.Image object>"
            ]
          },
          "metadata": {}
        },
        {
          "output_type": "stream",
          "name": "stdout",
          "text": [
            "Calories: 42.0\n",
            "Summary: Pumpkin lovers will love this easy, pumpkin butter recipe made from scratch. It’s like pumpkin pie in a jar, only better! Delicious smeared on toast, oatmeal, yogurt, and more!\n",
            "\n",
            "\n",
            "Name: Whole Roasted Baby Cauliflower\n"
          ]
        },
        {
          "output_type": "display_data",
          "data": {
            "text/html": [
              "<img src=\"https://www.skinnytaste.com/wp-content/uploads/2020/02/Whole-Roasted-Baby-Cauliflower-4-260x390.jpg\"/>"
            ],
            "text/plain": [
              "<IPython.core.display.Image object>"
            ]
          },
          "metadata": {}
        },
        {
          "output_type": "stream",
          "name": "stdout",
          "text": [
            "Calories: 46.5\n",
            "Summary: This simple, Whole Roasted Baby Cauliflower is perfectly charred on the outside and tender in the middle. Made with just four ingredients – salted water, extra-virgin olive oil, coarse sea salt—and cauliflower.\n",
            "\n",
            "\n",
            "Name: Perfectly Grilled Zucchini Recipe\n"
          ]
        },
        {
          "output_type": "display_data",
          "data": {
            "text/html": [
              "<img src=\"https://www.skinnytaste.com/wp-content/uploads/2019/07/Perfectly-Grilled-Zucchini-11-1-260x390.jpg\"/>"
            ],
            "text/plain": [
              "<IPython.core.display.Image object>"
            ]
          },
          "metadata": {}
        },
        {
          "output_type": "stream",
          "name": "stdout",
          "text": [
            "Calories: 48.0\n",
            "Summary: Make Perfectly Grilled Zucchini all summer long! Quick and easy, great as a side dish with anything you’re grilling.\n",
            "\n",
            "\n",
            "Name: Bruschetta with Tomato and Basil\n"
          ]
        },
        {
          "output_type": "display_data",
          "data": {
            "text/html": [
              "<img src=\"https://www.skinnytaste.com/wp-content/uploads/2008/04/Bruschetta-4-260x390.jpg\"/>"
            ],
            "text/plain": [
              "<IPython.core.display.Image object>"
            ]
          },
          "metadata": {}
        },
        {
          "output_type": "stream",
          "name": "stdout",
          "text": [
            "Calories: 49.6\n",
            "Summary: Bruschetta with Tomato and Basil, one of my favorite ways to use up all my summer tomatoes is with this simple appetizer or side dish.\n",
            "\n",
            "\n"
          ]
        }
      ]
    }
  ]
}